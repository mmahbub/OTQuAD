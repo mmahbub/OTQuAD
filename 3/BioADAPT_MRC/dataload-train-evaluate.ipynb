{
 "cells": [
  {
   "cell_type": "code",
   "execution_count": null,
   "id": "0a9393c0",
   "metadata": {},
   "outputs": [],
   "source": [
    "!python3 load_dataset.py  \\\n",
    "    --model_name_or_path /net/kdinxidk03/opt/NFS/75y/data/qa/output/biobert-v1.1-squad/  \\\n",
    "    --tokenizer_name /net/kdinxidk03/opt/NFS/75y/data/qa/output/biobert-v1.1-squad/ \\\n",
    "    --output_dir /net/kdinxidk03/opt/NFS/75y/data/qa/output/ \\\n",
    "    --data_dir /net/kdinxidk03/opt/NFS/75y/data/squad/  \\\n",
    "    --predict_file test_squad1.json   \\\n",
    "    --do_eval  \\\n",
    "    --version_2_with_negative \\\n",
    "    --max_seq_length 384   \\\n",
    "    --doc_stride 128  \\\n",
    "    --do_lower_case \\\n",
    "    --dataset_name test_squad1  \\\n",
    "    --overwrite_cache\n"
   ]
  },
  {
   "cell_type": "code",
   "execution_count": null,
   "id": "c669a4a3",
   "metadata": {},
   "outputs": [],
   "source": [
    "!python3 load_dataset.py  \\\n",
    "    --model_name_or_path /net/kdinxidk03/opt/NFS/75y/data/qa/output/biobert-v1.1-squad/  \\\n",
    "    --tokenizer_name /net/kdinxidk03/opt/NFS/75y/data/qa/output/biobert-v1.1-squad/ \\\n",
    "    --output_dir /net/kdinxidk03/opt/NFS/75y/data/qa/output/ \\\n",
    "    --data_dir /net/kdinxidk03/opt/NFS/75y/data/bioasq/bioasq-squad/  \\\n",
    "    --predict_file test_bioasq.json   \\\n",
    "    --do_eval  \\\n",
    "    --version_2_with_negative \\\n",
    "    --max_seq_length 384   \\\n",
    "    --doc_stride 128  \\\n",
    "    --do_lower_case \\\n",
    "    --dataset_name test_bioasq  \\\n",
    "    --overwrite_cache\n"
   ]
  },
  {
   "cell_type": "code",
   "execution_count": null,
   "id": "78ab311b",
   "metadata": {},
   "outputs": [],
   "source": [
    "!python3 transform_n2b_factoid.py  \\\n",
    "    --nbest_path /net/kdinxidk03/opt/NFS/75y/data/BIOBERT_DIR/BERT-pubmed-1000000-SQuAD/nbest_predictions.json \\\n",
    "    --output_path /net/kdinxidk03/opt/NFS/75y/data/qa/output/"
   ]
  },
  {
   "cell_type": "code",
   "execution_count": null,
   "id": "be30c61f",
   "metadata": {},
   "outputs": [],
   "source": [
    "!java -Xmx10G -cp /home/75y/project_dir/QA-Systems/src/Evaluation-Measures/flat/BioASQEvaluation/dist/BioASQEvaluation.jar evaluation.EvaluatorTask1b -phaseB -e 5 /net/kdinxidk03/opt/NFS/75y/data/bioasq/Task8BGoldenEnriched/8B3_golden.json /net/kdinxidk03/opt/NFS/75y/data/BIOBERT_DIR/BERT-pubmed-1000000-SQuAD/BioASQform_BioASQ-answer.json"
   ]
  },
  {
   "cell_type": "markdown",
   "id": "8bee9aa8",
   "metadata": {},
   "source": [
    "# Validation Set Results"
   ]
  },
  {
   "cell_type": "markdown",
   "id": "e4cc877f",
   "metadata": {},
   "source": [
    "## Baseline with BIOASQ Fine-tuned model\n",
    "\n"
   ]
  },
  {
   "cell_type": "code",
   "execution_count": 1,
   "id": "250ca19b",
   "metadata": {
    "scrolled": true
   },
   "outputs": [
    {
     "name": "stdout",
     "output_type": "stream",
     "text": [
      "11/10/2021 11:31:59 - WARNING - __main__ - Process rank: -1, device: cuda, n_gpu: 4, distributed training: False, 16-bits training: False\n",
      "[INFO|configuration_utils.py:530] 2021-11-10 11:31:59,627 >> loading configuration file https://huggingface.co/distilbert-base-cased-distilled-squad/resolve/main/config.json from cache at /net/kdinxidk03/opt/NFS/pretrained/huggingface/transformers/81e8dfe090123eff18dd06533ead3ae407b82e30834c50c7c82c2305ce3ace12.ca0305b1f128274fa0c6e4859d1c1477d0e34a20be25da95eea888b30ece9cf3\n",
      "[INFO|configuration_utils.py:566] 2021-11-10 11:31:59,628 >> Model config DistilBertConfig {\n",
      "  \"activation\": \"gelu\",\n",
      "  \"architectures\": [\n",
      "    \"DistilBertForQuestionAnswering\"\n",
      "  ],\n",
      "  \"attention_dropout\": 0.1,\n",
      "  \"dim\": 768,\n",
      "  \"dropout\": 0.1,\n",
      "  \"hidden_dim\": 3072,\n",
      "  \"initializer_range\": 0.02,\n",
      "  \"max_position_embeddings\": 512,\n",
      "  \"model_type\": \"distilbert\",\n",
      "  \"n_heads\": 12,\n",
      "  \"n_layers\": 6,\n",
      "  \"output_past\": true,\n",
      "  \"pad_token_id\": 0,\n",
      "  \"qa_dropout\": 0.1,\n",
      "  \"seq_classif_dropout\": 0.2,\n",
      "  \"sinusoidal_pos_embds\": true,\n",
      "  \"tie_weights_\": true,\n",
      "  \"transformers_version\": \"4.8.2\",\n",
      "  \"vocab_size\": 28996\n",
      "}\n",
      "\n",
      "[INFO|configuration_utils.py:530] 2021-11-10 11:31:59,869 >> loading configuration file https://huggingface.co/distilbert-base-cased-distilled-squad/resolve/main/config.json from cache at /net/kdinxidk03/opt/NFS/pretrained/huggingface/transformers/81e8dfe090123eff18dd06533ead3ae407b82e30834c50c7c82c2305ce3ace12.ca0305b1f128274fa0c6e4859d1c1477d0e34a20be25da95eea888b30ece9cf3\n",
      "[INFO|configuration_utils.py:566] 2021-11-10 11:31:59,870 >> Model config DistilBertConfig {\n",
      "  \"activation\": \"gelu\",\n",
      "  \"architectures\": [\n",
      "    \"DistilBertForQuestionAnswering\"\n",
      "  ],\n",
      "  \"attention_dropout\": 0.1,\n",
      "  \"dim\": 768,\n",
      "  \"dropout\": 0.1,\n",
      "  \"hidden_dim\": 3072,\n",
      "  \"initializer_range\": 0.02,\n",
      "  \"max_position_embeddings\": 512,\n",
      "  \"model_type\": \"distilbert\",\n",
      "  \"n_heads\": 12,\n",
      "  \"n_layers\": 6,\n",
      "  \"output_past\": true,\n",
      "  \"pad_token_id\": 0,\n",
      "  \"qa_dropout\": 0.1,\n",
      "  \"seq_classif_dropout\": 0.2,\n",
      "  \"sinusoidal_pos_embds\": true,\n",
      "  \"tie_weights_\": true,\n",
      "  \"transformers_version\": \"4.8.2\",\n",
      "  \"vocab_size\": 28996\n",
      "}\n",
      "\n",
      "[INFO|tokenization_utils_base.py:1717] 2021-11-10 11:32:00,455 >> loading file https://huggingface.co/distilbert-base-cased-distilled-squad/resolve/main/vocab.txt from cache at /net/kdinxidk03/opt/NFS/pretrained/huggingface/transformers/5e66e5f3d499a2fe36f07906eced96e223d283818c9a5fc17efd3e7bf4753711.437aa611e89f6fc6675a049d2b5545390adbc617e7d655286421c191d2be2791\n",
      "[INFO|tokenization_utils_base.py:1717] 2021-11-10 11:32:00,455 >> loading file https://huggingface.co/distilbert-base-cased-distilled-squad/resolve/main/added_tokens.json from cache at None\n",
      "[INFO|tokenization_utils_base.py:1717] 2021-11-10 11:32:00,455 >> loading file https://huggingface.co/distilbert-base-cased-distilled-squad/resolve/main/special_tokens_map.json from cache at None\n",
      "[INFO|tokenization_utils_base.py:1717] 2021-11-10 11:32:00,455 >> loading file https://huggingface.co/distilbert-base-cased-distilled-squad/resolve/main/tokenizer_config.json from cache at /net/kdinxidk03/opt/NFS/pretrained/huggingface/transformers/b018780df739378fb3b8eec9c2c2c302c45fc3c3a74157f206cbc8db54229abf.ec5c189f89475aac7d8cbd243960a0655cfadc3d0474da8ff2ed0bf1699c2a5f\n",
      "[INFO|tokenization_utils_base.py:1717] 2021-11-10 11:32:00,455 >> loading file https://huggingface.co/distilbert-base-cased-distilled-squad/resolve/main/tokenizer.json from cache at /net/kdinxidk03/opt/NFS/pretrained/huggingface/transformers/3b10caec238c150efa989f0540fb8a3876bc7e010fe50aa9d7a9d42c84fc0587.2b9a196704f2f183fe3f4b48d6e662dba8203fdcb3346bfa896831378edf6f97\n",
      "[INFO|modeling_utils.py:1161] 2021-11-10 11:32:00,620 >> loading weights file https://huggingface.co/distilbert-base-cased-distilled-squad/resolve/main/pytorch_model.bin from cache at /net/kdinxidk03/opt/NFS/pretrained/huggingface/transformers/02f483764e26e1acfddfcd6e4879785f2908b2806a962d01b888bfe2b988075b.bd96a9432b167ab5e2b086cf0b688ca3c43c027091377eddfcfd39bdde851c35\n",
      "[INFO|modeling_utils.py:1345] 2021-11-10 11:32:01,804 >> All model checkpoint weights were used when initializing DistilBertForQuestionAnswering.\n",
      "\n",
      "[INFO|modeling_utils.py:1354] 2021-11-10 11:32:01,804 >> All the weights of DistilBertForQuestionAnswering were initialized from the model checkpoint at distilbert-base-cased-distilled-squad.\n",
      "If your task is similar to the task the model of the checkpoint was trained on, you can already use DistilBertForQuestionAnswering for predictions without further training.\n",
      "11/10/2021 11:32:04 - INFO - __main__ - Training/evaluation parameters Namespace(adam_epsilon=1e-08, cache_dir='', config_name='', data_dir='/net/kdinxidk03/opt/NFS/75y/data/bioasq/bioasq-squad/', dataset_name='bioasq', device=device(type='cuda'), do_eval=False, do_evaluate=True, do_lower_case=False, do_train=True, doc_stride=128, eval_all_checkpoints=False, evaluate_during_training=False, fp16=False, fp16_opt_level='O1', gradient_accumulation_steps=1, lang_id=0, learning_rate=5e-05, local_rank=-1, logging_steps=500, max_answer_length=30, max_grad_norm=1.0, max_query_length=64, max_seq_length=384, max_steps=-1, model_name_or_path='distilbert-base-cased-distilled-squad', model_type='distilbert', n_best_size=20, n_gpu=4, no_cuda=False, null_score_diff_threshold=0.0, num_train_epochs=3.0, output_dir='/net/kdinxidk03/opt/NFS/75y/data/qa/output/', output_model_dir='/net/kdinxidk03/opt/NFS/75y/data/qa/output/distilbert-base-cased-distilled-squad-bioasq/', overwrite_cache=False, overwrite_output_dir=True, overwrite_output_model_dir=True, per_gpu_eval_batch_size=8, per_gpu_train_batch_size=8, predict_file='test_bioasq.json', save_steps=500, seed=42, server_ip='', server_port='', threads=1, tokenizer_name='', train_file='train_bioasq.json', verbose_logging=False, version_2_with_negative=False, warmup_steps=0, weight_decay=0.0)\n",
      "/net/kdinxidk03/opt/NFS/75y/data/qa/output/cached_train_distilbert-base-cased-distilled-squad_384_train_bioasq\n",
      "11/10/2021 11:32:04 - INFO - src.load_dataset - Loading features from cached file /net/kdinxidk03/opt/NFS/75y/data/qa/output/cached_train_distilbert-base-cased-distilled-squad_384_train_bioasq\n",
      "11/10/2021 11:32:05 - INFO - __main__ - ***** Running training *****\n",
      "11/10/2021 11:32:05 - INFO - __main__ -   Num examples = 3487\n",
      "11/10/2021 11:32:05 - INFO - __main__ -   Num Epochs = 3\n",
      "11/10/2021 11:32:05 - INFO - __main__ -   Instantaneous batch size per GPU = 8\n",
      "11/10/2021 11:32:05 - INFO - __main__ -   Total train batch size (w. parallel, distributed & accumulation) = 32\n",
      "11/10/2021 11:32:05 - INFO - __main__ -   Gradient Accumulation steps = 1\n",
      "11/10/2021 11:32:05 - INFO - __main__ -   Total optimization steps = 327\n",
      "Epoch:   0%|                                              | 0/3 [00:00<?, ?it/s]\n",
      "Iteration:   0%|                                        | 0/109 [00:00<?, ?it/s]\u001b[A/net/kdinxidk03/opt/NFS/75y/anaconda3/envs/QA/lib/python3.7/site-packages/torch/nn/parallel/_functions.py:65: UserWarning: Was asked to gather along dimension 0, but all input tensors were scalars; will instead unsqueeze and return a vector.\n",
      "  warnings.warn('Was asked to gather along dimension 0, but all '\n",
      "\n",
      "Iteration:   1%|▎                               | 1/109 [00:09<17:18,  9.62s/it]\u001b[A\n",
      "Iteration:   2%|▌                               | 2/109 [00:09<12:05,  6.78s/it]\u001b[A\n",
      "Iteration:   3%|▉                               | 3/109 [00:09<08:28,  4.79s/it]\u001b[A\n",
      "Iteration:   4%|█▏                              | 4/109 [00:10<05:56,  3.40s/it]\u001b[A\n",
      "Iteration:   5%|█▍                              | 5/109 [00:10<04:11,  2.42s/it]\u001b[A\n",
      "Iteration:   6%|█▊                              | 6/109 [00:10<02:59,  1.74s/it]\u001b[A\n",
      "Iteration:   6%|██                              | 7/109 [00:10<02:08,  1.26s/it]\u001b[A\n",
      "Iteration:   7%|██▎                             | 8/109 [00:10<01:33,  1.08it/s]\u001b[A\n",
      "Iteration:   8%|██▋                             | 9/109 [00:10<01:09,  1.45it/s]\u001b[A\n",
      "Iteration:   9%|██▊                            | 10/109 [00:10<00:52,  1.89it/s]\u001b[A\n",
      "Iteration:  10%|███▏                           | 11/109 [00:11<00:40,  2.40it/s]\u001b[A\n",
      "Iteration:  11%|███▍                           | 12/109 [00:11<00:32,  2.99it/s]\u001b[A\n"
     ]
    },
    {
     "name": "stdout",
     "output_type": "stream",
     "text": [
      "Iteration:  12%|███▋                           | 13/109 [00:11<00:26,  3.59it/s]\u001b[A\n",
      "Iteration:  13%|███▉                           | 14/109 [00:11<00:22,  4.19it/s]\u001b[A\n",
      "Iteration:  14%|████▎                          | 15/109 [00:11<00:19,  4.72it/s]\u001b[A\n",
      "Iteration:  15%|████▌                          | 16/109 [00:11<00:17,  5.21it/s]\u001b[A\n",
      "Iteration:  16%|████▊                          | 17/109 [00:11<00:16,  5.62it/s]\u001b[A\n",
      "Iteration:  17%|█████                          | 18/109 [00:12<00:15,  5.88it/s]\u001b[A\n",
      "Iteration:  17%|█████▍                         | 19/109 [00:12<00:14,  6.14it/s]\u001b[A\n",
      "Iteration:  18%|█████▋                         | 20/109 [00:12<00:14,  6.32it/s]\u001b[A\n",
      "Iteration:  19%|█████▉                         | 21/109 [00:12<00:13,  6.45it/s]\u001b[A\n",
      "Iteration:  20%|██████▎                        | 22/109 [00:12<00:17,  4.89it/s]\u001b[A\n",
      "Iteration:  21%|██████▌                        | 23/109 [00:13<00:16,  5.34it/s]\u001b[A\n",
      "Iteration:  22%|██████▊                        | 24/109 [00:13<00:14,  5.73it/s]\u001b[A\n",
      "Iteration:  23%|███████                        | 25/109 [00:13<00:13,  6.03it/s]\u001b[A\n",
      "Iteration:  24%|███████▍                       | 26/109 [00:13<00:13,  6.25it/s]\u001b[A\n",
      "Iteration:  25%|███████▋                       | 27/109 [00:13<00:12,  6.42it/s]\u001b[A\n",
      "Iteration:  26%|███████▉                       | 28/109 [00:13<00:12,  6.55it/s]\u001b[A\n",
      "Iteration:  27%|████████▏                      | 29/109 [00:13<00:11,  6.69it/s]\u001b[A\n",
      "Iteration:  28%|████████▌                      | 30/109 [00:14<00:11,  6.76it/s]\u001b[A\n",
      "Iteration:  28%|████████▊                      | 31/109 [00:14<00:11,  6.85it/s]\u001b[A\n",
      "Iteration:  29%|█████████                      | 32/109 [00:14<00:11,  6.84it/s]\u001b[A\n",
      "Iteration:  30%|█████████▍                     | 33/109 [00:14<00:11,  6.84it/s]\u001b[A\n",
      "Iteration:  31%|█████████▋                     | 34/109 [00:14<00:11,  6.77it/s]\u001b[A\n",
      "Iteration:  32%|█████████▉                     | 35/109 [00:14<00:10,  6.81it/s]\u001b[A\n",
      "Iteration:  33%|██████████▏                    | 36/109 [00:14<00:10,  6.84it/s]\u001b[A\n",
      "Iteration:  34%|██████████▌                    | 37/109 [00:15<00:10,  6.88it/s]\u001b[A\n",
      "Iteration:  35%|██████████▊                    | 38/109 [00:15<00:10,  6.85it/s]\u001b[A\n",
      "Iteration:  36%|███████████                    | 39/109 [00:15<00:10,  6.88it/s]\u001b[A\n",
      "Iteration:  37%|███████████▍                   | 40/109 [00:15<00:09,  6.96it/s]\u001b[A\n",
      "Iteration:  38%|███████████▋                   | 41/109 [00:15<00:09,  7.02it/s]\u001b[A\n",
      "Iteration:  39%|███████████▉                   | 42/109 [00:15<00:09,  6.89it/s]\u001b[A\n",
      "Iteration:  39%|████████████▏                  | 43/109 [00:15<00:09,  6.89it/s]\u001b[A\n",
      "Iteration:  40%|████████████▌                  | 44/109 [00:16<00:09,  6.93it/s]\u001b[A\n",
      "Iteration:  41%|████████████▊                  | 45/109 [00:16<00:09,  6.98it/s]\u001b[A\n",
      "Iteration:  42%|█████████████                  | 46/109 [00:16<00:08,  7.00it/s]\u001b[A\n",
      "Iteration:  43%|█████████████▎                 | 47/109 [00:16<00:08,  7.02it/s]\u001b[A\n",
      "Iteration:  44%|█████████████▋                 | 48/109 [00:16<00:08,  6.97it/s]\u001b[A\n",
      "Iteration:  45%|█████████████▉                 | 49/109 [00:16<00:08,  6.87it/s]\u001b[A\n",
      "Iteration:  46%|██████████████▏                | 50/109 [00:16<00:08,  6.76it/s]\u001b[A\n",
      "Iteration:  47%|██████████████▌                | 51/109 [00:17<00:08,  6.78it/s]\u001b[A\n",
      "Iteration:  48%|██████████████▊                | 52/109 [00:17<00:08,  6.79it/s]\u001b[A\n",
      "Iteration:  49%|███████████████                | 53/109 [00:17<00:08,  6.83it/s]\u001b[A\n",
      "Iteration:  50%|███████████████▎               | 54/109 [00:17<00:08,  6.78it/s]\u001b[A\n",
      "Iteration:  50%|███████████████▋               | 55/109 [00:17<00:07,  6.81it/s]\u001b[A\n",
      "Iteration:  51%|███████████████▉               | 56/109 [00:17<00:07,  6.74it/s]\u001b[A\n",
      "Iteration:  52%|████████████████▏              | 57/109 [00:17<00:07,  6.70it/s]\u001b[A\n",
      "Iteration:  53%|████████████████▍              | 58/109 [00:18<00:07,  6.66it/s]\u001b[A\n",
      "Iteration:  54%|████████████████▊              | 59/109 [00:18<00:07,  6.76it/s]\u001b[A\n",
      "Iteration:  55%|█████████████████              | 60/109 [00:18<00:07,  6.83it/s]\u001b[A\n",
      "Iteration:  56%|█████████████████▎             | 61/109 [00:18<00:07,  6.82it/s]\u001b[A\n",
      "Iteration:  57%|█████████████████▋             | 62/109 [00:18<00:06,  6.81it/s]\u001b[A\n",
      "Iteration:  58%|█████████████████▉             | 63/109 [00:18<00:06,  6.77it/s]\u001b[A\n",
      "Iteration:  59%|██████████████████▏            | 64/109 [00:19<00:06,  6.73it/s]\u001b[A\n",
      "Iteration:  60%|██████████████████▍            | 65/109 [00:19<00:06,  6.70it/s]\u001b[A\n",
      "Iteration:  61%|██████████████████▊            | 66/109 [00:19<00:06,  6.67it/s]\u001b[A\n",
      "Iteration:  61%|███████████████████            | 67/109 [00:19<00:06,  6.70it/s]\u001b[A\n",
      "Iteration:  62%|███████████████████▎           | 68/109 [00:19<00:06,  6.78it/s]\u001b[A\n",
      "Iteration:  63%|███████████████████▌           | 69/109 [00:19<00:05,  6.77it/s]\u001b[A\n",
      "Iteration:  64%|███████████████████▉           | 70/109 [00:19<00:05,  6.74it/s]\u001b[A\n",
      "Iteration:  65%|████████████████████▏          | 71/109 [00:20<00:05,  6.70it/s]\u001b[A\n",
      "Iteration:  66%|████████████████████▍          | 72/109 [00:20<00:05,  6.67it/s]\u001b[A\n",
      "Iteration:  67%|████████████████████▊          | 73/109 [00:20<00:05,  6.75it/s]\u001b[A\n",
      "Iteration:  68%|█████████████████████          | 74/109 [00:20<00:05,  6.69it/s]\u001b[A\n",
      "Iteration:  69%|█████████████████████▎         | 75/109 [00:20<00:05,  6.67it/s]\u001b[A\n",
      "Iteration:  70%|█████████████████████▌         | 76/109 [00:20<00:04,  6.64it/s]\u001b[A\n",
      "Iteration:  71%|█████████████████████▉         | 77/109 [00:20<00:04,  6.53it/s]\u001b[A\n",
      "Iteration:  72%|██████████████████████▏        | 78/109 [00:21<00:04,  6.67it/s]\u001b[A\n",
      "Iteration:  72%|██████████████████████▍        | 79/109 [00:21<00:04,  6.73it/s]\u001b[A\n",
      "Iteration:  73%|██████████████████████▊        | 80/109 [00:21<00:04,  6.63it/s]\u001b[A\n",
      "Iteration:  74%|███████████████████████        | 81/109 [00:21<00:04,  6.57it/s]\u001b[A\n",
      "Iteration:  75%|███████████████████████▎       | 82/109 [00:21<00:04,  6.62it/s]\u001b[A\n",
      "Iteration:  76%|███████████████████████▌       | 83/109 [00:21<00:03,  6.73it/s]\u001b[A\n",
      "Iteration:  77%|███████████████████████▉       | 84/109 [00:22<00:03,  6.74it/s]\u001b[A\n",
      "Iteration:  78%|████████████████████████▏      | 85/109 [00:22<00:03,  6.70it/s]\u001b[A\n",
      "Iteration:  79%|████████████████████████▍      | 86/109 [00:22<00:03,  6.74it/s]\u001b[A\n",
      "Iteration:  80%|████████████████████████▋      | 87/109 [00:22<00:03,  6.67it/s]\u001b[A\n",
      "Iteration:  81%|█████████████████████████      | 88/109 [00:22<00:03,  6.66it/s]\u001b[A\n",
      "Iteration:  82%|█████████████████████████▎     | 89/109 [00:22<00:03,  6.65it/s]\u001b[A\n",
      "Iteration:  83%|█████████████████████████▌     | 90/109 [00:22<00:02,  6.63it/s]\u001b[A\n",
      "Iteration:  83%|█████████████████████████▉     | 91/109 [00:23<00:02,  6.57it/s]\u001b[A\n",
      "Iteration:  84%|██████████████████████████▏    | 92/109 [00:23<00:02,  6.61it/s]\u001b[A\n",
      "Iteration:  85%|██████████████████████████▍    | 93/109 [00:23<00:02,  6.73it/s]\u001b[A\n",
      "Iteration:  86%|██████████████████████████▋    | 94/109 [00:23<00:02,  6.74it/s]\u001b[A\n",
      "Iteration:  87%|███████████████████████████    | 95/109 [00:23<00:02,  6.79it/s]\u001b[A\n",
      "Iteration:  88%|███████████████████████████▎   | 96/109 [00:23<00:01,  6.78it/s]\u001b[A\n",
      "Iteration:  89%|███████████████████████████▌   | 97/109 [00:23<00:01,  6.81it/s]\u001b[A\n",
      "Iteration:  90%|███████████████████████████▊   | 98/109 [00:24<00:01,  6.78it/s]\u001b[A\n",
      "Iteration:  91%|████████████████████████████▏  | 99/109 [00:24<00:01,  6.77it/s]\u001b[A\n",
      "Iteration:  92%|███████████████████████████▌  | 100/109 [00:24<00:01,  6.74it/s]\u001b[A\n",
      "Iteration:  93%|███████████████████████████▊  | 101/109 [00:24<00:01,  6.70it/s]\u001b[A\n",
      "Iteration:  94%|████████████████████████████  | 102/109 [00:24<00:01,  6.64it/s]\u001b[A\n",
      "Iteration:  94%|████████████████████████████▎ | 103/109 [00:24<00:00,  6.64it/s]\u001b[A\n",
      "Iteration:  95%|████████████████████████████▌ | 104/109 [00:25<00:00,  6.64it/s]\u001b[A\n",
      "Iteration:  96%|████████████████████████████▉ | 105/109 [00:25<00:00,  6.75it/s]\u001b[A\n",
      "Iteration:  97%|█████████████████████████████▏| 106/109 [00:25<00:00,  6.89it/s]\u001b[A\n",
      "Iteration:  98%|█████████████████████████████▍| 107/109 [00:25<00:00,  6.89it/s]\u001b[A\n",
      "Iteration:  99%|█████████████████████████████▋| 108/109 [00:25<00:00,  6.90it/s]\u001b[A\n",
      "Iteration: 100%|██████████████████████████████| 109/109 [00:25<00:00,  4.24it/s]\u001b[A\n",
      "Epoch:  33%|████████████▋                         | 1/3 [00:25<00:51, 25.73s/it]\n"
     ]
    },
    {
     "name": "stdout",
     "output_type": "stream",
     "text": [
      "Iteration:   0%|                                        | 0/109 [00:00<?, ?it/s]\u001b[A\n",
      "Iteration:   1%|▎                               | 1/109 [00:00<00:15,  6.94it/s]\u001b[A\n",
      "Iteration:   2%|▌                               | 2/109 [00:00<00:15,  6.84it/s]\u001b[A\n",
      "Iteration:   3%|▉                               | 3/109 [00:00<00:15,  6.88it/s]\u001b[A\n",
      "Iteration:   4%|█▏                              | 4/109 [00:00<00:15,  6.94it/s]\u001b[A\n",
      "Iteration:   5%|█▍                              | 5/109 [00:00<00:15,  6.88it/s]\u001b[A\n",
      "Iteration:   6%|█▊                              | 6/109 [00:00<00:14,  6.91it/s]\u001b[A\n",
      "Iteration:   6%|██                              | 7/109 [00:01<00:14,  6.88it/s]\u001b[A\n",
      "Iteration:   7%|██▎                             | 8/109 [00:01<00:14,  6.87it/s]\u001b[A\n",
      "Iteration:   8%|██▋                             | 9/109 [00:01<00:14,  6.95it/s]\u001b[A\n",
      "Iteration:   9%|██▊                            | 10/109 [00:01<00:14,  6.92it/s]\u001b[A\n",
      "Iteration:  10%|███▏                           | 11/109 [00:01<00:14,  6.99it/s]\u001b[A\n",
      "Iteration:  11%|███▍                           | 12/109 [00:01<00:14,  6.89it/s]\u001b[A\n",
      "Iteration:  12%|███▋                           | 13/109 [00:01<00:14,  6.78it/s]\u001b[A\n",
      "Iteration:  13%|███▉                           | 14/109 [00:02<00:14,  6.73it/s]\u001b[A\n",
      "Iteration:  14%|████▎                          | 15/109 [00:02<00:13,  6.72it/s]\u001b[A\n",
      "Iteration:  15%|████▌                          | 16/109 [00:02<00:13,  6.69it/s]\u001b[A\n",
      "Iteration:  16%|████▊                          | 17/109 [00:02<00:13,  6.61it/s]\u001b[A\n",
      "Iteration:  17%|█████                          | 18/109 [00:02<00:13,  6.57it/s]\u001b[A\n",
      "Iteration:  17%|█████▍                         | 19/109 [00:02<00:13,  6.62it/s]\u001b[A\n",
      "Iteration:  18%|█████▋                         | 20/109 [00:02<00:13,  6.64it/s]\u001b[A\n",
      "Iteration:  19%|█████▉                         | 21/109 [00:03<00:13,  6.64it/s]\u001b[A\n",
      "Iteration:  20%|██████▎                        | 22/109 [00:03<00:13,  6.56it/s]\u001b[A\n",
      "Iteration:  21%|██████▌                        | 23/109 [00:03<00:12,  6.65it/s]\u001b[A\n",
      "Iteration:  22%|██████▊                        | 24/109 [00:03<00:12,  6.71it/s]\u001b[A\n",
      "Iteration:  23%|███████                        | 25/109 [00:03<00:14,  5.65it/s]\u001b[A\n",
      "Iteration:  24%|███████▍                       | 26/109 [00:03<00:13,  6.00it/s]\u001b[A\n",
      "Iteration:  25%|███████▋                       | 27/109 [00:04<00:13,  6.27it/s]\u001b[A\n",
      "Iteration:  26%|███████▉                       | 28/109 [00:04<00:12,  6.49it/s]\u001b[A\n",
      "Iteration:  27%|████████▏                      | 29/109 [00:04<00:12,  6.64it/s]\u001b[A\n",
      "Iteration:  28%|████████▌                      | 30/109 [00:04<00:11,  6.76it/s]\u001b[A\n",
      "Iteration:  28%|████████▊                      | 31/109 [00:04<00:11,  6.84it/s]\u001b[A\n",
      "Iteration:  29%|█████████                      | 32/109 [00:04<00:11,  6.94it/s]\u001b[A\n",
      "Iteration:  30%|█████████▍                     | 33/109 [00:04<00:10,  6.95it/s]\u001b[A\n",
      "Iteration:  31%|█████████▋                     | 34/109 [00:05<00:10,  6.96it/s]\u001b[A\n",
      "Iteration:  32%|█████████▉                     | 35/109 [00:05<00:10,  6.98it/s]\u001b[A\n",
      "Iteration:  33%|██████████▏                    | 36/109 [00:05<00:10,  6.96it/s]\u001b[A\n",
      "Iteration:  34%|██████████▌                    | 37/109 [00:05<00:10,  7.00it/s]\u001b[A\n",
      "Iteration:  35%|██████████▊                    | 38/109 [00:05<00:10,  7.01it/s]\u001b[A\n",
      "Iteration:  36%|███████████                    | 39/109 [00:05<00:09,  7.06it/s]\u001b[A\n",
      "Iteration:  37%|███████████▍                   | 40/109 [00:05<00:09,  7.08it/s]\u001b[A\n",
      "Iteration:  38%|███████████▋                   | 41/109 [00:06<00:09,  7.09it/s]\u001b[A\n",
      "Iteration:  39%|███████████▉                   | 42/109 [00:06<00:09,  7.11it/s]\u001b[A\n",
      "Iteration:  39%|████████████▏                  | 43/109 [00:06<00:09,  7.11it/s]\u001b[A\n",
      "Iteration:  40%|████████████▌                  | 44/109 [00:06<00:09,  7.12it/s]\u001b[A\n",
      "Iteration:  41%|████████████▊                  | 45/109 [00:06<00:08,  7.14it/s]\u001b[A\n",
      "Iteration:  42%|█████████████                  | 46/109 [00:06<00:08,  7.14it/s]\u001b[A\n",
      "Iteration:  43%|█████████████▎                 | 47/109 [00:06<00:08,  7.12it/s]\u001b[A\n",
      "Iteration:  44%|█████████████▋                 | 48/109 [00:07<00:08,  7.13it/s]\u001b[A\n",
      "Iteration:  45%|█████████████▉                 | 49/109 [00:07<00:08,  7.14it/s]\u001b[A\n",
      "Iteration:  46%|██████████████▏                | 50/109 [00:07<00:08,  7.12it/s]\u001b[A\n",
      "Iteration:  47%|██████████████▌                | 51/109 [00:07<00:08,  7.11it/s]\u001b[A\n",
      "Iteration:  48%|██████████████▊                | 52/109 [00:07<00:08,  7.09it/s]\u001b[A\n",
      "Iteration:  49%|███████████████                | 53/109 [00:07<00:07,  7.03it/s]\u001b[A\n",
      "Iteration:  50%|███████████████▎               | 54/109 [00:07<00:07,  6.97it/s]\u001b[A\n",
      "Iteration:  50%|███████████████▋               | 55/109 [00:08<00:07,  7.01it/s]\u001b[A\n",
      "Iteration:  51%|███████████████▉               | 56/109 [00:08<00:07,  6.96it/s]\u001b[A\n",
      "Iteration:  52%|████████████████▏              | 57/109 [00:08<00:07,  6.98it/s]\u001b[A\n",
      "Iteration:  53%|████████████████▍              | 58/109 [00:08<00:07,  6.96it/s]\u001b[A\n",
      "Iteration:  54%|████████████████▊              | 59/109 [00:08<00:07,  6.99it/s]\u001b[A\n",
      "Iteration:  55%|█████████████████              | 60/109 [00:08<00:07,  6.98it/s]\u001b[A\n",
      "Iteration:  56%|█████████████████▎             | 61/109 [00:08<00:06,  6.92it/s]\u001b[A\n",
      "Iteration:  57%|█████████████████▋             | 62/109 [00:09<00:06,  6.99it/s]\u001b[A\n",
      "Iteration:  58%|█████████████████▉             | 63/109 [00:09<00:06,  7.02it/s]\u001b[A\n",
      "Iteration:  59%|██████████████████▏            | 64/109 [00:09<00:06,  7.06it/s]\u001b[A\n",
      "Iteration:  60%|██████████████████▍            | 65/109 [00:09<00:06,  7.08it/s]\u001b[A\n",
      "Iteration:  61%|██████████████████▊            | 66/109 [00:09<00:06,  7.11it/s]\u001b[A\n",
      "Iteration:  61%|███████████████████            | 67/109 [00:09<00:05,  7.13it/s]\u001b[A\n",
      "Iteration:  62%|███████████████████▎           | 68/109 [00:09<00:05,  7.11it/s]\u001b[A\n",
      "Iteration:  63%|███████████████████▌           | 69/109 [00:10<00:05,  7.12it/s]\u001b[A\n",
      "Iteration:  64%|███████████████████▉           | 70/109 [00:10<00:05,  7.03it/s]\u001b[A\n",
      "Iteration:  65%|████████████████████▏          | 71/109 [00:10<00:05,  6.94it/s]\u001b[A\n",
      "Iteration:  66%|████████████████████▍          | 72/109 [00:10<00:05,  6.90it/s]\u001b[A\n",
      "Iteration:  67%|████████████████████▊          | 73/109 [00:10<00:05,  6.83it/s]\u001b[A\n",
      "Iteration:  68%|█████████████████████          | 74/109 [00:10<00:05,  6.86it/s]\u001b[A\n",
      "Iteration:  69%|█████████████████████▎         | 75/109 [00:10<00:04,  6.85it/s]\u001b[A\n",
      "Iteration:  70%|█████████████████████▌         | 76/109 [00:11<00:04,  6.87it/s]\u001b[A\n",
      "Iteration:  71%|█████████████████████▉         | 77/109 [00:11<00:04,  6.87it/s]\u001b[A\n",
      "Iteration:  72%|██████████████████████▏        | 78/109 [00:11<00:04,  6.89it/s]\u001b[A\n",
      "Iteration:  72%|██████████████████████▍        | 79/109 [00:11<00:04,  6.92it/s]\u001b[A\n",
      "Iteration:  73%|██████████████████████▊        | 80/109 [00:11<00:04,  6.86it/s]\u001b[A\n",
      "Iteration:  74%|███████████████████████        | 81/109 [00:11<00:04,  6.80it/s]\u001b[A\n",
      "Iteration:  75%|███████████████████████▎       | 82/109 [00:11<00:03,  6.85it/s]\u001b[A\n",
      "Iteration:  76%|███████████████████████▌       | 83/109 [00:12<00:03,  6.88it/s]\u001b[A\n",
      "Iteration:  77%|███████████████████████▉       | 84/109 [00:12<00:03,  6.75it/s]\u001b[A\n",
      "Iteration:  78%|████████████████████████▏      | 85/109 [00:12<00:03,  6.80it/s]\u001b[A\n",
      "Iteration:  79%|████████████████████████▍      | 86/109 [00:12<00:03,  6.85it/s]\u001b[A\n",
      "Iteration:  80%|████████████████████████▋      | 87/109 [00:12<00:03,  6.90it/s]\u001b[A\n",
      "Iteration:  81%|█████████████████████████      | 88/109 [00:12<00:03,  6.77it/s]\u001b[A\n",
      "Iteration:  82%|█████████████████████████▎     | 89/109 [00:12<00:02,  6.81it/s]\u001b[A\n",
      "Iteration:  83%|█████████████████████████▌     | 90/109 [00:13<00:02,  6.76it/s]\u001b[A\n",
      "Iteration:  83%|█████████████████████████▉     | 91/109 [00:13<00:02,  6.81it/s]\u001b[A\n",
      "Iteration:  84%|██████████████████████████▏    | 92/109 [00:13<00:02,  6.87it/s]\u001b[A\n",
      "Iteration:  85%|██████████████████████████▍    | 93/109 [00:13<00:02,  6.92it/s]\u001b[A\n",
      "Iteration:  86%|██████████████████████████▋    | 94/109 [00:13<00:02,  6.86it/s]\u001b[A\n",
      "Iteration:  87%|███████████████████████████    | 95/109 [00:13<00:02,  6.91it/s]\u001b[A\n",
      "Iteration:  88%|███████████████████████████▎   | 96/109 [00:13<00:01,  6.95it/s]\u001b[A\n"
     ]
    },
    {
     "name": "stdout",
     "output_type": "stream",
     "text": [
      "Iteration:  89%|███████████████████████████▌   | 97/109 [00:14<00:01,  7.02it/s]\u001b[A\n",
      "Iteration:  90%|███████████████████████████▊   | 98/109 [00:14<00:01,  6.98it/s]\u001b[A\n",
      "Iteration:  91%|████████████████████████████▏  | 99/109 [00:14<00:01,  7.01it/s]\u001b[A\n",
      "Iteration:  92%|███████████████████████████▌  | 100/109 [00:14<00:01,  7.17it/s]\u001b[A\n",
      "Iteration:  93%|███████████████████████████▊  | 101/109 [00:14<00:01,  7.20it/s]\u001b[A\n",
      "Iteration:  94%|████████████████████████████  | 102/109 [00:14<00:00,  7.16it/s]\u001b[A\n",
      "Iteration:  94%|████████████████████████████▎ | 103/109 [00:14<00:00,  7.06it/s]\u001b[A\n",
      "Iteration:  95%|████████████████████████████▌ | 104/109 [00:15<00:00,  6.90it/s]\u001b[A\n",
      "Iteration:  96%|████████████████████████████▉ | 105/109 [00:15<00:00,  6.91it/s]\u001b[A\n",
      "Iteration:  97%|█████████████████████████████▏| 106/109 [00:15<00:00,  6.93it/s]\u001b[A\n",
      "Iteration:  98%|█████████████████████████████▍| 107/109 [00:15<00:00,  6.90it/s]\u001b[A\n",
      "Iteration:  99%|█████████████████████████████▋| 108/109 [00:15<00:00,  6.84it/s]\u001b[A\n",
      "Iteration: 100%|██████████████████████████████| 109/109 [00:15<00:00,  6.88it/s]\u001b[A\n",
      "Epoch:  67%|█████████████████████████▎            | 2/3 [00:41<00:22, 22.76s/it]\n",
      "Iteration:   0%|                                        | 0/109 [00:00<?, ?it/s]\u001b[A\n",
      "Iteration:   1%|▎                               | 1/109 [00:00<00:16,  6.51it/s]\u001b[A\n",
      "Iteration:   2%|▌                               | 2/109 [00:00<00:16,  6.60it/s]\u001b[A\n",
      "Iteration:   3%|▉                               | 3/109 [00:00<00:15,  6.70it/s]\u001b[A\n",
      "Iteration:   4%|█▏                              | 4/109 [00:00<00:15,  6.72it/s]\u001b[A\n",
      "Iteration:   5%|█▍                              | 5/109 [00:00<00:15,  6.81it/s]\u001b[A\n",
      "Iteration:   6%|█▊                              | 6/109 [00:00<00:15,  6.74it/s]\u001b[A\n",
      "Iteration:   6%|██                              | 7/109 [00:01<00:14,  6.82it/s]\u001b[A\n",
      "Iteration:   7%|██▎                             | 8/109 [00:01<00:15,  6.71it/s]\u001b[A\n",
      "Iteration:   8%|██▋                             | 9/109 [00:01<00:14,  6.78it/s]\u001b[A\n",
      "Iteration:   9%|██▊                            | 10/109 [00:01<00:14,  6.84it/s]\u001b[A\n",
      "Iteration:  10%|███▏                           | 11/109 [00:01<00:14,  6.89it/s]\u001b[A\n",
      "Iteration:  11%|███▍                           | 12/109 [00:01<00:14,  6.91it/s]\u001b[A\n",
      "Iteration:  12%|███▋                           | 13/109 [00:01<00:14,  6.81it/s]\u001b[A\n",
      "Iteration:  13%|███▉                           | 14/109 [00:02<00:13,  6.86it/s]\u001b[A\n",
      "Iteration:  14%|████▎                          | 15/109 [00:02<00:13,  7.00it/s]\u001b[A\n",
      "Iteration:  15%|████▌                          | 16/109 [00:02<00:12,  7.28it/s]\u001b[A\n",
      "Iteration:  16%|████▊                          | 17/109 [00:02<00:12,  7.55it/s]\u001b[A\n",
      "Iteration:  17%|█████                          | 18/109 [00:02<00:11,  7.69it/s]\u001b[A\n",
      "Iteration:  17%|█████▍                         | 19/109 [00:02<00:11,  7.84it/s]\u001b[A\n",
      "Iteration:  18%|█████▋                         | 20/109 [00:02<00:11,  7.91it/s]\u001b[A\n",
      "Iteration:  19%|█████▉                         | 21/109 [00:02<00:11,  7.98it/s]\u001b[A\n",
      "Iteration:  20%|██████▎                        | 22/109 [00:03<00:10,  7.98it/s]\u001b[A\n",
      "Iteration:  21%|██████▌                        | 23/109 [00:03<00:10,  8.03it/s]\u001b[A\n",
      "Iteration:  22%|██████▊                        | 24/109 [00:03<00:10,  8.04it/s]\u001b[A\n",
      "Iteration:  23%|███████                        | 25/109 [00:03<00:10,  8.08it/s]\u001b[A\n",
      "Iteration:  24%|███████▍                       | 26/109 [00:03<00:10,  8.10it/s]\u001b[A\n",
      "Iteration:  25%|███████▋                       | 27/109 [00:03<00:10,  8.08it/s]\u001b[A\n",
      "Iteration:  26%|███████▉                       | 28/109 [00:03<00:11,  6.83it/s]\u001b[A\n",
      "Iteration:  27%|████████▏                      | 29/109 [00:03<00:11,  7.12it/s]\u001b[A\n",
      "Iteration:  28%|████████▌                      | 30/109 [00:04<00:10,  7.29it/s]\u001b[A\n",
      "Iteration:  28%|████████▊                      | 31/109 [00:04<00:10,  7.40it/s]\u001b[A\n",
      "Iteration:  29%|█████████                      | 32/109 [00:04<00:10,  7.48it/s]\u001b[A\n",
      "Iteration:  30%|█████████▍                     | 33/109 [00:04<00:09,  7.63it/s]\u001b[A\n",
      "Iteration:  31%|█████████▋                     | 34/109 [00:04<00:09,  7.81it/s]\u001b[A\n",
      "Iteration:  32%|█████████▉                     | 35/109 [00:04<00:09,  7.94it/s]\u001b[A\n",
      "Iteration:  33%|██████████▏                    | 36/109 [00:04<00:09,  7.99it/s]\u001b[A\n",
      "Iteration:  34%|██████████▌                    | 37/109 [00:05<00:09,  7.96it/s]\u001b[A\n",
      "Iteration:  35%|██████████▊                    | 38/109 [00:05<00:09,  7.87it/s]\u001b[A\n",
      "Iteration:  36%|███████████                    | 39/109 [00:05<00:08,  7.91it/s]\u001b[A\n",
      "Iteration:  37%|███████████▍                   | 40/109 [00:05<00:08,  7.88it/s]\u001b[A\n",
      "Iteration:  38%|███████████▋                   | 41/109 [00:05<00:08,  7.79it/s]\u001b[A\n",
      "Iteration:  39%|███████████▉                   | 42/109 [00:05<00:08,  7.85it/s]\u001b[A\n",
      "Iteration:  39%|████████████▏                  | 43/109 [00:05<00:08,  7.88it/s]\u001b[A\n",
      "Iteration:  40%|████████████▌                  | 44/109 [00:05<00:08,  7.94it/s]\u001b[A\n",
      "Iteration:  41%|████████████▊                  | 45/109 [00:06<00:08,  7.99it/s]\u001b[A\n",
      "Iteration:  42%|█████████████                  | 46/109 [00:06<00:07,  8.05it/s]\u001b[A\n",
      "Iteration:  43%|█████████████▎                 | 47/109 [00:06<00:07,  8.12it/s]\u001b[A\n",
      "Iteration:  44%|█████████████▋                 | 48/109 [00:06<00:07,  8.11it/s]\u001b[A\n",
      "Iteration:  45%|█████████████▉                 | 49/109 [00:06<00:07,  8.12it/s]\u001b[A\n",
      "Iteration:  46%|██████████████▏                | 50/109 [00:06<00:07,  8.12it/s]\u001b[A\n",
      "Iteration:  47%|██████████████▌                | 51/109 [00:06<00:07,  8.13it/s]\u001b[A\n",
      "Iteration:  48%|██████████████▊                | 52/109 [00:06<00:07,  8.08it/s]\u001b[A\n",
      "Iteration:  49%|███████████████                | 53/109 [00:07<00:07,  7.97it/s]\u001b[A\n",
      "Iteration:  50%|███████████████▎               | 54/109 [00:07<00:07,  7.84it/s]\u001b[A\n",
      "Iteration:  50%|███████████████▋               | 55/109 [00:07<00:06,  7.77it/s]\u001b[A\n",
      "Iteration:  51%|███████████████▉               | 56/109 [00:07<00:06,  7.85it/s]\u001b[A\n",
      "Iteration:  52%|████████████████▏              | 57/109 [00:07<00:06,  7.96it/s]\u001b[A\n",
      "Iteration:  53%|████████████████▍              | 58/109 [00:07<00:06,  8.05it/s]\u001b[A\n",
      "Iteration:  54%|████████████████▊              | 59/109 [00:07<00:06,  8.06it/s]\u001b[A\n",
      "Iteration:  55%|█████████████████              | 60/109 [00:07<00:06,  8.01it/s]\u001b[A\n",
      "Iteration:  56%|█████████████████▎             | 61/109 [00:08<00:06,  7.90it/s]\u001b[A\n",
      "Iteration:  57%|█████████████████▋             | 62/109 [00:08<00:05,  7.95it/s]\u001b[A\n",
      "Iteration:  58%|█████████████████▉             | 63/109 [00:08<00:05,  8.05it/s]\u001b[A\n",
      "Iteration:  59%|██████████████████▏            | 64/109 [00:08<00:05,  8.09it/s]\u001b[A\n",
      "Iteration:  60%|██████████████████▍            | 65/109 [00:08<00:05,  8.05it/s]\u001b[A\n",
      "Iteration:  61%|██████████████████▊            | 66/109 [00:08<00:05,  7.96it/s]\u001b[A\n",
      "Iteration:  61%|███████████████████            | 67/109 [00:08<00:05,  7.87it/s]\u001b[A\n",
      "Iteration:  62%|███████████████████▎           | 68/109 [00:08<00:05,  7.93it/s]\u001b[A\n",
      "Iteration:  63%|███████████████████▌           | 69/109 [00:09<00:04,  8.03it/s]\u001b[A\n",
      "Iteration:  64%|███████████████████▉           | 70/109 [00:09<00:04,  8.06it/s]\u001b[A\n",
      "Iteration:  65%|████████████████████▏          | 71/109 [00:09<00:04,  7.99it/s]\u001b[A\n",
      "Iteration:  66%|████████████████████▍          | 72/109 [00:09<00:04,  8.03it/s]\u001b[A\n",
      "Iteration:  67%|████████████████████▊          | 73/109 [00:09<00:04,  7.97it/s]\u001b[A\n",
      "Iteration:  68%|█████████████████████          | 74/109 [00:09<00:04,  8.02it/s]\u001b[A\n",
      "Iteration:  69%|█████████████████████▎         | 75/109 [00:09<00:04,  8.01it/s]\u001b[A\n",
      "Iteration:  70%|█████████████████████▌         | 76/109 [00:09<00:04,  8.08it/s]\u001b[A\n",
      "Iteration:  71%|█████████████████████▉         | 77/109 [00:10<00:03,  8.13it/s]\u001b[A\n",
      "Iteration:  72%|██████████████████████▏        | 78/109 [00:10<00:03,  8.17it/s]\u001b[A\n",
      "Iteration:  72%|██████████████████████▍        | 79/109 [00:10<00:03,  8.15it/s]\u001b[A\n",
      "Iteration:  73%|██████████████████████▊        | 80/109 [00:10<00:03,  8.21it/s]\u001b[A\n",
      "Iteration:  74%|███████████████████████        | 81/109 [00:10<00:03,  8.21it/s]\u001b[A\n",
      "Iteration:  75%|███████████████████████▎       | 82/109 [00:10<00:03,  8.23it/s]\u001b[A\n"
     ]
    },
    {
     "name": "stdout",
     "output_type": "stream",
     "text": [
      "Iteration:  76%|███████████████████████▌       | 83/109 [00:10<00:03,  8.21it/s]\u001b[A\n",
      "Iteration:  77%|███████████████████████▉       | 84/109 [00:10<00:03,  8.23it/s]\u001b[A\n",
      "Iteration:  78%|████████████████████████▏      | 85/109 [00:10<00:02,  8.22it/s]\u001b[A\n",
      "Iteration:  79%|████████████████████████▍      | 86/109 [00:11<00:02,  8.23it/s]\u001b[A\n",
      "Iteration:  80%|████████████████████████▋      | 87/109 [00:11<00:02,  8.25it/s]\u001b[A\n",
      "Iteration:  81%|█████████████████████████      | 88/109 [00:11<00:02,  8.23it/s]\u001b[A\n",
      "Iteration:  82%|█████████████████████████▎     | 89/109 [00:11<00:02,  8.22it/s]\u001b[A\n",
      "Iteration:  83%|█████████████████████████▌     | 90/109 [00:11<00:02,  8.24it/s]\u001b[A\n",
      "Iteration:  83%|█████████████████████████▉     | 91/109 [00:11<00:02,  7.96it/s]\u001b[A\n",
      "Iteration:  84%|██████████████████████████▏    | 92/109 [00:11<00:02,  7.67it/s]\u001b[A\n",
      "Iteration:  85%|██████████████████████████▍    | 93/109 [00:12<00:02,  7.45it/s]\u001b[A\n",
      "Iteration:  86%|██████████████████████████▋    | 94/109 [00:12<00:02,  7.26it/s]\u001b[A\n",
      "Iteration:  87%|███████████████████████████    | 95/109 [00:12<00:01,  7.15it/s]\u001b[A\n",
      "Iteration:  88%|███████████████████████████▎   | 96/109 [00:12<00:01,  7.14it/s]\u001b[A\n",
      "Iteration:  89%|███████████████████████████▌   | 97/109 [00:12<00:01,  7.14it/s]\u001b[A\n",
      "Iteration:  90%|███████████████████████████▊   | 98/109 [00:12<00:01,  7.15it/s]\u001b[A\n",
      "Iteration:  91%|████████████████████████████▏  | 99/109 [00:12<00:01,  7.13it/s]\u001b[A\n",
      "Iteration:  92%|███████████████████████████▌  | 100/109 [00:12<00:01,  7.11it/s]\u001b[A\n",
      "Iteration:  93%|███████████████████████████▊  | 101/109 [00:13<00:01,  7.07it/s]\u001b[A\n",
      "Iteration:  94%|████████████████████████████  | 102/109 [00:13<00:00,  7.09it/s]\u001b[A\n",
      "Iteration:  94%|████████████████████████████▎ | 103/109 [00:13<00:00,  6.98it/s]\u001b[A\n",
      "Iteration:  95%|████████████████████████████▌ | 104/109 [00:13<00:00,  6.96it/s]\u001b[A\n",
      "Iteration:  96%|████████████████████████████▉ | 105/109 [00:13<00:00,  6.97it/s]\u001b[A\n",
      "Iteration:  97%|█████████████████████████████▏| 106/109 [00:13<00:00,  6.99it/s]\u001b[A\n",
      "Iteration:  98%|█████████████████████████████▍| 107/109 [00:14<00:00,  6.95it/s]\u001b[A\n",
      "Iteration:  99%|█████████████████████████████▋| 108/109 [00:14<00:00,  6.92it/s]\u001b[A\n",
      "Iteration: 100%|██████████████████████████████| 109/109 [00:14<00:00,  7.63it/s]\u001b[A\n",
      "Epoch: 100%|██████████████████████████████████████| 3/3 [00:55<00:00, 18.62s/it]\n",
      "11/10/2021 11:33:01 - INFO - __main__ -  global_step = 328, average loss = 0.2801198957646947\n",
      "11/10/2021 11:33:01 - INFO - __main__ - Saving model checkpoint to /net/kdinxidk03/opt/NFS/75y/data/qa/output/distilbert-base-cased-distilled-squad-bioasq/\n",
      "[INFO|configuration_utils.py:364] 2021-11-10 11:33:01,262 >> Configuration saved in /net/kdinxidk03/opt/NFS/75y/data/qa/output/distilbert-base-cased-distilled-squad-bioasq/config.json\n",
      "[INFO|modeling_utils.py:898] 2021-11-10 11:33:02,657 >> Model weights saved in /net/kdinxidk03/opt/NFS/75y/data/qa/output/distilbert-base-cased-distilled-squad-bioasq/pytorch_model.bin\n",
      "[INFO|tokenization_utils_base.py:1948] 2021-11-10 11:33:02,661 >> tokenizer config file saved in /net/kdinxidk03/opt/NFS/75y/data/qa/output/distilbert-base-cased-distilled-squad-bioasq/tokenizer_config.json\n",
      "[INFO|tokenization_utils_base.py:1954] 2021-11-10 11:33:02,668 >> Special tokens file saved in /net/kdinxidk03/opt/NFS/75y/data/qa/output/distilbert-base-cased-distilled-squad-bioasq/special_tokens_map.json\n",
      "[INFO|configuration_utils.py:528] 2021-11-10 11:33:02,710 >> loading configuration file /net/kdinxidk03/opt/NFS/75y/data/qa/output/distilbert-base-cased-distilled-squad-bioasq/config.json\n",
      "[INFO|configuration_utils.py:566] 2021-11-10 11:33:02,711 >> Model config DistilBertConfig {\n",
      "  \"_name_or_path\": \"distilbert-base-cased-distilled-squad\",\n",
      "  \"activation\": \"gelu\",\n",
      "  \"architectures\": [\n",
      "    \"DistilBertForQuestionAnswering\"\n",
      "  ],\n",
      "  \"attention_dropout\": 0.1,\n",
      "  \"dim\": 768,\n",
      "  \"dropout\": 0.1,\n",
      "  \"hidden_dim\": 3072,\n",
      "  \"initializer_range\": 0.02,\n",
      "  \"max_position_embeddings\": 512,\n",
      "  \"model_type\": \"distilbert\",\n",
      "  \"n_heads\": 12,\n",
      "  \"n_layers\": 6,\n",
      "  \"output_past\": true,\n",
      "  \"pad_token_id\": 0,\n",
      "  \"qa_dropout\": 0.1,\n",
      "  \"seq_classif_dropout\": 0.2,\n",
      "  \"sinusoidal_pos_embds\": true,\n",
      "  \"tie_weights_\": true,\n",
      "  \"transformers_version\": \"4.8.2\",\n",
      "  \"vocab_size\": 28996\n",
      "}\n",
      "\n",
      "[INFO|modeling_utils.py:1159] 2021-11-10 11:33:02,711 >> loading weights file /net/kdinxidk03/opt/NFS/75y/data/qa/output/distilbert-base-cased-distilled-squad-bioasq/pytorch_model.bin\n",
      "[INFO|modeling_utils.py:1345] 2021-11-10 11:33:03,983 >> All model checkpoint weights were used when initializing DistilBertForQuestionAnswering.\n",
      "\n",
      "[INFO|modeling_utils.py:1354] 2021-11-10 11:33:03,983 >> All the weights of DistilBertForQuestionAnswering were initialized from the model checkpoint at /net/kdinxidk03/opt/NFS/75y/data/qa/output/distilbert-base-cased-distilled-squad-bioasq/.\n",
      "If your task is similar to the task the model of the checkpoint was trained on, you can already use DistilBertForQuestionAnswering for predictions without further training.\n",
      "[INFO|tokenization_utils_base.py:1651] 2021-11-10 11:33:03,985 >> Didn't find file /net/kdinxidk03/opt/NFS/75y/data/qa/output/distilbert-base-cased-distilled-squad-bioasq/added_tokens.json. We won't load it.\n",
      "[INFO|tokenization_utils_base.py:1651] 2021-11-10 11:33:03,986 >> Didn't find file /net/kdinxidk03/opt/NFS/75y/data/qa/output/distilbert-base-cased-distilled-squad-bioasq/tokenizer.json. We won't load it.\n",
      "[INFO|tokenization_utils_base.py:1715] 2021-11-10 11:33:03,986 >> loading file /net/kdinxidk03/opt/NFS/75y/data/qa/output/distilbert-base-cased-distilled-squad-bioasq/vocab.txt\n",
      "[INFO|tokenization_utils_base.py:1715] 2021-11-10 11:33:03,986 >> loading file None\n",
      "[INFO|tokenization_utils_base.py:1715] 2021-11-10 11:33:03,986 >> loading file /net/kdinxidk03/opt/NFS/75y/data/qa/output/distilbert-base-cased-distilled-squad-bioasq/special_tokens_map.json\n",
      "[INFO|tokenization_utils_base.py:1715] 2021-11-10 11:33:03,986 >> loading file /net/kdinxidk03/opt/NFS/75y/data/qa/output/distilbert-base-cased-distilled-squad-bioasq/tokenizer_config.json\n",
      "[INFO|tokenization_utils_base.py:1715] 2021-11-10 11:33:03,986 >> loading file None\n",
      "11/10/2021 11:33:04 - INFO - __main__ - Loading checkpoints saved during training for evaluation\n",
      "11/10/2021 11:33:04 - INFO - __main__ - Evaluate the following checkpoints: ['/net/kdinxidk03/opt/NFS/75y/data/qa/output/distilbert-base-cased-distilled-squad-bioasq/']\n",
      "[INFO|configuration_utils.py:528] 2021-11-10 11:33:04,081 >> loading configuration file /net/kdinxidk03/opt/NFS/75y/data/qa/output/distilbert-base-cased-distilled-squad-bioasq/config.json\n",
      "[INFO|configuration_utils.py:566] 2021-11-10 11:33:04,082 >> Model config DistilBertConfig {\n",
      "  \"_name_or_path\": \"distilbert-base-cased-distilled-squad\",\n",
      "  \"activation\": \"gelu\",\n",
      "  \"architectures\": [\n",
      "    \"DistilBertForQuestionAnswering\"\n",
      "  ],\n",
      "  \"attention_dropout\": 0.1,\n",
      "  \"dim\": 768,\n",
      "  \"dropout\": 0.1,\n",
      "  \"hidden_dim\": 3072,\n",
      "  \"initializer_range\": 0.02,\n",
      "  \"max_position_embeddings\": 512,\n",
      "  \"model_type\": \"distilbert\",\n",
      "  \"n_heads\": 12,\n",
      "  \"n_layers\": 6,\n",
      "  \"output_past\": true,\n",
      "  \"pad_token_id\": 0,\n",
      "  \"qa_dropout\": 0.1,\n",
      "  \"seq_classif_dropout\": 0.2,\n",
      "  \"sinusoidal_pos_embds\": true,\n",
      "  \"tie_weights_\": true,\n",
      "  \"transformers_version\": \"4.8.2\",\n",
      "  \"vocab_size\": 28996\n",
      "}\n",
      "\n",
      "[INFO|modeling_utils.py:1159] 2021-11-10 11:33:04,082 >> loading weights file /net/kdinxidk03/opt/NFS/75y/data/qa/output/distilbert-base-cased-distilled-squad-bioasq/pytorch_model.bin\n",
      "[INFO|modeling_utils.py:1345] 2021-11-10 11:33:05,118 >> All model checkpoint weights were used when initializing DistilBertForQuestionAnswering.\n",
      "\n",
      "[INFO|modeling_utils.py:1354] 2021-11-10 11:33:05,118 >> All the weights of DistilBertForQuestionAnswering were initialized from the model checkpoint at /net/kdinxidk03/opt/NFS/75y/data/qa/output/distilbert-base-cased-distilled-squad-bioasq/.\n",
      "If your task is similar to the task the model of the checkpoint was trained on, you can already use DistilBertForQuestionAnswering for predictions without further training.\n",
      "/net/kdinxidk03/opt/NFS/75y/data/qa/output/cached_dev_distilbert-base-cased-distilled-squad_384_train_bioasq\n",
      "11/10/2021 11:33:05 - INFO - src.load_dataset - Loading features from cached file /net/kdinxidk03/opt/NFS/75y/data/qa/output/cached_dev_distilbert-base-cased-distilled-squad_384_train_bioasq\n"
     ]
    },
    {
     "name": "stdout",
     "output_type": "stream",
     "text": [
      "11/10/2021 11:33:05 - INFO - __main__ - ***** Running evaluation bioasq *****\n",
      "11/10/2021 11:33:05 - INFO - __main__ -   Num examples = 480\n",
      "11/10/2021 11:33:05 - INFO - __main__ -   Batch size = 32\n",
      "Evaluating: 100%|███████████████████████████████| 15/15 [00:00<00:00, 16.60it/s]\n",
      "11/10/2021 11:33:06 - INFO - __main__ -   Evaluation done in total 0.904721 secs (0.001885 sec per example)\n",
      "[INFO|squad_metrics.py:401] 2021-11-10 11:33:06,252 >> Writing predictions to: /net/kdinxidk03/opt/NFS/75y/data/qa/output/predictions_bioasq.json\n",
      "[INFO|squad_metrics.py:403] 2021-11-10 11:33:06,252 >> Writing nbest to: /net/kdinxidk03/opt/NFS/75y/data/qa/output/nbest_predictions_bioasq.json\n",
      "11/10/2021 11:33:07 - INFO - __main__ - Results: {'exact': 62.73684210526316, 'f1': 74.78410889767784, 'total': 475, 'HasAns_exact': 62.73684210526316, 'HasAns_f1': 74.78410889767784, 'HasAns_total': 475, 'best_exact': 62.73684210526316, 'best_exact_thresh': 0.0, 'best_f1': 74.78410889767784, 'best_f1_thresh': 0.0}\n"
     ]
    }
   ],
   "source": [
    "!python3 run_model.py  \\\n",
    "    --model_type distilbert   \\\n",
    "    --model_name_or_path distilbert-base-cased-distilled-squad  \\\n",
    "    --output_dir /net/kdinxidk03/opt/NFS/75y/data/qa/output/ \\\n",
    "    --output_model_dir /net/kdinxidk03/opt/NFS/75y/data/qa/output/distilbert-base-cased-distilled-squad-bioasq/ \\\n",
    "    --data_dir /net/kdinxidk03/opt/NFS/75y/data/bioasq/bioasq-squad/  \\\n",
    "    --train_file train_bioasq.json  \\\n",
    "    --predict_file test_bioasq.json \\\n",
    "    --do_train \\\n",
    "    --do_evaluate  \\\n",
    "    --max_seq_length 384   \\\n",
    "    --doc_stride 128  \\\n",
    "    --per_gpu_train_batch_size 8 \\\n",
    "    --per_gpu_eval_batch_size 8 \\\n",
    "    --dataset_name bioasq  \\\n",
    "    --overwrite_output_dir  \\\n",
    "    --overwrite_output_model_dir"
   ]
  },
  {
   "cell_type": "markdown",
   "id": "4c1a704c",
   "metadata": {},
   "source": [
    "Training/evaluation parameters Namespace(adam_epsilon=1e-08, cache_dir='', config_name='', data_dir='/net/kdinxidk03/opt/NFS/75y/data/bioasq/bioasq-squad/', dataset_name='bioasq', device=device(type='cuda'), do_eval=False, do_evaluate=True, do_lower_case=False, do_train=True, doc_stride=128, eval_all_checkpoints=False, evaluate_during_training=False, fp16=False, fp16_opt_level='O1', gradient_accumulation_steps=1, lang_id=0, learning_rate=5e-05, local_rank=-1, logging_steps=500, max_answer_length=30, max_grad_norm=1.0, max_query_length=64, max_seq_length=384, max_steps=-1, model_name_or_path='distilbert-base-cased-distilled-squad', model_type='distilbert', n_best_size=20, n_gpu=4, no_cuda=False, null_score_diff_threshold=0.0, num_train_epochs=3.0, output_dir='/net/kdinxidk03/opt/NFS/75y/data/qa/output/', output_model_dir='/net/kdinxidk03/opt/NFS/75y/data/qa/output/distilbert-base-cased-distilled-squad-bioasq/', overwrite_cache=False, overwrite_output_dir=True, overwrite_output_model_dir=True, per_gpu_eval_batch_size=8, per_gpu_train_batch_size=8, predict_file='test_bioasq.json', save_steps=500, seed=42, server_ip='', server_port='', threads=1, tokenizer_name='', train_file='train_bioasq.json', verbose_logging=False, version_2_with_negative=False, warmup_steps=0, weight_decay=0.0)\n",
    "/net/kdinxidk03/opt/NFS/75y/data/qa/output/cached_train_distilbert-base-cased-distilled-squad_384_train_bioasq\n",
    "11/10/2021 11:32:04 - INFO - src.load_dataset - Loading features from cached file /net/kdinxidk03/opt/NFS/75y/data/qa/output/cached_train_distilbert-base-cased-distilled-squad_384_train_bioasq"
   ]
  },
  {
   "cell_type": "code",
   "execution_count": 2,
   "id": "ac3e80fe",
   "metadata": {
    "scrolled": true
   },
   "outputs": [
    {
     "name": "stdout",
     "output_type": "stream",
     "text": [
      "11/10/2021 11:35:25 - WARNING - __main__ - Process rank: -1, device: cuda, n_gpu: 4, distributed training: False, 16-bits training: False\n",
      "[INFO|configuration_utils.py:528] 2021-11-10 11:35:25,675 >> loading configuration file /net/kdinxidk03/opt/NFS/75y/data/qa/output/distilbert-base-cased-distilled-squad-bioasq/config.json\n",
      "[INFO|configuration_utils.py:566] 2021-11-10 11:35:25,675 >> Model config DistilBertConfig {\n",
      "  \"_name_or_path\": \"distilbert-base-cased-distilled-squad\",\n",
      "  \"activation\": \"gelu\",\n",
      "  \"architectures\": [\n",
      "    \"DistilBertForQuestionAnswering\"\n",
      "  ],\n",
      "  \"attention_dropout\": 0.1,\n",
      "  \"dim\": 768,\n",
      "  \"dropout\": 0.1,\n",
      "  \"hidden_dim\": 3072,\n",
      "  \"initializer_range\": 0.02,\n",
      "  \"max_position_embeddings\": 512,\n",
      "  \"model_type\": \"distilbert\",\n",
      "  \"n_heads\": 12,\n",
      "  \"n_layers\": 6,\n",
      "  \"output_past\": true,\n",
      "  \"pad_token_id\": 0,\n",
      "  \"qa_dropout\": 0.1,\n",
      "  \"seq_classif_dropout\": 0.2,\n",
      "  \"sinusoidal_pos_embds\": true,\n",
      "  \"tie_weights_\": true,\n",
      "  \"transformers_version\": \"4.8.2\",\n",
      "  \"vocab_size\": 28996\n",
      "}\n",
      "\n",
      "[INFO|tokenization_utils_base.py:1651] 2021-11-10 11:35:25,677 >> Didn't find file /net/kdinxidk03/opt/NFS/75y/data/qa/output/distilbert-base-cased-distilled-squad-bioasq/added_tokens.json. We won't load it.\n",
      "[INFO|tokenization_utils_base.py:1651] 2021-11-10 11:35:25,677 >> Didn't find file /net/kdinxidk03/opt/NFS/75y/data/qa/output/distilbert-base-cased-distilled-squad-bioasq/tokenizer.json. We won't load it.\n",
      "[INFO|tokenization_utils_base.py:1715] 2021-11-10 11:35:25,677 >> loading file /net/kdinxidk03/opt/NFS/75y/data/qa/output/distilbert-base-cased-distilled-squad-bioasq/vocab.txt\n",
      "[INFO|tokenization_utils_base.py:1715] 2021-11-10 11:35:25,677 >> loading file None\n",
      "[INFO|tokenization_utils_base.py:1715] 2021-11-10 11:35:25,677 >> loading file /net/kdinxidk03/opt/NFS/75y/data/qa/output/distilbert-base-cased-distilled-squad-bioasq/special_tokens_map.json\n",
      "[INFO|tokenization_utils_base.py:1715] 2021-11-10 11:35:25,677 >> loading file /net/kdinxidk03/opt/NFS/75y/data/qa/output/distilbert-base-cased-distilled-squad-bioasq/tokenizer_config.json\n",
      "[INFO|tokenization_utils_base.py:1715] 2021-11-10 11:35:25,677 >> loading file None\n",
      "[INFO|modeling_utils.py:1159] 2021-11-10 11:35:25,737 >> loading weights file /net/kdinxidk03/opt/NFS/75y/data/qa/output/distilbert-base-cased-distilled-squad-bioasq/pytorch_model.bin\n",
      "[INFO|modeling_utils.py:1345] 2021-11-10 11:35:27,052 >> All model checkpoint weights were used when initializing DistilBertForQuestionAnswering.\n",
      "\n",
      "[INFO|modeling_utils.py:1354] 2021-11-10 11:35:27,052 >> All the weights of DistilBertForQuestionAnswering were initialized from the model checkpoint at /net/kdinxidk03/opt/NFS/75y/data/qa/output/distilbert-base-cased-distilled-squad-bioasq/.\n",
      "If your task is similar to the task the model of the checkpoint was trained on, you can already use DistilBertForQuestionAnswering for predictions without further training.\n",
      "11/10/2021 11:35:29 - INFO - __main__ - Training/evaluation parameters Namespace(adam_epsilon=1e-08, cache_dir='', config_name='/net/kdinxidk03/opt/NFS/75y/data/qa/output/distilbert-base-cased-distilled-squad-bioasq/config.json', data_dir='/net/kdinxidk03/opt/NFS/75y/data/squad/', dataset_name='squad1', device=device(type='cuda'), do_eval=False, do_evaluate=True, do_lower_case=False, do_train=False, doc_stride=128, eval_all_checkpoints=False, evaluate_during_training=False, fp16=False, fp16_opt_level='O1', gradient_accumulation_steps=1, lang_id=0, learning_rate=5e-05, local_rank=-1, logging_steps=500, max_answer_length=30, max_grad_norm=1.0, max_query_length=64, max_seq_length=384, max_steps=-1, model_name_or_path='/net/kdinxidk03/opt/NFS/75y/data/qa/output/distilbert-base-cased-distilled-squad-bioasq/', model_type='distilbert', n_best_size=20, n_gpu=4, no_cuda=False, null_score_diff_threshold=0.0, num_train_epochs=3.0, output_dir='/net/kdinxidk03/opt/NFS/75y/data/qa/output/', output_model_dir='None', overwrite_cache=False, overwrite_output_dir=True, overwrite_output_model_dir=True, per_gpu_eval_batch_size=8, per_gpu_train_batch_size=8, predict_file='test_squad1.json', save_steps=500, seed=42, server_ip='', server_port='', threads=1, tokenizer_name='/net/kdinxidk03/opt/NFS/75y/data/qa/output/distilbert-base-cased-distilled-squad-bioasq/', train_file=None, verbose_logging=False, version_2_with_negative=True, warmup_steps=0, weight_decay=0.0)\n",
      "11/10/2021 11:35:29 - INFO - __main__ - Loading checkpoint /net/kdinxidk03/opt/NFS/75y/data/qa/output/distilbert-base-cased-distilled-squad-bioasq/ for evaluation\n",
      "11/10/2021 11:35:29 - INFO - __main__ - Evaluate the following checkpoints: ['/net/kdinxidk03/opt/NFS/75y/data/qa/output/distilbert-base-cased-distilled-squad-bioasq/']\n",
      "[INFO|configuration_utils.py:528] 2021-11-10 11:35:29,471 >> loading configuration file /net/kdinxidk03/opt/NFS/75y/data/qa/output/distilbert-base-cased-distilled-squad-bioasq/config.json\n",
      "[INFO|configuration_utils.py:566] 2021-11-10 11:35:29,471 >> Model config DistilBertConfig {\n",
      "  \"_name_or_path\": \"distilbert-base-cased-distilled-squad\",\n",
      "  \"activation\": \"gelu\",\n",
      "  \"architectures\": [\n",
      "    \"DistilBertForQuestionAnswering\"\n",
      "  ],\n",
      "  \"attention_dropout\": 0.1,\n",
      "  \"dim\": 768,\n",
      "  \"dropout\": 0.1,\n",
      "  \"hidden_dim\": 3072,\n",
      "  \"initializer_range\": 0.02,\n",
      "  \"max_position_embeddings\": 512,\n",
      "  \"model_type\": \"distilbert\",\n",
      "  \"n_heads\": 12,\n",
      "  \"n_layers\": 6,\n",
      "  \"output_past\": true,\n",
      "  \"pad_token_id\": 0,\n",
      "  \"qa_dropout\": 0.1,\n",
      "  \"seq_classif_dropout\": 0.2,\n",
      "  \"sinusoidal_pos_embds\": true,\n",
      "  \"tie_weights_\": true,\n",
      "  \"transformers_version\": \"4.8.2\",\n",
      "  \"vocab_size\": 28996\n",
      "}\n",
      "\n",
      "[INFO|modeling_utils.py:1159] 2021-11-10 11:35:29,472 >> loading weights file /net/kdinxidk03/opt/NFS/75y/data/qa/output/distilbert-base-cased-distilled-squad-bioasq/pytorch_model.bin\n",
      "[INFO|modeling_utils.py:1345] 2021-11-10 11:35:30,586 >> All model checkpoint weights were used when initializing DistilBertForQuestionAnswering.\n",
      "\n",
      "[INFO|modeling_utils.py:1354] 2021-11-10 11:35:30,586 >> All the weights of DistilBertForQuestionAnswering were initialized from the model checkpoint at /net/kdinxidk03/opt/NFS/75y/data/qa/output/distilbert-base-cased-distilled-squad-bioasq/.\n",
      "If your task is similar to the task the model of the checkpoint was trained on, you can already use DistilBertForQuestionAnswering for predictions without further training.\n",
      "/net/kdinxidk03/opt/NFS/75y/data/qa/output/cached_dev_distilbert-base-cased-distilled-squad-bioasq_384_test_squad1\n",
      "11/10/2021 11:35:30 - INFO - src.load_dataset - Loading features from cached file /net/kdinxidk03/opt/NFS/75y/data/qa/output/cached_dev_distilbert-base-cased-distilled-squad-bioasq_384_test_squad1\n",
      "11/10/2021 11:35:37 - INFO - __main__ - ***** Running evaluation squad1 *****\n",
      "11/10/2021 11:35:37 - INFO - __main__ -   Num examples = 10881\n",
      "11/10/2021 11:35:37 - INFO - __main__ -   Batch size = 32\n",
      "Evaluating: 100%|█████████████████████████████| 341/341 [00:30<00:00, 11.21it/s]\n",
      "11/10/2021 11:36:07 - INFO - __main__ -   Evaluation done in total 30.411598 secs (0.002795 sec per example)\n",
      "[INFO|squad_metrics.py:401] 2021-11-10 11:36:07,622 >> Writing predictions to: /net/kdinxidk03/opt/NFS/75y/data/qa/output/predictions_squad1.json\n",
      "[INFO|squad_metrics.py:403] 2021-11-10 11:36:07,622 >> Writing nbest to: /net/kdinxidk03/opt/NFS/75y/data/qa/output/nbest_predictions_squad1.json\n",
      "[INFO|squad_metrics.py:405] 2021-11-10 11:36:07,622 >> Writing null_log_odds to: /net/kdinxidk03/opt/NFS/75y/data/qa/output/null_odds_squad1.json\n",
      "11/10/2021 11:36:46 - INFO - __main__ - Results: {'exact': 68.07000946073794, 'f1': 78.50250943064013, 'total': 10570, 'HasAns_exact': 68.07000946073794, 'HasAns_f1': 78.50250943064013, 'HasAns_total': 10570, 'best_exact': 68.07000946073794, 'best_exact_thresh': 0.0, 'best_f1': 78.50250943064013, 'best_f1_thresh': 0.0}\n"
     ]
    }
   ],
   "source": [
    "!python3 run_model.py  \\\n",
    "    --model_type distilbert   \\\n",
    "    --model_name_or_path /net/kdinxidk03/opt/NFS/75y/data/qa/output/distilbert-base-cased-distilled-squad-bioasq/  \\\n",
    "    --config_name /net/kdinxidk03/opt/NFS/75y/data/qa/output/distilbert-base-cased-distilled-squad-bioasq/config.json \\\n",
    "    --tokenizer_name /net/kdinxidk03/opt/NFS/75y/data/qa/output/distilbert-base-cased-distilled-squad-bioasq/ \\\n",
    "    --output_dir /net/kdinxidk03/opt/NFS/75y/data/qa/output/ \\\n",
    "    --output_model_dir None \\\n",
    "    --data_dir /net/kdinxidk03/opt/NFS/75y/data/squad/  \\\n",
    "    --predict_file test_squad1.json   \\\n",
    "    --do_evaluate   \\\n",
    "    --version_2_with_negative \\\n",
    "    --max_seq_length 384   \\\n",
    "    --doc_stride 128  \\\n",
    "    --per_gpu_train_batch_size 8 \\\n",
    "    --dataset_name squad1 \\\n",
    "    --overwrite_output_dir  \\\n",
    "    --overwrite_output_model_dir"
   ]
  },
  {
   "cell_type": "code",
   "execution_count": null,
   "id": "20701ba0",
   "metadata": {
    "scrolled": true
   },
   "outputs": [],
   "source": [
    "!python3 run_model.py  \\\n",
    "    --model_type bert   \\\n",
    "    --model_name_or_path /net/kdinxidk03/opt/NFS/75y/data/qa/output/biobert-v1.1-bioasq/  \\\n",
    "    --config_name /net/kdinxidk03/opt/NFS/75y/data/qa/output/biobert-v1.1-bioasq/config.json \\\n",
    "    --tokenizer_name /net/kdinxidk03/opt/NFS/75y/data/qa/output/biobert-v1.1-bioasq/ \\\n",
    "    --output_dir /net/kdinxidk03/opt/NFS/75y/data/qa/output/ \\\n",
    "    --output_model_dir None \\\n",
    "    --data_dir /net/kdinxidk03/opt/NFS/75y/data/bioasq/bioasq-squad/  \\\n",
    "    --predict_file test_bioasq.json   \\\n",
    "    --do_eval   \\\n",
    "    --version_2_with_negative \\\n",
    "    --max_seq_length 384   \\\n",
    "    --doc_stride 128  \\\n",
    "    --per_gpu_train_batch_size 8 \\\n",
    "    --dataset_name test_bioasq  \\\n",
    "    --overwrite_output_dir  \\\n",
    "    --overwrite_output_model_dir"
   ]
  },
  {
   "cell_type": "code",
   "execution_count": null,
   "id": "6b66f68c",
   "metadata": {
    "scrolled": true
   },
   "outputs": [],
   "source": [
    "!python3 run_model.py  \\\n",
    "    --model_type bert   \\\n",
    "    --model_name_or_path /net/kdinxidk03/opt/NFS/75y/data/qa/output/biobert-v1.1-bioasq/  \\\n",
    "    --config_name /net/kdinxidk03/opt/NFS/75y/data/qa/output/biobert-v1.1-bioasq/config.json \\\n",
    "    --tokenizer_name /net/kdinxidk03/opt/NFS/75y/data/qa/output/biobert-v1.1-bioasq/ \\\n",
    "    --output_dir /net/kdinxidk03/opt/NFS/75y/data/qa/output/ \\\n",
    "    --output_model_dir None \\\n",
    "    --data_dir /net/kdinxidk03/opt/NFS/75y/data/squad/  \\\n",
    "    --predict_file test_squad1.json   \\\n",
    "    --do_eval   \\\n",
    "    --version_2_with_negative \\\n",
    "    --max_seq_length 384   \\\n",
    "    --doc_stride 128  \\\n",
    "    --per_gpu_train_batch_size 8 \\\n",
    "    --dataset_name test_squad1 \\\n",
    "    --overwrite_output_dir  \\\n",
    "    --overwrite_output_model_dir"
   ]
  },
  {
   "cell_type": "markdown",
   "id": "b42a2fd2",
   "metadata": {},
   "source": [
    "## Baseline with SQUAD Fine-tuned model\n"
   ]
  },
  {
   "cell_type": "code",
   "execution_count": null,
   "id": "767b4572",
   "metadata": {
    "scrolled": true
   },
   "outputs": [],
   "source": [
    "!python3 run_model.py  \\\n",
    "    --model_type bert   \\\n",
    "    --pretrained_model_name_or_path dmis-lab/biobert-v1.1 \\\n",
    "    --model_name_or_path dmis-lab/biobert-v1.1  \\\n",
    "    --output_dir /net/kdinxidk03/opt/NFS/75y/data/qa/output/ \\\n",
    "    --output_model_dir /net/kdinxidk03/opt/NFS/75y/data/qa/output/biobert-v1.1-squad/ \\\n",
    "    --data_dir /net/kdinxidk03/opt/NFS/75y/data/squad/  \\\n",
    "    --train_file train_squad1.json  \\\n",
    "    --predict_file test_squad1.json \\\n",
    "    --do_train \\\n",
    "    --max_seq_length 384   \\\n",
    "    --doc_stride 128  \\\n",
    "    --per_gpu_eval_batch_size 8 \\\n",
    "    --per_gpu_train_batch_size 8 \\\n",
    "    --dataset_name squad1  \\\n",
    "    --overwrite_output_dir  \\\n",
    "    --overwrite_output_model_dir \\"
   ]
  },
  {
   "cell_type": "code",
   "execution_count": null,
   "id": "57040732",
   "metadata": {
    "scrolled": true
   },
   "outputs": [],
   "source": [
    "!python3 run_model.py  \\\n",
    "    --model_type distilbert   \\\n",
    "    --model_name_or_path distilbert-base-cased-distilled-squad  \\\n",
    "    --output_dir /net/kdinxidk03/opt/NFS/75y/data/qa/output/ \\\n",
    "    --output_model_dir None \\\n",
    "    --do_evaluate  \\\n",
    "    --data_dir /net/kdinxidk03/opt/NFS/75y/data/squad/  \\\n",
    "    --predict_file test_squad1.json   \\\n",
    "    --max_seq_length 384   \\\n",
    "    --doc_stride 128  \\\n",
    "    --per_gpu_eval_batch_size 8 \\\n",
    "    --dataset_name squad1  \\\n",
    "    --overwrite_output_dir  \\\n",
    "    --overwrite_output_model_dir"
   ]
  },
  {
   "cell_type": "code",
   "execution_count": null,
   "id": "a70e369c",
   "metadata": {
    "scrolled": true
   },
   "outputs": [],
   "source": [
    "!python3 run_model.py  \\\n",
    "    --model_type bert   \\\n",
    "    --model_name_or_path /net/kdinxidk03/opt/NFS/75y/data/qa/output/biobert-v1.1-squad/  \\\n",
    "    --config_name /net/kdinxidk03/opt/NFS/75y/data/qa/output/biobert-v1.1-squad/config.json \\\n",
    "    --tokenizer_name /net/kdinxidk03/opt/NFS/75y/data/qa/output/biobert-v1.1-squad/ \\\n",
    "    --output_dir /net/kdinxidk03/opt/NFS/75y/data/qa/output/ \\\n",
    "    --output_model_dir None \\\n",
    "    --data_dir /net/kdinxidk03/opt/NFS/75y/data/bioasq/bioasq-squad/  \\\n",
    "    --predict_file test_bioasq.json   \\\n",
    "    --max_seq_length 384   \\\n",
    "    --doc_stride 128  \\\n",
    "    --per_gpu_eval_batch_size 8 \\\n",
    "    --dataset_name bioasq  \\\n",
    "    --overwrite_output_dir  \\\n",
    "    --overwrite_output_model_dir"
   ]
  },
  {
   "cell_type": "code",
   "execution_count": null,
   "id": "c0361621",
   "metadata": {
    "scrolled": true
   },
   "outputs": [],
   "source": [
    "!python3 run_model.py  \\\n",
    "    --model_type bert   \\\n",
    "    --model_name_or_path /net/kdinxidk03/opt/NFS/75y/data/qa/output/biobert-v1.1-squad/  \\\n",
    "    --config_name /net/kdinxidk03/opt/NFS/75y/data/qa/output/biobert-v1.1-squad/config.json \\\n",
    "    --tokenizer_name /net/kdinxidk03/opt/NFS/75y/data/qa/output/biobert-v1.1-squad/ \\\n",
    "    --output_dir /net/kdinxidk03/opt/NFS/75y/data/qa/output/ \\\n",
    "    --output_model_dir None \\\n",
    "    --data_dir /net/kdinxidk03/opt/NFS/75y/data/squad/  \\\n",
    "    --predict_file test_squad1.json   \\\n",
    "    --do_eval   \\\n",
    "    --version_2_with_negative \\\n",
    "    --max_seq_length 384   \\\n",
    "    --doc_stride 128  \\\n",
    "    --per_gpu_train_batch_size 8 \\\n",
    "    --dataset_name test_squad1  \\\n",
    "    --overwrite_output_dir  \\\n",
    "    --overwrite_output_model_dir"
   ]
  },
  {
   "cell_type": "code",
   "execution_count": null,
   "id": "c89c7e5f",
   "metadata": {},
   "outputs": [],
   "source": [
    "!python3 transform_n2b_factoid.py  \\\n",
    "    --nbest_path /net/kdinxidk03/opt/NFS/75y/data/qa/output/nbest_predictions_BIOASQ8B3.json \\\n",
    "    --output_path /net/kdinxidk03/opt/NFS/75y/data/qa/output/"
   ]
  },
  {
   "cell_type": "code",
   "execution_count": null,
   "id": "1db1ea37",
   "metadata": {},
   "outputs": [],
   "source": [
    "!java -Xmx10G -cp /home/75y/project_dir/QA-Systems/src/Evaluation-Measures/flat/BioASQEvaluation/dist/BioASQEvaluation.jar evaluation.EvaluatorTask1b -phaseB -e 5 /net/kdinxidk03/opt/NFS/75y/data/bioasq/Task8BGoldenEnriched/8B3_golden.json /net/kdinxidk03/opt/NFS/75y/data/qa/output/BioASQform_BioASQ-answer.json"
   ]
  },
  {
   "cell_type": "code",
   "execution_count": null,
   "id": "32d0dc78",
   "metadata": {},
   "outputs": [],
   "source": []
  },
  {
   "cell_type": "markdown",
   "id": "3cb23ce9",
   "metadata": {},
   "source": [
    "## Baseline with SQUAD-BIOASQ Fine-tuned model\n",
    "\n"
   ]
  },
  {
   "cell_type": "code",
   "execution_count": null,
   "id": "c31d33f5",
   "metadata": {
    "scrolled": true
   },
   "outputs": [],
   "source": [
    "# !python3 run_model.py  \\\n",
    "#     --model_type bert   \\\n",
    "#     --model_name_or_path /net/kdinxidk03/opt/NFS/75y/data/qa/output/biobert-v1.1-squad/  \\\n",
    "#     --config_name /net/kdinxidk03/opt/NFS/75y/data/qa/output/biobert-v1.1-squad/config.json \\\n",
    "#     --tokenizer_name /net/kdinxidk03/opt/NFS/75y/data/qa/output/biobert-v1.1-squad/ \\\n",
    "#     --output_dir /net/kdinxidk03/opt/NFS/75y/data/qa/output/ \\\n",
    "#     --output_model_dir /net/kdinxidk03/opt/NFS/75y/data/qa/output/biobert-v1.1-squad-bioasq/ \\\n",
    "#     --data_dir /net/kdinxidk03/opt/NFS/75y/data/bioasq/bioasq-squad/  \\\n",
    "#     --train_file train_bioasq.json  \\\n",
    "#     --predict_file test_bioasq.json \\\n",
    "#     --do_train \\\n",
    "#     --do_eval  \\\n",
    "#     --max_seq_length 384   \\\n",
    "#     --doc_stride 128  \\\n",
    "#     --per_gpu_eval_batch_size 8 \\\n",
    "#     --per_gpu_train_batch_size 8 \\\n",
    "#     --dataset_name test_bioasq  \\\n",
    "#     --overwrite_output_dir  \\\n",
    "#     --overwrite_output_model_dir"
   ]
  },
  {
   "cell_type": "code",
   "execution_count": null,
   "id": "28f29288",
   "metadata": {
    "scrolled": true
   },
   "outputs": [],
   "source": [
    "!python3 run_model.py  \\\n",
    "    --model_type bert   \\\n",
    "    --model_name_or_path /net/kdinxidk03/opt/NFS/75y/data/qa/output/biobert-v1.1-squad-bioasq/  \\\n",
    "    --config_name /net/kdinxidk03/opt/NFS/75y/data/qa/output/biobert-v1.1-squad-bioasq/config.json \\\n",
    "    --tokenizer_name /net/kdinxidk03/opt/NFS/75y/data/qa/output/biobert-v1.1-squad-bioasq/ \\\n",
    "    --output_dir /net/kdinxidk03/opt/NFS/75y/data/qa/output/ \\\n",
    "    --output_model_dir None \\\n",
    "    --data_dir /net/kdinxidk03/opt/NFS/75y/data/bioasq/bioasq-squad/  \\\n",
    "    --predict_file test_bioasq.json   \\\n",
    "    --do_eval   \\\n",
    "    --max_seq_length 384   \\\n",
    "    --doc_stride 128  \\\n",
    "    --per_gpu_train_batch_size 8 \\\n",
    "    --dataset_name test_bioasq  \\\n",
    "    --overwrite_output_dir  \\\n",
    "    --overwrite_output_model_dir"
   ]
  },
  {
   "cell_type": "code",
   "execution_count": null,
   "id": "6e19cec9",
   "metadata": {
    "scrolled": true
   },
   "outputs": [],
   "source": [
    "!python3 run_model.py  \\\n",
    "    --model_type bert   \\\n",
    "    --model_name_or_path /net/kdinxidk03/opt/NFS/75y/data/qa/output/biobert-v1.1-squad-bioasq/  \\\n",
    "    --config_name /net/kdinxidk03/opt/NFS/75y/data/qa/output/biobert-v1.1-squad-bioasq/config.json \\\n",
    "    --tokenizer_name /net/kdinxidk03/opt/NFS/75y/data/qa/output/biobert-v1.1-squad-bioasq/ \\\n",
    "    --output_dir /net/kdinxidk03/opt/NFS/75y/data/qa/output/ \\\n",
    "    --output_model_dir None \\\n",
    "    --data_dir /net/kdinxidk03/opt/NFS/75y/data/squad/  \\\n",
    "    --predict_file test_squad1.json   \\\n",
    "    --do_eval   \\\n",
    "    --max_seq_length 384   \\\n",
    "    --doc_stride 128  \\\n",
    "    --per_gpu_train_batch_size 8 \\\n",
    "    --dataset_name test_squad1 \\\n",
    "    --overwrite_output_dir  \\\n",
    "    --overwrite_output_model_dir \\"
   ]
  },
  {
   "cell_type": "markdown",
   "id": "c1e3a607",
   "metadata": {
    "heading_collapsed": true
   },
   "source": [
    "## 1 epoch of ADV-QA -- Starting from SQUAD fine-tuned model\n",
    "\n",
    "##### BIOASQ8B\n",
    "\n",
    "* 'exact': 90.10043041606886, 'f1': 93.12277575914865\n",
    "\n",
    "##### SQUAD\n",
    "\n",
    "* 'exact': 64.09817351598174, 'f1': 79.15022945908926\n"
   ]
  },
  {
   "cell_type": "markdown",
   "id": "8efcb3c1",
   "metadata": {},
   "source": [
    "# Test Set Results"
   ]
  },
  {
   "cell_type": "markdown",
   "id": "ab37c596",
   "metadata": {},
   "source": [
    "## Baseline with BIOASQ Fine-tuned model\n",
    "\n",
    "##### BIOASQ8B\n",
    "\n",
    "* 'exact': 40.8421052631579, 'f1': 52.233369668679785\n",
    "\n",
    "##### SQUAD\n",
    "\n",
    "* 'exact': 4.853358561967833, 'f1': 10.791401470060555\n"
   ]
  },
  {
   "cell_type": "markdown",
   "id": "c3621866",
   "metadata": {},
   "source": [
    "## Baseline with SQUAD Fine-tuned model\n",
    "\n",
    "##### BIOASQ8B\n",
    "\n",
    "* 'exact': 47.578947368421055, 'f1': 60.197738977960604\n",
    "\n",
    "\n",
    "##### SQUAD\n",
    "\n",
    "* 'exact': 66.46168401135289, 'f1': 75.43556784471167\n"
   ]
  },
  {
   "cell_type": "markdown",
   "id": "22c16209",
   "metadata": {},
   "source": [
    "## Baseline with SQUAD-BIOASQ Fine-tuned model\n",
    "\n",
    "\n",
    "##### BIOASQ8B\n",
    "\n",
    "* 'exact': 71.36842105263158, 'f1': 81.00348022538876\n",
    "\n",
    "\n",
    "##### SQUAD\n",
    "\n",
    "* 'exact': 70.53926206244087, 'f1': 79.64512916252268\n"
   ]
  },
  {
   "cell_type": "markdown",
   "id": "f4dae0eb",
   "metadata": {},
   "source": [
    "## 1 epoch of ADV-QA -- Starting from SQUAD fine-tuned model\n",
    "\n",
    "##### BIOASQ8B\n",
    "\n",
    "* 'exact': 66.10526315789474, 'f1': 77.33694506771786\n",
    "\n",
    "##### SQUAD\n",
    "\n",
    "* 'exact': 74.5127719962157, 'f1': 84.10150447251938\n"
   ]
  },
  {
   "cell_type": "markdown",
   "id": "05ca2c95",
   "metadata": {
    "heading_collapsed": true
   },
   "source": [
    "# MISC."
   ]
  },
  {
   "cell_type": "code",
   "execution_count": null,
   "id": "50905d51",
   "metadata": {
    "hidden": true,
    "scrolled": true
   },
   "outputs": [],
   "source": [
    "# dmis-lab/biobert-v1.1\n",
    "\n",
    "!python3 run_qa.py \\\n",
    "    --model_type bert \\\n",
    "    --model_name_or_path /net/kdinxidk03/opt/NFS/75y/data/qa/output/biobert-v1.1-squad/  \\\n",
    "    --output_dir /net/kdinxidk03/opt/NFS/75y/data/qa/output/ \\\n",
    "    --output_model_dir /net/kdinxidk03/opt/NFS/75y/data/qa/output/biobert-v1.1-squad-bioasq/ \\\n",
    "    --data_dir /net/kdinxidk03/opt/NFS/75y/data/bioasq/bioasq-squad/ \\\n",
    "    --train_file bioasq_squad_train_8B.json  \\\n",
    "    --predict_file bioasq_squad_test_8B.json   \\\n",
    "    --config_name /net/kdinxidk03/opt/NFS/75y/data/qa/output/biobert-v1.1-squad/config.json \\\n",
    "    --tokenizer_name /net/kdinxidk03/opt/NFS/75y/data/qa/output/biobert-v1.1-squad/ \\\n",
    "    --do_train \\\n",
    "    --do_eval \\\n",
    "    --save_steps 500 \\\n",
    "    --version_2_with_negative \\\n",
    "    --num_train_epochs 2 \\\n",
    "    --learning_rate 3e-5 \\\n",
    "    --max_seq_length 386 \\\n",
    "    --doc_stride 128 \\\n",
    "    --per_gpu_train_batch_size 8 \\\n",
    "    --gradient_accumulation_steps 6 \\\n",
    "    --per_gpu_eval_batch_size 8 \\\n",
    "    --logging_steps 100 \\\n",
    "    --overwrite_output_dir \\\n",
    "    --overwrite_output_model_dir \\\n",
    "    --dataset_name BIOASQ8B"
   ]
  },
  {
   "cell_type": "markdown",
   "id": "26fc31db",
   "metadata": {
    "hidden": true
   },
   "source": [
    "### Without ADV"
   ]
  },
  {
   "cell_type": "code",
   "execution_count": null,
   "id": "9b7b7559",
   "metadata": {
    "hidden": true,
    "scrolled": true
   },
   "outputs": [],
   "source": [
    "!python3 run_model.py  \\\n",
    "    --model_type bert   \\\n",
    "    --model_name_or_path /net/kdinxidk03/opt/NFS/75y/data/qa/output/biobert-v1.1-bioasq/ \\\n",
    "    --output_dir /net/kdinxidk03/opt/NFS/75y/data/qa/output/ \\\n",
    "    --output_model_dir None \\\n",
    "    --data_dir /net/kdinxidk03/opt/NFS/75y/data/bioasq/bioasq-squad/  \\\n",
    "    --predict_file bioasq_squad_test_8B.json   \\\n",
    "    --config_name /net/kdinxidk03/opt/NFS/75y/data/qa/output/biobert-v1.1-bioasq/config.json \\\n",
    "    --tokenizer_name /net/kdinxidk03/opt/NFS/75y/data/qa/output/biobert-v1.1-bioasq/ \\\n",
    "    --do_eval   \\\n",
    "    --version_2_with_negative \\\n",
    "    --max_seq_length 384   \\\n",
    "    --doc_stride 128  \\\n",
    "    --per_gpu_eval_batch_size 8 \\\n",
    "    --dataset_name BIOASQ8B  \\\n",
    "    --overwrite_output_dir  \\\n",
    "    --overwrite_output_model_dir"
   ]
  },
  {
   "cell_type": "code",
   "execution_count": null,
   "id": "3e5d7097",
   "metadata": {
    "hidden": true
   },
   "outputs": [],
   "source": [
    "!python3 run_model.py  \\\n",
    "    --model_type bert   \\\n",
    "    --model_name_or_path /net/kdinxidk03/opt/NFS/75y/data/qa/output/biobert-v1.1-squad-bioasq/ \\\n",
    "    --output_dir /net/kdinxidk03/opt/NFS/75y/data/qa/output/ \\\n",
    "    --output_model_dir None \\\n",
    "    --data_dir /net/kdinxidk03/opt/NFS/75y/data/bioasq/bioasq-squad/  \\\n",
    "    --predict_file bioasq_squad_test_8B.json   \\\n",
    "    --config_name /net/kdinxidk03/opt/NFS/75y/data/qa/output/biobert-v1.1-squad-bioasq/config.json \\\n",
    "    --tokenizer_name /net/kdinxidk03/opt/NFS/75y/data/qa/output/biobert-v1.1-squad-bioasq/ \\\n",
    "    --do_eval   \\\n",
    "    --version_2_with_negative \\\n",
    "    --max_seq_length 384   \\\n",
    "    --doc_stride 128  \\\n",
    "    --per_gpu_eval_batch_size 8 \\\n",
    "    --dataset_name BIOASQ8B-WITHSQUADMODEL  \\\n",
    "    --overwrite_output_dir  \\\n",
    "    --overwrite_output_model_dir"
   ]
  },
  {
   "cell_type": "markdown",
   "id": "420dc1ed",
   "metadata": {
    "hidden": true
   },
   "source": [
    "### With ADV"
   ]
  },
  {
   "cell_type": "code",
   "execution_count": null,
   "id": "edd2725c",
   "metadata": {
    "hidden": true,
    "scrolled": true
   },
   "outputs": [],
   "source": [
    "!python3 run_model.py  \\\n",
    "    --model_type bert   \\\n",
    "    --model_name_or_path /net/kdinxidk03/opt/NFS/75y/data/qa/output/biobert-v1.1-bioasq/ \\\n",
    "    --output_dir /net/kdinxidk03/opt/NFS/75y/data/qa/output/ \\\n",
    "    --output_model_dir None \\\n",
    "    --data_dir /net/kdinxidk03/opt/NFS/75y/data/bioasq/bioasq-squad/  \\\n",
    "    --predict_file adv-bioasq.json   \\\n",
    "    --config_name /net/kdinxidk03/opt/NFS/75y/data/qa/output/biobert-v1.1-bioasq/config.json \\\n",
    "    --tokenizer_name /net/kdinxidk03/opt/NFS/75y/data/qa/output/biobert-v1.1-bioasq/ \\\n",
    "    --do_eval   \\\n",
    "    --version_2_with_negative \\\n",
    "    --max_seq_length 384   \\\n",
    "    --doc_stride 128  \\\n",
    "    --per_gpu_eval_batch_size 8 \\\n",
    "    --dataset_name ADV-BIOASQ  \\\n",
    "    --overwrite_output_dir  \\\n",
    "    --overwrite_output_model_dir"
   ]
  },
  {
   "cell_type": "code",
   "execution_count": null,
   "id": "7412d66a",
   "metadata": {
    "hidden": true,
    "scrolled": true
   },
   "outputs": [],
   "source": [
    "!python3 run_model.py  \\\n",
    "    --model_type bert   \\\n",
    "    --model_name_or_path /net/kdinxidk03/opt/NFS/75y/data/qa/output/biobert-v1.1-squad-bioasq/ \\\n",
    "    --output_dir /net/kdinxidk03/opt/NFS/75y/data/qa/output/ \\\n",
    "    --output_model_dir None \\\n",
    "    --data_dir /net/kdinxidk03/opt/NFS/75y/data/bioasq/bioasq-squad/  \\\n",
    "    --predict_file adv-bioasq.json   \\\n",
    "    --config_name /net/kdinxidk03/opt/NFS/75y/data/qa/output/biobert-v1.1-squad-bioasq/config.json \\\n",
    "    --tokenizer_name /net/kdinxidk03/opt/NFS/75y/data/qa/output/biobert-v1.1-squad-bioasq/ \\\n",
    "    --do_eval   \\\n",
    "    --version_2_with_negative \\\n",
    "    --max_seq_length 384   \\\n",
    "    --doc_stride 128  \\\n",
    "    --per_gpu_eval_batch_size 8 \\\n",
    "    --dataset_name ADV-BIOASQ-WITHSQUADMODEL  \\\n",
    "    --overwrite_output_dir  \\\n",
    "    --overwrite_output_model_dir"
   ]
  },
  {
   "cell_type": "code",
   "execution_count": null,
   "id": "737857b7",
   "metadata": {
    "hidden": true,
    "scrolled": true
   },
   "outputs": [],
   "source": [
    "# !python3 run_model.py  \\\n",
    "#     --model_type bert   \\\n",
    "#     --model_name_or_path /net/kdinxidk03/opt/NFS/75y/data/qa/output/biobert-v1.1-squad-bioasq/  \\\n",
    "#     --output_dir /net/kdinxidk03/opt/NFS/75y/data/qa/output/ \\\n",
    "#     --output_model_dir /net/kdinxidk03/opt/NFS/75y/data/qa/output/biobert-v1.1-squad-bioasq/ \\\n",
    "#     --data_dir /net/kdinxidk03/opt/NFS/75y/data/bioasq/bioasq-squad/  \\\n",
    "#     --predict_file bioasq_squad_test_8B3.json   \\\n",
    "#     --config_name /net/kdinxidk03/opt/NFS/75y/data/qa/output/biobert-v1.1-squad-bioasq/config.json \\\n",
    "#     --tokenizer_name /net/kdinxidk03/opt/NFS/75y/data/qa/output/biobert-v1.1-squad-bioasq/ \\\n",
    "#     --do_eval   \\\n",
    "#     --version_2_with_negative \\\n",
    "#     --max_seq_length 384   \\\n",
    "#     --doc_stride 128  \\\n",
    "#     --per_gpu_eval_batch_size 8 \\\n",
    "#     --dataset_name BIOASQ8B3  \\\n",
    "#     --overwrite_output_dir  \\\n",
    "#     --overwrite_output_model_dir"
   ]
  },
  {
   "cell_type": "markdown",
   "id": "5cf8e90e",
   "metadata": {
    "heading_collapsed": true
   },
   "source": [
    "# Post-process nbest_predictions_...json"
   ]
  },
  {
   "cell_type": "code",
   "execution_count": null,
   "id": "fa9c1310",
   "metadata": {
    "hidden": true
   },
   "outputs": [],
   "source": [
    "!python3 transform_n2b_factoid.py  \\\n",
    "    --nbest_path /net/kdinxidk03/opt/NFS/75y/data/qa/output/nbest_predictions_BIOASQ8B3-SNIPPET.json \\\n",
    "    --output_path /net/kdinxidk03/opt/NFS/75y/data/qa/output/"
   ]
  },
  {
   "cell_type": "code",
   "execution_count": null,
   "id": "ba915b92",
   "metadata": {
    "hidden": true,
    "scrolled": true
   },
   "outputs": [],
   "source": [
    "!java -Xmx10G -cp $CLASSPATH:/home/75y/project_dir/QA-Systems/notebooks/Evaluation-Measures/flat/BioASQEvaluation/dist/BioASQEvaluation.jar evaluation.EvaluatorTask1b -phaseB -e 5 \\\n",
    "    /net/kdinxidk03/opt/NFS/75y/data/bioasq/Task8BGoldenEnriched/8B3_golden.json \\\n",
    "    /net/kdinxidk03/opt/NFS/75y/data/qa/output/BioASQform_BioASQ-answer.json"
   ]
  },
  {
   "cell_type": "code",
   "execution_count": null,
   "id": "635b72c8",
   "metadata": {
    "hidden": true
   },
   "outputs": [],
   "source": []
  },
  {
   "cell_type": "markdown",
   "id": "1e6bf66c",
   "metadata": {
    "heading_collapsed": true
   },
   "source": [
    "# ------------------- Using SQuAD --------------------"
   ]
  },
  {
   "cell_type": "markdown",
   "id": "7870a97e",
   "metadata": {
    "heading_collapsed": true
   },
   "source": [
    "# Fine-tune"
   ]
  },
  {
   "cell_type": "code",
   "execution_count": null,
   "id": "d2d49a5b",
   "metadata": {
    "hidden": true,
    "scrolled": true
   },
   "outputs": [],
   "source": [
    "!python3 run_qa.py \\\n",
    "    --model_type bert   \\\n",
    "    --model_name_or_path dmis-lab/biobert-v1.1  \\\n",
    "    --output_dir /net/kdinxidk03/opt/NFS/75y/data/qa/output/ \\\n",
    "    --output_model_dir /net/kdinxidk03/opt/NFS/75y/data/qa/output/biobert-v1.1-squadv1.1/ \\\n",
    "    --data_dir /net/kdinxidk03/opt/NFS/75y/data/squad/ \\\n",
    "    --train_file train-v1.1.json  \\\n",
    "    --predict_file dev-v1.1.json   \\\n",
    "    --do_train \\\n",
    "    --do_eval \\\n",
    "    --save_steps 500 \\\n",
    "    --version_2_with_negative \\\n",
    "    --num_train_epochs 2 \\\n",
    "    --learning_rate 3e-5 \\\n",
    "    --max_seq_length 386 \\\n",
    "    --doc_stride 128 \\\n",
    "    --per_gpu_train_batch_size 18 \\\n",
    "    --gradient_accumulation_steps 6 \\\n",
    "    --per_gpu_eval_batch_size 18 \\\n",
    "    --logging_steps 100 \\\n",
    "    --overwrite_output_dir \\\n",
    "    --overwrite_output_model_dir \\\n",
    "    --dataset_name SQUAD1"
   ]
  },
  {
   "cell_type": "markdown",
   "id": "7ce64d51",
   "metadata": {
    "heading_collapsed": true
   },
   "source": [
    "# Validate with fine-tuned model"
   ]
  },
  {
   "cell_type": "code",
   "execution_count": null,
   "id": "2bea751a",
   "metadata": {
    "hidden": true,
    "scrolled": true
   },
   "outputs": [],
   "source": [
    "!python3 run_model.py  \\\n",
    "    --model_type bert   \\\n",
    "    --model_name_or_path /net/kdinxidk03/opt/NFS/75y/data/BIOBERT_DIR/BERT-pubmed-1000000-SQuAD/  \\\n",
    "    --output_dir /net/kdinxidk03/opt/NFS/75y/data/qa/output/ \\\n",
    "    --output_model_dir None \\\n",
    "    --data_dir /net/kdinxidk03/opt/NFS/75y/data/bioasq/bioasq-squad/  \\\n",
    "    --predict_file bioasq_squad_test_8B3.json   \\\n",
    "    --config_name dmis-lab/biobert-v1.1 \\\n",
    "    --tokenizer_name dmis-lab/biobert-v1.1 \\\n",
    "    --do_eval   \\\n",
    "    --version_2_with_negative \\\n",
    "    --max_seq_length 384   \\\n",
    "    --doc_stride 128  \\\n",
    "    --per_gpu_eval_batch_size 8 \\\n",
    "    --dataset_name BIOASQ8B3  \\\n",
    "    --overwrite_output_dir  \\\n",
    "    --overwrite_output_model_dir"
   ]
  },
  {
   "cell_type": "markdown",
   "id": "c8483b39",
   "metadata": {
    "heading_collapsed": true
   },
   "source": [
    "# Post-process nbest_predictions_...json\n"
   ]
  },
  {
   "cell_type": "code",
   "execution_count": null,
   "id": "d6801cee",
   "metadata": {
    "hidden": true
   },
   "outputs": [],
   "source": [
    "!python3 transform_n2b_factoid.py  \\\n",
    "    --nbest_path /net/kdinxidk03/opt/NFS/75y/data/qa/output/nbest_predictions_BIOASQ6B3.json \\\n",
    "    --output_path /net/kdinxidk03/opt/NFS/75y/data/qa/output/"
   ]
  },
  {
   "cell_type": "code",
   "execution_count": null,
   "id": "ba4fc907",
   "metadata": {
    "hidden": true
   },
   "outputs": [],
   "source": [
    "!java -Xmx10G -cp /home/75y/project_dir/QA-Systems/src/Evaluation-Measures/flat/BioASQEvaluation/dist/BioASQEvaluation.jar evaluation.EvaluatorTask1b -phaseB -e 5 /net/kdinxidk03/opt/NFS/75y/data/bioasq/Task6BGoldenEnriched/6B3_golden.json /net/kdinxidk03/opt/NFS/75y/data/qa/output/BioASQform_BioASQ-answer.json"
   ]
  },
  {
   "cell_type": "code",
   "execution_count": null,
   "id": "be927714",
   "metadata": {
    "hidden": true
   },
   "outputs": [],
   "source": []
  },
  {
   "cell_type": "code",
   "execution_count": null,
   "id": "0ab7f73e",
   "metadata": {
    "hidden": true
   },
   "outputs": [],
   "source": [
    "path = \"/net/kdinxidk03/opt/NFS/75y/data/bioasq/BioASQ-8b/\""
   ]
  },
  {
   "cell_type": "code",
   "execution_count": null,
   "id": "206f94ca",
   "metadata": {
    "hidden": true,
    "scrolled": true
   },
   "outputs": [],
   "source": [
    "import json\n",
    "# test_8b3 = json.load(open(path))\n",
    "# test_8b3"
   ]
  },
  {
   "cell_type": "code",
   "execution_count": null,
   "id": "48d211b5",
   "metadata": {
    "hidden": true
   },
   "outputs": [],
   "source": [
    "squad_entries = []\n",
    "for entry in test_8b3['data']:\n",
    "    entry_data = entry['paragraphs']\n",
    "    for ex in entry_data:\n",
    "        id_num = ex['qas'][0]['id']\n",
    "        question = ex['qas'][0]['question']\n",
    "        answer = \"\"\n",
    "        context = ex['context']\n",
    "\n",
    "        new_entry={\n",
    "               \"qas\": [\n",
    "                 {\n",
    "                  \"id\": id_num,\n",
    "                  \"question\": question,\n",
    "                  \"answers\": [answer]\n",
    "                 }\n",
    "                 ],\n",
    "               \"context\": context\n",
    "               }\n",
    "        \n",
    "        squad_entries.append(new_entry)\n",
    "\n",
    "def entry_to_json(squad_entries,title=None,version=None):\n",
    "    squad_json={\n",
    "              \"data\": [\n",
    "                {\n",
    "                  \"paragraphs\":squad_entries,\n",
    "                   \"title\":title\n",
    "                }],\n",
    "               \"version\":version\n",
    "           }\n",
    "    return squad_json\n",
    "\n",
    "squad_json = entry_to_json(squad_entries)\n",
    "\n",
    "# with open(path+\"BioASQ-test-factoid-8b-3-snippet-SQUAD.json\", \"w\") as writer:\n",
    "#     writer.write(json.dumps(squad_json, indent=4) + \"\\n\")   "
   ]
  },
  {
   "cell_type": "markdown",
   "id": "f3b42b7c",
   "metadata": {
    "heading_collapsed": true
   },
   "source": [
    "# BIOASQ to SQUAD ------- start"
   ]
  },
  {
   "cell_type": "code",
   "execution_count": null,
   "id": "f3aaad34",
   "metadata": {
    "hidden": true
   },
   "outputs": [],
   "source": [
    "# !python bioasq_squad.py  \\\n",
    "#     --input_train_dir /net/kdinxidk03/opt/NFS/75y/data/bioasq/bioasq-squad/   \\\n",
    "#     --input_test_dir /net/kdinxidk03/opt/NFS/75y/data/bioasq/Task8BGoldenEnriched/   \\\n",
    "#     --output_dir /net/kdinxidk03/opt/NFS/75y/data/bioasq/bioasq-squad/   \\\n",
    "#     --train_file training8b.json   \\\n",
    "#     --test_file1 8B1_golden.json   \\\n",
    "#     --test_file2 8B2_golden.json   \\\n",
    "#     --test_file3 8B3_golden.json   \\\n",
    "#     --test_file4 8B4_golden.json   \\\n",
    "#     --test_file5 8B5_golden.json   \\\n",
    "#     --out_train bioasq_squad_train_8B.json   \\\n",
    "#     --out_test bioasq_squad_test_8B.json   \\\n",
    "#     --do_eval eval  \\\n",
    "#     --do_train train\n",
    "    "
   ]
  },
  {
   "cell_type": "code",
   "execution_count": null,
   "id": "a6a5b018",
   "metadata": {
    "hidden": true
   },
   "outputs": [],
   "source": [
    "!pip install tqdm"
   ]
  },
  {
   "cell_type": "code",
   "execution_count": null,
   "id": "b8aa7382",
   "metadata": {
    "hidden": true,
    "scrolled": true
   },
   "outputs": [],
   "source": [
    "import json\n",
    "old = \"/net/kdinxidk03/opt/NFS/75y/data/bioasq/bioasq-squad/bioasq_squad_test_8B3.json\"\n",
    "json.load(open(old))\n",
    "\n",
    "import json\n",
    "from tqdm import tqdm\n",
    "\n",
    "def index_to_str(num):\n",
    "    return '0'*(3-len(str(num)))+str(num)\n",
    "\n",
    "def bioasq_to_squad(input_json,training):\n",
    "    with open(input_json, \"r\", encoding=\"utf-8\") as reader:\n",
    "        input_data = json.load(reader)[\"questions\"]\n",
    "    squad_entries=[]\n",
    "    k = 0\n",
    "    em = 0\n",
    "    for entry in tqdm(input_data):\n",
    "        \n",
    "        if entry['type']!='factoid': #only extract the type of 'factoid' question \n",
    "            continue\n",
    "        k+=1\n",
    "        question=entry['body'].strip()\n",
    "        \n",
    "        if training:\n",
    "            answer_text=entry['exact_answer'][0].strip()\n",
    "        else:\n",
    "            answer_text=entry['exact_answer'][0][0].strip() \n",
    "            \n",
    "#         for index,snippet in enumerate(entry[\"snippets\"]):\n",
    "        for index in range(len(entry[\"snippets\"])):\n",
    "        \n",
    "            snippet = entry[\"snippets\"][index]\n",
    "            id_num=entry['id']+'_'+index_to_str(index+1)\n",
    "            context = snippet[\"text\"].strip()\n",
    "            start=context.find(answer_text)\n",
    "            \n",
    "            if start!=-1:\n",
    "                answer={\"text\":answer_text,\"answer_start\":start}\n",
    "            else:\n",
    "                continue\n",
    "                \n",
    "            new_entry={\n",
    "                       \"qas\": [\n",
    "                         {\n",
    "                          \"id\": id_num,\n",
    "                          \"question\": question,\n",
    "                          \"answers\": [answer]\n",
    "                         }\n",
    "                         ],\n",
    "                       \"context\": context\n",
    "                       }\n",
    "            \n",
    "    #             print(id_num, ':', answer_text, \"||\", pred[id_num], answer_text == pred[id_num])\n",
    "            \n",
    "            if entry['id']==\"5d35f1267bc3fee31f000004\":\n",
    "                print(new_entry)\n",
    "                \n",
    "    #             if answer_text == pred[id_num]:\n",
    "    #                 em+=1\n",
    "    \n",
    "            squad_entries.append(new_entry)\n",
    "            \n",
    "    print(k, len(squad_entries), em, (em/len(squad_entries))*100)\n",
    "            \n",
    "    return squad_entries\n",
    "\n",
    "def entry_to_json(squad_entries,title=None,version=None):\n",
    "    squad_json={\n",
    "              \"data\": [\n",
    "                {\n",
    "                  \"paragraphs\":squad_entries,\n",
    "                   \"title\":title\n",
    "                }],\n",
    "               \"version\":version\n",
    "           }\n",
    "    return squad_json\n",
    "\n",
    "\n",
    "squad_entries = bioasq_to_squad(input_json+\"Task8BGoldenEnriched/8B3_golden.json\", \"\")\n",
    "squad_json = entry_to_json(squad_entries)\n",
    "\n",
    "# with open(input_json+\"bioasq-squad/bioasq_squad_test_6B3.json\", \"w\") as writer:\n",
    "#     writer.write(json.dumps(squad_json, indent=4) + \"\\n\")   "
   ]
  },
  {
   "cell_type": "code",
   "execution_count": null,
   "id": "81e8ebb5",
   "metadata": {
    "hidden": true,
    "scrolled": true
   },
   "outputs": [],
   "source": []
  },
  {
   "cell_type": "markdown",
   "id": "1959def2",
   "metadata": {
    "heading_collapsed": true
   },
   "source": [
    "# BIOASQ to SQUAD ------- end"
   ]
  },
  {
   "cell_type": "code",
   "execution_count": null,
   "id": "1fd590aa",
   "metadata": {
    "hidden": true,
    "scrolled": true
   },
   "outputs": [],
   "source": [
    "# !python TRIAL_MODEL.py  \\\n",
    "#     --model_type electra   \\\n",
    "#     --model_name_or_path sultan/BioM-ELECTRA-Base-SQuAD2  \\\n",
    "#     --output_dir /net/kdinxidk03/opt/NFS/75y/data/qa/output/ \\\n",
    "#     --data_dir /net/kdinxidk03/opt/NFS/75y/data/squad/  \\\n",
    "#     --predict_file dev-v2.0.json   \\\n",
    "#     --do_eval   \\\n",
    "#     --version_2_with_negative \\\n",
    "#     --do_lower_case  \\\n",
    "#     --per_gpu_eval_batch_size 12   \\\n",
    "#     --max_seq_length 384   \\\n",
    "#     --doc_stride 128"
   ]
  },
  {
   "cell_type": "code",
   "execution_count": null,
   "id": "6aacff60",
   "metadata": {
    "hidden": true
   },
   "outputs": [],
   "source": []
  }
 ],
 "metadata": {
  "kernelspec": {
   "display_name": "Python 3",
   "language": "python",
   "name": "python3"
  },
  "language_info": {
   "codemirror_mode": {
    "name": "ipython",
    "version": 3
   },
   "file_extension": ".py",
   "mimetype": "text/x-python",
   "name": "python",
   "nbconvert_exporter": "python",
   "pygments_lexer": "ipython3",
   "version": "3.7.10"
  },
  "toc": {
   "base_numbering": 1,
   "nav_menu": {},
   "number_sections": true,
   "sideBar": true,
   "skip_h1_title": false,
   "title_cell": "Table of Contents",
   "title_sidebar": "Contents",
   "toc_cell": false,
   "toc_position": {},
   "toc_section_display": true,
   "toc_window_display": false
  }
 },
 "nbformat": 4,
 "nbformat_minor": 5
}
