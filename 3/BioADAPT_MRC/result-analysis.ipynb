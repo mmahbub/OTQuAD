{
 "cells": [
  {
   "cell_type": "code",
   "execution_count": 1,
   "id": "112b33dd",
   "metadata": {
    "scrolled": true
   },
   "outputs": [],
   "source": [
    "# !python3 load_dataset.py  \\\n",
    "#     --orig_model_name_or_path bioelectra  \\\n",
    "#     --model_name_or_path kamalkraj/bioelectra-base-discriminator-pubmed-pmc-lt  \\\n",
    "#     --output_dir /net/kdinxidk03/opt/NFS/75y/data/qa/output/ \\\n",
    "#     --data_dir /net/kdinxidk03/opt/NFS/75y/data/qa/dataset_pos/emrqa/  \\\n",
    "#     --train_file train_emrqa_risk_adamrc.json \\\n",
    "#     --dataset_name emrqa_risk_adamrc  \\\n",
    "#     --do_lower_case \\\n",
    "#     --do_train \\\n",
    "#     --max_seq_length 384  \\\n",
    "#     --doc_stride 128  \\\n",
    "#     --overwrite_cache \n"
   ]
  },
  {
   "cell_type": "code",
   "execution_count": 2,
   "id": "c171779a",
   "metadata": {},
   "outputs": [],
   "source": [
    "# !python3 load_dataset.py  \\\n",
    "#     --orig_model_name_or_path bioelectra  \\\n",
    "#     --model_name_or_path kamalkraj/bioelectra-base-discriminator-pubmed-pmc-lt  \\\n",
    "#     --output_dir /net/kdinxidk03/opt/NFS/75y/data/qa/output/ \\\n",
    "#     --data_dir /net/kdinxidk03/opt/NFS/75y/data/qa/dataset_pos/emrqa/  \\\n",
    "#     --predict_file test_emrqa_risk.json \\\n",
    "#     --dataset_name emrqa_risk  \\\n",
    "#     --do_lower_case \\\n",
    "#     --do_aevaluate \\\n",
    "#     --max_seq_length 384  \\\n",
    "#     --doc_stride 128  \\\n",
    "#     --overwrite_cache \n"
   ]
  },
  {
   "cell_type": "code",
   "execution_count": 186,
   "id": "316fba61",
   "metadata": {
    "scrolled": true
   },
   "outputs": [],
   "source": [
    "train = json.load(open('/net/kdinxidk03/opt/NFS/75y/data/qa/dataset_pos/emrqa/datasets/risk-dataset-train_70perc.json'))\n",
    "test = json.load(open('/net/kdinxidk03/opt/NFS/75y/data/qa/dataset_pos/emrqa/datasets/risk-dataset-dev_30perc_seed42.json'))"
   ]
  },
  {
   "cell_type": "code",
   "execution_count": 247,
   "id": "f0a84b96",
   "metadata": {},
   "outputs": [
    {
     "data": {
      "text/plain": [
       "83"
      ]
     },
     "execution_count": 247,
     "metadata": {},
     "output_type": "execute_result"
    }
   ],
   "source": [
    "len(train['data'])"
   ]
  },
  {
   "cell_type": "code",
   "execution_count": 245,
   "id": "88a1dbf1",
   "metadata": {},
   "outputs": [],
   "source": [
    "# title_ls    = []\n",
    "# context_ls  = []\n",
    "# question_ls = []\n",
    "# id_ls       = []\n",
    "# answer_ls   = []\n",
    "\n",
    "# for d in train['data']:\n",
    "#   para  = d['paragraphs']\n",
    "#   title = d['title']\n",
    "\n",
    "#   for p in para:\n",
    "#     context = p['context']\n",
    "#     qas     = p['qas']\n",
    "#     for q in qas:\n",
    "#       question = q['question']\n",
    "#       id_      = q['id']\n",
    "#       answer   = q['answers']\n",
    "      \n",
    "#       if context not in context_ls: \n",
    "#         context_ls.append(context)\n",
    "#         title_ls.append(title)\n",
    "#         question_ls.append(question)\n",
    "#         id_ls.append(id_)\n",
    "#         answer_ls.append(answer)\n",
    "\n",
    "      \n",
    "      "
   ]
  },
  {
   "cell_type": "code",
   "execution_count": 248,
   "id": "db1b8320",
   "metadata": {},
   "outputs": [
    {
     "data": {
      "text/plain": [
       "True"
      ]
     },
     "execution_count": 248,
     "metadata": {},
     "output_type": "execute_result"
    }
   ],
   "source": [
    "# len(context_ls)==len(question_ls)==len(id_ls)==len(answer_ls)"
   ]
  },
  {
   "cell_type": "code",
   "execution_count": 250,
   "id": "522c82a9",
   "metadata": {},
   "outputs": [
    {
     "name": "stdout",
     "output_type": "stream",
     "text": [
      "83\n"
     ]
    }
   ],
   "source": [
    "# para = []\n",
    "# for i, id_ in enumerate(id_ls):\n",
    "#   para.append({'qas': [{'id': id_,\n",
    "#                         'question': '[MASK]',\n",
    "#                         'answers': answer_ls[i]}],\n",
    "#                'context': context_ls[i]})\n",
    "\n",
    "# print(len(para))\n"
   ]
  },
  {
   "cell_type": "code",
   "execution_count": 253,
   "id": "f989efc3",
   "metadata": {},
   "outputs": [],
   "source": [
    "# json_file={\n",
    "#           \"data\": [\n",
    "#             {\n",
    "#               \"paragraphs\":para,\n",
    "#                \"title\":'emrQA-risk'\n",
    "#             }],\n",
    "#            \"version\":0\n",
    "#        }\n",
    "\n",
    "# with open('/net/kdinxidk03/opt/NFS/75y/data/qa/dataset_pos/emrqa/train_emrqa_risk.json', \"w\") as writer:\n",
    "#     writer.write(json.dumps(json_file, indent=4) + \"\\n\") "
   ]
  },
  {
   "cell_type": "code",
   "execution_count": 254,
   "id": "aa36f57e",
   "metadata": {},
   "outputs": [],
   "source": [
    "# json.load(open('/net/kdinxidk03/opt/NFS/75y/data/qa/dataset_pos/emrqa/train_emrqa_risk.json'))"
   ]
  },
  {
   "cell_type": "code",
   "execution_count": 239,
   "id": "20ef3e40",
   "metadata": {},
   "outputs": [],
   "source": [
    "# import pickle\n",
    "# pickle.dump(ex_id, open('TEXT_IDS_RISK.txt', 'wb'))"
   ]
  },
  {
   "cell_type": "code",
   "execution_count": 241,
   "id": "0463cb1c",
   "metadata": {},
   "outputs": [],
   "source": [
    "# aa = pickle.load(open('TEXT_IDS_RISK.txt', 'rb'))"
   ]
  },
  {
   "cell_type": "code",
   "execution_count": 242,
   "id": "b63099fd",
   "metadata": {},
   "outputs": [
    {
     "data": {
      "text/plain": [
       "True"
      ]
     },
     "execution_count": 242,
     "metadata": {},
     "output_type": "execute_result"
    }
   ],
   "source": [
    "# aa==ex_id"
   ]
  },
  {
   "cell_type": "code",
   "execution_count": null,
   "id": "6801f52a",
   "metadata": {},
   "outputs": [],
   "source": []
  },
  {
   "cell_type": "code",
   "execution_count": null,
   "id": "e0356eee",
   "metadata": {},
   "outputs": [],
   "source": []
  },
  {
   "cell_type": "code",
   "execution_count": null,
   "id": "45c46b20",
   "metadata": {},
   "outputs": [],
   "source": []
  },
  {
   "cell_type": "code",
   "execution_count": null,
   "id": "9a29ec5e",
   "metadata": {},
   "outputs": [],
   "source": []
  },
  {
   "cell_type": "code",
   "execution_count": null,
   "id": "a009d720",
   "metadata": {},
   "outputs": [],
   "source": []
  },
  {
   "cell_type": "code",
   "execution_count": null,
   "id": "b25be6e3",
   "metadata": {},
   "outputs": [],
   "source": []
  },
  {
   "cell_type": "code",
   "execution_count": null,
   "id": "9e989ac7",
   "metadata": {},
   "outputs": [],
   "source": []
  },
  {
   "cell_type": "code",
   "execution_count": null,
   "id": "e8400daf",
   "metadata": {},
   "outputs": [],
   "source": []
  },
  {
   "cell_type": "code",
   "execution_count": null,
   "id": "20942b27",
   "metadata": {},
   "outputs": [],
   "source": []
  },
  {
   "cell_type": "code",
   "execution_count": null,
   "id": "8aa92f5c",
   "metadata": {},
   "outputs": [],
   "source": []
  },
  {
   "cell_type": "code",
   "execution_count": 229,
   "id": "d1a0617e",
   "metadata": {},
   "outputs": [
    {
     "data": {
      "text/plain": [
       "(83, 35)"
      ]
     },
     "execution_count": 229,
     "metadata": {},
     "output_type": "execute_result"
    }
   ],
   "source": [
    "len(train['data']), len(test['data'])"
   ]
  },
  {
   "cell_type": "code",
   "execution_count": 70,
   "id": "d8c6af76",
   "metadata": {},
   "outputs": [],
   "source": [
    "import torch\n",
    "features_and_dataset = torch.load(\n",
    "  '/net/kdinxidk03/opt/NFS/75y/data/qa/output/cached_dev_bioelectra_384_test_emrqa_risk_30perc_seed42'\n",
    ")\n",
    "features, dataset, examples = (\n",
    "    features_and_dataset[\"features\"],\n",
    "    features_and_dataset[\"dataset\"],\n",
    "    features_and_dataset[\"examples\"],\n",
    ")\n"
   ]
  },
  {
   "cell_type": "code",
   "execution_count": 71,
   "id": "1b4ccefd",
   "metadata": {},
   "outputs": [],
   "source": [
    "pred = json.load(open('/net/kdinxidk03/opt/NFS/75y/data/qa/output/predictions_emrqa_risk_30perc_seed42.json'))"
   ]
  },
  {
   "cell_type": "code",
   "execution_count": 72,
   "id": "4b58408e",
   "metadata": {},
   "outputs": [],
   "source": [
    "\n",
    "import collections\n",
    "import json\n",
    "import math\n",
    "import re\n",
    "import string\n",
    "import numpy as np\n",
    "\n",
    "\n",
    "def normalize_answer(s):\n",
    "    \"\"\"Lower text and remove punctuation, articles and extra whitespace.\"\"\"\n",
    "\n",
    "    def remove_articles(text):\n",
    "        regex = re.compile(r\"\\b(a|an|the)\\b\", re.UNICODE)\n",
    "        return re.sub(regex, \" \", text)\n",
    "\n",
    "    def white_space_fix(text):\n",
    "        return \" \".join(text.split())\n",
    "\n",
    "    def remove_punc(text):\n",
    "        exclude = set(string.punctuation)\n",
    "        return \"\".join(ch for ch in text if ch not in exclude)\n",
    "\n",
    "    def lower(text):\n",
    "        return text.lower()\n",
    "\n",
    "    return white_space_fix(remove_articles(remove_punc(lower(s))))\n",
    "\n",
    "\n",
    "def get_tokens(s):\n",
    "    if not s:\n",
    "        return []\n",
    "    return normalize_answer(s).split()\n",
    "\n",
    "\n",
    "def compute_exact(a_gold, a_pred):\n",
    "    return int(normalize_answer(a_gold) == normalize_answer(a_pred))\n",
    "\n",
    "\n",
    "def compute_f1(a_gold, a_pred):\n",
    "    gold_toks = get_tokens(a_gold)\n",
    "    pred_toks = get_tokens(a_pred)\n",
    "    common = collections.Counter(gold_toks) & collections.Counter(pred_toks)\n",
    "    num_same = sum(common.values())\n",
    "    if len(gold_toks) == 0 or len(pred_toks) == 0:\n",
    "        # If either is no-answer, then F1 is 1 if they agree, 0 otherwise\n",
    "        return int(gold_toks == pred_toks)\n",
    "    if num_same == 0:\n",
    "        return 0\n",
    "    precision = 1.0 * num_same / len(pred_toks)\n",
    "    recall = 1.0 * num_same / len(gold_toks)\n",
    "    f1 = (2 * precision * recall) / (precision + recall)\n",
    "    return f1\n",
    "  \n",
    "def get_raw_scores(examples, preds):\n",
    "    \"\"\"\n",
    "    Computes the exact and f1 scores from the examples and the model predictions\n",
    "    \"\"\"\n",
    "    exact_scores = {}\n",
    "    f1_scores = {}\n",
    "\n",
    "    for example in examples:\n",
    "        qas_id = example.qas_id\n",
    "        gold_answers = [answer[\"text\"] for answer in example.answers if normalize_answer(answer[\"text\"])]\n",
    "\n",
    "        if not gold_answers:\n",
    "            # For unanswerable questions, only correct answer is empty string\n",
    "            gold_answers = [\"\"]\n",
    "\n",
    "        if qas_id not in preds:\n",
    "            print(f\"Missing prediction for {qas_id}\")\n",
    "            continue\n",
    "\n",
    "        prediction = preds[qas_id]\n",
    "        exact_scores[qas_id] = max(compute_exact(a, prediction) for a in gold_answers)\n",
    "        f1_scores[qas_id] = max(compute_f1(a, prediction) for a in gold_answers)\n",
    "\n",
    "    return exact_scores, f1_scores\n",
    "\n",
    "em, f1 = get_raw_scores(examples, pred)"
   ]
  },
  {
   "cell_type": "code",
   "execution_count": null,
   "id": "4f30dfc3",
   "metadata": {},
   "outputs": [],
   "source": []
  },
  {
   "cell_type": "code",
   "execution_count": 197,
   "id": "4181b91c",
   "metadata": {},
   "outputs": [],
   "source": [
    "# 70-20-10"
   ]
  },
  {
   "cell_type": "code",
   "execution_count": 198,
   "id": "b8b6f768",
   "metadata": {},
   "outputs": [
    {
     "data": {
      "text/plain": [
       "4665.333333333333"
      ]
     },
     "execution_count": 198,
     "metadata": {},
     "output_type": "execute_result"
    }
   ],
   "source": [
    "13996/3"
   ]
  },
  {
   "cell_type": "code",
   "execution_count": 201,
   "id": "a9eab93a",
   "metadata": {},
   "outputs": [
    {
     "data": {
      "text/plain": [
       "(3817, 0.4451160838458363, 13996, 13996, 10179)"
      ]
     },
     "execution_count": 201,
     "metadata": {},
     "output_type": "execute_result"
    }
   ],
   "source": [
    "import random\n",
    "\n",
    "ct=0\n",
    "s=0\n",
    "idx = []\n",
    "rest_idx = []\n",
    "for i, x in enumerate(f1.values()):\n",
    "  if x>0:\n",
    "    idx.append(i)\n",
    "    s+=x\n",
    "    ct+=1\n",
    "  else:\n",
    "    rest_idx.append(i)\n",
    "\n",
    "rest_idx = random.sample(rest_idx, len(rest_idx))\n",
    "    \n",
    "ct, s/ct, len(f1), len(examples), len(rest_idx)"
   ]
  },
  {
   "cell_type": "code",
   "execution_count": 202,
   "id": "dee44f6d",
   "metadata": {},
   "outputs": [
    {
     "name": "stdout",
     "output_type": "stream",
     "text": [
      "4665\n"
     ]
    }
   ],
   "source": [
    "ids = idx+rest_idx[:(4665-3817)]\n",
    "print(len(np.unique(ids)))"
   ]
  },
  {
   "cell_type": "code",
   "execution_count": 203,
   "id": "95de8e63",
   "metadata": {},
   "outputs": [
    {
     "data": {
      "text/plain": [
       "(0.3642032351638966, 0.11211146838156484)"
      ]
     },
     "execution_count": 203,
     "metadata": {},
     "output_type": "execute_result"
    }
   ],
   "source": [
    "(np.mean([list(f1.values())[i] for i in ids]),\n",
    " np.mean([list(em.values())[i] for i in ids])\n",
    ")"
   ]
  },
  {
   "cell_type": "code",
   "execution_count": null,
   "id": "277b2f92",
   "metadata": {},
   "outputs": [],
   "source": [
    "# f1 = 0.3642032351638966\n",
    "# em = 0.11211146838156484"
   ]
  },
  {
   "cell_type": "code",
   "execution_count": 221,
   "id": "f5c3e1e8",
   "metadata": {},
   "outputs": [
    {
     "data": {
      "text/plain": [
       "4665"
      ]
     },
     "execution_count": 221,
     "metadata": {},
     "output_type": "execute_result"
    }
   ],
   "source": [
    "ex = [examples[i] for i in ids]\n",
    "len(ex)"
   ]
  },
  {
   "cell_type": "code",
   "execution_count": 96,
   "id": "35fb2578",
   "metadata": {},
   "outputs": [],
   "source": [
    "# pred"
   ]
  },
  {
   "cell_type": "code",
   "execution_count": 98,
   "id": "0dd63bb8",
   "metadata": {},
   "outputs": [],
   "source": [
    "# ex[0].__dict__"
   ]
  },
  {
   "cell_type": "code",
   "execution_count": 210,
   "id": "1b647380",
   "metadata": {},
   "outputs": [],
   "source": [
    "ex_id = [e.__dict__['qas_id'] for e in ex]"
   ]
  },
  {
   "cell_type": "code",
   "execution_count": 211,
   "id": "666ae0b6",
   "metadata": {},
   "outputs": [
    {
     "data": {
      "text/plain": [
       "4665"
      ]
     },
     "execution_count": 211,
     "metadata": {},
     "output_type": "execute_result"
    }
   ],
   "source": [
    "len(ex_id)"
   ]
  },
  {
   "cell_type": "code",
   "execution_count": 212,
   "id": "9749f64c",
   "metadata": {},
   "outputs": [
    {
     "data": {
      "text/plain": [
       "4665"
      ]
     },
     "execution_count": 212,
     "metadata": {},
     "output_type": "execute_result"
    }
   ],
   "source": [
    "len(np.unique(ex_id))"
   ]
  },
  {
   "cell_type": "code",
   "execution_count": 42,
   "id": "e704cfff",
   "metadata": {},
   "outputs": [],
   "source": [
    "# json.load(open('/net/kdinxidk03/opt/NFS/75y/data/qa/output/predictions_emrqa_risk.json'))"
   ]
  },
  {
   "cell_type": "code",
   "execution_count": 50,
   "id": "cfd2bfd2",
   "metadata": {},
   "outputs": [],
   "source": []
  },
  {
   "cell_type": "code",
   "execution_count": 178,
   "id": "83c596c7",
   "metadata": {},
   "outputs": [],
   "source": [
    "import matplotlib.pyplot as plt\n",
    "import numpy as np"
   ]
  },
  {
   "cell_type": "code",
   "execution_count": 179,
   "id": "d24228bb",
   "metadata": {},
   "outputs": [
    {
     "data": {
      "text/plain": [
       "7"
      ]
     },
     "execution_count": 179,
     "metadata": {},
     "output_type": "execute_result"
    }
   ],
   "source": [
    "import random\n",
    "random.randint(1,10)"
   ]
  },
  {
   "cell_type": "code",
   "execution_count": 198,
   "id": "f3e2802e",
   "metadata": {},
   "outputs": [],
   "source": [
    "num          = 9\n",
    "path         = '/net/kdinxidk03/opt/NFS/75y/data/qa/output/REVISION/REVIEWER-2/emrqa/risk-baseline/seed-2/'\n",
    "# path         = '/net/kdinxidk03/opt/NFS/75y/data/qa/output/biobert-adv/model-9B-bioelectra/final/'\n",
    "\n",
    "# path_B_squad = path+f'/qa-squad/sacc_lacc_mrr_epoch.txt'\n",
    "# path_B_adv   = path+f'/sacc_lacc_mrr_epoch.txt'\n",
    "\n",
    "# x, y, z      = 0.4510, 0.6419, 0.5165\n",
    "# x, y, z      = 0.3937, 0.6098, 0.4688\n",
    "x, y, z      = 0.5399, 0.7300, 0.6017"
   ]
  },
  {
   "cell_type": "code",
   "execution_count": 199,
   "id": "d6fd9be4",
   "metadata": {},
   "outputs": [],
   "source": [
    "# with open(path_B_squad, 'r') as f:\n",
    "#     result_epoch_squad = f.readlines()\n",
    "# with open(path_B_adv, 'r') as f:\n",
    "#     result_epoch_adv = f.readlines()\n",
    "\n",
    "# sacc_squad, lacc_squad, mrr_squad = [], [], []\n",
    "# for i in range(len(result_epoch_squad)):\n",
    "#   res = list(map(float, result_epoch_squad[i].split(',')))\n",
    "#   sacc_squad.append(res[0])\n",
    "#   lacc_squad.append(res[1])\n",
    "#   mrr_squad.append(res[2])\n",
    "\n",
    "# sacc_adv, lacc_adv, mrr_adv = [], [], []\n",
    "# for i in range(len(result_epoch_adv)):\n",
    "#   res = list(map(float, result_epoch_adv[i].split(',')))\n",
    "#   sacc_adv.append(res[0])\n",
    "#   lacc_adv.append(res[1])\n",
    "#   mrr_adv.append(res[2])\n",
    "\n",
    "\n",
    "# plt.figure(figsize = (15,15))\n",
    "# plt.plot(range(len(sacc_squad)), sacc_squad, 'o-', label = 'SAcc-SQUAD', alpha=0.4)\n",
    "# plt.plot(range(len(lacc_squad)), lacc_squad, 'o-', label = 'LAcc-SQUAD', alpha=0.4)\n",
    "# plt.plot(range(len(mrr_squad)),  mrr_squad,  'o-', label = 'MRR-SQUAD', alpha=0.4)\n",
    "\n",
    "# plt.plot(range(len(sacc_adv)), sacc_adv, 'o-', label = 'SAcc-ADV', alpha=0.3)\n",
    "# plt.plot(range(len(lacc_adv)), lacc_adv, 'o-', label = 'LAcc-ADV', alpha=0.3)\n",
    "# plt.plot(range(len(mrr_adv)),  mrr_adv,  'o-', label = 'MRR-ADV', alpha=0.3)\n",
    "\n",
    "\n",
    "# from scipy.ndimage import gaussian_filter1d\n",
    "# sigma = 3\n",
    "# sacc_gauss = gaussian_filter1d(sacc_squad, sigma=sigma)\n",
    "# lacc_gauss = gaussian_filter1d(lacc_squad, sigma=sigma)\n",
    "# mrr_gauss  = gaussian_filter1d(mrr_squad, sigma=sigma)\n",
    "# plt.plot(range(len(sacc_gauss)), sacc_gauss, '-', label = 'SAcc-SQUAD')\n",
    "# plt.plot(range(len(lacc_gauss)), lacc_gauss, '-', label = 'LAcc-SQUAD')\n",
    "# plt.plot(range(len(mrr_gauss)),  mrr_gauss,  '-', label = 'MRR-SQUAD')\n",
    "\n",
    "# sacc_gauss1 = gaussian_filter1d(sacc_adv, sigma=sigma)\n",
    "# lacc_gauss1 = gaussian_filter1d(lacc_adv, sigma=sigma)\n",
    "# mrr_gauss1  = gaussian_filter1d(mrr_adv, sigma=sigma)\n",
    "# plt.plot(range(len(sacc_gauss1)), sacc_gauss1, '-', label = 'SAcc-ADV')\n",
    "# plt.plot(range(len(lacc_gauss1)), lacc_gauss1, '-', label = 'LAcc-ADV')\n",
    "# plt.plot(range(len(mrr_gauss1)),  mrr_gauss1,  '-', label = 'MRR-ADV', )\n",
    "\n",
    "# plt.plot(range(len(sacc_adv)), [x]*len(sacc_adv), '--b', alpha=0.4)\n",
    "# plt.plot(range(len(lacc_adv)), [y]*len(lacc_adv), '--r', alpha=0.4)\n",
    "# plt.plot(range(len(mrr_adv)),  [z]*len(mrr_adv),  '--g', alpha=0.4)\n",
    "\n",
    "# plt.scatter([len(sacc_adv)-1], [x], marker='*', s=500)\n",
    "# plt.scatter([len(lacc_adv)-1], [y], marker='*', s=500)\n",
    "# plt.scatter([len(mrr_adv)-1],  [z], marker='*', s=500)\n",
    "\n",
    "# plt.legend(loc='best')\n",
    "# plt.show()\n"
   ]
  },
  {
   "cell_type": "code",
   "execution_count": 200,
   "id": "cd8e2b61",
   "metadata": {},
   "outputs": [],
   "source": [
    "\n",
    "# model-7B-bioelectra/qa-disc-with-aux/ --- 100 epochs, lr_step = 20\n",
    "# model-7B-bioelectra/qa-disc-with-aux-1/ --- 100 epochs, learning_rate_step = 10\n",
    "# model-7B-bioelectra/qa-disc-with-aux-2/ --- 100 epochs, learning_rate_step = 1\n",
    "# model-7B-bioelectra/qa-disc-with-aux-3/ --- 200 epochs, lr_step = 1\n",
    "\n",
    "# 9B -- epoch 149\n",
    "# 7B -- epoch \n",
    "# 8B -- epoch 156\n",
    "\n",
    "# model-8B-bioelectra/qa-disc-with-aux-2"
   ]
  },
  {
   "cell_type": "code",
   "execution_count": 201,
   "id": "2d153aa5",
   "metadata": {},
   "outputs": [],
   "source": [
    "# import os\n",
    "# import shutil\n",
    "# shutil.rmtree(\"/net/kdinxidk03/opt/NFS/75y/data/qa/output/REVISION/REVIEWER-2/model-9B/FINAL-WITH-AUX/squad-all-samples/RUN-2/\")"
   ]
  },
  {
   "cell_type": "code",
   "execution_count": 202,
   "id": "2cacea78",
   "metadata": {},
   "outputs": [],
   "source": [
    "main_path = path\n",
    "\n",
    "loss_path   = path+'loss_epochs.txt'\n"
   ]
  },
  {
   "cell_type": "code",
   "execution_count": 203,
   "id": "55d43cd5",
   "metadata": {},
   "outputs": [
    {
     "name": "stdout",
     "output_type": "stream",
     "text": [
      "20\n"
     ]
    }
   ],
   "source": [
    "import configs\n",
    "print(configs.lr_multiplier)"
   ]
  },
  {
   "cell_type": "code",
   "execution_count": 207,
   "id": "1bd9116d",
   "metadata": {
    "scrolled": true
   },
   "outputs": [
    {
     "data": {
      "image/png": "[encoded data removed]",
      "text/plain": [
       "<Figure size 576x432 with 1 Axes>"
      ]
     },
     "metadata": {
      "needs_background": "light"
     },
     "output_type": "display_data"
    },
    {
     "data": {
      "image/png": "[encoded data removed]",
      "text/plain": [
       "<Figure size 576x432 with 1 Axes>"
      ]
     },
     "metadata": {
      "needs_background": "light"
     },
     "output_type": "display_data"
    },
    {
     "data": {
      "image/png": "[encoded data removed]",
      "text/plain": [
       "<Figure size 576x432 with 1 Axes>"
      ]
     },
     "metadata": {
      "needs_background": "light"
     },
     "output_type": "display_data"
    },
    {
     "data": {
      "image/png": "[encoded data removed]",
      "text/plain": [
       "<Figure size 576x432 with 1 Axes>"
      ]
     },
     "metadata": {
      "needs_background": "light"
     },
     "output_type": "display_data"
    },
    {
     "data": {
      "image/png": "[encoded data removed]",
      "text/plain": [
       "<Figure size 576x432 with 1 Axes>"
      ]
     },
     "metadata": {
      "needs_background": "light"
     },
     "output_type": "display_data"
    },
    {
     "data": {
      "image/png": "[encoded data removed]",
      "text/plain": [
       "<Figure size 576x432 with 1 Axes>"
      ]
     },
     "metadata": {
      "needs_background": "light"
     },
     "output_type": "display_data"
    },
    {
     "data": {
      "image/png": "[encoded data removed]",
      "text/plain": [
       "<Figure size 576x432 with 1 Axes>"
      ]
     },
     "metadata": {
      "needs_background": "light"
     },
     "output_type": "display_data"
    },
    {
     "data": {
      "image/png": "[encoded data removed]",
      "text/plain": [
       "<Figure size 576x432 with 1 Axes>"
      ]
     },
     "metadata": {
      "needs_background": "light"
     },
     "output_type": "display_data"
    },
    {
     "name": "stdout",
     "output_type": "stream",
     "text": [
      "0.11318327974276528 150\n",
      "0.29456613587211544 150\n"
     ]
    }
   ],
   "source": [
    "with open(loss_path, 'r') as f:\n",
    "    loss = f.readlines()\n",
    "\n",
    "lr      = list(map(float, loss[0][1:-2].split(',')))\n",
    "dc_loss = list(map(float, loss[1][5:-2].split(',')))\n",
    "au_loss = list(map(float, loss[2][1:-2].split(',')))\n",
    "qa_loss = list(map(float, loss[3][1:-2].split(',')))\n",
    "to_loss = list(map(float, loss[4][1:-2].split(',')))\n",
    "la      = list(map(float, loss[5][1:-2].split(',')))\n",
    "val_loss= loss[6][1:-2]\n",
    "cosDist_source = list(map(float, loss[7][1:-2].split(',')))\n",
    "cosDist_target = list(map(float, loss[8][1:-2].split(',')))\n",
    "squad_em  = loss[9][1:-2]\n",
    "squad_f1  = loss[10][1:-2]\n",
    "val_loss_all  = loss[11][1:-2].split(',')\n",
    "squad_em_all  = list(map(float, loss[12][1:-2].split(',')))\n",
    "squad_f1_all  = list(map(float, loss[13][1:-2].split(',')))\n",
    "\n",
    "test_em_all  = list(map(float, loss[14][1:-2].split(',')))\n",
    "test_f1_all  = list(map(float, loss[15][1:-2].split(',')))\n",
    "\n",
    "# val_loss = [x/2.0 for x in val_loss]\n",
    "\n",
    "# {bioasq_val_loss_list}\\n{squad_bioasq_val_mean_loss_list}\\n{squad_bioasq_val_weighted_mean_loss_list}\\n{squad_em_list}\\n{squad_f1_list}\\n{bioasq_em_list}\\n{bioasq_f1_list}\\n\n",
    "\n",
    "# print(dc_loss)\n",
    "# print('\\n')\n",
    "\n",
    "# print(qa_loss[:15])\n",
    "# print('\\n')\n",
    "\n",
    "# print(au_loss)\n",
    "# print('\\n')\n",
    "\n",
    "# print(lr)\n",
    "# print('\\n')\n",
    "\n",
    "# print(to_loss)\n",
    "# print('\\n')\n",
    "\n",
    "# print(la)\n",
    "# print('\\n')\n",
    "\n",
    "import matplotlib.pyplot as plt\n",
    "\n",
    "plt.figure(figsize = (8,6))\n",
    "plt.plot(range(len(dc_loss[:])), dc_loss[:],\n",
    "#          'o-',\n",
    "         label = 'DC-LOSS')\n",
    "plt.plot(range(len(qa_loss[:])), qa_loss[:],\n",
    "#          'o-',\n",
    "         label = 'QA-LOSS')\n",
    "# plt.plot(range(len(val_loss[:])), val_loss[:],\n",
    "# #          'o-',\n",
    "#          label = 'VALIDATION-LOSS')\n",
    "# plt.plot(range(len(val_loss_all[:])), val_loss_all[:],\n",
    "# #          'o-',\n",
    "#          label = 'VALIDATION-LOSS-ALL')\n",
    "plt.legend(loc='best')\n",
    "plt.show()\n",
    "\n",
    "\n",
    "plt.figure(figsize = (8,6))\n",
    "plt.plot(range(len(test_em_all[:])), \n",
    "         test_em_all[:],\n",
    "#          'o-',\n",
    "         label = 'TEST-EM-ALL')\n",
    "plt.plot(range(len(test_f1_all[:])), \n",
    "         test_f1_all[:],\n",
    "#          'o-',\n",
    "         label = 'TEST-F1-ALL')\n",
    "plt.legend(loc='best')\n",
    "plt.show()\n",
    "\n",
    "\n",
    "plt.figure(figsize = (8,6))\n",
    "# plt.plot(range(len(squad_em[:])), \n",
    "#          squad_em[:],\n",
    "# #          'o-',\n",
    "#          label = 'SQUAD-EM')\n",
    "# plt.plot(range(len(squad_f1[:])), \n",
    "#          squad_f1[:],\n",
    "# #          'o-',\n",
    "#          label = 'SQUAD-F1')\n",
    "# plt.plot(range(len(squad_em_all[:])), \n",
    "#          squad_em_all[:],\n",
    "# #          'o-',\n",
    "#          label = 'SQUAD-EM-ALL')\n",
    "plt.plot(range(len(squad_f1_all[:])), \n",
    "         squad_f1_all[:],\n",
    "#          'o-',\n",
    "         label = 'SQUAD-F1-ALL')\n",
    "plt.legend(loc='best')\n",
    "plt.show()\n",
    "\n",
    "plt.figure(figsize = (8,6))\n",
    "plt.plot(range(len(cosDist_source)), cosDist_source,\n",
    "#          'o-',\n",
    "         label = 'COSINE-DIST-SOURCE')\n",
    "plt.plot(range(len(cosDist_target)), cosDist_target,\n",
    "#          'o-',\n",
    "         label = 'COSINE-DIST-TARGET')\n",
    "plt.legend(loc='best')\n",
    "plt.show()\n",
    "\n",
    "# plt.figure(figsize = (8,6))\n",
    "# plt.plot(range(len(val_loss)), val_loss, 'o-', label = 'VALIDATION-LOSS')\n",
    "# plt.legend(loc='best')\n",
    "# plt.show()\n",
    "\n",
    "plt.figure(figsize = (8,6))\n",
    "plt.plot(range(len(au_loss)), au_loss[:],\n",
    "#          'o-',\n",
    "         label = 'AUX-LOSS')\n",
    "plt.legend(loc='best')\n",
    "plt.show()\n",
    "\n",
    "plt.figure(figsize = (8,6))\n",
    "plt.plot(range(len(to_loss)), to_loss,\n",
    "#          'o-',\n",
    "         label = 'TOTAL-LOSS')\n",
    "plt.legend(loc='best')\n",
    "plt.show()\n",
    "\n",
    "plt.figure(figsize = (8,6))\n",
    "plt.plot(range(len(la)), la,\n",
    "#          'o-',\n",
    "         label = 'LAMBDA')\n",
    "plt.legend(loc='best')\n",
    "plt.show()\n",
    "\n",
    "plt.figure(figsize = (8,6))\n",
    "plt.plot(range(len(lr)), lr,\n",
    "#          'o-',\n",
    "         label = 'LEARNING-RATE')\n",
    "plt.legend(loc='best')\n",
    "plt.show()\n",
    "\n",
    "print(max(test_em_all),\n",
    "      test_em_all.index(max(test_em_all)))\n",
    "print(max(test_f1_all),\n",
    "      test_f1_all.index(max(test_f1_all)))"
   ]
  },
  {
   "cell_type": "code",
   "execution_count": null,
   "id": "cb25278c",
   "metadata": {
    "scrolled": true
   },
   "outputs": [],
   "source": [
    "# with open(perf_path_2, 'r') as f:\n",
    "#     result_epoch_pres_3 = f.readlines()\n",
    "\n",
    "# #   if path_2:\n",
    "# #     with open(path_2, 'r') as f:\n",
    "# #         result_epoch_pres_3_2 = f.readlines()\n",
    "# #     result_epoch_pres_3 = result_epoch_pres_3+result_epoch_pres_3_2\n",
    "\n",
    "# print(len(result_epoch_pres_3))\n",
    "\n",
    "# #   result_epoch_pres_3 = result_epoch_pres_3[:10]\n",
    "\n",
    "# sacc, lacc, mrr = [], [], []\n",
    "# for i in range(len(result_epoch_pres_3)):\n",
    "#   res = list(map(float, result_epoch_pres_3[i].split(',')))\n",
    "# #   print(res)\n",
    "#   sacc.append(res[0]) #-0.3937)\n",
    "#   lacc.append(res[1]) #-0.6098)\n",
    "#   mrr.append(res[2]) #-0.4688)"
   ]
  },
  {
   "cell_type": "code",
   "execution_count": 152,
   "id": "afc6c66b",
   "metadata": {
    "code_folding": [
     0
    ]
   },
   "outputs": [],
   "source": [
    "# 10570 columns\n",
    "# writerow per epoch"
   ]
  },
  {
   "cell_type": "code",
   "execution_count": 153,
   "id": "1b8c14a5",
   "metadata": {},
   "outputs": [],
   "source": [
    "# # importing the csv module\n",
    "# import csv\n",
    "\t\n",
    "# # my data rows as dictionary objects\n",
    "# mydict =[{'branch': 'COE', 'cgpa': '9.0', 'name': 'Nikhil', 'year': '2'},\n",
    "# \t\t{'branch': 'COE', 'cgpa': '9.1', 'name': 'Sanchit', 'year': '2'},\n",
    "# \t\t{'branch': 'IT', 'cgpa': '9.3', 'name': 'Aditya', 'year': '2'},\n",
    "# \t\t{'branch': 'SE', 'cgpa': '9.5', 'name': 'Sagar', 'year': '1'},\n",
    "# \t\t{'branch': 'MCE', 'cgpa': '7.8', 'name': 'Prateek', 'year': '3'},\n",
    "# \t\t{'branch': 'EP', 'cgpa': '9.1', 'name': 'Sahil', 'year': '2'}]\n",
    "\t\n",
    "\n",
    "# import csv\n",
    "# with open(\"sample.csv\", \"w\") as csvFile:\n",
    "#     fieldnames = ['name', 'branch', 'year', 'cgpa']\n",
    "#     writer = csv.DictWriter(csvFile, fieldnames=fieldnames)\n",
    "#     writer.writeheader()\n",
    "\n",
    "#     for item in mydict:\n",
    "#       writer.writerow(item)"
   ]
  },
  {
   "cell_type": "code",
   "execution_count": 154,
   "id": "3c89911c",
   "metadata": {},
   "outputs": [],
   "source": [
    "# v = 9999\n",
    "# for i,val in enumerate(val_loss):\n",
    "#   if v > val:\n",
    "#     print(i, '\\t', val, '\\t', sacc[i], '\\t', lacc[i], '\\t', mrr[i])\n",
    "#     v = val\n",
    "# print(val_loss[107])\n",
    "\n",
    "# # d(a,s) = 0\n",
    "# # d(a,t) = 2\n",
    "# # margin = 1 (1-0 (cos90)), distance between anchor and "
   ]
  },
  {
   "cell_type": "code",
   "execution_count": 155,
   "id": "8aa83230",
   "metadata": {},
   "outputs": [
    {
     "data": {
      "text/plain": [
       "(0, 0, 0)"
      ]
     },
     "execution_count": 155,
     "metadata": {},
     "output_type": "execute_result"
    }
   ],
   "source": [
    "val_loss_all[:].index(min(val_loss_all[:])), min(val_loss_all), len(val_loss_all), val_loss_all[-1]\n",
    "\n",
    "(val_loss_all[:].index(min(val_loss_all[:])),\n",
    "#  min(val_loss), len(val_loss), val_loss[-1],\n",
    " squad_em_all.index(max(squad_em_all)),\n",
    " squad_f1_all.index(max(squad_f1_all)),\n",
    ")\n",
    "\n",
    "# bio9b validation banabo\n",
    "# 4 ta accuracy -- squad, bioasq, squad+bioasq/2, weighted mean\n",
    "# loss, f1, em, sacc, lacc, mrr\n",
    "# validation set index save kore rakhbo"
   ]
  },
  {
   "cell_type": "code",
   "execution_count": 133,
   "id": "34c1c8f1",
   "metadata": {},
   "outputs": [
    {
     "name": "stdout",
     "output_type": "stream",
     "text": [
      "50 0.8682896480503146\n",
      "66 0.8701457578797827\n",
      "68 0.8716938712439601\n",
      "75 0.8722997250745419\n",
      "76 0.8733522131038797\n",
      "78 0.8735645194622608\n",
      "79 0.8747311883284443\n",
      "90 0.8751276914330464\n",
      "97 0.8774356292714696\n",
      "108 0.8797470928148825\n",
      "109 0.879996732587283\n",
      "111 0.8804673422984348\n",
      "125 0.880634386942112\n",
      "159 0.8808645368519701\n",
      "160 0.8846444157456878\n",
      "161 0.8859246571619999\n"
     ]
    }
   ],
   "source": [
    "ite_ls = []\n",
    "vv = 0\n",
    "for i, v in enumerate(squad_f1_all):\n",
    "  if vv <= v:\n",
    "    vv = v\n",
    "    if i >=50:\n",
    "      ite_ls.append(i)\n",
    "      print(i , v)\n",
    "      "
   ]
  },
  {
   "cell_type": "code",
   "execution_count": 134,
   "id": "6423851b",
   "metadata": {},
   "outputs": [
    {
     "data": {
      "text/plain": [
       "[50, 66, 68, 75, 76, 78, 79, 90, 97, 108, 109, 111, 125, 159, 160, 161]"
      ]
     },
     "execution_count": 134,
     "metadata": {},
     "output_type": "execute_result"
    }
   ],
   "source": [
    "ite_ls\n",
    "\n",
    "# 107 - 0.007386303682599979    0.2827645471446211\n",
    "# "
   ]
  },
  {
   "cell_type": "code",
   "execution_count": 135,
   "id": "4ee62b23",
   "metadata": {},
   "outputs": [],
   "source": [
    "# import configs\n",
    "# print(configs.trained_model_name)"
   ]
  },
  {
   "cell_type": "code",
   "execution_count": 136,
   "id": "5b6f9f40",
   "metadata": {},
   "outputs": [],
   "source": [
    "# json.load(open('/net/kdinxidk03/opt/NFS/75y/data/qa/output/REVISION/REVIEWER-2/emrqa/medication/nbest_predictions_emrqa_med_ours.json'))"
   ]
  },
  {
   "cell_type": "code",
   "execution_count": 137,
   "id": "83e3e2bf",
   "metadata": {},
   "outputs": [],
   "source": [
    "# vv = 0\n",
    "# for i, v in enumerate(squad_f1_all):\n",
    "# #   print(i, '\\t', v)\n",
    "#   if round(vv, 3) <= round(v, 3):\n",
    "#     vv = round(v, 3)\n",
    "#     print(i , '\\t', round(v, 3))"
   ]
  },
  {
   "cell_type": "code",
   "execution_count": 138,
   "id": "011d022f",
   "metadata": {},
   "outputs": [],
   "source": [
    "# epoch_ls"
   ]
  },
  {
   "cell_type": "code",
   "execution_count": 139,
   "id": "a80c100c",
   "metadata": {},
   "outputs": [],
   "source": [
    "# vv = 9999\n",
    "# for i, v in enumerate(val_loss_all):\n",
    "# #   print(i, '\\t', v)\n",
    "#   if round(vv, 3) >= round(v, 3):\n",
    "#     vv = round(v, 3)\n",
    "#     print(i , '\\t', round(v, 3))"
   ]
  },
  {
   "cell_type": "code",
   "execution_count": 140,
   "id": "923d2fd2",
   "metadata": {},
   "outputs": [
    {
     "data": {
      "text/plain": [
       "173"
      ]
     },
     "execution_count": 140,
     "metadata": {},
     "output_type": "execute_result"
    }
   ],
   "source": [
    "len(squad_f1_all)"
   ]
  },
  {
   "cell_type": "code",
   "execution_count": 141,
   "id": "e3bc799c",
   "metadata": {
    "scrolled": false
   },
   "outputs": [
    {
     "ename": "NameError",
     "evalue": "name 'plot_lacc_sacc_mrr' is not defined",
     "output_type": "error",
     "traceback": [
      "\u001b[0;31m---------------------------------------------------------------------------\u001b[0m",
      "\u001b[0;31mNameError\u001b[0m                                 Traceback (most recent call last)",
      "\u001b[0;32m<ipython-input-141-44956155330c>\u001b[0m in \u001b[0;36m<module>\u001b[0;34m\u001b[0m\n\u001b[1;32m      1\u001b[0m \u001b[0;31m# EVAL_ALL_SQUAD_EPOCH300_LRM1\u001b[0m\u001b[0;34m\u001b[0m\u001b[0;34m\u001b[0m\u001b[0;34m\u001b[0m\u001b[0m\n\u001b[1;32m      2\u001b[0m \u001b[0;34m\u001b[0m\u001b[0m\n\u001b[0;32m----> 3\u001b[0;31m plot_lacc_sacc_mrr(perf_path_2, None, 0.5399, 0.7300, 0.6017,\n\u001b[0m\u001b[1;32m      4\u001b[0m \u001b[0;31m#                    159,\u001b[0m\u001b[0;34m\u001b[0m\u001b[0;34m\u001b[0m\u001b[0;34m\u001b[0m\u001b[0m\n\u001b[1;32m      5\u001b[0m \u001b[0;31m#                    161,\u001b[0m\u001b[0;34m\u001b[0m\u001b[0;34m\u001b[0m\u001b[0;34m\u001b[0m\u001b[0m\n",
      "\u001b[0;31mNameError\u001b[0m: name 'plot_lacc_sacc_mrr' is not defined"
     ]
    }
   ],
   "source": [
    "# EVAL_ALL_SQUAD_EPOCH300_LRM1\n",
    "\n",
    "plot_lacc_sacc_mrr(perf_path_2, None, 0.5399, 0.7300, 0.6017,\n",
    "#                    159,\n",
    "#                    161,\n",
    "#                    val_loss[:].index(min(val_loss[:])),\n",
    "#                    squad_em_all[:].index(max(squad_em_all[:])),\n",
    "                   squad_f1_all[:].index(max(squad_f1_all[:])),\n",
    "                   len(squad_f1_all),\n",
    "                  )\n",
    "\n",
    "# 0.4506 0.6420 0.5286\n",
    "# 0.3841 0.6159 0.4844\n",
    "# 0.5583 0.7423 0.6308"
   ]
  },
  {
   "cell_type": "code",
   "execution_count": null,
   "id": "244594a2",
   "metadata": {
    "scrolled": true
   },
   "outputs": [],
   "source": [
    "(cosDist_source[-1], cosDist_target[-1],\n",
    "cosDist_source.index(min(cosDist_source)), \n",
    " cosDist_target.index(min(cosDist_target)))"
   ]
  },
  {
   "cell_type": "code",
   "execution_count": null,
   "id": "8fdaf471",
   "metadata": {
    "code_folding": [],
    "scrolled": false
   },
   "outputs": [],
   "source": [
    "def plot_lacc_sacc_mrr(path_1, path_2, x, y, z, given_idx, n):\n",
    "\n",
    "  print('BEST EPOCH:  ', given_idx)\n",
    "  \n",
    "  with open(path_1, 'r') as f:\n",
    "      result_epoch_pres_3 = f.readlines()\n",
    "      \n",
    "#   if path_2:\n",
    "#     with open(path_2, 'r') as f:\n",
    "#       . c  result_epoch_pres_3_2 = f.readlines()\n",
    "#     result_epoch_pres_3 = result_epoch_pres_3+result_epoch_pres_3_2\n",
    "      \n",
    "  print(len(result_epoch_pres_3))\n",
    "  \n",
    "#   result_epoch_pres_3 = result_epoch_pres_3[:10]\n",
    "\n",
    "  sacc, lacc, mrr = [], [], []\n",
    "  for i in range(len(result_epoch_pres_3)):\n",
    "    res = list(map(float, result_epoch_pres_3[i].split(',')))\n",
    "  #   print(res)\n",
    "    sacc.append(res[0]) #-0.3937)\n",
    "    lacc.append(res[1]) #-0.6098)\n",
    "    mrr.append(res[2]) #-0.4688)\n",
    "\n",
    "  print('BEST SCORES: ', sacc[given_idx], \n",
    "        lacc[given_idx],\n",
    "        mrr[given_idx],\n",
    "       )\n",
    "\n",
    "#   for i in range(len(sacc)):\n",
    "#     print(i, sacc[i], lacc[i], mrr[i])\n",
    "#     print('\\n\\n')\n",
    "    \n",
    "#   print(lacc[-4:])\n",
    "#   print('\\n')\n",
    "\n",
    "#   print(mrr[-4:])\n",
    "#   print('\\n')\n",
    "\n",
    "#   print(sacc[-4:])\n",
    "#   print('\\n')\n",
    "\n",
    "  plt.figure(figsize = (15,8))\n",
    "  plt.plot(range(len(sacc[:n])), sacc[:n], 'o-', label = 'SAcc', alpha=0.4)\n",
    "  plt.plot(range(len(lacc[:n])), lacc[:n], 'o-', label = 'LAcc', alpha=0.4)\n",
    "  plt.plot(range(len(mrr[:n])),  mrr[:n],  'o-', label = 'MRR', alpha=0.4)\n",
    "\n",
    "#   print(max(sacc), max(lacc), max(mrr),\n",
    "#         sacc.index(max(sacc)),\n",
    "#         lacc.index(max(lacc)),\n",
    "#         mrr.index(max(mrr)))\n",
    "  \n",
    "  indx = mrr[:n].index(max(mrr[:n]))\n",
    "  print(indx,\n",
    "        sacc[indx],\n",
    "        lacc[indx],\n",
    "        mrr[indx],\n",
    "       )\n",
    "  \n",
    "  indxx = sacc[:n].index(max(sacc[:n]))\n",
    "  print(indxx,\n",
    "        sacc[indxx],\n",
    "        lacc[indxx],\n",
    "        mrr[indxx],\n",
    "       )\n",
    "  \n",
    "  indxxx = lacc[:n].index(max(lacc[:n]))\n",
    "  print(indxxx,\n",
    "        sacc[indxxx],\n",
    "        lacc[indxxx],\n",
    "        mrr[indxxx],\n",
    "       )\n",
    "  \n",
    "  from scipy.ndimage import gaussian_filter1d\n",
    "  sigma = 5\n",
    "  sacc = gaussian_filter1d(sacc, sigma=sigma)\n",
    "  lacc = gaussian_filter1d(lacc, sigma=sigma)\n",
    "  mrr  = gaussian_filter1d(mrr, sigma=sigma)\n",
    "  plt.plot(range(len(sacc[:n])), sacc[:n], '-', \n",
    "#            label = 'SAcc'\n",
    "          )\n",
    "  plt.plot(range(len(lacc[:n])), lacc[:n], '-', \n",
    "#            label = 'LAcc'\n",
    "          )\n",
    "  plt.plot(range(len(mrr[:n])),  mrr[:n],  '-', \n",
    "#            label = 'MRR'\n",
    "          )\n",
    "\n",
    "  # plt.plot(range(len(sacc)), [0.2857]*len(sacc), '-.b', alpha=0.4)\n",
    "  # plt.plot(range(len(lacc)), [0.4643]*len(lacc), '-.r', alpha=0.4)\n",
    "  # plt.plot(range(len(mrr)),  [0.3435]*len(mrr), '-.g', alpha=0.4)\n",
    "\n",
    "  plt.plot(range(len(sacc[:n])), [x]*len(sacc[:n]), '--b', alpha=0.4)\n",
    "  plt.plot(range(len(lacc[:n])), [y]*len(lacc[:n]), '--r', alpha=0.4)\n",
    "  plt.plot(range(len(mrr[:n])),  [z]*len(mrr[:n]),  '--g', alpha=0.4)\n",
    "\n",
    "  plt.scatter([len(sacc[:n])-1], [x], marker='*', s=500,\n",
    "  #             label = 'SAcc'\n",
    "             )\n",
    "  plt.scatter([len(lacc[:n])-1], [y], marker='*', s=500,\n",
    "#               label = 'LAcc'\n",
    "             )\n",
    "  plt.scatter([len(mrr[:n])-1],  [z], marker='*', s=500,\n",
    "  #             label = 'MRR'\n",
    "             )\n",
    "\n",
    "  # plt.scatter([0], [0.2857], marker='p', \n",
    "  #             s=500, c='b',\n",
    "  # #             label = 'SAcc-Baseline'\n",
    "  #            )\n",
    "  # plt.scatter([0], [0.4643], marker='p', \n",
    "  #             s=500, c='orange',\n",
    "  # #             label = 'LAcc-Baseline'\n",
    "  #            )\n",
    "  # plt.scatter([0],  [0.3435], marker='p', \n",
    "  #             s=500, c='g'\n",
    "  # #             label = 'MRR-Baseline'\n",
    "  #            )\n",
    "\n",
    "  plt.legend(loc='best')\n",
    "  plt.show()\n",
    "\n",
    "# [0.2857142857142857, 0.42857142857142855, 0.42857142857142855, 0.42857142857142855, 0.42857142857142855, 0.4642857142857143, 0.4642857142857143, 0.4642857142857143, 0.5, 0.42857142857142855]\n",
    "\n",
    "\n",
    "# [0.2261904761904762, 0.33154761904761904, 0.3363095238095238, 0.35833333333333334, 0.34761904761904766, 0.33571428571428574, 0.3428571428571428, 0.34166666666666673, 0.3464285714285714, 0.3363095238095238]\n",
    "\n",
    "\n",
    "# [0.17857142857142858, 0.2857142857142857, 0.2857142857142857, 0.32142857142857145, 0.32142857142857145, 0.2857142857142857, 0.2857142857142857, 0.2857142857142857, 0.2857142857142857, 0.2857142857142857]\n",
    "\n"
   ]
  },
  {
   "cell_type": "code",
   "execution_count": null,
   "id": "c327c710",
   "metadata": {},
   "outputs": [],
   "source": [
    "# plot_lacc_sacc_mrr(path_7B, None, 0.4510, 0.6419, 0.5165)"
   ]
  },
  {
   "cell_type": "code",
   "execution_count": null,
   "id": "4d5fd6cd",
   "metadata": {},
   "outputs": [],
   "source": [
    "# plot_lacc_sacc_mrr(path_8B, None, 0.3937, 0.6098, 0.4688)"
   ]
  },
  {
   "cell_type": "code",
   "execution_count": null,
   "id": "a47cf67c",
   "metadata": {},
   "outputs": [],
   "source": [
    "# plot_lacc_sacc_mrr(path_9B, None, 0.5399, 0.7300, 0.6017)"
   ]
  },
  {
   "cell_type": "code",
   "execution_count": null,
   "id": "caaec978",
   "metadata": {},
   "outputs": [],
   "source": [
    "# 1000 // 32 * 100\n",
    "\n",
    "# 1000 // 32 * 200\n",
    "\n",
    "# # len(train_dataloader) // configs.gradient_accumulation_steps * configs.num_train_epochs"
   ]
  },
  {
   "cell_type": "code",
   "execution_count": null,
   "id": "12dfd1dc",
   "metadata": {},
   "outputs": [],
   "source": []
  },
  {
   "cell_type": "code",
   "execution_count": null,
   "id": "b2cff323",
   "metadata": {
    "scrolled": true
   },
   "outputs": [],
   "source": [
    "# plot_lacc_sacc_mrr(perf_path_2, None, 0.5399, 0.7300, 0.6017)"
   ]
  },
  {
   "cell_type": "code",
   "execution_count": null,
   "id": "95fa7dde",
   "metadata": {
    "scrolled": true
   },
   "outputs": [],
   "source": [
    "# plot_lacc_sacc_mrr(perf_path_2, None, 0.4510, 0.6419, 0.5165)"
   ]
  },
  {
   "cell_type": "code",
   "execution_count": null,
   "id": "d2d2a3d5",
   "metadata": {},
   "outputs": [],
   "source": [
    "# a = 29\n",
    "# b = 34\n",
    "# c = 36\n",
    "# d = 28\n",
    "# e = 36\n",
    "\n",
    "# sm = a+b+c+d+e\n",
    "# print((a*0.4138+b*0.5000+c*0.5833+d*0.6429+e*0.5556)/sm)\n",
    "# print((a*0.5862+b*0.7941+c*0.7222+d*0.8214+e*0.7222)/sm)\n",
    "# print((a*0.4632+b*0.6127+c*0.6319+d*0.6929+e*0.6019)/sm)\n"
   ]
  },
  {
   "cell_type": "code",
   "execution_count": null,
   "id": "d4c7795d",
   "metadata": {},
   "outputs": [],
   "source": [
    "# plot_lacc_sacc_mrr(perf_path_2, None, 0.3937, 0.6098, 0.4688)"
   ]
  },
  {
   "cell_type": "code",
   "execution_count": null,
   "id": "f77355d3",
   "metadata": {
    "scrolled": false
   },
   "outputs": [],
   "source": [
    "# plot_lacc_sacc_mrr(path1, None, 0.4138, 0.5862, 0.4632)"
   ]
  },
  {
   "cell_type": "code",
   "execution_count": null,
   "id": "c9f6684e",
   "metadata": {},
   "outputs": [],
   "source": [
    "# plot_lacc_sacc_mrr(path2, None, 0.5000, 0.7941, 0.6127)"
   ]
  },
  {
   "cell_type": "code",
   "execution_count": null,
   "id": "92d52801",
   "metadata": {},
   "outputs": [],
   "source": [
    "# plot_lacc_sacc_mrr(path3, None, 0.5833, 0.7222, 0.6319)"
   ]
  },
  {
   "cell_type": "code",
   "execution_count": null,
   "id": "4cc8e718",
   "metadata": {},
   "outputs": [],
   "source": [
    "# plot_lacc_sacc_mrr(path4, None, 0.6429, 0.8214, 0.6929)"
   ]
  },
  {
   "cell_type": "code",
   "execution_count": null,
   "id": "17c9fe20",
   "metadata": {},
   "outputs": [],
   "source": [
    "# plot_lacc_sacc_mrr(path5, None, 0.5556, 0.7222, 0.6019)"
   ]
  },
  {
   "cell_type": "code",
   "execution_count": null,
   "id": "22606f2d",
   "metadata": {},
   "outputs": [],
   "source": []
  },
  {
   "cell_type": "code",
   "execution_count": null,
   "id": "dcf0a345",
   "metadata": {},
   "outputs": [],
   "source": [
    "# (max(sacc), max(lacc), max(mrr), \n",
    "#  sacc.index(max(sacc)),\n",
    "#  lacc.index(max(lacc)),\n",
    "#  mrr.index(max(mrr)),\n",
    "# #  sacc[22], lacc[22], mrr[22]\n",
    "# )"
   ]
  },
  {
   "cell_type": "code",
   "execution_count": null,
   "id": "38cbe3a2",
   "metadata": {},
   "outputs": [],
   "source": [
    "# !python3 transform_n2b_factoid.py --nbest_path /net/kdinxidk03/opt/NFS/75y/data/qa/output/nbest_predictions_test_bioasq_8b_3.json --output_path /net/kdinxidk03/opt/NFS/75y/data/qa/output/BioASQform_BioASQ-answer.json"
   ]
  },
  {
   "cell_type": "code",
   "execution_count": null,
   "id": "70e10a94",
   "metadata": {},
   "outputs": [],
   "source": [
    "json.load(open('/net/kdinxidk03/opt/NFS/75y/data/qa/output/BioASQform_BioASQ-answer.json'))"
   ]
  },
  {
   "cell_type": "code",
   "execution_count": null,
   "id": "bfc3db92",
   "metadata": {},
   "outputs": [],
   "source": [
    "json.load(open('/net/kdinxidk03/opt/NFS/75y/data/qa/output/nbest_predictions_test_bioasq_8b_3.json'))"
   ]
  },
  {
   "cell_type": "code",
   "execution_count": null,
   "id": "e9f00e6b",
   "metadata": {
    "code_folding": []
   },
   "outputs": [],
   "source": [
    "# with open(path1, 'r') as f1:\n",
    "#     result_epoch_pres_1 = f1.readlines()\n",
    "# print(\n",
    "#   list(\n",
    "#     map(\n",
    "#       float,\n",
    "#       result_epoch_pres_1[-1].replace('\\n', '').split(','))\n",
    "#   )\n",
    "# )\n",
    "\n",
    "# with open(path2, 'r') as f2:\n",
    "#     result_epoch_pres_2 = f2.readlines()\n",
    "# print(\n",
    "#   list(\n",
    "#     map(\n",
    "#       float,\n",
    "#       result_epoch_pres_2[-1].replace('\\n', '').split(','))\n",
    "#   )\n",
    "# )\n",
    "\n",
    "# with open(path3, 'r') as f3:\n",
    "#     result_epoch_pres_3 = f3.readlines()\n",
    "# print(\n",
    "#   list(\n",
    "#     map(\n",
    "#       float,\n",
    "#       result_epoch_pres_3[-1].replace('\\n', '').split(','))\n",
    "#   )\n",
    "# )\n",
    "\n",
    "# with open(path4, 'r') as f4:\n",
    "#     result_epoch_pres_4 = f4.readlines()\n",
    "# print(\n",
    "#   list(\n",
    "#     map(\n",
    "#       float,\n",
    "#       result_epoch_pres_4[-1].replace('\\n', '').split(','))\n",
    "#   )\n",
    "# )\n",
    "\n",
    "# with open(path5, 'r') as f5:\n",
    "#     result_epoch_pres_5 = f5.readlines()\n",
    "# print(\n",
    "#   list(\n",
    "#     map(\n",
    "#       float,\n",
    "#       result_epoch_pres_5[-1].replace('\\n', '').split(','))\n",
    "#   )\n",
    "# )"
   ]
  },
  {
   "cell_type": "code",
   "execution_count": null,
   "id": "722b708a",
   "metadata": {},
   "outputs": [],
   "source": [
    "import json\n",
    "p = json.load(open('/net/kdinxidk03/opt/NFS/75y/data/qa/dataset_pos/bioasq/BioASQ-8b/train_bioasq.json'))"
   ]
  },
  {
   "cell_type": "code",
   "execution_count": null,
   "id": "f4587673",
   "metadata": {},
   "outputs": [],
   "source": [
    "len(p['data'][0]['paragraphs'])"
   ]
  },
  {
   "cell_type": "code",
   "execution_count": null,
   "id": "bb2c72d8",
   "metadata": {},
   "outputs": [],
   "source": []
  }
 ],
 "metadata": {
  "kernelspec": {
   "display_name": "Python 3",
   "language": "python",
   "name": "python3"
  },
  "language_info": {
   "codemirror_mode": {
    "name": "ipython",
    "version": 3
   },
   "file_extension": ".py",
   "mimetype": "text/x-python",
   "name": "python",
   "nbconvert_exporter": "python",
   "pygments_lexer": "ipython3",
   "version": "3.7.10"
  },
  "toc": {
   "base_numbering": 1,
   "nav_menu": {},
   "number_sections": true,
   "sideBar": true,
   "skip_h1_title": false,
   "title_cell": "Table of Contents",
   "title_sidebar": "Contents",
   "toc_cell": false,
   "toc_position": {},
   "toc_section_display": true,
   "toc_window_display": false
  }
 },
 "nbformat": 4,
 "nbformat_minor": 5
}
