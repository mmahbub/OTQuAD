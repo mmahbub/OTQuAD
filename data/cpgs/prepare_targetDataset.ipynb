{
 "cells": [
  {
   "cell_type": "code",
   "execution_count": 1,
   "id": "8dc197e7",
   "metadata": {},
   "outputs": [],
   "source": [
    "path_asthma = 'https://www.healthquality.va.gov/guidelines/CD/asthma/VADoDAsthmaCPGFinal121019.pdf'\n",
    "path_obesity = 'https://www.healthquality.va.gov/guidelines/CD/obesity/VADoDObesityCPGFinal5087242020.pdf'\n",
    "path_dm = 'https://www.healthquality.va.gov/guidelines/CD/diabetes/VADoDDMCPGFinal508.pdf'\n",
    "path_htn = 'https://www.healthquality.va.gov/guidelines/CD/htn/VADoDHypertensionCPG508Corrected792020.pdf'\n",
    "path_lipids = 'https://www.healthquality.va.gov/guidelines/CD/lipids/VADoDDyslipidemiaCPG5087212020.pdf'\n",
    "path_mdd = 'https://www.healthquality.va.gov/guidelines/MH/mdd/VADoDMDDCPGFinal508.pdf'\n",
    "path_sud = 'https://www.healthquality.va.gov/guidelines/MH/sud/VADoDSUDCPG.pdf'\n",
    "path_cmi = 'https://www.healthquality.va.gov/guidelines/MR/cmi/VADoDCMICPG508.pdf'\n",
    "path_ptsd = 'https://www.healthquality.va.gov/guidelines/MH/ptsd/VADoDPTSDCPGFinal012418.pdf'\n",
    "path_mtbi = 'https://www.healthquality.va.gov/guidelines/Rehab/mtbi/VADoDmTBICPGFinal508.pdf'\n",
    "path_suicide = 'https://www.healthquality.va.gov/guidelines/MH/srb/VADoDSuicideRiskFullCPGFinal5088212019.pdf'\n",
    "path_ckd = 'https://www.healthquality.va.gov/guidelines/CD/ckd/VADoDCKDCPGFinal5082142020.pdf'\n",
    "path_copd = 'https://www.healthquality.va.gov/guidelines/CD/copd/VADoDCOPDCPGFinal508.pdf'\n",
    "path_oa = 'https://www.healthquality.va.gov/guidelines/CD/OA/VADoDOACPG.pdf'\n",
    "path_insomnia = 'https://www.healthquality.va.gov/guidelines/CD/insomnia/VADoDSleepCPGFinal508.pdf'\n",
    "path_lbp = 'https://www.healthquality.va.gov/guidelines/Pain/lbp/VADoDLBPCPGFinal508.pdf'\n",
    "path_headache = 'https://www.healthquality.va.gov/guidelines/pain/headache/VADoDHeadacheCPGFinal508.pdf'\n",
    "path_amp = 'https://www.healthquality.va.gov/guidelines/Rehab/amp/VADoDLLACPG092817.pdf'\n",
    "path_stroke = 'https://www.healthquality.va.gov/guidelines/Rehab/stroke/VADoDStrokeRehabCPGFinal8292019.pdf'\n",
    "path_ula = 'https://www.healthquality.va.gov/guidelines/Rehab/ULA/VADoDULACPG_Final_508.pdf'\n",
    "path_preg = 'https://www.healthquality.va.gov/guidelines/WH/up/VADoDPregnancyCPG4102018.pdf'\n",
    "# path_ot = 'https://www.healthquality.va.gov/guidelines/Pain/cot/VADoDOpioidsCPG.pdf'\n"
   ]
  },
  {
   "cell_type": "code",
   "execution_count": 34,
   "id": "d4980069",
   "metadata": {},
   "outputs": [
    {
     "name": "stdout",
     "output_type": "stream",
     "text": [
      "21\n"
     ]
    },
    {
     "name": "stderr",
     "output_type": "stream",
     "text": [
      "[nltk_data] Downloading package punkt to /home/75y/nltk_data...\n",
      "[nltk_data]   Package punkt is already up-to-date!\n"
     ]
    }
   ],
   "source": [
    "import os\n",
    "import nltk\n",
    "nltk.download('punkt')\n",
    "\n",
    "path_list = [path_asthma, path_obesity, path_dm, path_htn, path_lipids,\n",
    "             path_mdd, path_sud, path_cmi, path_ptsd, path_mtbi, path_suicide, \n",
    "             path_ckd, path_copd, path_oa, path_insomnia, path_lbp, \n",
    "             path_headache, path_amp, path_stroke, path_ula, path_preg\n",
    "            ]\n",
    "print(len(path_list))\n",
    "# for i in range(len(path_list)):\n",
    "#   os.system('wget '+ path_list[i])"
   ]
  },
  {
   "cell_type": "code",
   "execution_count": 6,
   "id": "80977591",
   "metadata": {},
   "outputs": [],
   "source": [
    "dir_list = os.listdir()"
   ]
  },
  {
   "cell_type": "code",
   "execution_count": 7,
   "id": "6876cb2a",
   "metadata": {
    "scrolled": true
   },
   "outputs": [],
   "source": [
    "#pip install pdfminer.six\n",
    "import io\n",
    "import re\n",
    "\n",
    "from pdfminer.pdfinterp import PDFResourceManager, PDFPageInterpreter\n",
    "from pdfminer.converter import TextConverter\n",
    "from pdfminer.layout import LAParams\n",
    "from pdfminer.pdfpage import PDFPage\n",
    "\n",
    "\n",
    "def convert_pdf_to_txt(path, exclusion_list, removed_title=''):\n",
    "    '''Convert pdf content from a file path to text\n",
    "\n",
    "    :path the file path\n",
    "    '''\n",
    "    rsrcmgr = PDFResourceManager()\n",
    "    codec = 'utf-8'\n",
    "    laparams = LAParams()\n",
    "\n",
    "    with io.StringIO() as retstr:\n",
    "        with TextConverter(rsrcmgr, retstr, codec=codec,\n",
    "                           laparams=laparams) as device:\n",
    "            with open(path, 'rb') as fp:\n",
    "                interpreter = PDFPageInterpreter(rsrcmgr, device)\n",
    "                password = \"\"\n",
    "                maxpages = 0\n",
    "                caching = True\n",
    "                pagenos = set()\n",
    "\n",
    "                for i, page in enumerate(PDFPage.get_pages(fp,\n",
    "                                              pagenos,\n",
    "                                              maxpages=maxpages,\n",
    "                                              password=password,\n",
    "                                              caching=caching,\n",
    "                                              check_extractable=True)):\n",
    "                    if i not in exclusion_list:\n",
    "                      interpreter.process_page(page)\n",
    "\n",
    "                text = retstr.getvalue()\n",
    "                text = text.replace(removed_title, '')\n",
    "                text = re.sub(r'([^\\S\\n]*\\n(?:[^\\S\\n]*\\n)+[^\\S\\n]*)|[^\\S\\n]*\\n[^\\S\\n]*',\n",
    "                              lambda x: x.group(1) or ' ',\n",
    "                              text)\n",
    "                \n",
    "                return text\n",
    "\n",
    "\n",
    "if __name__ == \"__main__\":\n",
    "  text_list_list = []\n",
    "  text_list = []\n",
    "  for i in range(len(dir_list)):\n",
    "    if dir_list[i][-4:] == '.pdf':\n",
    "      text = convert_pdf_to_txt(dir_list[i],\n",
    "                               list(range(1,5)),#+list(range(93,157)),\n",
    "                               removed_title=''\n",
    "                              )\n",
    "      text_list_list.append(text.split('\\n'))\n",
    "      text_list.extend(text.split('\\n'))"
   ]
  },
  {
   "cell_type": "code",
   "execution_count": 8,
   "id": "6ffd2d92",
   "metadata": {},
   "outputs": [],
   "source": [
    "import re"
   ]
  },
  {
   "cell_type": "code",
   "execution_count": 9,
   "id": "862d91c8",
   "metadata": {},
   "outputs": [
    {
     "name": "stdout",
     "output_type": "stream",
     "text": [
      "165458\n"
     ]
    }
   ],
   "source": [
    "print(len(text_list))"
   ]
  },
  {
   "cell_type": "code",
   "execution_count": 11,
   "id": "4e7fa049",
   "metadata": {},
   "outputs": [
    {
     "data": {
      "text/plain": [
       "10987"
      ]
     },
     "execution_count": 11,
     "metadata": {},
     "output_type": "execute_result"
    }
   ],
   "source": [
    "k = 0\n",
    "context_list = []\n",
    "for x in text_list:\n",
    "  x = re.sub(r'[^\\w\\s\\.]','',x)\n",
    "  if len(x) >=156:\n",
    "#     if len(x)==156:\n",
    "#       print('\\n', x)\n",
    "    context_list.append(x)\n",
    "    k+=1\n",
    "k"
   ]
  },
  {
   "cell_type": "code",
   "execution_count": 12,
   "id": "617d24f2",
   "metadata": {},
   "outputs": [
    {
     "data": {
      "text/plain": [
       "10987"
      ]
     },
     "execution_count": 12,
     "metadata": {},
     "output_type": "execute_result"
    }
   ],
   "source": [
    "len(context_list) #10987"
   ]
  },
  {
   "cell_type": "code",
   "execution_count": 13,
   "id": "def45e58",
   "metadata": {},
   "outputs": [],
   "source": [
    "import pandas as pd\n",
    "df = pd.DataFrame()\n",
    "df['context'] = context_list"
   ]
  },
  {
   "cell_type": "code",
   "execution_count": 14,
   "id": "950205e2",
   "metadata": {},
   "outputs": [
    {
     "data": {
      "text/plain": [
       "7"
      ]
     },
     "execution_count": 14,
     "metadata": {},
     "output_type": "execute_result"
    }
   ],
   "source": [
    "import random\n",
    "random.choice(range(1,11))"
   ]
  },
  {
   "cell_type": "code",
   "execution_count": 15,
   "id": "edde48f7",
   "metadata": {},
   "outputs": [
    {
     "data": {
      "text/html": [
       "<div>\n",
       "<style scoped>\n",
       "    .dataframe tbody tr th:only-of-type {\n",
       "        vertical-align: middle;\n",
       "    }\n",
       "\n",
       "    .dataframe tbody tr th {\n",
       "        vertical-align: top;\n",
       "    }\n",
       "\n",
       "    .dataframe thead th {\n",
       "        text-align: right;\n",
       "    }\n",
       "</style>\n",
       "<table border=\"1\" class=\"dataframe\">\n",
       "  <thead>\n",
       "    <tr style=\"text-align: right;\">\n",
       "      <th></th>\n",
       "      <th>context</th>\n",
       "    </tr>\n",
       "  </thead>\n",
       "  <tbody>\n",
       "    <tr>\n",
       "      <th>0</th>\n",
       "      <td>The Department of Veterans Affairs and the Dep...</td>\n",
       "    </tr>\n",
       "    <tr>\n",
       "      <th>1</th>\n",
       "      <td>This Clinical Practice Guideline is based on a...</td>\n",
       "    </tr>\n",
       "    <tr>\n",
       "      <th>2</th>\n",
       "      <td>Variations in practice will inevitably and app...</td>\n",
       "    </tr>\n",
       "    <tr>\n",
       "      <th>3</th>\n",
       "      <td>These guidelines are not intended to represent...</td>\n",
       "    </tr>\n",
       "    <tr>\n",
       "      <th>4</th>\n",
       "      <td>I. The Department of Veterans Affairs VA and D...</td>\n",
       "    </tr>\n",
       "    <tr>\n",
       "      <th>...</th>\n",
       "      <td>...</td>\n",
       "    </tr>\n",
       "    <tr>\n",
       "      <th>10982</th>\n",
       "      <td>Cumming J Barr S Howe TE. Prosthetic rehabilit...</td>\n",
       "    </tr>\n",
       "    <tr>\n",
       "      <th>10983</th>\n",
       "      <td>Gailey RS Gaunaurd IA Raya MA et al. Developme...</td>\n",
       "    </tr>\n",
       "    <tr>\n",
       "      <th>10984</th>\n",
       "      <td>110. Miller WC Deathe AB Speechley M. Psychome...</td>\n",
       "    </tr>\n",
       "    <tr>\n",
       "      <th>10985</th>\n",
       "      <td>dwelling persons with lowerlimb amputation. Ar...</td>\n",
       "    </tr>\n",
       "    <tr>\n",
       "      <th>10986</th>\n",
       "      <td>Activitiesspecific Balance Confidence ABC scal...</td>\n",
       "    </tr>\n",
       "  </tbody>\n",
       "</table>\n",
       "<p>10987 rows × 1 columns</p>\n",
       "</div>"
      ],
      "text/plain": [
       "                                                 context\n",
       "0      The Department of Veterans Affairs and the Dep...\n",
       "1      This Clinical Practice Guideline is based on a...\n",
       "2      Variations in practice will inevitably and app...\n",
       "3      These guidelines are not intended to represent...\n",
       "4      I. The Department of Veterans Affairs VA and D...\n",
       "...                                                  ...\n",
       "10982  Cumming J Barr S Howe TE. Prosthetic rehabilit...\n",
       "10983  Gailey RS Gaunaurd IA Raya MA et al. Developme...\n",
       "10984  110. Miller WC Deathe AB Speechley M. Psychome...\n",
       "10985  dwelling persons with lowerlimb amputation. Ar...\n",
       "10986  Activitiesspecific Balance Confidence ABC scal...\n",
       "\n",
       "[10987 rows x 1 columns]"
      ]
     },
     "execution_count": 15,
     "metadata": {},
     "output_type": "execute_result"
    }
   ],
   "source": [
    "df"
   ]
  },
  {
   "cell_type": "code",
   "execution_count": 27,
   "id": "6a83c48b",
   "metadata": {},
   "outputs": [
    {
     "data": {
      "text/plain": [
       "10987"
      ]
     },
     "execution_count": 27,
     "metadata": {},
     "output_type": "execute_result"
    }
   ],
   "source": [
    "k = 0\n",
    "para = []\n",
    "for x in context_list:\n",
    "    k+=1\n",
    "    context = x\n",
    "    ids = str(k)\n",
    "    question = '[MASK]'\n",
    "    answer = [{'answer_start': -1,\n",
    "      'text': ''}]\n",
    "    para.append({'qas': [{'id': ids,\n",
    "                          'question': question,\n",
    "                          'answers': answer}],\n",
    "                 'context': context})\n",
    "\n",
    "k"
   ]
  },
  {
   "cell_type": "code",
   "execution_count": 28,
   "id": "08716fa3",
   "metadata": {
    "scrolled": true
   },
   "outputs": [
    {
     "data": {
      "text/plain": [
       "{'qas': [{'id': '10987',\n",
       "   'question': '[MASK]',\n",
       "   'answers': [{'answer_start': -1, 'text': ''}]}],\n",
       " 'context': 'Activitiesspecific Balance Confidence ABC scale. J Gerontol A Biol Sci Med Sci. Jul 1998534M287294. Hasanadka R McLafferty RB Moore CJ Hood DB Ramsey DE Hodgson KJ. Predictors of wound complications following major amputation for critical limb ischemia. J Vasc Surg. Nov 201154513741382. Sinha R van den Heuvel WJ Arokiasamy P. Adjustments to amputation and an artificial limb in lower limb amputees. Prosthet Orthot Int. Apr 2014382115121. Venkataraman K Fong NP Chan KM et al. Rehabilitation outcomes after inpatient rehabilitation for lower extremity amputations in patients with diabetes. Arch Phys Med Rehabil. Sep 201697914731480. Agency for Health Research and Quality. The Effective Health Care Program stakeholder guide Appendix D Research questions  PICOTS 2011. httpwww.ahrq.govclinicepcpartnerstakeholderguide. Andrews JC Schunemann HJ Oxman AD et al. GRADE guidelines 15. Going from evidence to recommendationdeterminants of a recommendations direction and strength. J Clin Epidemiol. Jul 2013667726735.'}"
      ]
     },
     "execution_count": 28,
     "metadata": {},
     "output_type": "execute_result"
    }
   ],
   "source": [
    "para[-1]"
   ]
  },
  {
   "cell_type": "code",
   "execution_count": 18,
   "id": "3fcd75a2",
   "metadata": {},
   "outputs": [],
   "source": [
    "# squad_json={\n",
    "#           \"data\": [\n",
    "#             {\n",
    "#               \"paragraphs\":para,\n",
    "#                \"title\":f'cpgs'\n",
    "#             }],\n",
    "#            \"version\":0\n",
    "#        }  \n",
    "\n",
    "out_path = '/net/kdinxidk03/opt/NFS/75y/data/qa/dataset_pos/otquad/'\n",
    "# with open(out_path+f'train_cpg_unsupervised.json', \"w\") as writer:\n",
    "#     writer.write(json.dumps(squad_json, indent=4) + \"\\n\") "
   ]
  },
  {
   "cell_type": "code",
   "execution_count": 7,
   "id": "9ad6a636",
   "metadata": {},
   "outputs": [
    {
     "data": {
      "text/plain": [
       "10987"
      ]
     },
     "execution_count": 7,
     "metadata": {},
     "output_type": "execute_result"
    }
   ],
   "source": [
    "import json\n",
    "out_path = '/net/kdinxidk03/opt/NFS/75y/data/qa/dataset_pos/otquad/'\n",
    "len(json.load(open(out_path+'train_cpg_unsupervised.json'))['data'][0]['paragraphs'])"
   ]
  },
  {
   "cell_type": "code",
   "execution_count": null,
   "id": "ab2e4ead",
   "metadata": {},
   "outputs": [],
   "source": []
  },
  {
   "cell_type": "code",
   "execution_count": null,
   "id": "6f1e068d",
   "metadata": {},
   "outputs": [],
   "source": []
  },
  {
   "cell_type": "code",
   "execution_count": 21,
   "id": "571113d8",
   "metadata": {},
   "outputs": [],
   "source": [
    "out_path = '/net/kdinxidk03/opt/NFS/75y/data/qa/dataset_pos/otquad/'"
   ]
  },
  {
   "cell_type": "code",
   "execution_count": 97,
   "id": "5bb1cba6",
   "metadata": {},
   "outputs": [],
   "source": [
    "# train_squad = json.load(open('/net/kdinxidk03/opt/NFS/75y/data/qa/dataset_pos/squad/train_squad.json'))"
   ]
  },
  {
   "cell_type": "code",
   "execution_count": 22,
   "id": "3056d1fc",
   "metadata": {},
   "outputs": [],
   "source": [
    "# print(len(train_squad['data'][0]['paragraphs']))"
   ]
  },
  {
   "cell_type": "code",
   "execution_count": 23,
   "id": "0be0f542",
   "metadata": {
    "scrolled": true
   },
   "outputs": [],
   "source": [
    "# c=0\n",
    "# d=0\n",
    "\n",
    "# context_list  = []\n",
    "# question_list = []\n",
    "# answer_list   = []\n",
    "# idxs_list = []\n",
    "\n",
    "# for y in train_squad['data']:\n",
    "#   c+=1\n",
    "#   for x in y['paragraphs']:\n",
    "#     cont = x['context']\n",
    "#     for z in x['qas']:\n",
    "#       idxs = z['id']\n",
    "#       ques = z['question']\n",
    "#       answ = z['answers']\n",
    "#       context_list.append(cont)\n",
    "#       question_list.append(ques)\n",
    "#       answer_list.append(answ)\n",
    "#       idxs_list.append(idxs)\n",
    "#       d+=1\n",
    "    \n",
    "# print(c,d)\n",
    "# assert len(context_list)==len(question_list)==len(answer_list)==len(idxs_list)"
   ]
  },
  {
   "cell_type": "code",
   "execution_count": 24,
   "id": "99d16168",
   "metadata": {},
   "outputs": [],
   "source": [
    "# context_list[-1], question_list[-1], answer_list[-1], idxs_list[-1]"
   ]
  },
  {
   "cell_type": "code",
   "execution_count": 25,
   "id": "c3cace19",
   "metadata": {},
   "outputs": [],
   "source": [
    "# k = 0\n",
    "# para = []\n",
    "# for l, x in enumerate(context_list):\n",
    "#     k+=1\n",
    "#     context = x\n",
    "#     ids = idxs_list[l]\n",
    "#     question = question_list[l]\n",
    "#     answer = answer_list[l]\n",
    "#     para.append({'qas': [{'id': ids,\n",
    "#                           'question': question,\n",
    "#                           'answers': answer}],\n",
    "#                  'context': context})\n",
    "\n",
    "# k"
   ]
  },
  {
   "cell_type": "code",
   "execution_count": 26,
   "id": "4e8e5f17",
   "metadata": {},
   "outputs": [],
   "source": [
    "import copy"
   ]
  },
  {
   "cell_type": "code",
   "execution_count": 29,
   "id": "1686b3e5",
   "metadata": {},
   "outputs": [],
   "source": [
    "def build_target_json(para, which_fold):\n",
    "#   otcpg_fold = json.load(open(out_path+f'train_otquad_fold_{which_fold}.json'))\n",
    "  otcpg_fold = json.load(open(out_path+f'otquad.json'))\n",
    "  c = 0\n",
    "  para_final = []\n",
    "  para_final = copy.copy(para)\n",
    "  for i, x in enumerate(otcpg_fold['data']):\n",
    "      c+=1\n",
    "      y = x['paragraphs'][0]\n",
    "      context = y['context']\n",
    "      ids = 'OPIOIDS_'+str(y['qas'][0]['id'])\n",
    "#       question = '[MASK]'\n",
    "#       answer = [{'answer_start': -1, 'text': ''}]\n",
    "      question = y['qas'][0]['question']\n",
    "      answer = y['qas'][0]['answers']\n",
    "      para_final.append({'qas': [{'id': ids,\n",
    "                            'question': question,\n",
    "                            'answers': answer}],\n",
    "                   'context': context})\n",
    "  print(c)\n",
    "  assert len(para)+c == len(para_final)\n",
    "  print(len(para)+c)\n",
    "  \n",
    "  random.shuffle(para_final)\n",
    "  \n",
    "  return para_final\n",
    "  \n",
    "  "
   ]
  },
  {
   "cell_type": "code",
   "execution_count": 30,
   "id": "61502d25",
   "metadata": {},
   "outputs": [],
   "source": [
    "import random"
   ]
  },
  {
   "cell_type": "code",
   "execution_count": 32,
   "id": "1bde131e",
   "metadata": {},
   "outputs": [
    {
     "name": "stdout",
     "output_type": "stream",
     "text": [
      "1097\n",
      "12084\n"
     ]
    }
   ],
   "source": [
    "all_cpg_nolabel_fold1 = build_target_json(para, 1)\n",
    "# all_cpg_nolabel_fold2 = build_target_json(para, 2)\n",
    "# all_cpg_nolabel_fold3 = build_target_json(para, 3)\n",
    "# all_cpg_nolabel_fold4 = build_target_json(para, 4)\n",
    "# all_cpg_nolabel_fold5 = build_target_json(para, 5)"
   ]
  },
  {
   "cell_type": "code",
   "execution_count": null,
   "id": "a82f5f47",
   "metadata": {},
   "outputs": [],
   "source": []
  },
  {
   "cell_type": "code",
   "execution_count": 106,
   "id": "3b051669",
   "metadata": {},
   "outputs": [
    {
     "name": "stdout",
     "output_type": "stream",
     "text": [
      "85\n",
      "158\n",
      "241\n",
      "228\n",
      "385\n"
     ]
    }
   ],
   "source": [
    "print(1097-1012)\n",
    "print(1097-939)\n",
    "print(1097-856)\n",
    "print(1097-869)\n",
    "print(1097-712)\n",
    "\n",
    "# 1012\n",
    "# 939\n",
    "# 856\n",
    "# 869\n",
    "# 712\n",
    "\n",
    "# 85\n",
    "# 158\n",
    "# 241\n",
    "# 228\n",
    "# 385"
   ]
  },
  {
   "cell_type": "code",
   "execution_count": 33,
   "id": "88bcf9b0",
   "metadata": {},
   "outputs": [],
   "source": [
    "# squad_json={\n",
    "#           \"data\": [\n",
    "#             {\n",
    "#               \"paragraphs\": all_cpg_nolabel_fold1,\n",
    "#                \"title\":f'cpgqa'\n",
    "#             }],\n",
    "#            \"version\":0\n",
    "#        }  \n",
    "\n",
    "# with open(out_path+f'all_cpg_unsup.json', \"w\") as writer:\n",
    "#     writer.write(json.dumps(squad_json, indent=4) + \"\\n\") "
   ]
  },
  {
   "cell_type": "code",
   "execution_count": null,
   "id": "18c54ee2",
   "metadata": {},
   "outputs": [],
   "source": []
  },
  {
   "cell_type": "code",
   "execution_count": null,
   "id": "119442a7",
   "metadata": {},
   "outputs": [],
   "source": []
  }
 ],
 "metadata": {
  "kernelspec": {
   "display_name": "Python 3 (ipykernel)",
   "language": "python",
   "name": "python3"
  },
  "language_info": {
   "codemirror_mode": {
    "name": "ipython",
    "version": 3
   },
   "file_extension": ".py",
   "mimetype": "text/x-python",
   "name": "python",
   "nbconvert_exporter": "python",
   "pygments_lexer": "ipython3",
   "version": "3.8.12"
  },
  "toc": {
   "base_numbering": 1,
   "nav_menu": {},
   "number_sections": true,
   "sideBar": true,
   "skip_h1_title": false,
   "title_cell": "Table of Contents",
   "title_sidebar": "Contents",
   "toc_cell": false,
   "toc_position": {},
   "toc_section_display": true,
   "toc_window_display": false
  }
 },
 "nbformat": 4,
 "nbformat_minor": 5
}
