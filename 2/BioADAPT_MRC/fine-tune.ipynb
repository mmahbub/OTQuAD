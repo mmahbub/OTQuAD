{
 "cells": [
  {
   "cell_type": "code",
   "execution_count": 6,
   "id": "5d29222f",
   "metadata": {},
   "outputs": [],
   "source": [
    "import os\n",
    "os.environ[\"CUDA_VISIBLE_DEVICES\"] = \"3\"  # specify which GPU(s) to be used\n"
   ]
  },
  {
   "cell_type": "code",
   "execution_count": 53,
   "id": "c49c90bf",
   "metadata": {
    "scrolled": true
   },
   "outputs": [],
   "source": [
    "# !python3 finetune_model.py  \\\n",
    "#     --model_type electra \\\n",
    "#     --orig_model_name_or_path bioelectra  \\\n",
    "#     --model_name_or_path /net/kdinxidk03/opt/NFS/75y/data/qa/output/REVISION/REVIEWER-2/emrqa/risk-squad/  \\\n",
    "#     --output_dir /net/kdinxidk03/opt/NFS/75y/data/qa/output/ \\\n",
    "#     --output_model_dir None \\\n",
    "#     --data_dir /net/kdinxidk03/opt/NFS/75y/data/qa/dataset_pos/emrqa/datasets/  \\\n",
    "#     --predict_file risk-dataset-dev_seed0.json \\\n",
    "#     --dataset_name emrqa_risk_seed0  \\\n",
    "#     --do_lower_case \\\n",
    "#     --do_evaluate \\\n",
    "#     --n_gpu=3 \\\n",
    "#     --per_gpu_eval_batch_size=256 \\\n",
    "#     --max_seq_length 384  \\\n",
    "#     --doc_stride 128  \\\n",
    "#     --overwrite_output_dir  \\\n",
    "#     --overwrite_cache \\\n"
   ]
  },
  {
   "cell_type": "code",
   "execution_count": 3,
   "id": "600817c9",
   "metadata": {},
   "outputs": [],
   "source": [
    "# !python3 load_dataset.py  \\\n",
    "#     --orig_model_name_or_path bioelectra  \\\n",
    "#     --model_name_or_path kamalkraj/bioelectra-base-discriminator-pubmed-pmc-lt  \\\n",
    "#     --output_dir /net/kdinxidk03/opt/NFS/75y/data/qa/output/ \\\n",
    "#     --data_dir /net/kdinxidk03/opt/NFS/75y/data/qa/dataset_pos/emrqa/  \\\n",
    "#     --train_file train_emrqa_rel.json  \\\n",
    "#     --dataset_name emrqa_rel  \\\n",
    "#     --do_lower_case \\\n",
    "#     --do_train \\\n",
    "#     --max_seq_length 384  \\\n",
    "#     --doc_stride 128  \\\n",
    "# #     --overwrite_cache \n"
   ]
  },
  {
   "cell_type": "code",
   "execution_count": 54,
   "id": "e15aa1e5",
   "metadata": {},
   "outputs": [],
   "source": [
    "# !python3 load_dataset.py  \\\n",
    "#     --orig_model_name_or_path bioelectra  \\\n",
    "#     --model_name_or_path kamalkraj/bioelectra-base-discriminator-pubmed-pmc-lt  \\\n",
    "#     --output_dir /net/kdinxidk03/opt/NFS/75y/data/qa/output/ \\\n",
    "#     --data_dir /net/kdinxidk03/opt/NFS/75y/data/qa/dataset_pos/emrqa/datasets/  \\\n",
    "#     --predict_file relation-dev.json  \\\n",
    "#     --dataset_name emrqa_rel  \\\n",
    "#     --do_lower_case \\\n",
    "#     --do_evaluate \\\n",
    "#     --max_seq_length 384  \\\n",
    "#     --doc_stride 128  \\\n",
    "# #     --overwrite_cache\n"
   ]
  },
  {
   "cell_type": "code",
   "execution_count": null,
   "id": "e7ac6317",
   "metadata": {},
   "outputs": [],
   "source": [
    "# json.load(open('/net/kdinxidk03/opt/NFS/75y/data/qa/dataset_pos/bioasq/BioASQ-8b/train_bioasq_no_label.json'))"
   ]
  },
  {
   "cell_type": "code",
   "execution_count": 10,
   "id": "2e9bf1f4",
   "metadata": {
    "code_folding": []
   },
   "outputs": [],
   "source": [
    "# json.load(open('/net/kdinxidk03/opt/NFS/75y/data/qa/output/REVISION/REVIEWER-2/emrqa/medication/nbest_predictions_emrqa_med_ours.json'))"
   ]
  },
  {
   "cell_type": "code",
   "execution_count": 27,
   "id": "0b84a37f",
   "metadata": {},
   "outputs": [],
   "source": [
    "# json.load(open('/net/kdinxidk03/opt/NFS/75y/data/qa/dataset_pos/bioasq/test_bioasq_9B.json'))"
   ]
  },
  {
   "cell_type": "code",
   "execution_count": 40,
   "id": "b8f0d6bd",
   "metadata": {},
   "outputs": [],
   "source": [
    "import numpy as np"
   ]
  },
  {
   "cell_type": "code",
   "execution_count": 41,
   "id": "fad327c7",
   "metadata": {},
   "outputs": [],
   "source": [
    "gold = json.load(open('/net/kdinxidk03/opt/NFS/75y/data/qa/dataset_pos/bioasq/Task9BGoldenEnriched/9B_golden.json'))"
   ]
  },
  {
   "cell_type": "code",
   "execution_count": 44,
   "id": "55a6bd50",
   "metadata": {},
   "outputs": [],
   "source": [
    "test = json.load(open('/net/kdinxidk03/opt/NFS/75y/data/qa/dataset_pos/emrqa/test_emrqa_risk.json'))\n",
    "\n",
    "qus = []\n",
    "ans = []\n",
    "cos = []\n",
    "ids = []\n",
    "\n",
    "for d in test['data']:\n",
    "  for p in d['paragraphs']:\n",
    "    for qa in p['qas']:\n",
    "      ids.append(qa['id'])\n",
    "      qus.append(qa['question'])\n",
    "      ans.append(qa['answers'][0]['text'])\n",
    "      cos.append(p['context'])"
   ]
  },
  {
   "cell_type": "code",
   "execution_count": 45,
   "id": "d4045e1e",
   "metadata": {},
   "outputs": [
    {
     "data": {
      "text/plain": [
       "(4665, 35)"
      ]
     },
     "execution_count": 45,
     "metadata": {},
     "output_type": "execute_result"
    }
   ],
   "source": [
    "len(qus), len(np.unique(cos))"
   ]
  },
  {
   "cell_type": "code",
   "execution_count": 23,
   "id": "173cdb60",
   "metadata": {},
   "outputs": [
    {
     "data": {
      "text/plain": [
       "(dict_keys(['questions']),\n",
       " 497,\n",
       " dict_keys(['documents', 'snippets', 'body', 'type', 'id', 'ideal_answer', 'exact_answer']))"
      ]
     },
     "execution_count": 23,
     "metadata": {},
     "output_type": "execute_result"
    }
   ],
   "source": [
    "gold.keys(), len(gold['questions']), gold['questions'][0].keys()"
   ]
  },
  {
   "cell_type": "code",
   "execution_count": 52,
   "id": "70911bc7",
   "metadata": {
    "scrolled": true
   },
   "outputs": [],
   "source": [
    "# print(gold['questions'][0]['documents']) #''\n",
    "# print(gold['questions'][0]['snippets'])  #\n",
    "# print(gold['questions'][0]['body']) #ques\n",
    "# print(gold['questions'][0]['type']) #factoid\n",
    "# print(gold['questions'][0]['id'])   #id\n",
    "# print(gold['questions'][0]['ideal_answer']) #''\n",
    "# print(gold['questions'][0]['exact_answer']) #ans\n",
    "# gold['questions']"
   ]
  },
  {
   "cell_type": "code",
   "execution_count": 34,
   "id": "58149da5",
   "metadata": {
    "scrolled": true
   },
   "outputs": [
    {
     "name": "stdout",
     "output_type": "stream",
     "text": [
      "dict_keys(['offsetInBeginSection', 'offsetInEndSection', 'text', 'beginSection', 'endSection', 'document'])\n"
     ]
    }
   ],
   "source": [
    "print(gold['questions'][6]['snippets'][1].keys())"
   ]
  },
  {
   "cell_type": "code",
   "execution_count": 72,
   "id": "5a80bf98",
   "metadata": {},
   "outputs": [],
   "source": [
    "para = []\n",
    "\n",
    "for i in range(len(qus)):\n",
    "  snip = [{'offsetInBeginSection': -1,\n",
    "           'offsetInEndSection': -1, \n",
    "           'text': cos[i],\n",
    "           'beginSection': '', \n",
    "           'endSection': '',\n",
    "           'document': ''}]\n",
    "\n",
    "  doc = ['']\n",
    "  bod = qus[i]\n",
    "  typ = 'factoid'\n",
    "  id_ = ids[i]\n",
    "  idans = ['']\n",
    "  exans = [[ans[i]]]\n",
    "  \n",
    "  para.append({\n",
    "    'documents': doc,\n",
    "    'snippets': snip,\n",
    "    'body': bod,\n",
    "    'type': typ,\n",
    "    'id': id_,\n",
    "    'ideal_answer': idans,\n",
    "    'exact_answer': exans\n",
    "  })\n"
   ]
  },
  {
   "cell_type": "code",
   "execution_count": 73,
   "id": "12107c11",
   "metadata": {},
   "outputs": [],
   "source": [
    "json_gold = {'questions': para}"
   ]
  },
  {
   "cell_type": "code",
   "execution_count": 74,
   "id": "79461f09",
   "metadata": {},
   "outputs": [],
   "source": [
    "# with open('/net/kdinxidk03/opt/NFS/75y/data/qa/dataset_pos/emrqa/EMRQA_RISK_GOLDEN.json', \"w\") as writer:\n",
    "#     writer.write(json.dumps(json_gold, indent=4) + \"\\n\") "
   ]
  },
  {
   "cell_type": "code",
   "execution_count": 75,
   "id": "124c748d",
   "metadata": {},
   "outputs": [],
   "source": [
    "# json.load(open('/net/kdinxidk03/opt/NFS/75y/data/qa/dataset_pos/emrqa/EMRQA_RISK_GOLDEN.json'))"
   ]
  },
  {
   "cell_type": "code",
   "execution_count": 33,
   "id": "dd2c5935",
   "metadata": {},
   "outputs": [],
   "source": [
    "import os\n",
    "\n",
    "path = '/net/kdinxidk03/opt/NFS/75y/data/qa/output/REVISION/REVIEWER-2/baseline/SEED-42/'\n",
    "\n",
    "java_file_path = '/home/75y/my_project_dir/QA-IN-PROGRESS/BASELINE_MODEL_SEED10/Evaluation-Measures/flat/BioASQEvaluation/dist/BioASQEvaluation.jar evaluation.EvaluatorTask1b -phaseB -e 5'\n",
    "golden_data_folder = '/net/kdinxidk03/opt/NFS/75y/data/qa/dataset_pos/emrqa/EMRQA_RISK_GOLDEN.json'\n",
    "# golden_data_folder = '/net/kdinxidk03/opt/NFS/75y/data/qa/dataset_pos/bioasq/Task9BGoldenEnriched/9B_golden.json'\n"
   ]
  },
  {
   "cell_type": "code",
   "execution_count": 40,
   "id": "c793c7b1",
   "metadata": {},
   "outputs": [],
   "source": [
    "!python3 transform_n2b_factoid.py \\\n",
    "--nbest_path /net/kdinxidk03/opt/NFS/75y/data/qa/output/REVISION/REVIEWER-2/baseline/SEED-42/nbest_predictions_test_emrqa_risk_ours.json \\\n",
    "--output_path /net/kdinxidk03/opt/NFS/75y/data/qa/output/REVISION/REVIEWER-2/baseline/SEED-42/"
   ]
  },
  {
   "cell_type": "code",
   "execution_count": 41,
   "id": "ba410187",
   "metadata": {},
   "outputs": [
    {
     "name": "stdout",
     "output_type": "stream",
     "text": [
      "0.0 0.08853161843515542 0.292390139335477 0.16606287959985758 0.0 0.0 0.0 0.0 0.0 0.0"
     ]
    }
   ],
   "source": [
    "!java -Xmx10G -cp /home/75y/my_project_dir/QA-IN-PROGRESS/BASELINE_MODEL_SEED10/Evaluation-Measures/flat/BioASQEvaluation/dist/BioASQEvaluation.jar evaluation.EvaluatorTask1b -phaseB -e 5 /net/kdinxidk03/opt/NFS/75y/data/qa/dataset_pos/emrqa/EMRQA_RISK_GOLDEN.json /net/kdinxidk03/opt/NFS/75y/data/qa/output/REVISION/REVIEWER-2/baseline/SEED-42/BioASQform_BioASQ-answer.json"
   ]
  },
  {
   "cell_type": "code",
   "execution_count": 133,
   "id": "9cd0a324",
   "metadata": {},
   "outputs": [],
   "source": [
    "# json.load(open(f'{path}BioASQform_BioASQ-answer.json'))"
   ]
  },
  {
   "cell_type": "code",
   "execution_count": 35,
   "id": "a4a31b21",
   "metadata": {},
   "outputs": [],
   "source": [
    "ll = json.load(open(f'{path}nbest_predictions_emrqa_risk_ours.json'))"
   ]
  },
  {
   "cell_type": "code",
   "execution_count": 36,
   "id": "337a4b19",
   "metadata": {},
   "outputs": [],
   "source": [
    "ll_k = [f'{x}_000' for x in list(ll.keys())]"
   ]
  },
  {
   "cell_type": "code",
   "execution_count": 37,
   "id": "3cf2a5e1",
   "metadata": {},
   "outputs": [],
   "source": [
    "ll_new = dict(zip(ll_k, list(ll.values())))"
   ]
  },
  {
   "cell_type": "code",
   "execution_count": 38,
   "id": "90fb6145",
   "metadata": {},
   "outputs": [],
   "source": [
    "# ll_new"
   ]
  },
  {
   "cell_type": "code",
   "execution_count": 39,
   "id": "1f6b5c80",
   "metadata": {},
   "outputs": [],
   "source": [
    "with open(path+'nbest_predictions_test_emrqa_risk_ours.json', \"w\") as writer:\n",
    "    writer.write(json.dumps(ll_new, indent=4) + \"\\n\") "
   ]
  },
  {
   "cell_type": "code",
   "execution_count": 11,
   "id": "c656ecb6",
   "metadata": {},
   "outputs": [],
   "source": [
    "# import json\n",
    "# b_8 = json.load(open('/net/kdinxidk03/opt/NFS/75y/data/qa/dataset_pos/bioasq/Task8BGoldenEnriched/8B_golden.json'))\n",
    "# dataset = json.load(open('/net/kdinxidk03/opt/NFS/75y/data/qa/dataset_pos/bioasq/test_bioasq_8B.json'))"
   ]
  },
  {
   "cell_type": "code",
   "execution_count": null,
   "id": "e36ca6af",
   "metadata": {},
   "outputs": [],
   "source": [
    "# b_8_dict = {}\n",
    "# for i in range(len(b_8['questions'])):\n",
    "#   if b_8['questions'][i]['type'] == 'factoid':\n",
    "#     b_8_dict[b_8['questions'][i]['body']] = b_8['questions'][i]['exact_answer']\n",
    "\n",
    "# import numpy as np\n",
    "# len(np.unique(list(b_8_dict.keys()))), len(list(b_8_dict.keys()))"
   ]
  },
  {
   "cell_type": "code",
   "execution_count": null,
   "id": "7849e67d",
   "metadata": {},
   "outputs": [],
   "source": [
    "# dataset['data'][0]['paragraphs']"
   ]
  },
  {
   "cell_type": "code",
   "execution_count": null,
   "id": "2517ec51",
   "metadata": {},
   "outputs": [],
   "source": [
    "# data = dataset['data'][0]\n",
    "# version = dataset['version']\n",
    "# para = data['paragraphs']\n",
    "# title = data['title']\n",
    "\n",
    "# squad_entries = []\n",
    "# c = 0\n",
    "# for d in para:\n",
    "#   for k,v in b_8_dict.items():\n",
    "#     if d['qas'][0]['question'] == k:\n",
    "#       ans_strt = d['context'].lower().find(v[0][0].lower())\n",
    "#       ans = v[0][0]\n",
    "#       if len(v[0]) == 2 and ans_strt==-1:\n",
    "#         ans_strt = d['context'].lower().find(v[0][1].lower())\n",
    "#         if ans_strt!=-1:\n",
    "#           ans = v[0][1]\n",
    "#         if len(v[0]) == 3 and ans_strt==-1:\n",
    "#           ans_strt = d['context'].lower().find(v[0][2].lower())\n",
    "#           if ans_strt!=-1:\n",
    "#             ans = v[0][2]\n",
    "      \n",
    "#       if ans_strt==-1:\n",
    "#         c+=1\n",
    "\n",
    "#       new_entry = {\"qas\": [\n",
    "#                    {\n",
    "#                     \"id\": d['qas'][0]['id'],\n",
    "#                     \"question\": d['qas'][0]['question'], #\"[MASK]\"\n",
    "#                     \"answers\": [{'text': ans, 'answer_start': ans_strt}] #d['qas'][0]['answers']\n",
    "#                    }\n",
    "#                    ],\n",
    "#                  \"context\": d['context']\n",
    "#                  }\n",
    "\n",
    "#   squad_entries.append(new_entry)\n",
    "\n",
    "# print(len(squad_entries))\n",
    "\n",
    "# squad_json={\n",
    "#           \"data\": [\n",
    "#             {\n",
    "#               \"paragraphs\":squad_entries,\n",
    "#                \"title\":title\n",
    "#             }],\n",
    "#            \"version\":version\n",
    "#        }\n",
    "\n",
    "# c, max(l), squad_json"
   ]
  },
  {
   "cell_type": "code",
   "execution_count": null,
   "id": "c8fdd450",
   "metadata": {},
   "outputs": [],
   "source": [
    "# num = 8\n",
    "# with open('/net/kdinxidk03/opt/NFS/75y/data/qa/dataset_pos/bioasq/'+f'test_bioasq_{num}B_with_label.json', \"w\") as writer:\n",
    "#     writer.write(json.dumps(squad_json, indent=4) + \"\\n\")"
   ]
  },
  {
   "cell_type": "code",
   "execution_count": null,
   "id": "11324c14",
   "metadata": {
    "scrolled": true
   },
   "outputs": [],
   "source": [
    "# !python3 finetune_model.py  \\\n",
    "#     --model_type bert   \\\n",
    "#     --orig_model_name_or_path biobert-v1.1  \\\n",
    "#     --model_name_or_path dmis-lab/biobert-base-cased-v1.1  \\\n",
    "#     --output_dir /net/kdinxidk03/opt/NFS/75y/data/qa/output/ \\\n",
    "#     --output_model_dir /net/kdinxidk03/opt/NFS/75y/data/qa/output/biobert-squad/ \\\n",
    "#     --data_dir /net/kdinxidk03/opt/NFS/75y/data/qa/dataset_pos/squad/  \\\n",
    "#     --train_file train_squad.json  \\\n",
    "#     --dataset_name squad  \\\n",
    "#     --do_train \\\n",
    "#     --max_seq_length 384   \\\n",
    "#     --doc_stride 128  \\\n",
    "#     --per_gpu_train_batch_size 20 \\\n",
    "#     --num_train_epochs 3.0 \\\n",
    "#     --learning_rate  5e-6  \\\n",
    "#     --overwrite_output_dir  \\\n",
    "#     --overwrite_output_model_dir \\\n",
    "#     --overwrite_cache \n"
   ]
  },
  {
   "cell_type": "code",
   "execution_count": null,
   "id": "4214c314",
   "metadata": {
    "scrolled": true
   },
   "outputs": [],
   "source": [
    "# !python3 finetune_model.py  \\\n",
    "#     --model_type bert   \\\n",
    "#     --orig_model_name_or_path biobert-mnli  \\\n",
    "#     --model_name_or_path /net/kdinxidk03/opt/NFS/75y/data/qa/output/biobert-mnli-squad/  \\\n",
    "#     --output_dir /net/kdinxidk03/opt/NFS/75y/data/qa/output/ \\\n",
    "#     --output_model_dir /net/kdinxidk03/opt/NFS/75y/data/qa/output/biobert-mnli-squad-bioasq/ \\\n",
    "#     --data_dir /net/kdinxidk03/opt/NFS/75y/data/qa/dataset_pos/bioasq/BioASQ-8b/  \\\n",
    "#     --train_file train_bioasq.json  \\\n",
    "#     --dataset_name bioasq  \\\n",
    "#     --do_train \\\n",
    "#     --max_seq_length 384   \\\n",
    "#     --doc_stride 128  \\\n",
    "#     --per_gpu_train_batch_size 20 \\\n",
    "#     --num_train_epochs 3.0 \\\n",
    "#     --learning_rate  5e-6  \\\n",
    "#     --overwrite_output_dir  \\\n",
    "#     --overwrite_output_model_dir \\\n",
    "#     --overwrite_cache "
   ]
  },
  {
   "cell_type": "markdown",
   "id": "b381d8d2",
   "metadata": {},
   "source": [
    "# \"\"\"\n",
    "\n",
    "    --data_dir /net/kdinxidk03/opt/NFS/75y/data/bioasq/bioasq-squad/  \\\n",
    "    --dataset_name bioasq  \\\n",
    "    --predict_file test_bioasq.json  \\\n",
    "\n",
    "    --data_dir /net/kdinxidk03/opt/NFS/75y/data/qa/dataset_pos/squad/  \\\n",
    "    --dataset_name squad  \\\n",
    "    --predict_file test_squad.json  \\\n",
    "\n",
    "    --data_dir /net/kdinxidk03/opt/NFS/75y/data/qa/dataset_pos/newsqa/  \\\n",
    "    --dataset_name newsqa  \\\n",
    "    --predict_file test_newsqa.json  \\\n",
    "\n",
    "    --data_dir /net/kdinxidk03/opt/NFS/75y/data/qa/dataset_pos/triviaqa/  \\\n",
    "    --dataset_name triviaqa  \\\n",
    "    --predict_file test_triviaqa.json  \\\n",
    "\n",
    "    --data_dir /net/kdinxidk03/opt/NFS/75y/data/qa/dataset_pos/quac/  \\\n",
    "    --dataset_name quac  \\\n",
    "    --predict_file test_quac.json  \\\n",
    "\n",
    "    --data_dir /net/kdinxidk03/opt/NFS/75y/data/qa/dataset_pos/nq/  \\\n",
    "    --dataset_name nq  \\\n",
    "    --predict_file test_nq.json  \\\n",
    "    \n",
    "/net/kdinxidk03/opt/NFS/75y/data/qa/dataset_pos/bioasq/BioASQ-8b\n",
    "BioASQ-test-factoid-8b-1-snippet.json\n",
    "\n",
    "\"\"\"\n",
    "# cached_train_biobert-v1.1_384_train_squad"
   ]
  },
  {
   "cell_type": "code",
   "execution_count": null,
   "id": "45a160a5",
   "metadata": {
    "scrolled": true
   },
   "outputs": [],
   "source": [
    "!python3 finetune_model.py  \\\n",
    "    --model_type bert   \\\n",
    "    --orig_model_name_or_path biobert-v1.1  \\\n",
    "    --model_name_or_path  /net/kdinxidk03/opt/NFS/75y/data/qa/output/biobert-squad/  \\\n",
    "    --output_dir /net/kdinxidk03/opt/NFS/75y/data/qa/output/ \\\n",
    "    --output_model_dir None  \\\n",
    "    --data_dir /net/kdinxidk03/opt/NFS/75y/data/qa/dataset_pos/squad/  \\\n",
    "    --dataset_name squad  \\\n",
    "    --predict_file test_squad.json  \\\n",
    "    --do_evaluate \\\n",
    "    --max_seq_length 384   \\\n",
    "    --doc_stride 128  \\\n",
    "    --per_gpu_eval_batch_size 24 \\\n",
    "    --overwrite_output_dir\n"
   ]
  },
  {
   "cell_type": "markdown",
   "id": "8bdf3489",
   "metadata": {},
   "source": [
    "test_bioasq_8b-1.json\n",
    "\n",
    "cached_dev_biobert-v1.1_384_test_bioasq_8b_1\n",
    "\n",
    "Results: {'exact': 81.2488174077578, 'f1': 88.76721507808651, 'total': 10570, 'HasAns_exact': 81.2488174077578, 'HasAns_f1': 88.76721507808651, 'HasAns_total': 10570, 'best_exact': 81.2488174077578, 'best_exact_thresh': 0.0, 'best_f1': 88.76721507808651, 'best_f1_thresh': 0.0}"
   ]
  },
  {
   "cell_type": "code",
   "execution_count": null,
   "id": "26ac2aaf",
   "metadata": {},
   "outputs": [],
   "source": [
    "# json.load(open('/net/kdinxidk03/opt/NFS/75y/data/qa/dataset/squad/test_squad.json')).keys()"
   ]
  },
  {
   "cell_type": "code",
   "execution_count": null,
   "id": "14a38ab6",
   "metadata": {},
   "outputs": [],
   "source": []
  }
 ],
 "metadata": {
  "kernelspec": {
   "display_name": "Python 3",
   "language": "python",
   "name": "python3"
  },
  "language_info": {
   "codemirror_mode": {
    "name": "ipython",
    "version": 3
   },
   "file_extension": ".py",
   "mimetype": "text/x-python",
   "name": "python",
   "nbconvert_exporter": "python",
   "pygments_lexer": "ipython3",
   "version": "3.7.10"
  },
  "toc": {
   "base_numbering": 1,
   "nav_menu": {},
   "number_sections": true,
   "sideBar": true,
   "skip_h1_title": false,
   "title_cell": "Table of Contents",
   "title_sidebar": "Contents",
   "toc_cell": false,
   "toc_position": {},
   "toc_section_display": true,
   "toc_window_display": false
  }
 },
 "nbformat": 4,
 "nbformat_minor": 5
}
