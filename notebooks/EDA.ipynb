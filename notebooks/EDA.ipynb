{
 "cells": [
  {
   "cell_type": "markdown",
   "id": "706e2687",
   "metadata": {},
   "source": [
    "## Import packages"
   ]
  },
  {
   "cell_type": "code",
   "execution_count": 91,
   "id": "6c4bf8f0",
   "metadata": {},
   "outputs": [],
   "source": [
    "from collections import defaultdict\n",
    "from copy import deepcopy\n",
    "from tqdm import tqdm\n",
    "from pathlib import Path\n",
    "import random\n",
    "import json\n",
    "from sklearn.model_selection import train_test_split\n",
    "\n",
    "import matplotlib as mpl\n",
    "import matplotlib.pyplot as plt\n",
    "import numpy as np\n",
    "import pandas as pd\n",
    "\n",
    "from matplotlib.cm import ScalarMappable\n",
    "from matplotlib.lines import Line2D\n",
    "# from mpl_toolkits.axes_grid1.inset_locator import inset_axes\n",
    "from textwrap import wrap\n",
    "\n",
    "import seaborn as sns\n",
    "import matplotlib.pyplot as plt\n",
    "# sns.set(style=\"darkgrid\")\n",
    "\n"
   ]
  },
  {
   "cell_type": "markdown",
   "id": "1f35165d",
   "metadata": {},
   "source": [
    "## Read CSV, Split train-test"
   ]
  },
  {
   "cell_type": "code",
   "execution_count": 92,
   "id": "33507aa9",
   "metadata": {},
   "outputs": [],
   "source": [
    "import spacy\n",
    "\n",
    "nlp = spacy.load(\"en_core_web_sm\")\n",
    "def count_words(text):\n",
    "  tokens = [word.text for word in nlp(text)]\n",
    "  return len(tokens)"
   ]
  },
  {
   "cell_type": "code",
   "execution_count": 94,
   "id": "a41e0f7f",
   "metadata": {},
   "outputs": [],
   "source": [
    "# (a['data'][0]['paragraphs'])[0]"
   ]
  },
  {
   "cell_type": "code",
   "execution_count": 95,
   "id": "80c4d824",
   "metadata": {
    "scrolled": true
   },
   "outputs": [],
   "source": [
    "# # !python3 -m spacy download en_core_web_sm\n",
    "\n",
    "# a = json.load(open('/net/kdinxidk03/opt/NFS/75y/data/qa/dataset_pos/bioasq/train_bioasq_9B_with_label.json'))\n",
    "# a = json.load(open('/net/kdinxidk03/opt/NFS/75y/data/qa/dataset_pos/emrqa/datasets/relation-train-sampled-0.03.json'))\n",
    "# a = json.load(open('/net/kdinxidk03/opt/NFS/75y/data/qa/dataset_pos/squad/train_squad.json'))\n",
    "\n",
    "\n",
    "# # df = pd.DataFrame()\n",
    "# # df['context'] = [x['context'] for x in a['data'][0]['paragraphs']]\n",
    "# # df['question'] = [x['qas'][0]['question'] for x in a['data'][0]['paragraphs']]\n",
    "# # df['answer'] = [x['qas'][0]['answers'][0]['text'] for x in a['data'][0]['paragraphs']]\n",
    "\n",
    "# df = pd.DataFrame()\n",
    "# df['context'] = [y['context'] for x in a['data'] for y in x['paragraphs'] for z in y['qas']]\n",
    "# df['question'] = [z['question'] for x in a['data'] for y in x['paragraphs'] for z in y['qas']]\n",
    "# df['answer'] = [z['answers'][0]['text'] for x in a['data'] for y in x['paragraphs'] for z in y['qas']]"
   ]
  },
  {
   "cell_type": "code",
   "execution_count": 96,
   "id": "381d2637",
   "metadata": {
    "scrolled": true
   },
   "outputs": [],
   "source": [
    "# (a['data'][0]['paragraphs'][0]['qas'])\n",
    "\n",
    "# df"
   ]
  },
  {
   "cell_type": "code",
   "execution_count": 60,
   "id": "57bf2687",
   "metadata": {},
   "outputs": [],
   "source": [
    "# len(np.unique(df['context'].values))/len(np.unique(df['answer'].values))\n",
    "# len(np.unique(df['context'].values)), len(np.unique(df['question'].values))"
   ]
  },
  {
   "cell_type": "code",
   "execution_count": 97,
   "id": "5ceea96a",
   "metadata": {
    "scrolled": true
   },
   "outputs": [
    {
     "name": "stdout",
     "output_type": "stream",
     "text": [
      "1097\n",
      "Number of Unique Contexts   : 190\n",
      "Ratio of QA Pair-to-Context : 5.773684210526316\n"
     ]
    }
   ],
   "source": [
    "df = pd.read_csv('../data/otquad-v1.0 - Sheet1.csv')[['title', 'context',\n",
    "                                                      'question', 'answer']]\n",
    "df = df.sample(frac=1).reset_index(drop=True)\n",
    "\n",
    "print(len(df))\n",
    "print(f\"Number of Unique Contexts   : {df['context'].nunique()}\")\n",
    "print(f\"Ratio of QA Pair-to-Context : {len(df)/df['context'].nunique()}\")\n",
    "\n",
    "df['context_length'] = df['context'].apply(count_words)\n",
    "df['question_length'] = df['question'].apply(count_words)\n",
    "df['answer_length'] = df['answer'].apply(count_words)\n"
   ]
  },
  {
   "cell_type": "code",
   "execution_count": null,
   "id": "4d6a9041",
   "metadata": {},
   "outputs": [],
   "source": [
    "# dff = df.sample(100, random_state=42)\n",
    "# dff.to_csv('../data/sample_data.csv', index=False)"
   ]
  },
  {
   "cell_type": "code",
   "execution_count": null,
   "id": "64e700c2",
   "metadata": {},
   "outputs": [],
   "source": [
    "# df"
   ]
  },
  {
   "cell_type": "code",
   "execution_count": null,
   "id": "70ed3b27",
   "metadata": {},
   "outputs": [],
   "source": []
  },
  {
   "cell_type": "code",
   "execution_count": 14,
   "id": "e244f5ab",
   "metadata": {
    "scrolled": true
   },
   "outputs": [],
   "source": [
    "# df_copy = deepcopy(df)\n",
    "# df_copy.drop_duplicates(subset='context', keep=\"last\", inplace = True)\n",
    "# df_copy.reset_index(drop=True)\n",
    "\n",
    "# n = 38\n",
    "# test_fold_lists  = [df_copy.iloc[n*(ct-1):n*ct] for ct in range(1,6)]\n",
    "# train_fold_lists = []\n",
    "# for i in range(5):\n",
    "#   a_index = df_copy.set_index(df_copy.columns.tolist()).index\n",
    "#   b_index = test_fold_lists[i].set_index(df_copy.columns.tolist()).index\n",
    "#   mask = ~a_index.isin(b_index)\n",
    "#   result = df_copy.loc[mask]\n",
    "#   train_fold_lists.append(result)\n",
    "\n",
    "# train_list, test_list = [], []\n",
    "# for i in range(5):\n",
    "#   train = pd.merge(train_fold_lists[i], df, on=\"context\")\n",
    "#   test = pd.merge(test_fold_lists[i], df, on=\"context\")\n",
    "#   train_list.append(train)\n",
    "#   test_list.append(test)"
   ]
  },
  {
   "cell_type": "code",
   "execution_count": 15,
   "id": "d5bf607c",
   "metadata": {},
   "outputs": [],
   "source": [
    "# for x in test_fold_lists:\n",
    "#   print(x.shape)"
   ]
  },
  {
   "cell_type": "code",
   "execution_count": 16,
   "id": "b45998d5",
   "metadata": {},
   "outputs": [],
   "source": [
    "# for x in train_fold_lists:\n",
    "#   print(x.shape)"
   ]
  },
  {
   "cell_type": "code",
   "execution_count": 17,
   "id": "b9382158",
   "metadata": {
    "scrolled": true
   },
   "outputs": [],
   "source": [
    "# train_fold_lists[1]"
   ]
  },
  {
   "cell_type": "code",
   "execution_count": 18,
   "id": "11720223",
   "metadata": {},
   "outputs": [],
   "source": [
    "# test_fold_lists[0]"
   ]
  },
  {
   "cell_type": "code",
   "execution_count": 19,
   "id": "c77b558b",
   "metadata": {},
   "outputs": [],
   "source": [
    "def df_to_json(df, data_path, json_filename):\n",
    "  start_index = [df['context'].values[i].lower().find(df['answer_y'].values[i].lower())\n",
    "                 for i in range(len(df))]\n",
    "  df['start_index_y'] = start_index\n",
    "\n",
    "  print(df.shape)\n",
    "  \n",
    "  for i in range(len(df)):\n",
    "#       print(i, start_index[i])\n",
    "#       print('Original : ',df['answer_y'].values[i].lower())\n",
    "#       print('Extracted: ', df['context'].values[i].lower()[start_index[i]:start_index[i]+len(df['answer_y'].values[i])])\n",
    "      assert df['answer_y'].values[i].lower() == df['context'].values[i].lower()[\n",
    "        start_index[i]:start_index[i]+len(df['answer_y'].values[i])]\n",
    "\n",
    "  print(f'Unique Contexts: {len(np.unique(df.context.values))}\\n Ratio of QA Pair-to-Contexts: {len(df)/len(np.unique(df.context.values))}')\n",
    "\n",
    "  squad_entries= []\n",
    "  for i in tqdm(range(len(df))):\n",
    "    id_num      = i\n",
    "    context     = df['context'].values[i]\n",
    "    question    = df['question_y'].values[i]\n",
    "    answer_text = df['answer_y'].values[i]\n",
    "    start       = df['start_index_y'].values[i]\n",
    "    title       = df['title_y'].values[i]\n",
    "\n",
    "    if start!=-1:\n",
    "      answer={\"text\":answer_text,\"answer_start\":int(start)}\n",
    "    else:\n",
    "      continue\n",
    "    new_entry={\n",
    "               \"qas\": [\n",
    "                 {\n",
    "                  \"id\": int(id_num),\n",
    "                  \"question\": question,\n",
    "                  \"answers\": [answer]\n",
    "                 }\n",
    "                 ],\n",
    "               \"context\": context\n",
    "               }\n",
    "    squad_entries.append({\"title\":title,\n",
    "                          \"paragraphs\":[new_entry]})\n",
    "        \n",
    "\n",
    "  squad_json={\"data\": squad_entries,\n",
    "            \"version\":1.0}\n",
    "\n",
    "#   with open(data_path/json_filename, \"w\") as writer:\n",
    "#       writer.write(json.dumps(squad_json, indent=4) + \"\\n\")\n",
    "\n"
   ]
  },
  {
   "cell_type": "code",
   "execution_count": null,
   "id": "2d7ec32f",
   "metadata": {},
   "outputs": [],
   "source": [
    "# df_to_json(df, data_path, f'otquad.json')\n"
   ]
  },
  {
   "cell_type": "code",
   "execution_count": 20,
   "id": "e919b3eb",
   "metadata": {
    "scrolled": true
   },
   "outputs": [],
   "source": [
    "# data_path = Path('/net/kdinxidk03/opt/NFS/75y/data/qa/dataset_pos/otquad/')\n",
    "# # data_path = Path('../data/')\n",
    "# for i in range(5):\n",
    "#   print(i)\n",
    "#   assert train_list[i].shape[0]+test_list[i].shape[0]==1097\n",
    "#   print(len(set(train_list[i+1]['context'].values.tolist()).intersection(\n",
    "#     set(test_list[i]['context'].values.tolist()))))\n",
    "#   df_to_json(train_list[i], data_path, f'train_otquad_fold_{i+1}.json')\n",
    "#   df_to_json(test_list[i], data_path, f'test_otquad_fold_{i+1}.json')"
   ]
  },
  {
   "cell_type": "code",
   "execution_count": null,
   "id": "5df7e89c",
   "metadata": {},
   "outputs": [],
   "source": [
    "# for i in range(10):\n",
    "#   print(test_list[i].shape)"
   ]
  },
  {
   "cell_type": "code",
   "execution_count": null,
   "id": "33bafaf7",
   "metadata": {},
   "outputs": [],
   "source": [
    "# print('Train total length: ', len(train))\n",
    "# print('Test total length: ', len(test))\n"
   ]
  },
  {
   "cell_type": "markdown",
   "id": "c377daf2",
   "metadata": {},
   "source": [
    "## Plot q-type frequency"
   ]
  },
  {
   "cell_type": "code",
   "execution_count": null,
   "id": "6a710d0e",
   "metadata": {},
   "outputs": [],
   "source": [
    "# a = json.load(open('/net/kdinxidk03/opt/NFS/75y/data/qa/dataset_pos/otquad/otquad.json'))\n",
    "\n",
    "# questions = []\n",
    "# contexts  = []\n",
    "# answers   = []\n",
    "# idxs      = []\n",
    "# for d in a['data']:\n",
    "#   for p in d['paragraphs']:\n",
    "#     for qa in p['qas']:\n",
    "#       idxs.append(qa['id'])\n",
    "#       questions.append(qa['question'])\n",
    "#       answers.append(qa['answers'][0]['text'])\n",
    "#       contexts.append(p['context'])\n",
    "    \n",
    "# print(len(contexts))\n",
    "# print(len(np.unique(contexts)))"
   ]
  },
  {
   "cell_type": "code",
   "execution_count": null,
   "id": "ef0bf24e",
   "metadata": {},
   "outputs": [],
   "source": [
    "# df_squad = pd.DataFrame()\n",
    "# df_squad['question'] = questions\n",
    "# df_squad['answer'] = answers\n",
    "# df_squad['context'] = contexts\n",
    "\n",
    "# df_squad['context_length'] = df_squad['context'].apply(len)\n",
    "# df_squad['question_length'] = df_squad['question'].apply(len)\n",
    "# df_squad['answer_length'] = df_squad['answer'].apply(len)"
   ]
  },
  {
   "cell_type": "code",
   "execution_count": 23,
   "id": "64f69a16",
   "metadata": {},
   "outputs": [],
   "source": [
    "# get_qtype_freq(df)"
   ]
  },
  {
   "cell_type": "code",
   "execution_count": 24,
   "id": "1170ee24",
   "metadata": {},
   "outputs": [],
   "source": [
    "def get_qtype_freq(df):\n",
    "  q_list = df['question'].values.tolist()\n",
    "  q_type = ['what', 'when', 'where', 'who', 'whom', \n",
    "            'which', 'why', 'how'] #, 'name', 'whose', \n",
    "  \n",
    "  q_freq = {}\n",
    "  for ques in q_list:\n",
    "    q_tokens = ques.lower().split()\n",
    "    for typ in q_type:\n",
    "      if typ in q_tokens[0]:\n",
    "        q_freq.setdefault(typ, []).append(ques)\n",
    "\n",
    "  freq_qtype = [len(x) for x in list(q_freq.values())]\n",
    "  print(freq_qtype, sum(freq_qtype))\n",
    "  \n",
    "  df_sorted = pd.DataFrame()\n",
    "  df_sorted['QTYPE'] = list(q_freq.keys())\n",
    "  df_sorted['QFREQ'] = freq_qtype\n",
    "  df_sorted['n'] = freq_qtype\n",
    "  df_sorted = df_sorted.sort_values(\"QFREQ\", ascending=False)\n",
    "\n",
    "  print(df_sorted.shape)\n",
    "  \n",
    "  return df_sorted\n",
    "  "
   ]
  },
  {
   "cell_type": "code",
   "execution_count": 25,
   "id": "df86c7e4",
   "metadata": {},
   "outputs": [],
   "source": [
    "def plot_qtype_frequency(df_sorted, dataset_name):\n",
    "  \n",
    "  # Values for the x axis\n",
    "  ANGLES = np.linspace(0.05, 2 * np.pi - 0.05, len(df_sorted), endpoint=False)\n",
    "\n",
    "  # Cumulative length\n",
    "  QFREQ = df_sorted[\"QFREQ\"].values\n",
    "\n",
    "  # # Mean gain length\n",
    "  # MEAN_GAIN = df_sorted[\"mean_gain\"].values\n",
    "\n",
    "  # Region label\n",
    "  QTYPE = df_sorted[\"QTYPE\"].values\n",
    "\n",
    "  # Number of tracks per region\n",
    "  N = df_sorted[\"n\"].values\n",
    "\n",
    "  GREY12 = \"#1f1f1f\"\n",
    "\n",
    "  # Set default font color to GREY12\n",
    "  plt.rcParams[\"text.color\"] = GREY12\n",
    "\n",
    "  # The minus glyph is not available in Bell MT\n",
    "  # This disables it, and uses a hyphen\n",
    "  plt.rc(\"axes\", unicode_minus=False)\n",
    "\n",
    "  # Colors\n",
    "  COLORS = [\"#6C5B7B\",\"#C06C84\",\"#F67280\",\"#F8B195\"]\n",
    "\n",
    "  # Colormap\n",
    "  cmap = mpl.colors.LinearSegmentedColormap.from_list(\"my color\", COLORS, N=256)\n",
    "\n",
    "  # Normalizer\n",
    "  norm = mpl.colors.Normalize(vmin=N.min(), vmax=N.max())\n",
    "\n",
    "  # Normalized colors. Each number of tracks is mapped to a color in the \n",
    "  # color scale 'cmap'\n",
    "  COLORS = cmap(norm(N))\n",
    "\n",
    "  # Some layout stuff ----------------------------------------------\n",
    "  # Initialize layout in polar coordinates\n",
    "  fig, ax = plt.subplots(figsize=(6, 6), subplot_kw={\"projection\": \"polar\"})\n",
    "\n",
    "  # Set background color to white, both axis and figure.\n",
    "  # fig.patch.set_facecolor(\"white\")\n",
    "  # ax.set_facecolor(\"white\")\n",
    "\n",
    "  ax.set_theta_offset(100 * np.pi / 3)\n",
    "  ax.set_ylim(-100, 350)\n",
    "\n",
    "  # Add geometries to the plot -------------------------------------\n",
    "  # See the zorder to manipulate which geometries are on top\n",
    "\n",
    "  # Add bars to represent the cumulative track lengths\n",
    "  ax.bar(ANGLES, QFREQ, color=COLORS, alpha=1, width=0.6, zorder=11) #, ls=(0, (4, 4))\n",
    "\n",
    "  # Add dashed vertical lines. These are just references\n",
    "  ax.vlines(ANGLES, 0, 350, alpha=0.5, color=GREY12, zorder=11)\n",
    "\n",
    "  # # Add dots to represent the mean gain\n",
    "  # ax.scatter(ANGLES, MEAN_GAIN, s=60, color=GREY12, zorder=11)\n",
    "\n",
    "  # Add labels for the regions -------------------------------------\n",
    "  # Note the 'wrap()' function.\n",
    "  # The '5' means we want at most 5 consecutive letters in a word, \n",
    "  # but the 'break_long_words' means we don't want to break words \n",
    "  # longer than 5 characters.\n",
    "  QTYPE = [\"\\n\".join(wrap(r, 5, break_long_words=False)) for r in QTYPE]\n",
    "\n",
    "  # Set the labels\n",
    "  ax.set_xticks(ANGLES)\n",
    "  ax.set_xticklabels(QTYPE, size=15);\n",
    "\n",
    "  plt.show()\n",
    "  \n",
    "#   sns.set(style=\"whitegrid\")\n",
    "  colors = sns.color_palette('pastel')[0:len(df_sorted)]\n",
    "\n",
    "  plt.subplots(figsize=(8, 15))\n",
    "  explode = (0, 0.02, 0.03, 0.05, 0.1, 0.15, 0.4, 0.6)\n",
    "  plt.pie(df_sorted['QFREQ'].values, labels=df_sorted['QTYPE'].values,\n",
    "          explode=explode, colors = colors, autopct='%1.1f%%', shadow=False,\n",
    "          textprops={'fontsize': 15})\n",
    "  plt.xticks(size=25)\n",
    "#   plt.title(f\"Distribution of question types in {dataset_name}\", size=15)\n",
    "  plt.show()\n"
   ]
  },
  {
   "cell_type": "code",
   "execution_count": 26,
   "id": "c13031e4",
   "metadata": {},
   "outputs": [],
   "source": [
    "def density_plot_data(df, col_name_list, which_attr, dataset_name, x1limit, x2limit, figsize=(6,4)):\n",
    "  plt.figure(figsize=figsize)\n",
    "  for col_name in col_name_list:\n",
    "    print(len(df[col_name]))\n",
    "    fig = sns.kdeplot(df[col_name], shade=True, label = col_name)\n",
    "  plt.xlim(x1limit, x2limit)\n",
    "  plt.xticks(size=14)\n",
    "  plt.yticks(size=14)\n",
    "  plt.xlabel('Length', size=15)\n",
    "  plt.ylabel('Density\\n', size=15)\n",
    "  plt.legend(loc='best', fontsize=14)\n",
    "#   plt.title(f\"Distribution of '{which_attr}'\\nin {dataset_name}\", size=15)\n",
    "  plt.show()"
   ]
  },
  {
   "cell_type": "code",
   "execution_count": 27,
   "id": "bc95c5c6",
   "metadata": {},
   "outputs": [
    {
     "name": "stdout",
     "output_type": "stream",
     "text": [
      "\u001b[1mcpgQA\u001b[0m\n"
     ]
    }
   ],
   "source": [
    "class color:\n",
    "   PURPLE = '\\033[95m'\n",
    "   CYAN = '\\033[96m'\n",
    "   DARKCYAN = '\\033[36m'\n",
    "   BLUE = '\\033[94m'\n",
    "   GREEN = '\\033[92m'\n",
    "   YELLOW = '\\033[93m'\n",
    "   RED = '\\033[91m'\n",
    "   BOLD = '\\033[1m'\n",
    "   UNDERLINE = '\\033[4m'\n",
    "   END = '\\033[0m'\n",
    "\n",
    "print(color.BOLD + 'cpgQA' + color.END)"
   ]
  },
  {
   "cell_type": "code",
   "execution_count": 28,
   "id": "76d1d6e6",
   "metadata": {},
   "outputs": [
    {
     "name": "stdout",
     "output_type": "stream",
     "text": [
      "[61, 76, 578, 92, 70, 14, 28, 2] 921\n",
      "(8, 3)\n"
     ]
    },
    {
     "data": {
      "image/png": "[encoded data removed]",
      "text/plain": [
       "<Figure size 432x432 with 1 Axes>"
      ]
     },
     "metadata": {
      "needs_background": "light"
     },
     "output_type": "display_data"
    },
    {
     "data": {
      "image/png": "[encoded data removed]",
      "text/plain": [
       "<Figure size 576x1080 with 1 Axes>"
      ]
     },
     "metadata": {},
     "output_type": "display_data"
    }
   ],
   "source": [
    "df_sorted = get_qtype_freq(df)\n",
    "plot_qtype_frequency(df_sorted, 'cpgQA')"
   ]
  },
  {
   "cell_type": "code",
   "execution_count": 29,
   "id": "91ff2090",
   "metadata": {},
   "outputs": [],
   "source": [
    "# density_plot_data(df, ['context_length'], 'context length', 'OTQuAD', -50, 750, figsize=(6,4))\n",
    "# density_plot_data(df, ['question_length', 'answer_length'], 'question and answer length', 'OTQuAD', -10, 100, figsize=(6,4))\n"
   ]
  },
  {
   "cell_type": "code",
   "execution_count": 30,
   "id": "2cc386b4",
   "metadata": {},
   "outputs": [],
   "source": [
    "# import seaborn as sns\n",
    "# iris = sns.load_dataset(\"iris\")\n",
    "# ax = sns.boxplot(data=iris, orient=\"h\", palette=\"Set2\")"
   ]
  },
  {
   "cell_type": "code",
   "execution_count": 31,
   "id": "9a46065e",
   "metadata": {
    "code_folding": [
     0
    ]
   },
   "outputs": [],
   "source": [
    "new_title = {'Discussion of Recommendations: Risk Mitigation: Recommendation':'Recommendations',\n",
    " 'Discussion of Recommendations: Risk Mitigation: Discussion: Written Informed Consent and Opioid Treatment Agreements \\n':'Recommendations',\n",
    " 'Discussion of Recommendations: Opioid Therapy for Acute Pain: Discussion':'Recommendations',\n",
    " 'Discussion of Recommendations: Risk Mitigation: Discussion: Prescribing of Naloxone Rescue and Accompanying Education':'Recommendations',\n",
    " 'Discussion of Recommendations: Opioid Therapy for Acute Pain: Recommendation':'Recommendations',\n",
    " 'Recommendations':'Recommendations',\n",
    " 'About this Clinical Practice Guideline: Shared Decision Making': 'Specifications',\n",
    " 'Discussion of Recommendations: Initiation and Continuation of Opioids: Recommendation \\n':'Recommendations',\n",
    " 'Introduction' : 'Introduction',\n",
    " 'Discussion of Recommendations: Risk Mitigation: Discussion: Other Risk Mitigation Strategies':'Recommendations',\n",
    " 'Paradigm Shift in Pain and Its Treatment':'Background',\n",
    " 'Discussion of Recommendations: Type, Dose, Duration, Follow-up, and Taper of Opioids: Recommendations':'Recommendations',\n",
    " 'Epidemiology and Impact: General Population':'Background',\n",
    " 'Discussion of Recommendations: Risk Mitigation: Discussion':'Recommendations',\n",
    " 'About this Clinical Practice Guideline: Methods': 'Specifications',\n",
    " 'Opioid Epidemic':'Background',\n",
    " 'Discussion of Recommendations: Initiation and Continuation of Opioids: Discussion \\n':'Recommendations',\n",
    " 'Module C: Tapering or Discontinuation of Opioid Therapy': 'Algorithm',\n",
    " 'Discussion of Recommendations: Type, Dose, Duration, Follow-up, and Taper of Opioids: Discussion':'Recommendations',\n",
    " 'Discussion of Recommendations: Risk Mitigation: Discussion: State Prescription Drug Monitoring Programs':'Recommendations',\n",
    " 'Discussion of Recommendations: Initiation and Continuation of Opioids: Recommendations \\n':'Recommendations',\n",
    " 'How to Use This Clinical Practice Guideline': 'Introduction',\n",
    " 'Chronic Pain and Co-occurring Conditions ':'Background',\n",
    " 'Discussion of Recommendations: Risk Mitigation: Discussion: Patients at High Risk for Opioid Use Disorder':'Recommendations',\n",
    " 'Module A: Determination of Appropriateness for Opioid Therapy': 'Algorithm',\n",
    " 'Risk Factors for Adverse Outcomes of Opioid Therapy ':'Background',\n",
    " 'Taxonomy':'Background',\n",
    " 'About this Clinical Practice Guideline': 'Specifications',\n",
    " 'About this Clinical Practice Guideline: Patient-centered Care': 'Specifications',\n",
    " 'Pain Management Opioid Taper Decision Tool': 'Specifications',\n",
    " 'Prioritizing Safe Opioid Prescribing Practices and Use ':'Background',\n",
    " 'Discussion of Recommendations: Initiation and Continuation of Opioids: Discussion':'Recommendations',\n",
    " 'Significant Risk Factors':'Background',\n",
    " 'About this Clinical Practice Guideline: Clinical Decision Support Tools': 'Specifications',\n",
    " 'Qualifying Statements':'Introduction',\n",
    " 'Module D: Patients Currently on Opioid Therapy': 'Algorithm',\n",
    " 'Mental health disorders':'Background',\n",
    " 'Discussion of Recommendations: Risk Mitigation: Discussion: Urine Drug Testing and Confirmatory Testing':'Recommendations',\n",
    " 'Discussion of Recommendations: Initiation and Continuation of Opioids: Recommendation':'Recommendations',\n",
    " 'About this Clinical Practice Guideline: Scope of this Clinical Practice Guideline': 'Specifications',\n",
    " 'Algorithm': 'Algorithm',\n",
    " 'Module B: Treatment with Opioid Therapy': 'Algorithm',\n",
    " 'About this Clinical Practice Guideline: Highlighted Features of this Clinical Practice Guideline': 'Specifications',\n",
    " 'Epidemiology and Impact: VA/DoD Population ': 'Background'}\n"
   ]
  },
  {
   "cell_type": "code",
   "execution_count": 32,
   "id": "fd374e2b",
   "metadata": {},
   "outputs": [
    {
     "data": {
      "text/plain": [
       "Recommendations    411\n",
       "Specifications     280\n",
       "Background         233\n",
       "Algorithm          129\n",
       "Introduction        44\n",
       "Name: title_new, dtype: int64"
      ]
     },
     "execution_count": 32,
     "metadata": {},
     "output_type": "execute_result"
    }
   ],
   "source": [
    "df['title_new'] = df['title'].map(new_title)\n",
    "df['title_new'].value_counts()"
   ]
  },
  {
   "cell_type": "code",
   "execution_count": 33,
   "id": "eed7b413",
   "metadata": {},
   "outputs": [],
   "source": [
    "# df_con = pd.DataFrame()\n",
    "# df_con['length'] = df['context_length']\n",
    "# df_con['which'] = ['context_length']*df_con.shape[0]\n",
    "\n",
    "# df_ans = pd.DataFrame()\n",
    "# df_ans['length'] = df['answer_length']\n",
    "# df_ans['which'] = ['answer_length']*df_ans.shape[0]\n",
    "\n",
    "# df_que = pd.DataFrame()\n",
    "# df_que['length'] = df['question_length']\n",
    "# df_que['which'] = ['question_length']*df_que.shape[0]\n"
   ]
  },
  {
   "cell_type": "code",
   "execution_count": 34,
   "id": "7cc720b2",
   "metadata": {},
   "outputs": [],
   "source": [
    "# df_len = pd.DataFrame()\n",
    "# df_len = df_len.append(df_con)\n",
    "# df_len = df_len.append(df_que)\n",
    "# df_len = df_len.append(df_ans)\n",
    "\n",
    "# df_len"
   ]
  },
  {
   "cell_type": "code",
   "execution_count": 98,
   "id": "b16c9f09",
   "metadata": {},
   "outputs": [
    {
     "data": {
      "text/html": [
       "<div>\n",
       "<style scoped>\n",
       "    .dataframe tbody tr th:only-of-type {\n",
       "        vertical-align: middle;\n",
       "    }\n",
       "\n",
       "    .dataframe tbody tr th {\n",
       "        vertical-align: top;\n",
       "    }\n",
       "\n",
       "    .dataframe thead th {\n",
       "        text-align: right;\n",
       "    }\n",
       "</style>\n",
       "<table border=\"1\" class=\"dataframe\">\n",
       "  <thead>\n",
       "    <tr style=\"text-align: right;\">\n",
       "      <th></th>\n",
       "      <th>Context</th>\n",
       "      <th>Question</th>\n",
       "      <th>Answer</th>\n",
       "    </tr>\n",
       "  </thead>\n",
       "  <tbody>\n",
       "    <tr>\n",
       "      <th>count</th>\n",
       "      <td>1097.000000</td>\n",
       "      <td>1097.000000</td>\n",
       "      <td>1097.000000</td>\n",
       "    </tr>\n",
       "    <tr>\n",
       "      <th>mean</th>\n",
       "      <td>201.388332</td>\n",
       "      <td>14.437557</td>\n",
       "      <td>13.661805</td>\n",
       "    </tr>\n",
       "    <tr>\n",
       "      <th>std</th>\n",
       "      <td>130.458192</td>\n",
       "      <td>7.334299</td>\n",
       "      <td>16.077865</td>\n",
       "    </tr>\n",
       "    <tr>\n",
       "      <th>min</th>\n",
       "      <td>28.000000</td>\n",
       "      <td>4.000000</td>\n",
       "      <td>1.000000</td>\n",
       "    </tr>\n",
       "    <tr>\n",
       "      <th>25%</th>\n",
       "      <td>108.000000</td>\n",
       "      <td>9.000000</td>\n",
       "      <td>4.000000</td>\n",
       "    </tr>\n",
       "    <tr>\n",
       "      <th>50%</th>\n",
       "      <td>173.000000</td>\n",
       "      <td>12.000000</td>\n",
       "      <td>8.000000</td>\n",
       "    </tr>\n",
       "    <tr>\n",
       "      <th>75%</th>\n",
       "      <td>247.000000</td>\n",
       "      <td>18.000000</td>\n",
       "      <td>17.000000</td>\n",
       "    </tr>\n",
       "    <tr>\n",
       "      <th>max</th>\n",
       "      <td>662.000000</td>\n",
       "      <td>60.000000</td>\n",
       "      <td>183.000000</td>\n",
       "    </tr>\n",
       "  </tbody>\n",
       "</table>\n",
       "</div>"
      ],
      "text/plain": [
       "           Context     Question       Answer\n",
       "count  1097.000000  1097.000000  1097.000000\n",
       "mean    201.388332    14.437557    13.661805\n",
       "std     130.458192     7.334299    16.077865\n",
       "min      28.000000     4.000000     1.000000\n",
       "25%     108.000000     9.000000     4.000000\n",
       "50%     173.000000    12.000000     8.000000\n",
       "75%     247.000000    18.000000    17.000000\n",
       "max     662.000000    60.000000   183.000000"
      ]
     },
     "execution_count": 98,
     "metadata": {},
     "output_type": "execute_result"
    }
   ],
   "source": [
    "# df_len = pd.DataFrame()\n",
    "# df_len['Context'] = df['context_length']\n",
    "# df_len['Question'] = df['question_length']\n",
    "# df_len['Answer'] = df['answer_length']\n",
    "\n",
    "# df_len.describe()"
   ]
  },
  {
   "cell_type": "code",
   "execution_count": 67,
   "id": "1970be7f",
   "metadata": {},
   "outputs": [],
   "source": [
    "df_len = pd.DataFrame()\n",
    "df_len['Context'] = df['context_length']\n",
    "df_len['Question'] = df['question_length']\n",
    "df_len['Answer'] = df['answer_length']\n"
   ]
  },
  {
   "cell_type": "code",
   "execution_count": 90,
   "id": "55081c58",
   "metadata": {},
   "outputs": [
    {
     "data": {
      "image/png": "[encoded data removed]",
      "text/plain": [
       "<Figure size 720x360 with 1 Axes>"
      ]
     },
     "metadata": {
      "needs_background": "light"
     },
     "output_type": "display_data"
    }
   ],
   "source": [
    "plt.subplots(figsize=(10, 5))\n",
    "fig = sns.boxplot(data=df_len, orient=\"h\", palette=\"pastel\")\n",
    "# plt.xlim(-5, 430)\n",
    "# plt.xticks(range(0, 430, 25), size=12)\n",
    "plt.yticks(size=15)\n",
    "plt.xlabel('Length in number of words', size=15)\n",
    "# plt.ylabel('Density\\n', size=18)\n",
    "#   plt.title(f\"Distribution of '{which_attr}'\\nin {dataset_name}\", size=15)\n",
    "plt.show()"
   ]
  },
  {
   "cell_type": "code",
   "execution_count": 69,
   "id": "6a0f2cfa",
   "metadata": {},
   "outputs": [
    {
     "data": {
      "text/html": [
       "<div>\n",
       "<style scoped>\n",
       "    .dataframe tbody tr th:only-of-type {\n",
       "        vertical-align: middle;\n",
       "    }\n",
       "\n",
       "    .dataframe tbody tr th {\n",
       "        vertical-align: top;\n",
       "    }\n",
       "\n",
       "    .dataframe thead th {\n",
       "        text-align: right;\n",
       "    }\n",
       "</style>\n",
       "<table border=\"1\" class=\"dataframe\">\n",
       "  <thead>\n",
       "    <tr style=\"text-align: right;\">\n",
       "      <th></th>\n",
       "      <th>Context</th>\n",
       "      <th>Question</th>\n",
       "      <th>Answer</th>\n",
       "    </tr>\n",
       "  </thead>\n",
       "  <tbody>\n",
       "    <tr>\n",
       "      <th>count</th>\n",
       "      <td>87599.000000</td>\n",
       "      <td>87599.000000</td>\n",
       "      <td>87599.000000</td>\n",
       "    </tr>\n",
       "    <tr>\n",
       "      <th>mean</th>\n",
       "      <td>140.277606</td>\n",
       "      <td>11.402824</td>\n",
       "      <td>3.480850</td>\n",
       "    </tr>\n",
       "    <tr>\n",
       "      <th>std</th>\n",
       "      <td>57.937860</td>\n",
       "      <td>3.775971</td>\n",
       "      <td>3.871939</td>\n",
       "    </tr>\n",
       "    <tr>\n",
       "      <th>min</th>\n",
       "      <td>22.000000</td>\n",
       "      <td>1.000000</td>\n",
       "      <td>1.000000</td>\n",
       "    </tr>\n",
       "    <tr>\n",
       "      <th>25%</th>\n",
       "      <td>103.000000</td>\n",
       "      <td>9.000000</td>\n",
       "      <td>1.000000</td>\n",
       "    </tr>\n",
       "    <tr>\n",
       "      <th>50%</th>\n",
       "      <td>129.000000</td>\n",
       "      <td>11.000000</td>\n",
       "      <td>2.000000</td>\n",
       "    </tr>\n",
       "    <tr>\n",
       "      <th>75%</th>\n",
       "      <td>167.000000</td>\n",
       "      <td>13.000000</td>\n",
       "      <td>4.000000</td>\n",
       "    </tr>\n",
       "    <tr>\n",
       "      <th>max</th>\n",
       "      <td>809.000000</td>\n",
       "      <td>60.000000</td>\n",
       "      <td>46.000000</td>\n",
       "    </tr>\n",
       "  </tbody>\n",
       "</table>\n",
       "</div>"
      ],
      "text/plain": [
       "            Context      Question        Answer\n",
       "count  87599.000000  87599.000000  87599.000000\n",
       "mean     140.277606     11.402824      3.480850\n",
       "std       57.937860      3.775971      3.871939\n",
       "min       22.000000      1.000000      1.000000\n",
       "25%      103.000000      9.000000      1.000000\n",
       "50%      129.000000     11.000000      2.000000\n",
       "75%      167.000000     13.000000      4.000000\n",
       "max      809.000000     60.000000     46.000000"
      ]
     },
     "execution_count": 69,
     "metadata": {},
     "output_type": "execute_result"
    }
   ],
   "source": [
    "df_len.describe()"
   ]
  },
  {
   "cell_type": "markdown",
   "id": "d8c98b1d",
   "metadata": {},
   "source": []
  },
  {
   "cell_type": "code",
   "execution_count": 102,
   "id": "3430a8dd",
   "metadata": {},
   "outputs": [
    {
     "name": "stdout",
     "output_type": "stream",
     "text": [
      "937\n",
      "Number of Unique Contexts   : 930\n",
      "Ratio of QA Pair-to-Context : 1.0075268817204301\n"
     ]
    },
    {
     "data": {
      "text/html": [
       "<div>\n",
       "<style scoped>\n",
       "    .dataframe tbody tr th:only-of-type {\n",
       "        vertical-align: middle;\n",
       "    }\n",
       "\n",
       "    .dataframe tbody tr th {\n",
       "        vertical-align: top;\n",
       "    }\n",
       "\n",
       "    .dataframe thead th {\n",
       "        text-align: right;\n",
       "    }\n",
       "</style>\n",
       "<table border=\"1\" class=\"dataframe\">\n",
       "  <thead>\n",
       "    <tr style=\"text-align: right;\">\n",
       "      <th></th>\n",
       "      <th>Context</th>\n",
       "      <th>Question</th>\n",
       "      <th>Answer</th>\n",
       "    </tr>\n",
       "  </thead>\n",
       "  <tbody>\n",
       "    <tr>\n",
       "      <th>count</th>\n",
       "      <td>937.000000</td>\n",
       "      <td>937.000000</td>\n",
       "      <td>937.000000</td>\n",
       "    </tr>\n",
       "    <tr>\n",
       "      <th>mean</th>\n",
       "      <td>35.783351</td>\n",
       "      <td>10.312700</td>\n",
       "      <td>1.692636</td>\n",
       "    </tr>\n",
       "    <tr>\n",
       "      <th>std</th>\n",
       "      <td>30.653304</td>\n",
       "      <td>3.665993</td>\n",
       "      <td>1.413261</td>\n",
       "    </tr>\n",
       "    <tr>\n",
       "      <th>min</th>\n",
       "      <td>4.000000</td>\n",
       "      <td>4.000000</td>\n",
       "      <td>1.000000</td>\n",
       "    </tr>\n",
       "    <tr>\n",
       "      <th>25%</th>\n",
       "      <td>20.000000</td>\n",
       "      <td>7.000000</td>\n",
       "      <td>1.000000</td>\n",
       "    </tr>\n",
       "    <tr>\n",
       "      <th>50%</th>\n",
       "      <td>29.000000</td>\n",
       "      <td>9.000000</td>\n",
       "      <td>1.000000</td>\n",
       "    </tr>\n",
       "    <tr>\n",
       "      <th>75%</th>\n",
       "      <td>42.000000</td>\n",
       "      <td>12.000000</td>\n",
       "      <td>2.000000</td>\n",
       "    </tr>\n",
       "    <tr>\n",
       "      <th>max</th>\n",
       "      <td>287.000000</td>\n",
       "      <td>24.000000</td>\n",
       "      <td>23.000000</td>\n",
       "    </tr>\n",
       "  </tbody>\n",
       "</table>\n",
       "</div>"
      ],
      "text/plain": [
       "          Context    Question      Answer\n",
       "count  937.000000  937.000000  937.000000\n",
       "mean    35.783351   10.312700    1.692636\n",
       "std     30.653304    3.665993    1.413261\n",
       "min      4.000000    4.000000    1.000000\n",
       "25%     20.000000    7.000000    1.000000\n",
       "50%     29.000000    9.000000    1.000000\n",
       "75%     42.000000   12.000000    2.000000\n",
       "max    287.000000   24.000000   23.000000"
      ]
     },
     "execution_count": 102,
     "metadata": {},
     "output_type": "execute_result"
    }
   ],
   "source": [
    "a = json.load(open('/net/kdinxidk03/opt/NFS/75y/data/qa/dataset_pos/bioasq/test_bioasq9b.json'))\n",
    "# a = json.load(open('/net/kdinxidk03/opt/NFS/75y/data/qa/dataset_pos/emrqa/datasets/relation-train-sampled-0.03.json'))\n",
    "# a = json.load(open('/net/kdinxidk03/opt/NFS/75y/data/qa/dataset_pos/squad/train_squad.json'))\n",
    "\n",
    "\n",
    "df = pd.DataFrame()\n",
    "df['context'] = [x['context'] for x in a['data'][0]['paragraphs']]\n",
    "df['question'] = [x['qas'][0]['question'] for x in a['data'][0]['paragraphs']]\n",
    "df['answer'] = [x['qas'][0]['answers'][0]['text'] for x in a['data'][0]['paragraphs']]\n",
    "\n",
    "print(len(df))\n",
    "print(f\"Number of Unique Contexts   : {df['context'].nunique()}\")\n",
    "print(f\"Ratio of QA Pair-to-Context : {len(df)/df['context'].nunique()}\")\n",
    "\n",
    "df['context_length'] = df['context'].apply(count_words)\n",
    "df['question_length'] = df['question'].apply(count_words)\n",
    "df['answer_length'] = df['answer'].apply(count_words)\n",
    "\n",
    "df_len = pd.DataFrame()\n",
    "df_len['Context'] = df['context_length']\n",
    "df_len['Question'] = df['question_length']\n",
    "df_len['Answer'] = df['answer_length']\n",
    "\n",
    "df_len.describe()"
   ]
  },
  {
   "cell_type": "code",
   "execution_count": 99,
   "id": "97aa9a71",
   "metadata": {},
   "outputs": [
    {
     "name": "stdout",
     "output_type": "stream",
     "text": [
      "80405\n",
      "Number of Unique Contexts   : 41\n",
      "Ratio of QA Pair-to-Context : 1961.0975609756097\n"
     ]
    },
    {
     "data": {
      "text/html": [
       "<div>\n",
       "<style scoped>\n",
       "    .dataframe tbody tr th:only-of-type {\n",
       "        vertical-align: middle;\n",
       "    }\n",
       "\n",
       "    .dataframe tbody tr th {\n",
       "        vertical-align: top;\n",
       "    }\n",
       "\n",
       "    .dataframe thead th {\n",
       "        text-align: right;\n",
       "    }\n",
       "</style>\n",
       "<table border=\"1\" class=\"dataframe\">\n",
       "  <thead>\n",
       "    <tr style=\"text-align: right;\">\n",
       "      <th></th>\n",
       "      <th>Context</th>\n",
       "      <th>Question</th>\n",
       "      <th>Answer</th>\n",
       "    </tr>\n",
       "  </thead>\n",
       "  <tbody>\n",
       "    <tr>\n",
       "      <th>count</th>\n",
       "      <td>80405.000000</td>\n",
       "      <td>80405.000000</td>\n",
       "      <td>80405.000000</td>\n",
       "    </tr>\n",
       "    <tr>\n",
       "      <th>mean</th>\n",
       "      <td>1508.810870</td>\n",
       "      <td>8.111262</td>\n",
       "      <td>11.520154</td>\n",
       "    </tr>\n",
       "    <tr>\n",
       "      <th>std</th>\n",
       "      <td>700.251123</td>\n",
       "      <td>2.643020</td>\n",
       "      <td>6.327157</td>\n",
       "    </tr>\n",
       "    <tr>\n",
       "      <th>min</th>\n",
       "      <td>107.000000</td>\n",
       "      <td>1.000000</td>\n",
       "      <td>1.000000</td>\n",
       "    </tr>\n",
       "    <tr>\n",
       "      <th>25%</th>\n",
       "      <td>1096.000000</td>\n",
       "      <td>7.000000</td>\n",
       "      <td>6.000000</td>\n",
       "    </tr>\n",
       "    <tr>\n",
       "      <th>50%</th>\n",
       "      <td>1449.000000</td>\n",
       "      <td>8.000000</td>\n",
       "      <td>11.000000</td>\n",
       "    </tr>\n",
       "    <tr>\n",
       "      <th>75%</th>\n",
       "      <td>1669.000000</td>\n",
       "      <td>10.000000</td>\n",
       "      <td>16.000000</td>\n",
       "    </tr>\n",
       "    <tr>\n",
       "      <th>max</th>\n",
       "      <td>2866.000000</td>\n",
       "      <td>28.000000</td>\n",
       "      <td>31.000000</td>\n",
       "    </tr>\n",
       "  </tbody>\n",
       "</table>\n",
       "</div>"
      ],
      "text/plain": [
       "            Context      Question        Answer\n",
       "count  80405.000000  80405.000000  80405.000000\n",
       "mean    1508.810870      8.111262     11.520154\n",
       "std      700.251123      2.643020      6.327157\n",
       "min      107.000000      1.000000      1.000000\n",
       "25%     1096.000000      7.000000      6.000000\n",
       "50%     1449.000000      8.000000     11.000000\n",
       "75%     1669.000000     10.000000     16.000000\n",
       "max     2866.000000     28.000000     31.000000"
      ]
     },
     "execution_count": 99,
     "metadata": {},
     "output_type": "execute_result"
    }
   ],
   "source": [
    "# a = json.load(open('/net/kdinxidk03/opt/NFS/75y/data/qa/dataset_pos/bioasq/train_bioasq_9B_with_label.json'))\n",
    "a = json.load(open('/net/kdinxidk03/opt/NFS/75y/data/qa/dataset_pos/emrqa/datasets/relation-dev.json'))\n",
    "# a = json.load(open('/net/kdinxidk03/opt/NFS/75y/data/qa/dataset_pos/squad/train_squad.json'))\n",
    "\n",
    "\n",
    "# df = pd.DataFrame()\n",
    "# df['context'] = [x['context'] for x in a['data'][0]['paragraphs']]\n",
    "# df['question'] = [x['qas'][0]['question'] for x in a['data'][0]['paragraphs']]\n",
    "# df['answer'] = [x['qas'][0]['answers'][0]['text'] for x in a['data'][0]['paragraphs']]\n",
    "\n",
    "df = pd.DataFrame()\n",
    "df['context'] = [y['context'] for x in a['data'] for y in x['paragraphs'] for z in y['qas']]\n",
    "df['question'] = [z['question'] for x in a['data'] for y in x['paragraphs'] for z in y['qas']]\n",
    "df['answer'] = [z['answers'][0]['text'] for x in a['data'] for y in x['paragraphs'] for z in y['qas']]\n",
    "\n",
    "\n",
    "print(len(df))\n",
    "print(f\"Number of Unique Contexts   : {df['context'].nunique()}\")\n",
    "print(f\"Ratio of QA Pair-to-Context : {len(df)/df['context'].nunique()}\")\n",
    "\n",
    "df['context_length'] = df['context'].apply(count_words)\n",
    "df['question_length'] = df['question'].apply(count_words)\n",
    "df['answer_length'] = df['answer'].apply(count_words)\n",
    "\n",
    "df_len = pd.DataFrame()\n",
    "df_len['Context'] = df['context_length']\n",
    "df_len['Question'] = df['question_length']\n",
    "df_len['Answer'] = df['answer_length']\n",
    "\n",
    "df_len.describe()"
   ]
  },
  {
   "cell_type": "code",
   "execution_count": null,
   "id": "30f793be",
   "metadata": {},
   "outputs": [],
   "source": [
    "# # test sets\n",
    "\n",
    "# # emrqa\n",
    "# Context\tQuestion\tAnswer\n",
    "# count\t80405.000000\t80405.000000\t80405.000000\n",
    "# mean\t1508.810870\t8.111262\t11.520154\n",
    "# std\t700.251123\t2.643020\t6.327157\n",
    "# min\t107.000000\t1.000000\t1.000000\n",
    "# 25%\t1096.000000\t7.000000\t6.000000\n",
    "# 50%\t1449.000000\t8.000000\t11.000000\n",
    "# 75%\t1669.000000\t10.000000\t16.000000\n",
    "# max\t2866.000000\t28.000000\t31.000000\n",
    "\n",
    "# # bioasq\n",
    "# \tContext\tQuestion\tAnswer\n",
    "# count\t937.000000\t937.000000\t937.000000\n",
    "# mean\t35.783351\t10.312700\t1.692636\n",
    "# std\t30.653304\t3.665993\t1.413261\n",
    "# min\t4.000000\t4.000000\t1.000000\n",
    "# 25%\t20.000000\t7.000000\t1.000000\n",
    "# 50%\t29.000000\t9.000000\t1.000000\n",
    "# 75%\t42.000000\t12.000000\t2.000000\n",
    "# max\t287.000000\t24.000000\t23.000000"
   ]
  },
  {
   "cell_type": "code",
   "execution_count": null,
   "id": "5e12946f",
   "metadata": {},
   "outputs": [],
   "source": [
    "# bioasq\n",
    "# \tContext\tQuestion\tAnswer\n",
    "# count\t13178.000000\t13178.000000\t13178.000000\n",
    "# mean\t284.015708\t10.865002\t2.686295\n",
    "# std\t113.576309\t3.907588\t3.809507\n",
    "# min\t9.000000\t3.000000\t1.000000\n",
    "# 25%\t217.000000\t8.000000\t1.000000\n",
    "# 50%\t274.000000\t10.000000\t1.000000\n",
    "# 75%\t330.000000\t13.000000\t3.000000\n",
    "# max\t3191.000000\t30.000000\t53.000000\n",
    "\n",
    "\n",
    "# emrqa\n",
    "# \tContext\tQuestion\tAnswer\n",
    "# count\t18056.000000\t18056.000000\t18056.000000\n",
    "# mean\t1499.337838\t8.250111\t11.839333\n",
    "# std\t709.672972\t2.752150\t5.809135\n",
    "# min\t106.000000\t1.000000\t1.000000\n",
    "# 25%\t997.000000\t7.000000\t7.000000\n",
    "# 50%\t1443.000000\t8.000000\t12.000000\n",
    "# 75%\t1961.000000\t10.000000\t16.000000\n",
    "# max\t3687.000000\t28.000000\t31.000000\n",
    "\n",
    "\n",
    "# cpgQA\n",
    "# \tContext\tQuestion\tAnswer\n",
    "# count\t1097.000000\t1097.000000\t1097.000000\n",
    "# mean\t201.388332\t14.437557\t13.661805\n",
    "# std\t130.458192\t7.334299\t16.077865\n",
    "# min\t28.000000\t4.000000\t1.000000\n",
    "# 25%\t108.000000\t9.000000\t4.000000\n",
    "# 50%\t173.000000\t12.000000\t8.000000\n",
    "# 75%\t247.000000\t18.000000\t17.000000\n",
    "# max\t662.000000\t60.000000\t183.000000"
   ]
  },
  {
   "cell_type": "code",
   "execution_count": 100,
   "id": "514c6b47",
   "metadata": {},
   "outputs": [],
   "source": [
    "# a['data'][-1]['paragraphs'][0]"
   ]
  },
  {
   "cell_type": "code",
   "execution_count": null,
   "id": "d93a5c7f",
   "metadata": {},
   "outputs": [],
   "source": []
  },
  {
   "cell_type": "code",
   "execution_count": null,
   "id": "d285d5bd",
   "metadata": {},
   "outputs": [],
   "source": []
  },
  {
   "cell_type": "code",
   "execution_count": null,
   "id": "5a3a3795",
   "metadata": {},
   "outputs": [],
   "source": []
  },
  {
   "cell_type": "markdown",
   "id": "05ccc777",
   "metadata": {},
   "source": [
    "The 75th percentile is the value at which 25% of the answers lie above that value and 75% of the answers lie below that value."
   ]
  }
 ],
 "metadata": {
  "kernelspec": {
   "display_name": "Python 3 (ipykernel)",
   "language": "python",
   "name": "python3"
  },
  "language_info": {
   "codemirror_mode": {
    "name": "ipython",
    "version": 3
   },
   "file_extension": ".py",
   "mimetype": "text/x-python",
   "name": "python",
   "nbconvert_exporter": "python",
   "pygments_lexer": "ipython3",
   "version": "3.8.12"
  },
  "toc": {
   "base_numbering": 1,
   "nav_menu": {},
   "number_sections": true,
   "sideBar": true,
   "skip_h1_title": false,
   "title_cell": "Table of Contents",
   "title_sidebar": "Contents",
   "toc_cell": false,
   "toc_position": {},
   "toc_section_display": true,
   "toc_window_display": false
  }
 },
 "nbformat": 4,
 "nbformat_minor": 5
}
