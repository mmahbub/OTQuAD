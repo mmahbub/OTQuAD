{
 "cells": [
  {
   "cell_type": "markdown",
   "id": "706e2687",
   "metadata": {},
   "source": [
    "## Import packages"
   ]
  },
  {
   "cell_type": "code",
   "execution_count": 1,
   "id": "6c4bf8f0",
   "metadata": {},
   "outputs": [],
   "source": [
    "from collections import defaultdict\n",
    "from copy import deepcopy\n",
    "from tqdm import tqdm\n",
    "from pathlib import Path\n",
    "import random\n",
    "import json\n",
    "from sklearn.model_selection import train_test_split\n",
    "\n",
    "import matplotlib as mpl\n",
    "import matplotlib.pyplot as plt\n",
    "import numpy as np\n",
    "import pandas as pd\n",
    "\n",
    "from matplotlib.cm import ScalarMappable\n",
    "from matplotlib.lines import Line2D\n",
    "from mpl_toolkits.axes_grid1.inset_locator import inset_axes\n",
    "from textwrap import wrap\n",
    "\n",
    "import seaborn as sns\n",
    "import matplotlib.pyplot as plt\n",
    "sns.set(style=\"darkgrid\")\n",
    "\n"
   ]
  },
  {
   "cell_type": "markdown",
   "id": "1f35165d",
   "metadata": {},
   "source": [
    "## Read CSV, Split train-test"
   ]
  },
  {
   "cell_type": "code",
   "execution_count": 2,
   "id": "5ceea96a",
   "metadata": {
    "scrolled": true
   },
   "outputs": [
    {
     "name": "stdout",
     "output_type": "stream",
     "text": [
      "1097\n",
      "Number of Unique Contexts   : 190\n",
      "Ratio of QA Pair-to-Context : 5.773684210526316\n"
     ]
    }
   ],
   "source": [
    "df = pd.read_csv('../data/otquad-v1.0 - Sheet1.csv')[['title', 'context',\n",
    "                                                      'question', 'answer']]\n",
    "\n",
    "print(len(df))\n",
    "print(f\"Number of Unique Contexts   : {df['context'].nunique()}\")\n",
    "print(f\"Ratio of QA Pair-to-Context : {len(df)/df['context'].nunique()}\")\n",
    "\n",
    "df['context_length'] = df['context'].apply(len)\n",
    "df['question_length'] = df['question'].apply(len)\n",
    "df['answer_length'] = df['answer'].apply(len)\n"
   ]
  },
  {
   "cell_type": "code",
   "execution_count": 3,
   "id": "4f1ca9ad",
   "metadata": {},
   "outputs": [],
   "source": [
    "# df = df.head(800)\n",
    "\n",
    "# print(df.shape)\n",
    "\n",
    "# print(f\"Number of Unique Contexts   : {df['context'].nunique()}\")\n",
    "# print(f\"Ratio of QA Pair-to-Context : {len(df)/df['context'].nunique()}\")\n",
    "\n",
    "# df['context_length'] = df['context'].apply(len)\n",
    "# df['question_length'] = df['question'].apply(len)\n",
    "# df['answer_length'] = df['answer'].apply(len)\n"
   ]
  },
  {
   "cell_type": "code",
   "execution_count": 4,
   "id": "4d6a9041",
   "metadata": {},
   "outputs": [],
   "source": [
    "# dff = df.sample(100, random_state=42)\n",
    "# dff.to_csv('../data/sample_data.csv', index=False)"
   ]
  },
  {
   "cell_type": "code",
   "execution_count": 60,
   "id": "e244f5ab",
   "metadata": {},
   "outputs": [],
   "source": [
    "df_copy = deepcopy(df)\n",
    "df_copy.drop_duplicates(subset='context', keep=\"last\", inplace = True)\n",
    "df_copy.reset_index(drop=True)\n",
    "\n",
    "n = 19\n",
    "test_fold_lists  = [df_copy.iloc[n*(ct-1):n*ct] for ct in range(1,11)]\n",
    "train_fold_lists = []\n",
    "for i in range(10):\n",
    "  a_index = df_copy.set_index(df_copy.columns.tolist()).index\n",
    "  b_index = test_fold_lists[i].set_index(df_copy.columns.tolist()).index\n",
    "  mask = ~a_index.isin(b_index)\n",
    "  result = df_copy.loc[mask]\n",
    "  train_fold_lists.append(result)\n",
    "\n",
    "# train_unique_context, test_unique_context = train_test_split(df_copy, \n",
    "#                                                              test_size=0.2,\n",
    "#                                                              random_state=42)\n",
    "train_list, test_list = [], []\n",
    "for i in range(10):\n",
    "  train = pd.merge(train_fold_lists[i], df, on=\"context\")\n",
    "  test = pd.merge(test_fold_lists[i], df, on=\"context\")\n",
    "  train_list.append(train)\n",
    "  test_list.append(test)\n",
    "\n",
    "# assert np.array_equal(sorted(train_unique_context['context'].values),\n",
    "#                       sorted(np.unique(train['context'].values)))\n",
    "# assert np.array_equal(sorted(test_unique_context['context'].values),\n",
    "#                       sorted(np.unique(test['context'].values)))"
   ]
  },
  {
   "cell_type": "code",
   "execution_count": 61,
   "id": "d5bf607c",
   "metadata": {},
   "outputs": [
    {
     "name": "stdout",
     "output_type": "stream",
     "text": [
      "(19, 7)\n",
      "(19, 7)\n",
      "(19, 7)\n",
      "(19, 7)\n",
      "(19, 7)\n",
      "(19, 7)\n",
      "(19, 7)\n",
      "(19, 7)\n",
      "(19, 7)\n",
      "(19, 7)\n"
     ]
    }
   ],
   "source": [
    "for x in test_fold_lists:\n",
    "  print(x.shape)"
   ]
  },
  {
   "cell_type": "code",
   "execution_count": 62,
   "id": "b45998d5",
   "metadata": {},
   "outputs": [
    {
     "name": "stdout",
     "output_type": "stream",
     "text": [
      "(171, 7)\n",
      "(171, 7)\n",
      "(171, 7)\n",
      "(171, 7)\n",
      "(171, 7)\n",
      "(171, 7)\n",
      "(171, 7)\n",
      "(171, 7)\n",
      "(171, 7)\n",
      "(171, 7)\n"
     ]
    }
   ],
   "source": [
    "for x in train_fold_lists:\n",
    "  print(x.shape)"
   ]
  },
  {
   "cell_type": "code",
   "execution_count": 63,
   "id": "b9382158",
   "metadata": {
    "scrolled": true
   },
   "outputs": [],
   "source": [
    "# train_fold_lists[1]"
   ]
  },
  {
   "cell_type": "code",
   "execution_count": 64,
   "id": "11720223",
   "metadata": {},
   "outputs": [],
   "source": [
    "# test_fold_lists[0]"
   ]
  },
  {
   "cell_type": "code",
   "execution_count": 65,
   "id": "77cc583d",
   "metadata": {},
   "outputs": [],
   "source": [
    "# for i in range(len(train)):\n",
    "#   for j in range(len(train)):\n",
    "#     if i!=j:\n",
    "#       if train['question_y'].values[i]==train['question_y'].values[j]:\n",
    "#         print(train['question_y'].values[i])"
   ]
  },
  {
   "cell_type": "code",
   "execution_count": 78,
   "id": "c77b558b",
   "metadata": {},
   "outputs": [],
   "source": [
    "def df_to_json(df, data_path, json_filename):\n",
    "  start_index = [df['context'].values[i].lower().find(df['answer_y'].values[i].lower())\n",
    "                 for i in range(len(df))]\n",
    "  df['start_index_y'] = start_index\n",
    "\n",
    "  for i in range(len(df)):\n",
    "#       print(i, start_index[i])\n",
    "#       print('Original : ',df['answer_y'].values[i].lower())\n",
    "#       print('Extracted: ', df['context'].values[i].lower()[start_index[i]:start_index[i]+len(df['answer_y'].values[i])])\n",
    "      assert df['answer_y'].values[i].lower() == df['context'].values[i].lower()[\n",
    "        start_index[i]:start_index[i]+len(df['answer_y'].values[i])]\n",
    "\n",
    "  print(f'Unique Contexts: {len(np.unique(df.context.values))}\\n Ratio of QA Pair-to-Contexts: {len(df)/len(np.unique(df.context.values))}')\n",
    "\n",
    "  squad_entries= []\n",
    "  for i in tqdm(range(len(df))):\n",
    "    id_num      = i\n",
    "    context     = df['context'].values[i]\n",
    "    question    = df['question_y'].values[i]\n",
    "    answer_text = df['answer_y'].values[i]\n",
    "    start       = df['start_index_y'].values[i]\n",
    "    title       = df['title_y'].values[i]\n",
    "\n",
    "    if start!=-1:\n",
    "      answer={\"text\":answer_text,\"answer_start\":int(start)}\n",
    "    else:\n",
    "      continue\n",
    "    new_entry={\n",
    "               \"qas\": [\n",
    "                 {\n",
    "                  \"id\": int(id_num),\n",
    "                  \"question\": question,\n",
    "                  \"answers\": [answer]\n",
    "                 }\n",
    "                 ],\n",
    "               \"context\": context\n",
    "               }\n",
    "    squad_entries.append({\"title\":title,\n",
    "                          \"paragraphs\":[new_entry]})\n",
    "        \n",
    "\n",
    "  squad_json={\"data\": squad_entries,\n",
    "            \"version\":1.0}\n",
    "\n",
    "  with open(data_path/json_filename, \"w\") as writer:\n",
    "      writer.write(json.dumps(squad_json, indent=4) + \"\\n\")\n",
    "\n"
   ]
  },
  {
   "cell_type": "code",
   "execution_count": 80,
   "id": "2d7ec32f",
   "metadata": {},
   "outputs": [],
   "source": [
    "# df_to_json(df, data_path, f'otquad.json')\n"
   ]
  },
  {
   "cell_type": "code",
   "execution_count": 71,
   "id": "e919b3eb",
   "metadata": {
    "scrolled": true
   },
   "outputs": [
    {
     "name": "stderr",
     "output_type": "stream",
     "text": [
      "100%|██████████| 880/880 [00:00<00:00, 38022.41it/s]\n",
      "100%|██████████| 217/217 [00:00<00:00, 50841.47it/s]\n",
      "100%|██████████| 998/998 [00:00<00:00, 66200.37it/s]"
     ]
    },
    {
     "name": "stdout",
     "output_type": "stream",
     "text": [
      "0\n",
      "Unique Contexts: 171\n",
      " Ratio of QA Pair-to-Contexts: 5.146198830409356\n",
      "Unique Contexts: 19\n",
      " Ratio of QA Pair-to-Contexts: 11.421052631578947\n",
      "1\n",
      "Unique Contexts: 171\n",
      " Ratio of QA Pair-to-Contexts: 5.83625730994152\n"
     ]
    },
    {
     "name": "stderr",
     "output_type": "stream",
     "text": [
      "\n",
      "100%|██████████| 99/99 [00:00<00:00, 64000.63it/s]\n",
      "100%|██████████| 912/912 [00:00<00:00, 80132.50it/s]\n",
      "100%|██████████| 185/185 [00:00<00:00, 74739.57it/s]\n",
      "100%|██████████| 958/958 [00:00<00:00, 87174.70it/s]\n",
      "100%|██████████| 139/139 [00:00<00:00, 70496.77it/s]"
     ]
    },
    {
     "name": "stdout",
     "output_type": "stream",
     "text": [
      "Unique Contexts: 19\n",
      " Ratio of QA Pair-to-Contexts: 5.2105263157894735\n",
      "2\n",
      "Unique Contexts: 171\n",
      " Ratio of QA Pair-to-Contexts: 5.333333333333333\n",
      "Unique Contexts: 19\n",
      " Ratio of QA Pair-to-Contexts: 9.736842105263158\n",
      "3\n",
      "Unique Contexts: 171\n",
      " Ratio of QA Pair-to-Contexts: 5.60233918128655\n",
      "Unique Contexts: 19\n",
      " Ratio of QA Pair-to-Contexts: 7.315789473684211\n"
     ]
    },
    {
     "name": "stderr",
     "output_type": "stream",
     "text": [
      "\n",
      "100%|██████████| 997/997 [00:00<00:00, 86517.17it/s]\n",
      "100%|██████████| 100/100 [00:00<00:00, 56058.59it/s]\n",
      "100%|██████████| 1035/1035 [00:00<00:00, 61569.84it/s]\n",
      "100%|██████████| 62/62 [00:00<00:00, 55048.02it/s]"
     ]
    },
    {
     "name": "stdout",
     "output_type": "stream",
     "text": [
      "4\n",
      "Unique Contexts: 171\n",
      " Ratio of QA Pair-to-Contexts: 5.830409356725146\n",
      "Unique Contexts: 19\n",
      " Ratio of QA Pair-to-Contexts: 5.2631578947368425\n",
      "5\n",
      "Unique Contexts: 171\n",
      " Ratio of QA Pair-to-Contexts: 6.052631578947368\n",
      "Unique Contexts: 19\n",
      " Ratio of QA Pair-to-Contexts: 3.263157894736842\n"
     ]
    },
    {
     "name": "stderr",
     "output_type": "stream",
     "text": [
      "\n",
      "100%|██████████| 992/992 [00:00<00:00, 84497.67it/s]\n",
      "100%|██████████| 105/105 [00:00<00:00, 62247.62it/s]\n",
      "100%|██████████| 983/983 [00:00<00:00, 70891.88it/s]\n",
      "100%|██████████| 114/114 [00:00<00:00, 70617.44it/s]"
     ]
    },
    {
     "name": "stdout",
     "output_type": "stream",
     "text": [
      "6\n",
      "Unique Contexts: 171\n",
      " Ratio of QA Pair-to-Contexts: 5.8011695906432745\n",
      "Unique Contexts: 19\n",
      " Ratio of QA Pair-to-Contexts: 5.526315789473684\n",
      "7\n",
      "Unique Contexts: 171\n",
      " Ratio of QA Pair-to-Contexts: 5.748538011695906\n",
      "Unique Contexts: 19\n",
      " Ratio of QA Pair-to-Contexts: 6.0\n"
     ]
    },
    {
     "name": "stderr",
     "output_type": "stream",
     "text": [
      "\n",
      "100%|██████████| 1059/1059 [00:00<00:00, 85796.45it/s]\n",
      "100%|██████████| 38/38 [00:00<00:00, 57852.47it/s]\n",
      "100%|██████████| 1059/1059 [00:00<00:00, 13408.14it/s]"
     ]
    },
    {
     "name": "stdout",
     "output_type": "stream",
     "text": [
      "8\n",
      "Unique Contexts: 171\n",
      " Ratio of QA Pair-to-Contexts: 6.192982456140351\n",
      "Unique Contexts: 19\n",
      " Ratio of QA Pair-to-Contexts: 2.0\n",
      "9\n",
      "Unique Contexts: 171\n",
      " Ratio of QA Pair-to-Contexts: 6.192982456140351\n"
     ]
    },
    {
     "name": "stderr",
     "output_type": "stream",
     "text": [
      "\n",
      "100%|██████████| 38/38 [00:00<00:00, 48137.59it/s]"
     ]
    },
    {
     "name": "stdout",
     "output_type": "stream",
     "text": [
      "Unique Contexts: 19\n",
      " Ratio of QA Pair-to-Contexts: 2.0\n"
     ]
    },
    {
     "name": "stderr",
     "output_type": "stream",
     "text": [
      "\n"
     ]
    }
   ],
   "source": [
    "data_path = Path('/net/kdinxidk03/opt/NFS/75y/data/qa/dataset_pos/otquad/')\n",
    "# data_path = Path('../data/')\n",
    "for i in range(10):\n",
    "  print(i)\n",
    "#   print(len(set(train_list[i+1]['context'].values.tolist()).intersection(\n",
    "#     set(test_list[i]['context'].values.tolist()))))\n",
    "  df_to_json(train_list[i], data_path, f'train_otquad_{i+1}.json')\n",
    "  df_to_json(test_list[i], data_path, f'test_otquad_{i+1}.json')"
   ]
  },
  {
   "cell_type": "code",
   "execution_count": 72,
   "id": "5df7e89c",
   "metadata": {},
   "outputs": [
    {
     "name": "stdout",
     "output_type": "stream",
     "text": [
      "(217, 14)\n",
      "(99, 14)\n",
      "(185, 14)\n",
      "(139, 14)\n",
      "(100, 14)\n",
      "(62, 14)\n",
      "(105, 14)\n",
      "(114, 14)\n",
      "(38, 14)\n",
      "(38, 14)\n"
     ]
    }
   ],
   "source": [
    "for i in range(10):\n",
    "  print(test_list[i].shape)"
   ]
  },
  {
   "cell_type": "code",
   "execution_count": null,
   "id": "33bafaf7",
   "metadata": {},
   "outputs": [],
   "source": [
    "# print('Train total length: ', len(train))\n",
    "# print('Test total length: ', len(test))\n"
   ]
  },
  {
   "cell_type": "markdown",
   "id": "c377daf2",
   "metadata": {},
   "source": [
    "## Plot q-type frequency"
   ]
  },
  {
   "cell_type": "code",
   "execution_count": null,
   "id": "6a710d0e",
   "metadata": {},
   "outputs": [],
   "source": [
    "a = json.load(open('/net/kdinxidk03/opt/NFS/75y/data/qa/dataset_pos/squad/train_squad.json'))\n",
    "\n",
    "questions = []\n",
    "contexts  = []\n",
    "answers   = []\n",
    "idxs      = []\n",
    "for d in a['data']:\n",
    "  for p in d['paragraphs']:\n",
    "    for qa in p['qas']:\n",
    "      idxs.append(qa['id'])\n",
    "      questions.append(qa['question'])\n",
    "      answers.append(qa['answers'][0]['text'])\n",
    "      contexts.append(p['context'])\n",
    "    \n",
    "print(len(contexts))\n",
    "print(len(np.unique(contexts)))"
   ]
  },
  {
   "cell_type": "code",
   "execution_count": null,
   "id": "ef0bf24e",
   "metadata": {},
   "outputs": [],
   "source": [
    "df_squad = pd.DataFrame()\n",
    "df_squad['question'] = questions\n",
    "df_squad['answer'] = answers\n",
    "df_squad['context'] = contexts\n",
    "\n",
    "df_squad['context_length'] = df_squad['context'].apply(len)\n",
    "df_squad['question_length'] = df_squad['question'].apply(len)\n",
    "df_squad['answer_length'] = df_squad['answer'].apply(len)"
   ]
  },
  {
   "cell_type": "code",
   "execution_count": null,
   "id": "1170ee24",
   "metadata": {},
   "outputs": [],
   "source": [
    "def get_qtype_freq(df):\n",
    "  q_list = df['question'].values.tolist()\n",
    "  q_type = ['what', 'when', 'where', 'who', 'whom', \n",
    "            'which', 'why', 'how'] #, 'name', 'whose', \n",
    "  \n",
    "  q_freq = {}\n",
    "  for ques in q_list:\n",
    "    q_tokens = ques.lower().split()\n",
    "    for typ in q_type:\n",
    "      if typ in q_tokens[0]:\n",
    "        q_freq.setdefault(typ, []).append(ques)\n",
    "\n",
    "  freq_qtype = [len(x) for x in list(q_freq.values())]\n",
    "  print(freq_qtype, sum(freq_qtype))\n",
    "  \n",
    "  df_sorted = pd.DataFrame()\n",
    "  df_sorted['QTYPE'] = list(q_freq.keys())\n",
    "  df_sorted['QFREQ'] = freq_qtype\n",
    "  df_sorted['n'] = freq_qtype\n",
    "  df_sorted = df_sorted.sort_values(\"QFREQ\", ascending=False)\n",
    "\n",
    "  print(df_sorted.shape)\n",
    "  \n",
    "  return df_sorted\n",
    "  "
   ]
  },
  {
   "cell_type": "code",
   "execution_count": null,
   "id": "df86c7e4",
   "metadata": {},
   "outputs": [],
   "source": [
    "def plot_qtype_frequency(df_sorted, dataset_name):\n",
    "  \n",
    "  # Values for the x axis\n",
    "  ANGLES = np.linspace(0.05, 2 * np.pi - 0.05, len(df_sorted), endpoint=False)\n",
    "\n",
    "  # Cumulative length\n",
    "  QFREQ = df_sorted[\"QFREQ\"].values\n",
    "\n",
    "  # # Mean gain length\n",
    "  # MEAN_GAIN = df_sorted[\"mean_gain\"].values\n",
    "\n",
    "  # Region label\n",
    "  QTYPE = df_sorted[\"QTYPE\"].values\n",
    "\n",
    "  # Number of tracks per region\n",
    "  N = df_sorted[\"n\"].values\n",
    "\n",
    "  GREY12 = \"#1f1f1f\"\n",
    "\n",
    "  # Set default font color to GREY12\n",
    "  plt.rcParams[\"text.color\"] = GREY12\n",
    "\n",
    "  # The minus glyph is not available in Bell MT\n",
    "  # This disables it, and uses a hyphen\n",
    "  plt.rc(\"axes\", unicode_minus=False)\n",
    "\n",
    "  # Colors\n",
    "  COLORS = [\"#6C5B7B\",\"#C06C84\",\"#F67280\",\"#F8B195\"]\n",
    "\n",
    "  # Colormap\n",
    "  cmap = mpl.colors.LinearSegmentedColormap.from_list(\"my color\", COLORS, N=256)\n",
    "\n",
    "  # Normalizer\n",
    "  norm = mpl.colors.Normalize(vmin=N.min(), vmax=N.max())\n",
    "\n",
    "  # Normalized colors. Each number of tracks is mapped to a color in the \n",
    "  # color scale 'cmap'\n",
    "  COLORS = cmap(norm(N))\n",
    "\n",
    "  # Some layout stuff ----------------------------------------------\n",
    "  # Initialize layout in polar coordinates\n",
    "  fig, ax = plt.subplots(figsize=(6, 6), subplot_kw={\"projection\": \"polar\"})\n",
    "\n",
    "  # Set background color to white, both axis and figure.\n",
    "  # fig.patch.set_facecolor(\"white\")\n",
    "  # ax.set_facecolor(\"white\")\n",
    "\n",
    "  ax.set_theta_offset(100 * np.pi / 3)\n",
    "  ax.set_ylim(-100, 350)\n",
    "\n",
    "  # Add geometries to the plot -------------------------------------\n",
    "  # See the zorder to manipulate which geometries are on top\n",
    "\n",
    "  # Add bars to represent the cumulative track lengths\n",
    "  ax.bar(ANGLES, QFREQ, color=COLORS, alpha=1, width=0.6, zorder=11) #, ls=(0, (4, 4))\n",
    "\n",
    "  # Add dashed vertical lines. These are just references\n",
    "  ax.vlines(ANGLES, 0, 350, alpha=0.5, color=GREY12, zorder=11)\n",
    "\n",
    "  # # Add dots to represent the mean gain\n",
    "  # ax.scatter(ANGLES, MEAN_GAIN, s=60, color=GREY12, zorder=11)\n",
    "\n",
    "  # Add labels for the regions -------------------------------------\n",
    "  # Note the 'wrap()' function.\n",
    "  # The '5' means we want at most 5 consecutive letters in a word, \n",
    "  # but the 'break_long_words' means we don't want to break words \n",
    "  # longer than 5 characters.\n",
    "  QTYPE = [\"\\n\".join(wrap(r, 5, break_long_words=False)) for r in QTYPE]\n",
    "\n",
    "  # Set the labels\n",
    "  ax.set_xticks(ANGLES)\n",
    "  ax.set_xticklabels(QTYPE, size=15);\n",
    "\n",
    "  plt.show()\n",
    "  \n",
    "  sns.set(style=\"whitegrid\")\n",
    "  colors = sns.color_palette('pastel')[0:len(df_sorted)]\n",
    "\n",
    "  plt.subplots(figsize=(8, 15))\n",
    "  explode = (0, 0.02, 0.03, 0.05, 0.1, 0.15, 0.4, 0.6)\n",
    "  plt.pie(df_sorted['QFREQ'].values, labels=df_sorted['QTYPE'].values,\n",
    "          explode=explode, colors = colors, autopct='%1.1f%%', shadow=False,\n",
    "          textprops={'fontsize': 14})\n",
    "  plt.xticks(size=25)\n",
    "  plt.title(f\"Distribution of 'type of questions'\\nin {dataset_name}\", size=15)\n",
    "  plt.show()\n"
   ]
  },
  {
   "cell_type": "code",
   "execution_count": null,
   "id": "c13031e4",
   "metadata": {},
   "outputs": [],
   "source": [
    "def density_plot_data(df, col_name_list, which_attr, dataset_name, xlimit, figsize=(6,4)):\n",
    "  plt.figure(figsize=figsize)\n",
    "  for col_name in col_name_list:\n",
    "    print(len(df[col_name]))\n",
    "    fig = sns.kdeplot(df[col_name], shade=True, label = col_name)\n",
    "  plt.xlim(-100, xlimit)\n",
    "  plt.xticks(size=14)\n",
    "  plt.yticks(size=14)\n",
    "  plt.xlabel('Length', size=15)\n",
    "  plt.ylabel('Density\\n', size=15)\n",
    "  plt.legend(loc='best', fontsize=14)\n",
    "  plt.title(f\"Distribution of '{which_attr}'\\nin {dataset_name}\", size=15)\n",
    "  plt.show()"
   ]
  },
  {
   "cell_type": "code",
   "execution_count": null,
   "id": "76d1d6e6",
   "metadata": {},
   "outputs": [],
   "source": [
    "df_sorted = get_qtype_freq(df_squad)\n",
    "plot_qtype_frequency(df_sorted, 'SQuAD')"
   ]
  },
  {
   "cell_type": "code",
   "execution_count": null,
   "id": "91ff2090",
   "metadata": {},
   "outputs": [],
   "source": [
    "density_plot_data(df, ['context_length'], 'context length', 'OTQuAD', 4500)\n",
    "density_plot_data(df, ['question_length', 'answer_length'], 'question and answer length', 'OTQuAD', 400, figsize=(6,4))\n"
   ]
  },
  {
   "cell_type": "code",
   "execution_count": null,
   "id": "65754aad",
   "metadata": {},
   "outputs": [],
   "source": []
  }
 ],
 "metadata": {
  "kernelspec": {
   "display_name": "Python 3",
   "language": "python",
   "name": "python3"
  },
  "language_info": {
   "codemirror_mode": {
    "name": "ipython",
    "version": 3
   },
   "file_extension": ".py",
   "mimetype": "text/x-python",
   "name": "python",
   "nbconvert_exporter": "python",
   "pygments_lexer": "ipython3",
   "version": "3.7.10"
  },
  "toc": {
   "base_numbering": 1,
   "nav_menu": {},
   "number_sections": true,
   "sideBar": true,
   "skip_h1_title": false,
   "title_cell": "Table of Contents",
   "title_sidebar": "Contents",
   "toc_cell": false,
   "toc_position": {},
   "toc_section_display": true,
   "toc_window_display": false
  }
 },
 "nbformat": 4,
 "nbformat_minor": 5
}
