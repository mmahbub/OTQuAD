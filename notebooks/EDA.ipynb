{
 "cells": [
  {
   "cell_type": "markdown",
   "id": "5c38c519",
   "metadata": {},
   "source": [
    "## Import packages"
   ]
  },
  {
   "cell_type": "code",
   "execution_count": 5,
   "id": "0947747c",
   "metadata": {},
   "outputs": [],
   "source": [
    "from collections import defaultdict\n",
    "from copy import deepcopy\n",
    "from tqdm import tqdm\n",
    "from pathlib import Path\n",
    "import random\n",
    "from sklearn.model_selection import train_test_split\n",
    "\n",
    "import matplotlib as mpl\n",
    "import matplotlib.pyplot as plt\n",
    "import numpy as np\n",
    "import pandas as pd\n",
    "\n",
    "from matplotlib.cm import ScalarMappable\n",
    "from matplotlib.lines import Line2D\n",
    "from mpl_toolkits.axes_grid1.inset_locator import inset_axes\n",
    "from textwrap import wrap\n",
    "\n",
    "import seaborn as sns\n",
    "import matplotlib.pyplot as plt\n",
    "sns.set(style=\"darkgrid\")\n",
    "\n"
   ]
  },
  {
   "cell_type": "markdown",
   "id": "3def015c",
   "metadata": {},
   "source": [
    "## Read CSV, Split train-test"
   ]
  },
  {
   "cell_type": "code",
   "execution_count": 17,
   "id": "ceac6e2d",
   "metadata": {},
   "outputs": [],
   "source": [
    "df = pd.read_csv('../data/otquad-v1.0 - Sheet1.csv')[['title', 'context',\n",
    "                                                      'question', 'answer']]\n",
    "\n",
    "print(len(df))\n",
    "print(f\"Number of Unique Contexts   : {df['context'].nunique()}\")\n",
    "print(f\"Ratio of QA Pair-to-Context : {len(df)/df['context'].nunique()}\")\n",
    "\n",
    "df['context_length'] = df['context'].apply(len)\n",
    "df['question_length'] = df['question'].apply(len)\n",
    "df['answer_length'] = df['answer'].apply(len)\n"
   ]
  },
  {
   "cell_type": "code",
   "execution_count": 23,
   "id": "a8be8752",
   "metadata": {},
   "outputs": [],
   "source": [
    "# dff = df.sample(100, random_state=42)\n",
    "# dff.to_csv('../data/sample_data.csv', index=False)"
   ]
  },
  {
   "cell_type": "code",
   "execution_count": 36,
   "id": "5d3ff413",
   "metadata": {},
   "outputs": [],
   "source": [
    "df_copy = deepcopy(df)\n",
    "df_copy.drop_duplicates(subset='context', keep=\"last\", inplace = True)\n",
    "df_copy.reset_index(drop=True)\n",
    "train_unique_context, test_unique_context = train_test_split(df_copy, \n",
    "                                                             test_size=0.2,\n",
    "                                                             random_state=42)\n",
    "train = pd.merge(train_unique_context, df, on=\"context\")\n",
    "test = pd.merge(test_unique_context, df, on=\"context\")\n",
    "\n",
    "assert np.array_equal(sorted(train_unique_context['context'].values),\n",
    "                      sorted(np.unique(train['context'].values)))\n",
    "assert np.array_equal(sorted(test_unique_context['context'].values),\n",
    "                      sorted(np.unique(test['context'].values)))"
   ]
  },
  {
   "cell_type": "code",
   "execution_count": 37,
   "id": "d3ea374b",
   "metadata": {},
   "outputs": [],
   "source": [
    "# for i in range(len(train)):\n",
    "#   for j in range(len(train)):\n",
    "#     if i!=j:\n",
    "#       if train['question_y'].values[i]==train['question_y'].values[j]:\n",
    "#         print(train['question_y'].values[i])"
   ]
  },
  {
   "cell_type": "code",
   "execution_count": 38,
   "id": "6888c494",
   "metadata": {},
   "outputs": [
    {
     "data": {
      "text/plain": [
       "(417, 128)"
      ]
     },
     "execution_count": 38,
     "metadata": {},
     "output_type": "execute_result"
    }
   ],
   "source": [
    "len(train['context'].values), len(test['context'].values)"
   ]
  },
  {
   "cell_type": "code",
   "execution_count": 39,
   "id": "d8467239",
   "metadata": {},
   "outputs": [],
   "source": [
    "def df_to_json(df, data_path, json_filename):\n",
    "  start_index = [df['context'].values[i].lower().find(df['answer_y'].values[i].lower())\n",
    "                 for i in range(len(df))]\n",
    "  df['start_index_y'] = start_index\n",
    "\n",
    "  for i in range(len(df)):\n",
    "  #     print(i, start_index[i])\n",
    "  #     print('Original : ',df['answer'].values[i].lower())\n",
    "  #     print('Extracted: ', df['context'].values[i].lower()[start_index[i]:start_index[i]+len(df['answer'].values[i])])\n",
    "      assert df['answer_y'].values[i].lower() == df['context'].values[i].lower()[\n",
    "        start_index[i]:start_index[i]+len(df['answer_y'].values[i])]\n",
    "\n",
    "  print(f'Unique Contexts: {len(np.unique(df.context.values))}\\n Ratio of QA Pair-to-Contexts: {len(df)/len(np.unique(df.context.values))}')\n",
    "\n",
    "  squad_entries= []\n",
    "  for i in tqdm(range(len(df))):\n",
    "    id_num      = i\n",
    "    context     = df['context'].values[i]\n",
    "    question    = df['question_y'].values[i]\n",
    "    answer_text = df['answer_y'].values[i]\n",
    "    start       = df['start_index_y'].values[i]\n",
    "    title       = df['title_y'].values[i]\n",
    "\n",
    "    if start!=-1:\n",
    "      answer={\"text\":answer_text,\"answer_start\":int(start)}\n",
    "    else:\n",
    "      continue\n",
    "    new_entry={\n",
    "               \"qas\": [\n",
    "                 {\n",
    "                  \"id\": int(id_num),\n",
    "                  \"question\": question,\n",
    "                  \"answers\": [answer]\n",
    "                 }\n",
    "                 ],\n",
    "               \"context\": context\n",
    "               }\n",
    "    squad_entries.append({\"title\":title,\n",
    "                          \"paragraphs\":[new_entry]})\n",
    "        \n",
    "\n",
    "  squad_json={\"data\": squad_entries,\n",
    "            \"version\":1.0}\n",
    "\n",
    "  with open(data_path/json_filename, \"w\") as writer:\n",
    "      writer.write(json.dumps(squad_json, indent=4) + \"\\n\")\n",
    "\n"
   ]
  },
  {
   "cell_type": "code",
   "execution_count": 40,
   "id": "f8d4c64e",
   "metadata": {},
   "outputs": [
    {
     "name": "stderr",
     "output_type": "stream",
     "text": [
      "100%|██████████| 417/417 [00:00<00:00, 31068.37it/s]\n",
      "100%|██████████| 128/128 [00:00<00:00, 37202.61it/s]"
     ]
    },
    {
     "name": "stdout",
     "output_type": "stream",
     "text": [
      "Unique Contexts: 51\n",
      " Ratio of QA Pair-to-Contexts: 8.176470588235293\n",
      "Unique Contexts: 13\n",
      " Ratio of QA Pair-to-Contexts: 9.846153846153847\n"
     ]
    },
    {
     "name": "stderr",
     "output_type": "stream",
     "text": [
      "\n"
     ]
    }
   ],
   "source": [
    "data_path = Path('/net/kdinxidk03/opt/NFS/75y/data/qa/dataset_pos/otquad/')\n",
    "df_to_json(train, data_path, 'train_otquad.json')\n",
    "df_to_json(test, data_path, 'test_otquad.json')"
   ]
  },
  {
   "cell_type": "markdown",
   "id": "e0874d65",
   "metadata": {},
   "source": [
    "## Plot q-type frequency"
   ]
  },
  {
   "cell_type": "code",
   "execution_count": 41,
   "id": "5368c7f3",
   "metadata": {},
   "outputs": [],
   "source": [
    "def get_qtype_freq():\n",
    "  q_list = df['question'].values.tolist()\n",
    "  q_type = ['what', 'when', 'where', 'who', 'whom', \n",
    "            'which', 'why', 'how'] #, 'name', 'whose', \n",
    "  \n",
    "  q_freq = {}\n",
    "  for ques in q_list:\n",
    "    q_tokens = ques.lower().split()\n",
    "    for typ in q_type:\n",
    "      if typ in q_tokens[0]:\n",
    "        q_freq.setdefault(typ, []).append(ques)\n",
    "\n",
    "  freq_qtype = [len(x) for x in list(q_freq.values())]\n",
    "  print(freq_qtype, sum(freq_qtype))\n",
    "  \n",
    "  df_sorted = pd.DataFrame()\n",
    "  df_sorted['QTYPE'] = q_type\n",
    "  df_sorted['QFREQ'] = freq_qtype\n",
    "  df_sorted['n'] = freq_qtype\n",
    "  df_sorted = df_sorted.sort_values(\"QFREQ\", ascending=False)\n",
    "\n",
    "  return df_sorted\n",
    "  "
   ]
  },
  {
   "cell_type": "code",
   "execution_count": 60,
   "id": "23ade796",
   "metadata": {},
   "outputs": [],
   "source": [
    "def plot_qtype_frequency(df_sorted):\n",
    "  \n",
    "  # Values for the x axis\n",
    "  ANGLES = np.linspace(0.05, 2 * np.pi - 0.05, len(df_sorted), endpoint=False)\n",
    "\n",
    "  # Cumulative length\n",
    "  QFREQ = df_sorted[\"QFREQ\"].values\n",
    "\n",
    "  # # Mean gain length\n",
    "  # MEAN_GAIN = df_sorted[\"mean_gain\"].values\n",
    "\n",
    "  # Region label\n",
    "  QTYPE = df_sorted[\"QTYPE\"].values\n",
    "\n",
    "  # Number of tracks per region\n",
    "  N = df_sorted[\"n\"].values\n",
    "\n",
    "  GREY12 = \"#1f1f1f\"\n",
    "\n",
    "  # Set default font color to GREY12\n",
    "  plt.rcParams[\"text.color\"] = GREY12\n",
    "\n",
    "  # The minus glyph is not available in Bell MT\n",
    "  # This disables it, and uses a hyphen\n",
    "  plt.rc(\"axes\", unicode_minus=False)\n",
    "\n",
    "  # Colors\n",
    "  COLORS = [\"#6C5B7B\",\"#C06C84\",\"#F67280\",\"#F8B195\"]\n",
    "\n",
    "  # Colormap\n",
    "  cmap = mpl.colors.LinearSegmentedColormap.from_list(\"my color\", COLORS, N=256)\n",
    "\n",
    "  # Normalizer\n",
    "  norm = mpl.colors.Normalize(vmin=N.min(), vmax=N.max())\n",
    "\n",
    "  # Normalized colors. Each number of tracks is mapped to a color in the \n",
    "  # color scale 'cmap'\n",
    "  COLORS = cmap(norm(N))\n",
    "\n",
    "  # Some layout stuff ----------------------------------------------\n",
    "  # Initialize layout in polar coordinates\n",
    "  fig, ax = plt.subplots(figsize=(6, 6), subplot_kw={\"projection\": \"polar\"})\n",
    "\n",
    "  # Set background color to white, both axis and figure.\n",
    "  # fig.patch.set_facecolor(\"white\")\n",
    "  # ax.set_facecolor(\"white\")\n",
    "\n",
    "  ax.set_theta_offset(100 * np.pi / 3)\n",
    "  ax.set_ylim(-100, 350)\n",
    "\n",
    "  # Add geometries to the plot -------------------------------------\n",
    "  # See the zorder to manipulate which geometries are on top\n",
    "\n",
    "  # Add bars to represent the cumulative track lengths\n",
    "  ax.bar(ANGLES, QFREQ, color=COLORS, alpha=1, width=0.6, zorder=11)\n",
    "\n",
    "  # Add dashed vertical lines. These are just references\n",
    "  ax.vlines(ANGLES, 0, 350, alpha=0.5, color=GREY12, ls=(0, (4, 4)), zorder=11)\n",
    "\n",
    "  # # Add dots to represent the mean gain\n",
    "  # ax.scatter(ANGLES, MEAN_GAIN, s=60, color=GREY12, zorder=11)\n",
    "\n",
    "  # Add labels for the regions -------------------------------------\n",
    "  # Note the 'wrap()' function.\n",
    "  # The '5' means we want at most 5 consecutive letters in a word, \n",
    "  # but the 'break_long_words' means we don't want to break words \n",
    "  # longer than 5 characters.\n",
    "  QTYPE = [\"\\n\".join(wrap(r, 5, break_long_words=False)) for r in QTYPE]\n",
    "\n",
    "  # Set the labels\n",
    "  ax.set_xticks(ANGLES)\n",
    "  ax.set_xticklabels(QTYPE, size=15);\n",
    "\n",
    "  plt.show()\n",
    "  \n",
    "  sns.set(style=\"whitegrid\")\n",
    "  colors = sns.color_palette('pastel')[0:len(df_sorted)]\n",
    "\n",
    "  plt.subplots(figsize=(8, 15))\n",
    "  explode = (0, 0.02, 0.03, 0.05, 0.1, 0.15, 0.4, 0.6)\n",
    "  plt.pie(df_sorted['QFREQ'].values, labels=df_sorted['QTYPE'].values,\n",
    "          explode=explode, colors = colors, autopct='%1.1f%%', shadow=False,\n",
    "          textprops={'fontsize': 14})\n",
    "  plt.xticks(size=25)\n",
    "  plt.title(\"Distribution of 'type of questions'\\nin OTQuAD\", size=15)\n",
    "  plt.show()\n"
   ]
  },
  {
   "cell_type": "code",
   "execution_count": 61,
   "id": "539d9a1c",
   "metadata": {},
   "outputs": [],
   "source": [
    "def density_plot_data(col_name_list, which_attr, figsize=(6,4)):\n",
    "  plt.figure(figsize=figsize)\n",
    "  for col_name in col_name_list:\n",
    "    fig = sns.kdeplot(df[col_name], shade=True, label = col_name)\n",
    "  plt.xticks(size=14)\n",
    "  plt.yticks(size=14)\n",
    "  plt.xlabel('Length', size=15)\n",
    "  plt.ylabel('Density\\n', size=15)\n",
    "  plt.legend(loc='best', fontsize=14)\n",
    "  plt.title(f\"Distribution of '{which_attr}'\\nin OTQuAD\", size=15)\n",
    "  plt.show()"
   ]
  },
  {
   "cell_type": "code",
   "execution_count": null,
   "id": "b44fccd9",
   "metadata": {},
   "outputs": [
    {
     "name": "stdout",
     "output_type": "stream",
     "text": [
      "[292, 70, 47, 19, 30, 2, 7, 1] 468\n"
     ]
    }
   ],
   "source": [
    "df_sorted = get_qtype_freq()\n",
    "plot_qtype_frequency(df_sorted)"
   ]
  },
  {
   "cell_type": "code",
   "execution_count": 59,
   "id": "ddd59832",
   "metadata": {},
   "outputs": [
    {
     "data": {
      "image/png": "[encoded data removed]",
      "text/plain": [
       "<Figure size 432x288 with 1 Axes>"
      ]
     },
     "metadata": {},
     "output_type": "display_data"
    },
    {
     "data": {
      "image/png": "[encoded data removed]",
      "text/plain": [
       "<Figure size 432x288 with 1 Axes>"
      ]
     },
     "metadata": {},
     "output_type": "display_data"
    }
   ],
   "source": [
    "density_plot_data(['context_length'], 'context length')\n",
    "density_plot_data(['question_length', 'answer_length'], 'question and answer length', figsize=(6,4))\n"
   ]
  },
  {
   "cell_type": "code",
   "execution_count": null,
   "id": "722cdf77",
   "metadata": {},
   "outputs": [],
   "source": []
  }
 ],
 "metadata": {
  "kernelspec": {
   "display_name": "Python 3",
   "language": "python",
   "name": "python3"
  },
  "language_info": {
   "codemirror_mode": {
    "name": "ipython",
    "version": 3
   },
   "file_extension": ".py",
   "mimetype": "text/x-python",
   "name": "python",
   "nbconvert_exporter": "python",
   "pygments_lexer": "ipython3",
   "version": "3.7.10"
  },
  "toc": {
   "base_numbering": 1,
   "nav_menu": {},
   "number_sections": true,
   "sideBar": true,
   "skip_h1_title": false,
   "title_cell": "Table of Contents",
   "title_sidebar": "Contents",
   "toc_cell": false,
   "toc_position": {},
   "toc_section_display": true,
   "toc_window_display": false
  }
 },
 "nbformat": 4,
 "nbformat_minor": 5
}
