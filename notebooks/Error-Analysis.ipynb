{
 "cells": [
  {
   "cell_type": "code",
   "execution_count": 1,
   "id": "cd418cc6",
   "metadata": {},
   "outputs": [],
   "source": [
    "import pandas as pd\n",
    "import numpy as np\n",
    "import torch\n",
    "import os\n",
    "import matplotlib.pyplot as plt\n",
    "import spacy\n",
    "nlp = spacy.load(\"en_core_web_sm\")\n",
    "\n",
    "from transformers import AutoModelForQuestionAnswering, AutoTokenizer"
   ]
  },
  {
   "cell_type": "code",
   "execution_count": 37,
   "id": "7ed52fb8",
   "metadata": {},
   "outputs": [],
   "source": [
    "def plot_binned_score(df, column_name, bins, xlab):\n",
    "    col  = ['EM', 'F1', 'count', column_name]\n",
    "#     bins = list(np.arange(df[column_name].min(), df[column_name].max(), n)) #+ [np.inf]\n",
    " \n",
    "    df_binned     = df.groupby(pd.cut(df[column_name],bins=bins))[col].mean()\n",
    "    df_binned_sum = df.groupby(pd.cut(df[column_name],bins=bins))[col].sum()\n",
    "    \n",
    "    assert (df_binned.index == df_binned_sum.index).all()\n",
    "\n",
    "    assert df_binned.shape == df_binned_sum.shape\n",
    "\n",
    "    df_binned.dropna(inplace=True)\n",
    "    df_binned_sum.dropna(inplace=True)\n",
    "    df_binned_sum = df_binned_sum[df_binned_sum['count']!=0]\n",
    "        \n",
    "    assert df_binned.shape == df_binned_sum.shape\n",
    "\n",
    "    plt.figure(figsize=(10,8))\n",
    "    plt.plot(df_binned[column_name].values, df_binned['F1'].values, 'o-', label = 'Partial Match')\n",
    "    plt.plot(df_binned[column_name].values, df_binned['EM'].values, 'o-', label = 'Exact Match')\n",
    "\n",
    "    plt.legend(loc=\"lower left\", prop={'size': 14})\n",
    "    plt.xticks(df_binned[column_name].values, list(df_binned.index),\n",
    "               fontsize=12, rotation = 60)\n",
    "    plt.yticks(fontsize=12, rotation = 0)\n",
    "    plt.ylim(0,1)\n",
    "    plt.xlabel(f'Bins of \"{xlab}\" count', fontsize=15)\n",
    "    plt.ylabel('Performance Score', fontsize=15)\n",
    "#     plt.title(column_name)\n",
    "    \n",
    "    a = plt.axes([.69, .67, .2, .2], facecolor='white')\n",
    "    plt.bar(df_binned[column_name].values, df_binned_sum['count'].values, \n",
    "#             color = 'b',\n",
    "            alpha = 1,\n",
    "            width = 3,\n",
    "#             label = 'Sample Count'\n",
    "           )\n",
    "#     plt.legend(loc=\"best\",prop={'size': 10})\n",
    "    plt.xlabel(f'Average value\\nwithin the bins', fontsize=12)\n",
    "    plt.ylabel('Count', fontsize=12)\n",
    "#     plt.xticks(df_binned_sum[column_name].values, list(df_binned_sum.index), rotation = 60)\n",
    "    plt.yticks(rotation = 0)\n",
    "\n",
    "    plt.show()\n",
    "    \n",
    "    print(df_binned_sum['count'].values)\n",
    "    \n",
    "    return df_binned\n"
   ]
  },
  {
   "cell_type": "code",
   "execution_count": 18,
   "id": "c85a9f07",
   "metadata": {},
   "outputs": [
    {
     "data": {
      "text/plain": [
       "0.74"
      ]
     },
     "execution_count": 18,
     "metadata": {},
     "output_type": "execute_result"
    }
   ],
   "source": [
    "df_path = '/net/kdinxidk03/opt/NFS/75y/data/qa/output/'\n",
    "# df = pd.read_csv(df_path+'results_bert-base-uncased-squad-v1_384_otquad.csv')\n",
    "df = pd.read_csv(df_path+'results_bart-squad-v1_512_otquad.csv')\n",
    "\n",
    "df['EM'].mean()"
   ]
  },
  {
   "cell_type": "code",
   "execution_count": 19,
   "id": "5295d35c",
   "metadata": {},
   "outputs": [],
   "source": [
    "# cached_features_file = os.path.join(\n",
    "#     df_path,\n",
    "#     \"cached_{}_{}_{}_{}_{}\".format(\n",
    "#         \"dev\",\n",
    "#         \"bert-base-uncased-squad-v1\",\n",
    "#         384,\n",
    "#         \"test\",\n",
    "#         \"otquad\",\n",
    "#     ),\n",
    "# )\n",
    "\n",
    "cached_features_file = os.path.join(\n",
    "    df_path,\n",
    "    \"cached_{}_{}_{}_{}_{}\".format(\n",
    "        \"dev\",\n",
    "        \"bart-squad-v1\",\n",
    "        512,\n",
    "        \"test\",\n",
    "        \"otquad\",\n",
    "    ),\n",
    ")\n",
    "\n",
    "# Init features and dataset from cache if it exists\n",
    "features_and_dataset = torch.load(cached_features_file)\n",
    "_, _, examples = (\n",
    "    features_and_dataset[\"features\"],\n",
    "    features_and_dataset[\"dataset\"],\n",
    "    features_and_dataset[\"examples\"],\n",
    ")"
   ]
  },
  {
   "cell_type": "code",
   "execution_count": 20,
   "id": "ff3bda6f",
   "metadata": {},
   "outputs": [],
   "source": [
    "# model_name = 'csarron/bert-base-uncased-squad-v1'\n",
    "model_name = 'a-ware/bart-squadv2'\n",
    "\n",
    "model = AutoModelForQuestionAnswering.from_pretrained(model_name)\n",
    "tokenizer = AutoTokenizer.from_pretrained(model_name)"
   ]
  },
  {
   "cell_type": "code",
   "execution_count": 21,
   "id": "c861d6c1",
   "metadata": {},
   "outputs": [],
   "source": [
    "answers = [ex.__dict__['answers'][0]['text'] for ex in examples]\n",
    "answer_char_count = [len(ans) for ans in answers]\n",
    "# answer_word_count = [len(nlp(ans)) for ans in answers]\n",
    "answer_word_count = [len(tokenizer.tokenize(ans)) for ans in answers]\n",
    "count = [1]*len(answers)"
   ]
  },
  {
   "cell_type": "code",
   "execution_count": 22,
   "id": "4b4e1c34",
   "metadata": {},
   "outputs": [],
   "source": [
    "contexts = [ex.__dict__['context_text'] for ex in examples]\n",
    "context_char_count = [len(x) for x in contexts]\n",
    "# context_word_count = [len(nlp(ans)) for ans in contexts]\n",
    "context_word_count = [len(tokenizer.tokenize(x)) for x in contexts]\n",
    "\n",
    "df['contexts'] = contexts\n",
    "df['context_char_count'] = context_char_count\n",
    "df['context_word_count'] = context_word_count"
   ]
  },
  {
   "cell_type": "code",
   "execution_count": 23,
   "id": "36521ec2",
   "metadata": {},
   "outputs": [],
   "source": [
    "df['answers'] = answers\n",
    "df['answer_char_count'] = answer_char_count\n",
    "df['answer_word_count'] = answer_word_count\n",
    "df['count'] = count"
   ]
  },
  {
   "cell_type": "code",
   "execution_count": 24,
   "id": "f12618ab",
   "metadata": {},
   "outputs": [
    {
     "data": {
      "text/plain": [
       "count    150.000000\n",
       "mean     228.980000\n",
       "std       88.063314\n",
       "min       48.000000\n",
       "25%      154.000000\n",
       "50%      261.000000\n",
       "75%      311.000000\n",
       "max      416.000000\n",
       "Name: context_word_count, dtype: float64"
      ]
     },
     "execution_count": 24,
     "metadata": {},
     "output_type": "execute_result"
    }
   ],
   "source": [
    "stat = df['context_word_count'].describe()\n",
    "stat"
   ]
  },
  {
   "cell_type": "code",
   "execution_count": 25,
   "id": "bc381dde",
   "metadata": {},
   "outputs": [
    {
     "data": {
      "text/plain": [
       "count    150.000000\n",
       "mean      17.693333\n",
       "std       26.902745\n",
       "min        2.000000\n",
       "25%        6.000000\n",
       "50%       11.000000\n",
       "75%       18.000000\n",
       "max      201.000000\n",
       "Name: answer_word_count, dtype: float64"
      ]
     },
     "execution_count": 25,
     "metadata": {},
     "output_type": "execute_result"
    }
   ],
   "source": [
    "stat = df['answer_word_count'].describe()\n",
    "stat"
   ]
  },
  {
   "cell_type": "code",
   "execution_count": 26,
   "id": "b0d4ed88",
   "metadata": {},
   "outputs": [],
   "source": [
    "col  = ['EM', 'F1', 'count', 'context_word_count', 'context_char_count']\n",
    "# bins = list(np.arange(df['answer_word_count'].min(), df['answer_word_count'].max(), 5)) + [np.inf]\n",
    "bins = [0,\n",
    "#         2, 4, \n",
    "        stat['25%'],\n",
    "        stat['50%'],\n",
    "#         14,\n",
    "        stat['75%'],\n",
    "#         30,\n",
    "        stat['max']]"
   ]
  },
  {
   "cell_type": "code",
   "execution_count": 27,
   "id": "58eaca7c",
   "metadata": {
    "scrolled": true
   },
   "outputs": [],
   "source": [
    "col  = ['EM', 'F1', 'count', 'answer_word_count', 'answer_char_count']\n",
    "# bins = list(np.arange(df['answer_word_count'].min(), df['answer_word_count'].max(), 5)) + [np.inf]\n",
    "bins = [0,\n",
    "#         2, 4,\n",
    "        4,\n",
    "        stat['25%'],\n",
    "        8,\n",
    "        stat['50%'],\n",
    "        14,\n",
    "        stat['75%'],\n",
    "        30,\n",
    "        stat['max']]"
   ]
  },
  {
   "cell_type": "code",
   "execution_count": 28,
   "id": "b14b8929",
   "metadata": {},
   "outputs": [],
   "source": [
    "# df.sample(5)"
   ]
  },
  {
   "cell_type": "code",
   "execution_count": 29,
   "id": "614d155a",
   "metadata": {
    "scrolled": true
   },
   "outputs": [
    {
     "data": {
      "text/plain": [
       "answer_word_count\n",
       "(0.0, 4.0]       24\n",
       "(4.0, 6.0]       24\n",
       "(6.0, 8.0]       17\n",
       "(8.0, 11.0]      15\n",
       "(11.0, 14.0]     17\n",
       "(14.0, 18.0]     17\n",
       "(18.0, 30.0]     20\n",
       "(30.0, 201.0]    16\n",
       "Name: count, dtype: int64"
      ]
     },
     "execution_count": 29,
     "metadata": {},
     "output_type": "execute_result"
    }
   ],
   "source": [
    "df_binned_sum = df.groupby(pd.cut(df['answer_word_count'],bins=bins))['count'].sum()\n",
    "df_binned_sum"
   ]
  },
  {
   "cell_type": "code",
   "execution_count": 30,
   "id": "0f1eece9",
   "metadata": {
    "scrolled": true
   },
   "outputs": [
    {
     "data": {
      "text/html": [
       "<div>\n",
       "<style scoped>\n",
       "    .dataframe tbody tr th:only-of-type {\n",
       "        vertical-align: middle;\n",
       "    }\n",
       "\n",
       "    .dataframe tbody tr th {\n",
       "        vertical-align: top;\n",
       "    }\n",
       "\n",
       "    .dataframe thead th {\n",
       "        text-align: right;\n",
       "    }\n",
       "</style>\n",
       "<table border=\"1\" class=\"dataframe\">\n",
       "  <thead>\n",
       "    <tr style=\"text-align: right;\">\n",
       "      <th></th>\n",
       "      <th>EM</th>\n",
       "      <th>F1</th>\n",
       "      <th>count</th>\n",
       "      <th>answer_word_count</th>\n",
       "      <th>answer_char_count</th>\n",
       "    </tr>\n",
       "    <tr>\n",
       "      <th>answer_word_count</th>\n",
       "      <th></th>\n",
       "      <th></th>\n",
       "      <th></th>\n",
       "      <th></th>\n",
       "      <th></th>\n",
       "    </tr>\n",
       "  </thead>\n",
       "  <tbody>\n",
       "    <tr>\n",
       "      <th>(0.0, 4.0]</th>\n",
       "      <td>0.875000</td>\n",
       "      <td>0.923611</td>\n",
       "      <td>1.0</td>\n",
       "      <td>3.208333</td>\n",
       "      <td>14.916667</td>\n",
       "    </tr>\n",
       "    <tr>\n",
       "      <th>(4.0, 6.0]</th>\n",
       "      <td>0.833333</td>\n",
       "      <td>0.908601</td>\n",
       "      <td>1.0</td>\n",
       "      <td>5.541667</td>\n",
       "      <td>27.000000</td>\n",
       "    </tr>\n",
       "    <tr>\n",
       "      <th>(6.0, 8.0]</th>\n",
       "      <td>0.705882</td>\n",
       "      <td>0.782446</td>\n",
       "      <td>1.0</td>\n",
       "      <td>7.529412</td>\n",
       "      <td>34.470588</td>\n",
       "    </tr>\n",
       "    <tr>\n",
       "      <th>(8.0, 11.0]</th>\n",
       "      <td>0.466667</td>\n",
       "      <td>0.570370</td>\n",
       "      <td>1.0</td>\n",
       "      <td>10.733333</td>\n",
       "      <td>59.466667</td>\n",
       "    </tr>\n",
       "    <tr>\n",
       "      <th>(11.0, 14.0]</th>\n",
       "      <td>0.882353</td>\n",
       "      <td>0.960208</td>\n",
       "      <td>1.0</td>\n",
       "      <td>13.000000</td>\n",
       "      <td>53.647059</td>\n",
       "    </tr>\n",
       "    <tr>\n",
       "      <th>(14.0, 18.0]</th>\n",
       "      <td>0.882353</td>\n",
       "      <td>0.975335</td>\n",
       "      <td>1.0</td>\n",
       "      <td>16.529412</td>\n",
       "      <td>77.058824</td>\n",
       "    </tr>\n",
       "    <tr>\n",
       "      <th>(18.0, 30.0]</th>\n",
       "      <td>0.750000</td>\n",
       "      <td>0.909142</td>\n",
       "      <td>1.0</td>\n",
       "      <td>23.100000</td>\n",
       "      <td>117.150000</td>\n",
       "    </tr>\n",
       "    <tr>\n",
       "      <th>(30.0, 201.0]</th>\n",
       "      <td>0.375000</td>\n",
       "      <td>0.571849</td>\n",
       "      <td>1.0</td>\n",
       "      <td>74.437500</td>\n",
       "      <td>374.812500</td>\n",
       "    </tr>\n",
       "  </tbody>\n",
       "</table>\n",
       "</div>"
      ],
      "text/plain": [
       "                         EM        F1  count  answer_word_count  \\\n",
       "answer_word_count                                                 \n",
       "(0.0, 4.0]         0.875000  0.923611    1.0           3.208333   \n",
       "(4.0, 6.0]         0.833333  0.908601    1.0           5.541667   \n",
       "(6.0, 8.0]         0.705882  0.782446    1.0           7.529412   \n",
       "(8.0, 11.0]        0.466667  0.570370    1.0          10.733333   \n",
       "(11.0, 14.0]       0.882353  0.960208    1.0          13.000000   \n",
       "(14.0, 18.0]       0.882353  0.975335    1.0          16.529412   \n",
       "(18.0, 30.0]       0.750000  0.909142    1.0          23.100000   \n",
       "(30.0, 201.0]      0.375000  0.571849    1.0          74.437500   \n",
       "\n",
       "                   answer_char_count  \n",
       "answer_word_count                     \n",
       "(0.0, 4.0]                 14.916667  \n",
       "(4.0, 6.0]                 27.000000  \n",
       "(6.0, 8.0]                 34.470588  \n",
       "(8.0, 11.0]                59.466667  \n",
       "(11.0, 14.0]               53.647059  \n",
       "(14.0, 18.0]               77.058824  \n",
       "(18.0, 30.0]              117.150000  \n",
       "(30.0, 201.0]             374.812500  "
      ]
     },
     "execution_count": 30,
     "metadata": {},
     "output_type": "execute_result"
    }
   ],
   "source": [
    "df_binned_mean = df.groupby(pd.cut(df['answer_word_count'],bins=bins))[col].mean()\n",
    "df_binned_mean"
   ]
  },
  {
   "cell_type": "code",
   "execution_count": 31,
   "id": "9d85cc6d",
   "metadata": {},
   "outputs": [],
   "source": [
    "# plot_binned_score(df, 'context_word_count', bins, \"word count in contexts\")"
   ]
  },
  {
   "cell_type": "code",
   "execution_count": 38,
   "id": "1c2fb70d",
   "metadata": {},
   "outputs": [
    {
     "data": {
      "image/png": "[encoded data removed]",
      "text/plain": [
       "<Figure size 720x576 with 2 Axes>"
      ]
     },
     "metadata": {
      "needs_background": "light"
     },
     "output_type": "display_data"
    },
    {
     "name": "stdout",
     "output_type": "stream",
     "text": [
      "[24 24 17 15 17 17 20 16]\n"
     ]
    },
    {
     "data": {
      "text/html": [
       "<div>\n",
       "<style scoped>\n",
       "    .dataframe tbody tr th:only-of-type {\n",
       "        vertical-align: middle;\n",
       "    }\n",
       "\n",
       "    .dataframe tbody tr th {\n",
       "        vertical-align: top;\n",
       "    }\n",
       "\n",
       "    .dataframe thead th {\n",
       "        text-align: right;\n",
       "    }\n",
       "</style>\n",
       "<table border=\"1\" class=\"dataframe\">\n",
       "  <thead>\n",
       "    <tr style=\"text-align: right;\">\n",
       "      <th></th>\n",
       "      <th>EM</th>\n",
       "      <th>F1</th>\n",
       "      <th>count</th>\n",
       "      <th>answer_word_count</th>\n",
       "    </tr>\n",
       "    <tr>\n",
       "      <th>answer_word_count</th>\n",
       "      <th></th>\n",
       "      <th></th>\n",
       "      <th></th>\n",
       "      <th></th>\n",
       "    </tr>\n",
       "  </thead>\n",
       "  <tbody>\n",
       "    <tr>\n",
       "      <th>(0.0, 4.0]</th>\n",
       "      <td>0.875000</td>\n",
       "      <td>0.923611</td>\n",
       "      <td>1.0</td>\n",
       "      <td>3.208333</td>\n",
       "    </tr>\n",
       "    <tr>\n",
       "      <th>(4.0, 6.0]</th>\n",
       "      <td>0.833333</td>\n",
       "      <td>0.908601</td>\n",
       "      <td>1.0</td>\n",
       "      <td>5.541667</td>\n",
       "    </tr>\n",
       "    <tr>\n",
       "      <th>(6.0, 8.0]</th>\n",
       "      <td>0.705882</td>\n",
       "      <td>0.782446</td>\n",
       "      <td>1.0</td>\n",
       "      <td>7.529412</td>\n",
       "    </tr>\n",
       "    <tr>\n",
       "      <th>(8.0, 11.0]</th>\n",
       "      <td>0.466667</td>\n",
       "      <td>0.570370</td>\n",
       "      <td>1.0</td>\n",
       "      <td>10.733333</td>\n",
       "    </tr>\n",
       "    <tr>\n",
       "      <th>(11.0, 14.0]</th>\n",
       "      <td>0.882353</td>\n",
       "      <td>0.960208</td>\n",
       "      <td>1.0</td>\n",
       "      <td>13.000000</td>\n",
       "    </tr>\n",
       "    <tr>\n",
       "      <th>(14.0, 18.0]</th>\n",
       "      <td>0.882353</td>\n",
       "      <td>0.975335</td>\n",
       "      <td>1.0</td>\n",
       "      <td>16.529412</td>\n",
       "    </tr>\n",
       "    <tr>\n",
       "      <th>(18.0, 30.0]</th>\n",
       "      <td>0.750000</td>\n",
       "      <td>0.909142</td>\n",
       "      <td>1.0</td>\n",
       "      <td>23.100000</td>\n",
       "    </tr>\n",
       "    <tr>\n",
       "      <th>(30.0, 201.0]</th>\n",
       "      <td>0.375000</td>\n",
       "      <td>0.571849</td>\n",
       "      <td>1.0</td>\n",
       "      <td>74.437500</td>\n",
       "    </tr>\n",
       "  </tbody>\n",
       "</table>\n",
       "</div>"
      ],
      "text/plain": [
       "                         EM        F1  count  answer_word_count\n",
       "answer_word_count                                              \n",
       "(0.0, 4.0]         0.875000  0.923611    1.0           3.208333\n",
       "(4.0, 6.0]         0.833333  0.908601    1.0           5.541667\n",
       "(6.0, 8.0]         0.705882  0.782446    1.0           7.529412\n",
       "(8.0, 11.0]        0.466667  0.570370    1.0          10.733333\n",
       "(11.0, 14.0]       0.882353  0.960208    1.0          13.000000\n",
       "(14.0, 18.0]       0.882353  0.975335    1.0          16.529412\n",
       "(18.0, 30.0]       0.750000  0.909142    1.0          23.100000\n",
       "(30.0, 201.0]      0.375000  0.571849    1.0          74.437500"
      ]
     },
     "execution_count": 38,
     "metadata": {},
     "output_type": "execute_result"
    }
   ],
   "source": [
    "plot_binned_score(df, 'answer_word_count', bins, \"word count in answers\")"
   ]
  },
  {
   "cell_type": "markdown",
   "id": "c7d89b54",
   "metadata": {},
   "source": [
    "Exact Match\n",
    "This metric is as simple as it sounds. For each question+answer pair, if the characters of the model's prediction exactly match the characters of (one of) the True Answer(s), EM = 1, otherwise EM = 0. This is a strict all-or-nothing metric; being off by a single character results in a score of 0. When assessing against a negative example, if the model predicts any text at all, it automatically receives a 0 for that example."
   ]
  },
  {
   "cell_type": "markdown",
   "id": "6bd6f46c",
   "metadata": {},
   "source": [
    "F1 score is a common metric for classification problems, and widely used in QA. It is appropriate when we care equally about precision and recall. In this case, it's computed over the individual words in the prediction against those in the True Answer. The number of shared words between the prediction and the truth is the basis of the F1 score: precision is the ratio of the number of shared words to the total number of words in the prediction, and recall is the ratio of the number of shared words to the total number of words in the ground truth.\n",
    "\n"
   ]
  },
  {
   "cell_type": "code",
   "execution_count": null,
   "id": "2886dca5",
   "metadata": {},
   "outputs": [],
   "source": []
  },
  {
   "cell_type": "code",
   "execution_count": null,
   "id": "104379d2",
   "metadata": {},
   "outputs": [],
   "source": []
  },
  {
   "cell_type": "code",
   "execution_count": null,
   "id": "f6df15f8",
   "metadata": {},
   "outputs": [],
   "source": []
  }
 ],
 "metadata": {
  "kernelspec": {
   "display_name": "Python 3",
   "language": "python",
   "name": "python3"
  },
  "language_info": {
   "codemirror_mode": {
    "name": "ipython",
    "version": 3
   },
   "file_extension": ".py",
   "mimetype": "text/x-python",
   "name": "python",
   "nbconvert_exporter": "python",
   "pygments_lexer": "ipython3",
   "version": "3.7.10"
  },
  "toc": {
   "base_numbering": 1,
   "nav_menu": {},
   "number_sections": true,
   "sideBar": true,
   "skip_h1_title": false,
   "title_cell": "Table of Contents",
   "title_sidebar": "Contents",
   "toc_cell": false,
   "toc_position": {},
   "toc_section_display": true,
   "toc_window_display": false
  }
 },
 "nbformat": 4,
 "nbformat_minor": 5
}
