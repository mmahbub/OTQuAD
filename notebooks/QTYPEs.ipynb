{
 "cells": [
  {
   "cell_type": "code",
   "execution_count": 1,
   "id": "31fc4172",
   "metadata": {},
   "outputs": [],
   "source": [
    "import matplotlib.pyplot as plt\n",
    "import numpy as np\n",
    "import pandas as pd\n",
    "import torch\n",
    "import matplotlib as mpl\n",
    "\n",
    "\n",
    "from collections import defaultdict\n",
    "from copy import deepcopy\n",
    "from tqdm import tqdm\n",
    "from pathlib import Path\n",
    "import random\n",
    "import json\n",
    "from sklearn.model_selection import train_test_split\n",
    "\n",
    "import matplotlib as mpl\n",
    "import matplotlib.pyplot as plt\n",
    "import numpy as np\n",
    "import pandas as pd\n",
    "\n",
    "from matplotlib.cm import ScalarMappable\n",
    "from matplotlib.lines import Line2D\n",
    "# from mpl_toolkits.axes_grid1.inset_locator import inset_axes\n",
    "from textwrap import wrap\n",
    "\n",
    "import seaborn as sns\n",
    "import matplotlib.pyplot as plt\n",
    "# sns.set(style=\"darkgrid\")\n",
    "\n",
    "import collections"
   ]
  },
  {
   "cell_type": "code",
   "execution_count": 2,
   "id": "5fdc3e15",
   "metadata": {},
   "outputs": [],
   "source": [
    "def get_qtype_freq(df):\n",
    "  q_list = df['question'].values.tolist()\n",
    "  q_type = ['what', 'when', 'where', 'who', 'whom', \n",
    "            'which', 'why', 'how'] #, 'name', 'whose', \n",
    "  \n",
    "  q_freq = {}\n",
    "  for ques in q_list:\n",
    "    q_tokens = ques.lower().split()\n",
    "    for typ in q_type:\n",
    "      if typ in q_tokens[0]:\n",
    "        q_freq.setdefault(typ, []).append(ques)\n",
    "\n",
    "  freq_qtype = [len(x) for x in list(q_freq.values())]\n",
    "  print(freq_qtype, sum(freq_qtype))\n",
    "  \n",
    "  df_sorted = pd.DataFrame()\n",
    "  \n",
    "  df_sorted['QTYPE'] = list(q_freq.keys())\n",
    "  df_sorted['QFREQ'] = freq_qtype\n",
    "  df_sorted['n'] = freq_qtype\n",
    "  df_sorted = df_sorted.sort_values(\"QFREQ\", ascending=False)\n",
    "\n",
    "  print(df_sorted.shape)\n",
    "  \n",
    "  return df_sorted"
   ]
  },
  {
   "cell_type": "code",
   "execution_count": 3,
   "id": "62960fb4",
   "metadata": {},
   "outputs": [],
   "source": [
    "def find_question_type(df):\n",
    "  q_list = df['question'].values.tolist()\n",
    "  q_type = ['what', 'when', 'where', 'who', 'whom', \n",
    "            'which', 'why', 'how'] #, 'name', 'whose', \n",
    "  k=0\n",
    "  qtyp_ls = []\n",
    "  ques_ls = []\n",
    "  for ques in q_list:\n",
    "    k+=1\n",
    "    q_tokens = ques.lower().split()\n",
    "    for typ in q_type:\n",
    "      if typ in q_tokens[0]:\n",
    "        qtyp_ls.append(typ)\n",
    "        ques_ls.append(ques)\n",
    "      elif typ not in q_tokens[0]:\n",
    "        qtyp_ls.append('Others')\n",
    "        ques_ls.append(ques)\n",
    "        \n",
    "  assert len(qtyp_ls) == len(ques_ls)\n",
    "  print(len(qtyp_ls), k)\n",
    "  \n",
    "  return qtyp_ls, ques_ls"
   ]
  },
  {
   "cell_type": "code",
   "execution_count": 4,
   "id": "44d6fc8e",
   "metadata": {},
   "outputs": [],
   "source": [
    "def get_qtype(ques):\n",
    "  q_type = ['what', 'when', 'where', 'who', 'whom', \n",
    "            'which', 'why', 'how', 'name'] #, 'name', 'whose', \n",
    "  \n",
    "  q_tokens = ques.lower().split()\n",
    "  for typ in q_type:\n",
    "    if typ in q_tokens[0]:\n",
    "      return typ[0].upper()+typ[1:]\n",
    "  return 'Others'\n"
   ]
  },
  {
   "cell_type": "code",
   "execution_count": 5,
   "id": "6c5e02a1",
   "metadata": {},
   "outputs": [],
   "source": [
    "path = '/net/kdinxidk03/opt/NFS/75y/data/qa/dataset_pos/otquad/otquad.json'\n",
    "cache_path = '/net/kdinxidk03/opt/NFS/75y/data/OTMRC_PAPER/cached_dev_bert_384_test_otquad'\n",
    "\n",
    "features_and_dataset = torch.load(cache_path)\n",
    "features, dataset, examples = (\n",
    "                              features_and_dataset[\"features\"],\n",
    "                              features_and_dataset[\"dataset\"],\n",
    "                              features_and_dataset[\"examples\"],\n",
    "                              )\n",
    "\n",
    "# print(len(examples))\n",
    "\n",
    "# qid_ls = []\n",
    "# ques_ls = []\n",
    "# for x in examples:\n",
    "#   qid  = x.__dict__['qas_id']\n",
    "#   ques = x.__dict__['question_text']\n",
    "#   qid_ls.append(qid)\n",
    "#   ques_ls.append(ques)"
   ]
  },
  {
   "cell_type": "code",
   "execution_count": 6,
   "id": "6bf5ba5a",
   "metadata": {},
   "outputs": [],
   "source": [
    "# examples[0].__dict__"
   ]
  },
  {
   "cell_type": "code",
   "execution_count": 7,
   "id": "239ebfa5",
   "metadata": {},
   "outputs": [],
   "source": [
    "answer_dict = {}\n",
    "token_dict = {}\n",
    "for ex in examples:\n",
    "  answer_dict[ex.__dict__['qas_id']] = ex.__dict__['answers'][0]['text']"
   ]
  },
  {
   "cell_type": "code",
   "execution_count": 8,
   "id": "da7bff30",
   "metadata": {
    "scrolled": true
   },
   "outputs": [
    {
     "data": {
      "text/plain": [
       "1097"
      ]
     },
     "execution_count": 8,
     "metadata": {},
     "output_type": "execute_result"
    }
   ],
   "source": [
    "k=0\n",
    "title_dict = []\n",
    "for ex in examples:\n",
    "  k+=1\n",
    "  title_dict.append((ex.__dict__['qas_id'],\n",
    "                     ex.__dict__['title']))\n",
    "k"
   ]
  },
  {
   "cell_type": "code",
   "execution_count": 9,
   "id": "22d7070a",
   "metadata": {},
   "outputs": [],
   "source": [
    "# x = [ex.__dict__['qas_id'] for ex in examples]\n",
    "\n",
    "# for k,v in collections.Counter(x).items():\n",
    "#   if v==2:\n",
    "#     print(k)"
   ]
  },
  {
   "cell_type": "code",
   "execution_count": 10,
   "id": "01e65662",
   "metadata": {},
   "outputs": [],
   "source": [
    "title_dict = dict(title_dict)"
   ]
  },
  {
   "cell_type": "code",
   "execution_count": 11,
   "id": "46e82537",
   "metadata": {},
   "outputs": [
    {
     "data": {
      "text/plain": [
       "1097"
      ]
     },
     "execution_count": 11,
     "metadata": {},
     "output_type": "execute_result"
    }
   ],
   "source": [
    "len(list(title_dict.keys()))"
   ]
  },
  {
   "cell_type": "code",
   "execution_count": 12,
   "id": "cc2e3b7d",
   "metadata": {},
   "outputs": [
    {
     "name": "stdout",
     "output_type": "stream",
     "text": [
      "(1097, 1)\n"
     ]
    }
   ],
   "source": [
    "df_title = pd.DataFrame()\n",
    "df_title['QID'] = list(title_dict.keys())\n",
    "print(df_title.shape)\n",
    "df_title['title_old'] = list(title_dict.values())\n",
    "df_title['Answer'] = df_title['QID'].map(answer_dict)"
   ]
  },
  {
   "cell_type": "code",
   "execution_count": 13,
   "id": "77b48ae5",
   "metadata": {},
   "outputs": [
    {
     "data": {
      "text/html": [
       "<div>\n",
       "<style scoped>\n",
       "    .dataframe tbody tr th:only-of-type {\n",
       "        vertical-align: middle;\n",
       "    }\n",
       "\n",
       "    .dataframe tbody tr th {\n",
       "        vertical-align: top;\n",
       "    }\n",
       "\n",
       "    .dataframe thead th {\n",
       "        text-align: right;\n",
       "    }\n",
       "</style>\n",
       "<table border=\"1\" class=\"dataframe\">\n",
       "  <thead>\n",
       "    <tr style=\"text-align: right;\">\n",
       "      <th></th>\n",
       "      <th>QID</th>\n",
       "      <th>title_old</th>\n",
       "      <th>Answer</th>\n",
       "    </tr>\n",
       "  </thead>\n",
       "  <tbody>\n",
       "    <tr>\n",
       "      <th>0</th>\n",
       "      <td>0</td>\n",
       "      <td>Pain Management Opioid Taper Decision Tool</td>\n",
       "      <td>assist Primary Care providers in determining i...</td>\n",
       "    </tr>\n",
       "    <tr>\n",
       "      <th>1</th>\n",
       "      <td>1</td>\n",
       "      <td>Pain Management Opioid Taper Decision Tool</td>\n",
       "      <td>Establish treatment goals</td>\n",
       "    </tr>\n",
       "    <tr>\n",
       "      <th>2</th>\n",
       "      <td>2</td>\n",
       "      <td>Pain Management Opioid Taper Decision Tool</td>\n",
       "      <td>plan</td>\n",
       "    </tr>\n",
       "    <tr>\n",
       "      <th>3</th>\n",
       "      <td>3</td>\n",
       "      <td>Pain Management Opioid Taper Decision Tool</td>\n",
       "      <td>if there is clinically meaningful improvement ...</td>\n",
       "    </tr>\n",
       "    <tr>\n",
       "      <th>4</th>\n",
       "      <td>4</td>\n",
       "      <td>Pain Management Opioid Taper Decision Tool</td>\n",
       "      <td>risks, benefits and responsibilities for manag...</td>\n",
       "    </tr>\n",
       "    <tr>\n",
       "      <th>...</th>\n",
       "      <td>...</td>\n",
       "      <td>...</td>\n",
       "      <td>...</td>\n",
       "    </tr>\n",
       "    <tr>\n",
       "      <th>1092</th>\n",
       "      <td>1092</td>\n",
       "      <td>About this Clinical Practice Guideline: Shared...</td>\n",
       "      <td>a patient-centered interview, and exploration ...</td>\n",
       "    </tr>\n",
       "    <tr>\n",
       "      <th>1093</th>\n",
       "      <td>1093</td>\n",
       "      <td>About this Clinical Practice Guideline: Clinic...</td>\n",
       "      <td>There are electronic tools</td>\n",
       "    </tr>\n",
       "    <tr>\n",
       "      <th>1094</th>\n",
       "      <td>1094</td>\n",
       "      <td>About this Clinical Practice Guideline: Clinic...</td>\n",
       "      <td>the Opioid Therapy Risk Report (OTRR) and the ...</td>\n",
       "    </tr>\n",
       "    <tr>\n",
       "      <th>1095</th>\n",
       "      <td>1095</td>\n",
       "      <td>About this Clinical Practice Guideline: Clinic...</td>\n",
       "      <td>allows VA providers to review clinical data re...</td>\n",
       "    </tr>\n",
       "    <tr>\n",
       "      <th>1096</th>\n",
       "      <td>1096</td>\n",
       "      <td>About this Clinical Practice Guideline: Clinic...</td>\n",
       "      <td>incorporates co-occurring medical and mental h...</td>\n",
       "    </tr>\n",
       "  </tbody>\n",
       "</table>\n",
       "<p>1097 rows × 3 columns</p>\n",
       "</div>"
      ],
      "text/plain": [
       "       QID                                          title_old  \\\n",
       "0        0         Pain Management Opioid Taper Decision Tool   \n",
       "1        1         Pain Management Opioid Taper Decision Tool   \n",
       "2        2         Pain Management Opioid Taper Decision Tool   \n",
       "3        3         Pain Management Opioid Taper Decision Tool   \n",
       "4        4         Pain Management Opioid Taper Decision Tool   \n",
       "...    ...                                                ...   \n",
       "1092  1092  About this Clinical Practice Guideline: Shared...   \n",
       "1093  1093  About this Clinical Practice Guideline: Clinic...   \n",
       "1094  1094  About this Clinical Practice Guideline: Clinic...   \n",
       "1095  1095  About this Clinical Practice Guideline: Clinic...   \n",
       "1096  1096  About this Clinical Practice Guideline: Clinic...   \n",
       "\n",
       "                                                 Answer  \n",
       "0     assist Primary Care providers in determining i...  \n",
       "1                             Establish treatment goals  \n",
       "2                                                  plan  \n",
       "3     if there is clinically meaningful improvement ...  \n",
       "4     risks, benefits and responsibilities for manag...  \n",
       "...                                                 ...  \n",
       "1092  a patient-centered interview, and exploration ...  \n",
       "1093                         There are electronic tools  \n",
       "1094  the Opioid Therapy Risk Report (OTRR) and the ...  \n",
       "1095  allows VA providers to review clinical data re...  \n",
       "1096  incorporates co-occurring medical and mental h...  \n",
       "\n",
       "[1097 rows x 3 columns]"
      ]
     },
     "execution_count": 13,
     "metadata": {},
     "output_type": "execute_result"
    }
   ],
   "source": [
    "df_title"
   ]
  },
  {
   "cell_type": "code",
   "execution_count": 14,
   "id": "65ac6981",
   "metadata": {
    "code_folding": [
     0
    ]
   },
   "outputs": [],
   "source": [
    "new_title = {'Discussion of Recommendations: Risk Mitigation: Recommendation':'Recommendations',\n",
    " 'Discussion of Recommendations: Risk Mitigation: Discussion: Written Informed Consent and Opioid Treatment Agreements \\n':'Recommendations',\n",
    " 'Discussion of Recommendations: Opioid Therapy for Acute Pain: Discussion':'Recommendations',\n",
    " 'Discussion of Recommendations: Risk Mitigation: Discussion: Prescribing of Naloxone Rescue and Accompanying Education':'Recommendations',\n",
    " 'Discussion of Recommendations: Opioid Therapy for Acute Pain: Recommendation':'Recommendations',\n",
    " 'Recommendations':'Recommendations',\n",
    " 'About this Clinical Practice Guideline: Shared Decision Making': 'Specifications',\n",
    " 'Discussion of Recommendations: Initiation and Continuation of Opioids: Recommendation \\n':'Recommendations',\n",
    " 'Introduction' : 'Introduction',\n",
    " 'Discussion of Recommendations: Risk Mitigation: Discussion: Other Risk Mitigation Strategies':'Recommendations',\n",
    " 'Paradigm Shift in Pain and Its Treatment':'Background',\n",
    " 'Discussion of Recommendations: Type, Dose, Duration, Follow-up, and Taper of Opioids: Recommendations':'Recommendations',\n",
    " 'Epidemiology and Impact: General Population':'Background',\n",
    " 'Discussion of Recommendations: Risk Mitigation: Discussion':'Recommendations',\n",
    " 'About this Clinical Practice Guideline: Methods': 'Specifications',\n",
    " 'Opioid Epidemic':'Background',\n",
    " 'Discussion of Recommendations: Initiation and Continuation of Opioids: Discussion \\n':'Recommendations',\n",
    " 'Module C: Tapering or Discontinuation of Opioid Therapy': 'Algorithm',\n",
    " 'Discussion of Recommendations: Type, Dose, Duration, Follow-up, and Taper of Opioids: Discussion':'Recommendations',\n",
    " 'Discussion of Recommendations: Risk Mitigation: Discussion: State Prescription Drug Monitoring Programs':'Recommendations',\n",
    " 'Discussion of Recommendations: Initiation and Continuation of Opioids: Recommendations \\n':'Recommendations',\n",
    " 'How to Use This Clinical Practice Guideline': 'Introduction',\n",
    " 'Chronic Pain and Co-occurring Conditions ':'Background',\n",
    " 'Discussion of Recommendations: Risk Mitigation: Discussion: Patients at High Risk for Opioid Use Disorder':'Recommendations',\n",
    " 'Module A: Determination of Appropriateness for Opioid Therapy': 'Algorithm',\n",
    " 'Risk Factors for Adverse Outcomes of Opioid Therapy ':'Background',\n",
    " 'Taxonomy':'Background',\n",
    " 'About this Clinical Practice Guideline': 'Specifications',\n",
    " 'About this Clinical Practice Guideline: Patient-centered Care': 'Specifications',\n",
    " 'Pain Management Opioid Taper Decision Tool': 'Specifications',\n",
    " 'Prioritizing Safe Opioid Prescribing Practices and Use ':'Background',\n",
    " 'Discussion of Recommendations: Initiation and Continuation of Opioids: Discussion':'Recommendations',\n",
    " 'Significant Risk Factors':'Background',\n",
    " 'About this Clinical Practice Guideline: Clinical Decision Support Tools': 'Specifications',\n",
    " 'Qualifying Statements':'Introduction',\n",
    " 'Module D: Patients Currently on Opioid Therapy': 'Algorithm',\n",
    " 'Mental health disorders':'Background',\n",
    " 'Discussion of Recommendations: Risk Mitigation: Discussion: Urine Drug Testing and Confirmatory Testing':'Recommendations',\n",
    " 'Discussion of Recommendations: Initiation and Continuation of Opioids: Recommendation':'Recommendations',\n",
    " 'About this Clinical Practice Guideline: Scope of this Clinical Practice Guideline': 'Specifications',\n",
    " 'Algorithm': 'Algorithm',\n",
    " 'Module B: Treatment with Opioid Therapy': 'Algorithm',\n",
    " 'About this Clinical Practice Guideline: Highlighted Features of this Clinical Practice Guideline': 'Specifications',\n",
    " 'Epidemiology and Impact: VA/DoD Population ': 'Background'}\n"
   ]
  },
  {
   "cell_type": "code",
   "execution_count": 15,
   "id": "115a794d",
   "metadata": {},
   "outputs": [
    {
     "data": {
      "text/plain": [
       "1097"
      ]
     },
     "execution_count": 15,
     "metadata": {},
     "output_type": "execute_result"
    }
   ],
   "source": [
    "df_title['TITLE'] = df_title['title_old'].map(new_title)\n",
    "df_title['TITLE'].value_counts().sum()"
   ]
  },
  {
   "cell_type": "code",
   "execution_count": 16,
   "id": "d119096f",
   "metadata": {},
   "outputs": [],
   "source": [
    "df = pd.DataFrame()\n",
    "df['question'] = [ex.__dict__['question_text'] for ex in examples]\n",
    "df['id'] = [ex.__dict__['qas_id'] for ex in examples]"
   ]
  },
  {
   "cell_type": "code",
   "execution_count": 17,
   "id": "1f767f02",
   "metadata": {},
   "outputs": [],
   "source": [
    "df['qtype'] = df['question'].apply(get_qtype)"
   ]
  },
  {
   "cell_type": "code",
   "execution_count": 18,
   "id": "c0c0618f",
   "metadata": {
    "scrolled": true
   },
   "outputs": [
    {
     "data": {
      "text/plain": [
       "What      578\n",
       "Others    174\n",
       "When       92\n",
       "How        76\n",
       "Which      70\n",
       "Who        61\n",
       "Why        28\n",
       "Where      14\n",
       "Name        4\n",
       "Name: qtype, dtype: int64"
      ]
     },
     "execution_count": 18,
     "metadata": {},
     "output_type": "execute_result"
    }
   ],
   "source": [
    "df.qtype.value_counts()"
   ]
  },
  {
   "cell_type": "code",
   "execution_count": 19,
   "id": "5ad7b3ea",
   "metadata": {},
   "outputs": [],
   "source": [
    "question_others = df[df['qtype']=='Others']['question'].values.tolist()\n",
    "question_define = df[df['qtype']!='Others']['question'].values.tolist()\n",
    "ids_others      = df[df['qtype']=='Others']['id'].values.tolist()\n",
    "ids_define      = df[df['qtype']!='Others']['id'].values.tolist()\n",
    "qtyp_define     = df[df['qtype']!='Others']['qtype'].values.tolist()\n",
    "\n",
    "remainder_ques = []\n",
    "remainder_qtyp = []\n",
    "remainder_id   = []\n",
    "\n",
    "for i, x in enumerate(question_others):\n",
    "  if 'what' in x.lower():\n",
    "    if x not in question_define:\n",
    "      remainder_ques.append(x)\n",
    "      remainder_qtyp.append('What')\n",
    "      remainder_id.append(ids_others[i])"
   ]
  },
  {
   "cell_type": "code",
   "execution_count": 20,
   "id": "77bc2c11",
   "metadata": {
    "scrolled": true
   },
   "outputs": [
    {
     "data": {
      "text/plain": [
       "(84, 84, 84)"
      ]
     },
     "execution_count": 20,
     "metadata": {},
     "output_type": "execute_result"
    }
   ],
   "source": [
    "len(remainder_ques), len(remainder_qtyp), len(remainder_id)"
   ]
  },
  {
   "cell_type": "code",
   "execution_count": 33,
   "id": "09a1a498",
   "metadata": {},
   "outputs": [],
   "source": [
    "for QT in ['what', 'when', 'where', 'who', 'whom', \n",
    "            'which', 'why', 'how',\n",
    "           'is there', 'are there', 'is ther', 'was there', 'in there',\n",
    "           'define', 'mention', 'should']:\n",
    "  for i, x in enumerate(question_others):\n",
    "    if QT in x.lower():\n",
    "      if x not in remainder_ques:\n",
    "        if x not in question_define:\n",
    "          remainder_ques.append(x)\n",
    "          remainder_qtyp.append(QT[0].upper()+QT[1:])\n",
    "          remainder_id.append(ids_others[i])"
   ]
  },
  {
   "cell_type": "code",
   "execution_count": 34,
   "id": "b829b4c6",
   "metadata": {},
   "outputs": [],
   "source": [
    "final_ques_ls = []\n",
    "final_qtyp_ls = []\n",
    "final_ids_ls  = []\n",
    "\n",
    "final_ques_ls.extend(question_define)\n",
    "final_ques_ls.extend(remainder_ques)\n",
    "\n",
    "final_qtyp_ls.extend(qtyp_define)\n",
    "final_qtyp_ls.extend(remainder_qtyp)\n",
    "\n",
    "final_ids_ls.extend(ids_define)\n",
    "final_ids_ls.extend(remainder_id)"
   ]
  },
  {
   "cell_type": "code",
   "execution_count": 35,
   "id": "302e7a36",
   "metadata": {
    "scrolled": true
   },
   "outputs": [
    {
     "data": {
      "text/plain": [
       "(1097, 923, 1097, 1097)"
      ]
     },
     "execution_count": 35,
     "metadata": {},
     "output_type": "execute_result"
    }
   ],
   "source": [
    "len(final_ques_ls), len(question_define), len(final_qtyp_ls), len(final_ids_ls)"
   ]
  },
  {
   "cell_type": "code",
   "execution_count": 36,
   "id": "542ab5a4",
   "metadata": {},
   "outputs": [],
   "source": [
    "ques_ls = df['question'].values.tolist()\n",
    "qid_ls = df['id'].values.tolist()"
   ]
  },
  {
   "cell_type": "code",
   "execution_count": 37,
   "id": "b44edac3",
   "metadata": {},
   "outputs": [],
   "source": [
    "for i, x in enumerate(ques_ls):\n",
    "  if x not in final_ques_ls:\n",
    "    final_ques_ls.append(x)\n",
    "    final_qtyp_ls.append('Others')\n",
    "    final_ids_ls.append(qid_ls[i])\n",
    "\n",
    "    "
   ]
  },
  {
   "cell_type": "code",
   "execution_count": 38,
   "id": "6bb68b4b",
   "metadata": {},
   "outputs": [],
   "source": [
    "df_final = pd.DataFrame()\n",
    "df_final['Question'] = final_ques_ls\n",
    "df_final['Question Type'] = final_qtyp_ls\n",
    "df_final['QID'] = final_ids_ls\n"
   ]
  },
  {
   "cell_type": "code",
   "execution_count": 39,
   "id": "0d5377fb",
   "metadata": {},
   "outputs": [
    {
     "data": {
      "text/plain": [
       "1097"
      ]
     },
     "execution_count": 39,
     "metadata": {},
     "output_type": "execute_result"
    }
   ],
   "source": [
    "df_final['Question Type'].value_counts().sum()"
   ]
  },
  {
   "cell_type": "code",
   "execution_count": 40,
   "id": "fb1f5b7e",
   "metadata": {},
   "outputs": [],
   "source": [
    "# dff.to_csv('cpgQA_QT.csv', index=False)"
   ]
  },
  {
   "cell_type": "code",
   "execution_count": 41,
   "id": "71fef832",
   "metadata": {
    "scrolled": false
   },
   "outputs": [],
   "source": [
    "# dff = pd.read_csv('cpgQA_QT.csv')\n",
    "# dff = dff.sort_values(by='QID').reset_index(drop=True)\n",
    "# dff"
   ]
  },
  {
   "cell_type": "code",
   "execution_count": 42,
   "id": "ad32797d",
   "metadata": {},
   "outputs": [],
   "source": [
    "df_final.loc[df_final['Question Type'] == 'Name', 'Question Type'] = 'What'\n",
    "df_final.loc[df_final['Question Type'] == 'Define', 'Question Type'] = 'What'\n",
    "df_final.loc[df_final['Question Type'] == 'Mention', 'Question Type'] = 'What'\n",
    "df_final.loc[df_final['Question Type'] == 'Should', 'Question Type'] = 'Is there'\n",
    "df_final.loc[df_final['Question Type'] == 'Are there', 'Question Type'] = 'Is there'\n",
    "df_final.loc[df_final['Question Type'] == 'Is ther', 'Question Type'] = 'Is there'\n",
    "df_final.loc[df_final['Question Type'] == 'Was there', 'Question Type'] = 'Is there'\n",
    "df_final.loc[df_final['Question Type'] == 'In there', 'Question Type'] = 'Is there'\n",
    "  "
   ]
  },
  {
   "cell_type": "code",
   "execution_count": 43,
   "id": "b315ef27",
   "metadata": {},
   "outputs": [
    {
     "data": {
      "text/plain": [
       "What        669\n",
       "When        102\n",
       "Which        92\n",
       "How          90\n",
       "Who          89\n",
       "Why          29\n",
       "Where        14\n",
       "Is there     12\n",
       "Name: Question Type, dtype: int64"
      ]
     },
     "execution_count": 43,
     "metadata": {},
     "output_type": "execute_result"
    }
   ],
   "source": [
    "df_final['Question Type'].value_counts()"
   ]
  },
  {
   "cell_type": "code",
   "execution_count": 45,
   "id": "03704727",
   "metadata": {},
   "outputs": [],
   "source": [
    "def plot_qtype_frequency(df_sorted, dataset_name):\n",
    "  \n",
    "  # Values for the x axis\n",
    "  ANGLES = np.linspace(0.05, 2 * np.pi - 0.05, len(df_sorted), endpoint=False)\n",
    "\n",
    "  # Cumulative length\n",
    "  QFREQ = df_sorted['Question Type'].value_counts().keys().tolist()\n",
    "\n",
    "  # # Mean gain length\n",
    "  # MEAN_GAIN = df_sorted[\"mean_gain\"].values\n",
    "\n",
    "  # Region label\n",
    "  QTYPE = df_sorted['Question Type'].value_counts().values.tolist()\n",
    "\n",
    "  # Number of tracks per region\n",
    "  N = df_sorted['Question Type'].value_counts().values\n",
    "\n",
    "  GREY12 = \"#1f1f1f\"\n",
    "\n",
    "  # Set default font color to GREY12\n",
    "  plt.rcParams[\"text.color\"] = GREY12\n",
    "\n",
    "  # The minus glyph is not available in Bell MT\n",
    "  # This disables it, and uses a hyphen\n",
    "  plt.rc(\"axes\", unicode_minus=False)\n",
    "\n",
    "  # Colors\n",
    "  COLORS = [\"#6C5B7B\",\"#C06C84\",\"#F67280\",\"#F8B195\"]\n",
    "\n",
    "  # Colormap\n",
    "  cmap = mpl.colors.LinearSegmentedColormap.from_list(\"my color\", COLORS, N=256)\n",
    "\n",
    "  # Normalizer\n",
    "  norm = mpl.colors.Normalize(vmin=N.min(), vmax=N.max())\n",
    "\n",
    "  # Normalized colors. Each number of tracks is mapped to a color in the \n",
    "  # color scale 'cmap'\n",
    "  COLORS = cmap(norm(N))\n",
    "\n",
    "  # Some layout stuff ----------------------------------------------\n",
    "  # Initialize layout in polar coordinates\n",
    "#   fig, ax = plt.subplots(figsize=(6, 6), subplot_kw={\"projection\": \"polar\"})\n",
    "\n",
    "#   # Set background color to white, both axis and figure.\n",
    "#   # fig.patch.set_facecolor(\"white\")\n",
    "#   # ax.set_facecolor(\"white\")\n",
    "\n",
    "#   ax.set_theta_offset(100 * np.pi / 3)\n",
    "#   ax.set_ylim(-100, 350)\n",
    "\n",
    "#   # Add geometries to the plot -------------------------------------\n",
    "#   # See the zorder to manipulate which geometries are on top\n",
    "\n",
    "#   # Add bars to represent the cumulative track lengths\n",
    "#   ax.bar(ANGLES, QFREQ, color=COLORS, alpha=1, width=0.6, zorder=11) #, ls=(0, (4, 4))\n",
    "\n",
    "#   # Add dashed vertical lines. These are just references\n",
    "#   ax.vlines(ANGLES, 0, 350, alpha=0.5, color=GREY12, zorder=11)\n",
    "\n",
    "  # # Add dots to represent the mean gain\n",
    "  # ax.scatter(ANGLES, MEAN_GAIN, s=60, color=GREY12, zorder=11)\n",
    "\n",
    "  # Add labels for the regions -------------------------------------\n",
    "  # Note the 'wrap()' function.\n",
    "  # The '5' means we want at most 5 consecutive letters in a word, \n",
    "  # but the 'break_long_words' means we don't want to break words \n",
    "  # longer than 5 characters.\n",
    "#   QTYPE = [\"\\n\".join(wrap(r, 5, break_long_words=False)) for r in QTYPE]\n",
    "\n",
    "#   # Set the labels\n",
    "#   ax.set_xticks(ANGLES)\n",
    "#   ax.set_xticklabels(QTYPE, size=15);\n",
    "\n",
    "#   plt.show()\n",
    "  \n",
    "#   sns.set(style=\"whitegrid\")\n",
    "  colors = sns.color_palette('pastel')[0:len(df_sorted)]\n",
    "\n",
    "  print(df_sorted['Question Type'].value_counts().values)\n",
    "  plt.subplots(figsize=(8, 15))\n",
    "  explode = (0, 0.02, 0.03, 0.05, 0.1, 0.15, 0.4, 0.6)\n",
    "  plt.pie(df_sorted['Question Type'].value_counts().values,\n",
    "          labels=df_sorted['Question Type'].value_counts().keys(),\n",
    "          explode=explode,\n",
    "          colors = colors, autopct='%1.2f%%', shadow=False,\n",
    "          textprops={'fontsize': 14})\n",
    "  plt.xticks(size=25)\n",
    "#   plt.title(f\"Distribution of question types in {dataset_name}\", size=15)\n",
    "  plt.show()\n"
   ]
  },
  {
   "cell_type": "code",
   "execution_count": 48,
   "id": "0365ff74",
   "metadata": {},
   "outputs": [
    {
     "name": "stdout",
     "output_type": "stream",
     "text": [
      "[669 102  92  90  89  29  14  12]\n"
     ]
    },
    {
     "data": {
      "image/png": "[encoded data removed]",
      "text/plain": [
       "<Figure size 576x1080 with 1 Axes>"
      ]
     },
     "metadata": {},
     "output_type": "display_data"
    }
   ],
   "source": [
    "plot_qtype_frequency(df_final, 'cpgQA')"
   ]
  },
  {
   "cell_type": "code",
   "execution_count": 49,
   "id": "6992cdc9",
   "metadata": {},
   "outputs": [],
   "source": [
    "df_title['QID'] = df_title['QID'].apply(str)\n",
    "df_final['QID'] = df_final['QID'].apply(str)"
   ]
  },
  {
   "cell_type": "code",
   "execution_count": 50,
   "id": "e7d692dc",
   "metadata": {},
   "outputs": [
    {
     "data": {
      "text/plain": [
       "1097"
      ]
     },
     "execution_count": 50,
     "metadata": {},
     "output_type": "execute_result"
    }
   ],
   "source": [
    "len(np.unique(df_title['QID'].values))"
   ]
  },
  {
   "cell_type": "code",
   "execution_count": 52,
   "id": "03dd3b14",
   "metadata": {
    "scrolled": true
   },
   "outputs": [
    {
     "data": {
      "text/html": [
       "<div>\n",
       "<style scoped>\n",
       "    .dataframe tbody tr th:only-of-type {\n",
       "        vertical-align: middle;\n",
       "    }\n",
       "\n",
       "    .dataframe tbody tr th {\n",
       "        vertical-align: top;\n",
       "    }\n",
       "\n",
       "    .dataframe thead th {\n",
       "        text-align: right;\n",
       "    }\n",
       "</style>\n",
       "<table border=\"1\" class=\"dataframe\">\n",
       "  <thead>\n",
       "    <tr style=\"text-align: right;\">\n",
       "      <th></th>\n",
       "      <th>Question</th>\n",
       "      <th>Question Type</th>\n",
       "      <th>QID</th>\n",
       "      <th>title_old</th>\n",
       "      <th>Answer</th>\n",
       "      <th>TITLE</th>\n",
       "    </tr>\n",
       "  </thead>\n",
       "  <tbody>\n",
       "    <tr>\n",
       "      <th>0</th>\n",
       "      <td>What is the purpose of Opioid Taper Decision T...</td>\n",
       "      <td>What</td>\n",
       "      <td>0</td>\n",
       "      <td>Pain Management Opioid Taper Decision Tool</td>\n",
       "      <td>assist Primary Care providers in determining i...</td>\n",
       "      <td>Specifications</td>\n",
       "    </tr>\n",
       "    <tr>\n",
       "      <th>1</th>\n",
       "      <td>What should be done before starting opioid the...</td>\n",
       "      <td>What</td>\n",
       "      <td>1</td>\n",
       "      <td>Pain Management Opioid Taper Decision Tool</td>\n",
       "      <td>Establish treatment goals</td>\n",
       "      <td>Specifications</td>\n",
       "    </tr>\n",
       "    <tr>\n",
       "      <th>2</th>\n",
       "      <td>What should be done if an opioid thrapy is dis...</td>\n",
       "      <td>What</td>\n",
       "      <td>2</td>\n",
       "      <td>Pain Management Opioid Taper Decision Tool</td>\n",
       "      <td>plan</td>\n",
       "      <td>Specifications</td>\n",
       "    </tr>\n",
       "    <tr>\n",
       "      <th>3</th>\n",
       "      <td>When to continue opioid therapy?</td>\n",
       "      <td>When</td>\n",
       "      <td>3</td>\n",
       "      <td>Pain Management Opioid Taper Decision Tool</td>\n",
       "      <td>if there is clinically meaningful improvement ...</td>\n",
       "      <td>Specifications</td>\n",
       "    </tr>\n",
       "    <tr>\n",
       "      <th>4</th>\n",
       "      <td>What to discuss before starting the treatment?</td>\n",
       "      <td>What</td>\n",
       "      <td>4</td>\n",
       "      <td>Pain Management Opioid Taper Decision Tool</td>\n",
       "      <td>risks, benefits and responsibilities for manag...</td>\n",
       "      <td>Specifications</td>\n",
       "    </tr>\n",
       "    <tr>\n",
       "      <th>...</th>\n",
       "      <td>...</td>\n",
       "      <td>...</td>\n",
       "      <td>...</td>\n",
       "      <td>...</td>\n",
       "      <td>...</td>\n",
       "      <td>...</td>\n",
       "    </tr>\n",
       "    <tr>\n",
       "      <th>1092</th>\n",
       "      <td>Mention some differences in the methodology us...</td>\n",
       "      <td>What</td>\n",
       "      <td>604</td>\n",
       "      <td>Prioritizing Safe Opioid Prescribing Practices...</td>\n",
       "      <td>Along with a clinical evidence review, during ...</td>\n",
       "      <td>Background</td>\n",
       "    </tr>\n",
       "    <tr>\n",
       "      <th>1093</th>\n",
       "      <td>Should the opioid-naive individuals be prescri...</td>\n",
       "      <td>Is there</td>\n",
       "      <td>402</td>\n",
       "      <td>Module B: Treatment with Opioid Therapy</td>\n",
       "      <td>long-acting opioids should not be prescribed f...</td>\n",
       "      <td>Algorithm</td>\n",
       "    </tr>\n",
       "    <tr>\n",
       "      <th>1094</th>\n",
       "      <td>In there any study on the outcome of populatio...</td>\n",
       "      <td>Is there</td>\n",
       "      <td>1017</td>\n",
       "      <td>Discussion of Recommendations: Type, Dose, Dur...</td>\n",
       "      <td>In a prospective cohort study (not included in...</td>\n",
       "      <td>Recommendations</td>\n",
       "    </tr>\n",
       "    <tr>\n",
       "      <th>1095</th>\n",
       "      <td>Define pain according to the VA/DoD CPG.</td>\n",
       "      <td>What</td>\n",
       "      <td>608</td>\n",
       "      <td>Taxonomy</td>\n",
       "      <td>an unpleasant sensory and emotional experience...</td>\n",
       "      <td>Background</td>\n",
       "    </tr>\n",
       "    <tr>\n",
       "      <th>1096</th>\n",
       "      <td>Define chronic pain according to the VA/DoD CPG.</td>\n",
       "      <td>What</td>\n",
       "      <td>611</td>\n",
       "      <td>Taxonomy</td>\n",
       "      <td>pain lasting three months or more. It is often...</td>\n",
       "      <td>Background</td>\n",
       "    </tr>\n",
       "  </tbody>\n",
       "</table>\n",
       "<p>1097 rows × 6 columns</p>\n",
       "</div>"
      ],
      "text/plain": [
       "                                               Question Question Type   QID  \\\n",
       "0     What is the purpose of Opioid Taper Decision T...          What     0   \n",
       "1     What should be done before starting opioid the...          What     1   \n",
       "2     What should be done if an opioid thrapy is dis...          What     2   \n",
       "3                      When to continue opioid therapy?          When     3   \n",
       "4        What to discuss before starting the treatment?          What     4   \n",
       "...                                                 ...           ...   ...   \n",
       "1092  Mention some differences in the methodology us...          What   604   \n",
       "1093  Should the opioid-naive individuals be prescri...      Is there   402   \n",
       "1094  In there any study on the outcome of populatio...      Is there  1017   \n",
       "1095           Define pain according to the VA/DoD CPG.          What   608   \n",
       "1096   Define chronic pain according to the VA/DoD CPG.          What   611   \n",
       "\n",
       "                                              title_old  \\\n",
       "0            Pain Management Opioid Taper Decision Tool   \n",
       "1            Pain Management Opioid Taper Decision Tool   \n",
       "2            Pain Management Opioid Taper Decision Tool   \n",
       "3            Pain Management Opioid Taper Decision Tool   \n",
       "4            Pain Management Opioid Taper Decision Tool   \n",
       "...                                                 ...   \n",
       "1092  Prioritizing Safe Opioid Prescribing Practices...   \n",
       "1093            Module B: Treatment with Opioid Therapy   \n",
       "1094  Discussion of Recommendations: Type, Dose, Dur...   \n",
       "1095                                           Taxonomy   \n",
       "1096                                           Taxonomy   \n",
       "\n",
       "                                                 Answer            TITLE  \n",
       "0     assist Primary Care providers in determining i...   Specifications  \n",
       "1                             Establish treatment goals   Specifications  \n",
       "2                                                  plan   Specifications  \n",
       "3     if there is clinically meaningful improvement ...   Specifications  \n",
       "4     risks, benefits and responsibilities for manag...   Specifications  \n",
       "...                                                 ...              ...  \n",
       "1092  Along with a clinical evidence review, during ...       Background  \n",
       "1093  long-acting opioids should not be prescribed f...        Algorithm  \n",
       "1094  In a prospective cohort study (not included in...  Recommendations  \n",
       "1095  an unpleasant sensory and emotional experience...       Background  \n",
       "1096  pain lasting three months or more. It is often...       Background  \n",
       "\n",
       "[1097 rows x 6 columns]"
      ]
     },
     "execution_count": 52,
     "metadata": {},
     "output_type": "execute_result"
    }
   ],
   "source": [
    "a = df_final.merge(df_title, how='inner', on='QID')\n",
    "a"
   ]
  },
  {
   "cell_type": "code",
   "execution_count": 54,
   "id": "7014319e",
   "metadata": {},
   "outputs": [],
   "source": [
    "a.to_csv('QType_Title.csv', index=False)"
   ]
  },
  {
   "cell_type": "code",
   "execution_count": 55,
   "id": "70e63ce4",
   "metadata": {},
   "outputs": [],
   "source": [
    "aa = pd.read_csv('QType_Title.csv')"
   ]
  },
  {
   "cell_type": "code",
   "execution_count": 56,
   "id": "0e7b41eb",
   "metadata": {},
   "outputs": [
    {
     "data": {
      "text/plain": [
       "True"
      ]
     },
     "execution_count": 56,
     "metadata": {},
     "output_type": "execute_result"
    }
   ],
   "source": [
    "all(a == aa)"
   ]
  },
  {
   "cell_type": "code",
   "execution_count": 57,
   "id": "e94ee9aa",
   "metadata": {},
   "outputs": [
    {
     "data": {
      "text/plain": [
       "Recommendations    411\n",
       "Specifications     280\n",
       "Background         233\n",
       "Algorithm          129\n",
       "Introduction        44\n",
       "Name: TITLE, dtype: int64"
      ]
     },
     "execution_count": 57,
     "metadata": {},
     "output_type": "execute_result"
    }
   ],
   "source": [
    "a.TITLE.value_counts()"
   ]
  },
  {
   "cell_type": "code",
   "execution_count": 58,
   "id": "4c248ceb",
   "metadata": {},
   "outputs": [
    {
     "data": {
      "text/plain": [
       "What        669\n",
       "When        102\n",
       "Which        92\n",
       "How          90\n",
       "Who          89\n",
       "Why          29\n",
       "Where        14\n",
       "Is there     12\n",
       "Name: Question Type, dtype: int64"
      ]
     },
     "execution_count": 58,
     "metadata": {},
     "output_type": "execute_result"
    }
   ],
   "source": [
    "a['Question Type'].value_counts()"
   ]
  },
  {
   "cell_type": "code",
   "execution_count": null,
   "id": "a7d91511",
   "metadata": {},
   "outputs": [],
   "source": [
    "# Recommendations    411\n",
    "# Specifications     280\n",
    "# Background         233\n",
    "# Algorithm          129\n",
    "# Introduction        44\n",
    "\n",
    "# What        669\n",
    "# When        102\n",
    "# Which        92\n",
    "# How          90\n",
    "# Who          89\n",
    "# Why          29\n",
    "# Where        14\n",
    "# Is there     12"
   ]
  }
 ],
 "metadata": {
  "kernelspec": {
   "display_name": "Python 3",
   "language": "python",
   "name": "python3"
  },
  "language_info": {
   "codemirror_mode": {
    "name": "ipython",
    "version": 3
   },
   "file_extension": ".py",
   "mimetype": "text/x-python",
   "name": "python",
   "nbconvert_exporter": "python",
   "pygments_lexer": "ipython3",
   "version": "3.7.10"
  },
  "toc": {
   "base_numbering": 1,
   "nav_menu": {},
   "number_sections": true,
   "sideBar": true,
   "skip_h1_title": false,
   "title_cell": "Table of Contents",
   "title_sidebar": "Contents",
   "toc_cell": false,
   "toc_position": {},
   "toc_section_display": true,
   "toc_window_display": false
  }
 },
 "nbformat": 4,
 "nbformat_minor": 5
}
