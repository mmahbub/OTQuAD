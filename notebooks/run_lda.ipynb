{
 "cells": [
  {
   "cell_type": "code",
   "execution_count": 1,
   "id": "a999c19f",
   "metadata": {},
   "outputs": [],
   "source": [
    "import lda\n",
    "import pandas as pd\n",
    "import numpy as np\n",
    "import json"
   ]
  },
  {
   "cell_type": "code",
   "execution_count": 2,
   "id": "133ceab6",
   "metadata": {},
   "outputs": [],
   "source": [
    "%load_ext autoreload\n",
    "%autoreload 2\n",
    "\n",
    "import warnings\n",
    "warnings.filterwarnings(\"ignore\", category=FutureWarning)\n",
    "\n",
    "import sys\n",
    "sys.path.append('../')\n",
    "\n",
    "import pandas as pd\n",
    "import numpy as np\n",
    "import re\n",
    "\n",
    "import pyLDAvis.sklearn\n",
    "import pyLDAvis\n",
    "\n",
    "from lda import (\n",
    "  get_text,\n",
    "  lda_preprocess,\n",
    "  lda_gridsearch,\n",
    "  lda_topic_modeling,\n",
    "  major_topic_per_doc,\n",
    "  plot_top_words,\n",
    "  show_topics,\n",
    ")"
   ]
  },
  {
   "cell_type": "code",
   "execution_count": 3,
   "id": "39e4cee9",
   "metadata": {
    "scrolled": true
   },
   "outputs": [
    {
     "name": "stderr",
     "output_type": "stream",
     "text": [
      "/net/kdinxidk03/opt/NFS/75y/anaconda3/envs/QA/lib/python3.7/site-packages/ipykernel/ipkernel.py:283: DeprecationWarning: `should_run_async` will not call `transform_cell` automatically in the future. Please pass the result to `transformed_cell` argument and any exception that happen during thetransform in `preprocessing_exc_tuple` in IPython 7.17 and above.\n",
      "  and should_run_async(code)\n"
     ]
    }
   ],
   "source": [
    "# load squad, otquad\n",
    "# get only the contexts\n",
    "# each context is a document\n",
    "# create a dataframe with both of them with a column named data_name\n",
    "# run lda"
   ]
  },
  {
   "cell_type": "code",
   "execution_count": 68,
   "id": "654da728",
   "metadata": {},
   "outputs": [
    {
     "name": "stderr",
     "output_type": "stream",
     "text": [
      "/net/kdinxidk03/opt/NFS/75y/anaconda3/envs/QA/lib/python3.7/site-packages/ipykernel/ipkernel.py:283: DeprecationWarning: `should_run_async` will not call `transform_cell` automatically in the future. Please pass the result to `transformed_cell` argument and any exception that happen during thetransform in `preprocessing_exc_tuple` in IPython 7.17 and above.\n",
      "  and should_run_async(code)\n"
     ]
    },
    {
     "data": {
      "text/plain": [
       "10668"
      ]
     },
     "execution_count": 68,
     "metadata": {},
     "output_type": "execute_result"
    }
   ],
   "source": [
    "a = json.load(open('/net/kdinxidk03/opt/NFS/75y/data/qa/dataset_pos/otquad/all_cpg_unsup.json'))\n",
    "\n",
    "len(np.unique([x['context'] for x in a['data'][0]['paragraphs']]))"
   ]
  },
  {
   "cell_type": "code",
   "execution_count": 71,
   "id": "4088048b",
   "metadata": {},
   "outputs": [
    {
     "name": "stderr",
     "output_type": "stream",
     "text": [
      "/net/kdinxidk03/opt/NFS/75y/anaconda3/envs/QA/lib/python3.7/site-packages/ipykernel/ipkernel.py:283: DeprecationWarning: `should_run_async` will not call `transform_cell` automatically in the future. Please pass the result to `transformed_cell` argument and any exception that happen during thetransform in `preprocessing_exc_tuple` in IPython 7.17 and above.\n",
      "  and should_run_async(code)\n"
     ]
    }
   ],
   "source": [
    "df = pd.DataFrame()\n",
    "df['context'] = [x['context'] for x in a['data'][0]['paragraphs']]\n",
    "df['question'] = [x['qas'][0]['question'] for x in a['data'][0]['paragraphs']]\n",
    "df['answer'] = [x['qas'][0]['answers'][0]['text'] for x in a['data'][0]['paragraphs']]\n"
   ]
  },
  {
   "cell_type": "code",
   "execution_count": 74,
   "id": "6423f6c3",
   "metadata": {},
   "outputs": [
    {
     "name": "stderr",
     "output_type": "stream",
     "text": [
      "/net/kdinxidk03/opt/NFS/75y/anaconda3/envs/QA/lib/python3.7/site-packages/ipykernel/ipkernel.py:283: DeprecationWarning: `should_run_async` will not call `transform_cell` automatically in the future. Please pass the result to `transformed_cell` argument and any exception that happen during thetransform in `preprocessing_exc_tuple` in IPython 7.17 and above.\n",
      "  and should_run_async(code)\n"
     ]
    },
    {
     "data": {
      "text/html": [
       "<div>\n",
       "<style scoped>\n",
       "    .dataframe tbody tr th:only-of-type {\n",
       "        vertical-align: middle;\n",
       "    }\n",
       "\n",
       "    .dataframe tbody tr th {\n",
       "        vertical-align: top;\n",
       "    }\n",
       "\n",
       "    .dataframe thead th {\n",
       "        text-align: right;\n",
       "    }\n",
       "</style>\n",
       "<table border=\"1\" class=\"dataframe\">\n",
       "  <thead>\n",
       "    <tr style=\"text-align: right;\">\n",
       "      <th></th>\n",
       "      <th>context</th>\n",
       "      <th>question</th>\n",
       "      <th>answer</th>\n",
       "    </tr>\n",
       "  </thead>\n",
       "  <tbody>\n",
       "    <tr>\n",
       "      <th>6477</th>\n",
       "      <td>In the Evaluation of Galcanezumab in the Preve...</td>\n",
       "      <td>[MASK]</td>\n",
       "      <td></td>\n",
       "    </tr>\n",
       "    <tr>\n",
       "      <th>10201</th>\n",
       "      <td>scores divide patients into risk groups that h...</td>\n",
       "      <td>[MASK]</td>\n",
       "      <td></td>\n",
       "    </tr>\n",
       "    <tr>\n",
       "      <th>466</th>\n",
       "      <td>Discussion Evidence suggests aerobic exercise ...</td>\n",
       "      <td>[MASK]</td>\n",
       "      <td></td>\n",
       "    </tr>\n",
       "    <tr>\n",
       "      <th>5839</th>\n",
       "      <td>Discussion The systematic evidence review for ...</td>\n",
       "      <td>[MASK]</td>\n",
       "      <td></td>\n",
       "    </tr>\n",
       "    <tr>\n",
       "      <th>240</th>\n",
       "      <td>Using these four domains the Work Group determ...</td>\n",
       "      <td>[MASK]</td>\n",
       "      <td></td>\n",
       "    </tr>\n",
       "  </tbody>\n",
       "</table>\n",
       "</div>"
      ],
      "text/plain": [
       "                                                 context question answer\n",
       "6477   In the Evaluation of Galcanezumab in the Preve...   [MASK]       \n",
       "10201  scores divide patients into risk groups that h...   [MASK]       \n",
       "466    Discussion Evidence suggests aerobic exercise ...   [MASK]       \n",
       "5839   Discussion The systematic evidence review for ...   [MASK]       \n",
       "240    Using these four domains the Work Group determ...   [MASK]       "
      ]
     },
     "execution_count": 74,
     "metadata": {},
     "output_type": "execute_result"
    }
   ],
   "source": [
    "df.sample(5)"
   ]
  },
  {
   "cell_type": "code",
   "execution_count": 75,
   "id": "5a5629a5",
   "metadata": {},
   "outputs": [
    {
     "name": "stderr",
     "output_type": "stream",
     "text": [
      "/net/kdinxidk03/opt/NFS/75y/anaconda3/envs/QA/lib/python3.7/site-packages/ipykernel/ipkernel.py:283: DeprecationWarning: `should_run_async` will not call `transform_cell` automatically in the future. Please pass the result to `transformed_cell` argument and any exception that happen during thetransform in `preprocessing_exc_tuple` in IPython 7.17 and above.\n",
      "  and should_run_async(code)\n"
     ]
    }
   ],
   "source": [
    "# df = pd.read_csv('../data/otquad-v1.0 - Sheet1.csv')[['title', 'context',\n",
    "#                                                       'question', 'answer']]\n",
    "\n",
    "# print(len(df))\n",
    "# print(f\"Number of Unique Contexts   : {df['context'].nunique()}\")\n",
    "# print(f\"Ratio of QA Pair-to-Context : {len(df)/df['context'].nunique()}\")\n",
    "\n",
    "# df['context_length'] = df['context'].apply(len)\n",
    "# df['question_length'] = df['question'].apply(len)\n",
    "# df['answer_length'] = df['answer'].apply(len)\n"
   ]
  },
  {
   "cell_type": "code",
   "execution_count": 76,
   "id": "8b2e7cfc",
   "metadata": {},
   "outputs": [
    {
     "name": "stdout",
     "output_type": "stream",
     "text": [
      "2067\n",
      "2067\n"
     ]
    },
    {
     "name": "stderr",
     "output_type": "stream",
     "text": [
      "/net/kdinxidk03/opt/NFS/75y/anaconda3/envs/QA/lib/python3.7/site-packages/ipykernel/ipkernel.py:283: DeprecationWarning: `should_run_async` will not call `transform_cell` automatically in the future. Please pass the result to `transformed_cell` argument and any exception that happen during thetransform in `preprocessing_exc_tuple` in IPython 7.17 and above.\n",
      "  and should_run_async(code)\n"
     ]
    }
   ],
   "source": [
    "# squad_path  = '/net/kdinxidk03/opt/NFS/75y/data/qa/dataset_pos/bioasq/test_bioasq9b.json'\n",
    "squad_path  = '/net/kdinxidk03/opt/NFS/75y/data/qa/dataset_pos/squad/test_squad.json'\n",
    "# squad_path  = '/net/kdinxidk03/opt/NFS/75y/data/qa/dataset_pos/emrqa/datasets/relation-dev.json'\n",
    "# squad_path  = '/net/kdinxidk03/opt/NFS/75y/data/qa/dataset_pos/emrqa/test_emrqa.json'\n",
    "\n",
    "a = json.load(open(squad_path))\n",
    "\n",
    "squad_contexts  = []\n",
    "for d in a['data']:\n",
    "  for p in d['paragraphs']:\n",
    "    squad_contexts.append(p['context'])\n",
    "    \n",
    "print(len(squad_contexts))\n",
    "print(len(np.unique(squad_contexts)))"
   ]
  },
  {
   "cell_type": "code",
   "execution_count": 77,
   "id": "0456e78e",
   "metadata": {},
   "outputs": [
    {
     "name": "stderr",
     "output_type": "stream",
     "text": [
      "/net/kdinxidk03/opt/NFS/75y/anaconda3/envs/QA/lib/python3.7/site-packages/ipykernel/ipkernel.py:283: DeprecationWarning: `should_run_async` will not call `transform_cell` automatically in the future. Please pass the result to `transformed_cell` argument and any exception that happen during thetransform in `preprocessing_exc_tuple` in IPython 7.17 and above.\n",
      "  and should_run_async(code)\n"
     ]
    },
    {
     "name": "stdout",
     "output_type": "stream",
     "text": [
      "12084\n",
      "10668\n"
     ]
    }
   ],
   "source": [
    "otquad_contexts = df['context'].values.tolist()\n",
    "print(len(otquad_contexts))\n",
    "print(len(np.unique(otquad_contexts)))"
   ]
  },
  {
   "cell_type": "code",
   "execution_count": 78,
   "id": "df35259b",
   "metadata": {},
   "outputs": [
    {
     "name": "stderr",
     "output_type": "stream",
     "text": [
      "/net/kdinxidk03/opt/NFS/75y/anaconda3/envs/QA/lib/python3.7/site-packages/ipykernel/ipkernel.py:283: DeprecationWarning: `should_run_async` will not call `transform_cell` automatically in the future. Please pass the result to `transformed_cell` argument and any exception that happen during thetransform in `preprocessing_exc_tuple` in IPython 7.17 and above.\n",
      "  and should_run_async(code)\n"
     ]
    },
    {
     "name": "stdout",
     "output_type": "stream",
     "text": [
      "2067 10668\n"
     ]
    }
   ],
   "source": [
    "squad_contexts  = np.unique(squad_contexts)\n",
    "otquad_contexts = np.unique(otquad_contexts)\n",
    "\n",
    "print(len(squad_contexts), len(otquad_contexts))"
   ]
  },
  {
   "cell_type": "code",
   "execution_count": 79,
   "id": "a2efd85b",
   "metadata": {},
   "outputs": [
    {
     "name": "stderr",
     "output_type": "stream",
     "text": [
      "/net/kdinxidk03/opt/NFS/75y/anaconda3/envs/QA/lib/python3.7/site-packages/ipykernel/ipkernel.py:283: DeprecationWarning: `should_run_async` will not call `transform_cell` automatically in the future. Please pass the result to `transformed_cell` argument and any exception that happen during thetransform in `preprocessing_exc_tuple` in IPython 7.17 and above.\n",
      "  and should_run_async(code)\n"
     ]
    },
    {
     "data": {
      "text/plain": [
       "(2067, 2)"
      ]
     },
     "execution_count": 79,
     "metadata": {},
     "output_type": "execute_result"
    }
   ],
   "source": [
    "df_squad = pd.DataFrame()\n",
    "df_squad['contexts'] = squad_contexts\n",
    "df_squad['data_name'] = ['squad']*len(squad_contexts)\n",
    "df_squad.shape"
   ]
  },
  {
   "cell_type": "code",
   "execution_count": 81,
   "id": "4898b402",
   "metadata": {},
   "outputs": [
    {
     "name": "stderr",
     "output_type": "stream",
     "text": [
      "/net/kdinxidk03/opt/NFS/75y/anaconda3/envs/QA/lib/python3.7/site-packages/ipykernel/ipkernel.py:283: DeprecationWarning: `should_run_async` will not call `transform_cell` automatically in the future. Please pass the result to `transformed_cell` argument and any exception that happen during thetransform in `preprocessing_exc_tuple` in IPython 7.17 and above.\n",
      "  and should_run_async(code)\n"
     ]
    },
    {
     "data": {
      "text/plain": [
       "((2067, 2), (10668, 2))"
      ]
     },
     "execution_count": 81,
     "metadata": {},
     "output_type": "execute_result"
    }
   ],
   "source": [
    "df_otquad = pd.DataFrame()\n",
    "df_otquad['contexts'] = otquad_contexts\n",
    "df_otquad['data_name'] = ['otquad']*len(otquad_contexts)\n",
    "if df_otquad.shape[0] < df_squad.shape[0]:\n",
    "  df_squad = df_squad.sample(df_otquad.shape[0])\n",
    "df_squad.shape, df_otquad.shape"
   ]
  },
  {
   "cell_type": "code",
   "execution_count": 82,
   "id": "581c4b65",
   "metadata": {},
   "outputs": [
    {
     "name": "stderr",
     "output_type": "stream",
     "text": [
      "/net/kdinxidk03/opt/NFS/75y/anaconda3/envs/QA/lib/python3.7/site-packages/ipykernel/ipkernel.py:283: DeprecationWarning: `should_run_async` will not call `transform_cell` automatically in the future. Please pass the result to `transformed_cell` argument and any exception that happen during thetransform in `preprocessing_exc_tuple` in IPython 7.17 and above.\n",
      "  and should_run_async(code)\n"
     ]
    },
    {
     "data": {
      "text/html": [
       "<div>\n",
       "<style scoped>\n",
       "    .dataframe tbody tr th:only-of-type {\n",
       "        vertical-align: middle;\n",
       "    }\n",
       "\n",
       "    .dataframe tbody tr th {\n",
       "        vertical-align: top;\n",
       "    }\n",
       "\n",
       "    .dataframe thead th {\n",
       "        text-align: right;\n",
       "    }\n",
       "</style>\n",
       "<table border=\"1\" class=\"dataframe\">\n",
       "  <thead>\n",
       "    <tr style=\"text-align: right;\">\n",
       "      <th></th>\n",
       "      <th>contexts</th>\n",
       "      <th>data_name</th>\n",
       "    </tr>\n",
       "  </thead>\n",
       "  <tbody>\n",
       "    <tr>\n",
       "      <th>0</th>\n",
       "      <td>Seamans' establishment of an ad-hoc committee...</td>\n",
       "      <td>squad</td>\n",
       "    </tr>\n",
       "    <tr>\n",
       "      <th>1</th>\n",
       "      <td>\"Bairn\" and \"hyem\", meaning \"child\" and \"home\"...</td>\n",
       "      <td>squad</td>\n",
       "    </tr>\n",
       "    <tr>\n",
       "      <th>2</th>\n",
       "      <td>\"Official\" reconstructions have also been rele...</td>\n",
       "      <td>squad</td>\n",
       "    </tr>\n",
       "    <tr>\n",
       "      <th>3</th>\n",
       "      <td>\"Southern California\" is not a formal geograph...</td>\n",
       "      <td>squad</td>\n",
       "    </tr>\n",
       "    <tr>\n",
       "      <th>4</th>\n",
       "      <td>\"The Islamic State\", formerly known as the \"Is...</td>\n",
       "      <td>squad</td>\n",
       "    </tr>\n",
       "    <tr>\n",
       "      <th>...</th>\n",
       "      <td>...</td>\n",
       "      <td>...</td>\n",
       "    </tr>\n",
       "    <tr>\n",
       "      <th>12730</th>\n",
       "      <td>ο  Change in monthly headache days ο  Change i...</td>\n",
       "      <td>otquad</td>\n",
       "    </tr>\n",
       "    <tr>\n",
       "      <th>12731</th>\n",
       "      <td>ο  Degree of pain reduction ο  Time to relief ...</td>\n",
       "      <td>otquad</td>\n",
       "    </tr>\n",
       "    <tr>\n",
       "      <th>12732</th>\n",
       "      <td>ο  Ergotamine ο  Dihydroergotamine ο  Ketamine...</td>\n",
       "      <td>otquad</td>\n",
       "    </tr>\n",
       "    <tr>\n",
       "      <th>12733</th>\n",
       "      <td>ο  Headache severity e.g. MIDAS ο  Rates of de...</td>\n",
       "      <td>otquad</td>\n",
       "    </tr>\n",
       "    <tr>\n",
       "      <th>12734</th>\n",
       "      <td>ο  Sumatriptan ο  Sumatriptannaproxen sodium ο...</td>\n",
       "      <td>otquad</td>\n",
       "    </tr>\n",
       "  </tbody>\n",
       "</table>\n",
       "<p>12735 rows × 2 columns</p>\n",
       "</div>"
      ],
      "text/plain": [
       "                                                contexts data_name\n",
       "0       Seamans' establishment of an ad-hoc committee...     squad\n",
       "1      \"Bairn\" and \"hyem\", meaning \"child\" and \"home\"...     squad\n",
       "2      \"Official\" reconstructions have also been rele...     squad\n",
       "3      \"Southern California\" is not a formal geograph...     squad\n",
       "4      \"The Islamic State\", formerly known as the \"Is...     squad\n",
       "...                                                  ...       ...\n",
       "12730  ο  Change in monthly headache days ο  Change i...    otquad\n",
       "12731  ο  Degree of pain reduction ο  Time to relief ...    otquad\n",
       "12732  ο  Ergotamine ο  Dihydroergotamine ο  Ketamine...    otquad\n",
       "12733  ο  Headache severity e.g. MIDAS ο  Rates of de...    otquad\n",
       "12734  ο  Sumatriptan ο  Sumatriptannaproxen sodium ο...    otquad\n",
       "\n",
       "[12735 rows x 2 columns]"
      ]
     },
     "execution_count": 82,
     "metadata": {},
     "output_type": "execute_result"
    }
   ],
   "source": [
    "df = df_squad.append(df_otquad, ignore_index = True)\n",
    "df"
   ]
  },
  {
   "cell_type": "code",
   "execution_count": 83,
   "id": "a474a428",
   "metadata": {},
   "outputs": [
    {
     "name": "stderr",
     "output_type": "stream",
     "text": [
      "/net/kdinxidk03/opt/NFS/75y/anaconda3/envs/QA/lib/python3.7/site-packages/ipykernel/ipkernel.py:283: DeprecationWarning: `should_run_async` will not call `transform_cell` automatically in the future. Please pass the result to `transformed_cell` argument and any exception that happen during thetransform in `preprocessing_exc_tuple` in IPython 7.17 and above.\n",
      "  and should_run_async(code)\n"
     ]
    }
   ],
   "source": [
    "text = df['contexts'].values.tolist()"
   ]
  },
  {
   "cell_type": "code",
   "execution_count": 84,
   "id": "3762bb6d",
   "metadata": {},
   "outputs": [
    {
     "name": "stderr",
     "output_type": "stream",
     "text": [
      "/net/kdinxidk03/opt/NFS/75y/anaconda3/envs/QA/lib/python3.7/site-packages/ipykernel/ipkernel.py:283: DeprecationWarning: `should_run_async` will not call `transform_cell` automatically in the future. Please pass the result to `transformed_cell` argument and any exception that happen during thetransform in `preprocessing_exc_tuple` in IPython 7.17 and above.\n",
      "  and should_run_async(code)\n"
     ]
    },
    {
     "data": {
      "text/plain": [
       "12735"
      ]
     },
     "execution_count": 84,
     "metadata": {},
     "output_type": "execute_result"
    }
   ],
   "source": [
    "len(text)"
   ]
  },
  {
   "cell_type": "code",
   "execution_count": 85,
   "id": "39adb9d0",
   "metadata": {},
   "outputs": [
    {
     "name": "stderr",
     "output_type": "stream",
     "text": [
      "/net/kdinxidk03/opt/NFS/75y/anaconda3/envs/QA/lib/python3.7/site-packages/ipykernel/ipkernel.py:283: DeprecationWarning: `should_run_async` will not call `transform_cell` automatically in the future. Please pass the result to `transformed_cell` argument and any exception that happen during thetransform in `preprocessing_exc_tuple` in IPython 7.17 and above.\n",
      "  and should_run_async(code)\n"
     ]
    }
   ],
   "source": [
    "n_features = None\n",
    "n_top_words = 20\n",
    "n_words = 10"
   ]
  },
  {
   "cell_type": "code",
   "execution_count": 86,
   "id": "910475c4",
   "metadata": {},
   "outputs": [
    {
     "name": "stderr",
     "output_type": "stream",
     "text": [
      "/net/kdinxidk03/opt/NFS/75y/anaconda3/envs/QA/lib/python3.7/site-packages/ipykernel/ipkernel.py:283: DeprecationWarning: `should_run_async` will not call `transform_cell` automatically in the future. Please pass the result to `transformed_cell` argument and any exception that happen during thetransform in `preprocessing_exc_tuple` in IPython 7.17 and above.\n",
      "  and should_run_async(code)\n"
     ]
    },
    {
     "name": "stdout",
     "output_type": "stream",
     "text": [
      "Extracting features for LDA . . .\n",
      "Starting gridsearch for LDA . . .\n",
      "Ending gridsearch for LDA . . .\n"
     ]
    },
    {
     "data": {
      "image/png": "[encoded data removed]",
      "text/plain": [
       "<Figure size 576x504 with 2 Axes>"
      ]
     },
     "metadata": {},
     "output_type": "display_data"
    }
   ],
   "source": [
    "# vectorizer\n",
    "vectorizer, vectors, feature_names = lda_preprocess(text, n_features=n_features)\n",
    "\n",
    "# lda gridsearch\n",
    "lda_gridsearch(vectors)\n"
   ]
  },
  {
   "cell_type": "code",
   "execution_count": 87,
   "id": "8f061cf7",
   "metadata": {},
   "outputs": [
    {
     "name": "stderr",
     "output_type": "stream",
     "text": [
      "/net/kdinxidk03/opt/NFS/75y/anaconda3/envs/QA/lib/python3.7/site-packages/ipykernel/ipkernel.py:283: DeprecationWarning: `should_run_async` will not call `transform_cell` automatically in the future. Please pass the result to `transformed_cell` argument and any exception that happen during thetransform in `preprocessing_exc_tuple` in IPython 7.17 and above.\n",
      "  and should_run_async(code)\n"
     ]
    }
   ],
   "source": [
    "# best topic model\n",
    "\n",
    "n_components = 2\n",
    "learning_decay = 0.1\n",
    "\n",
    "model = lda_topic_modeling(vectors, n_components, learning_decay, n_top_words)\n"
   ]
  },
  {
   "cell_type": "code",
   "execution_count": 88,
   "id": "e41b28ee",
   "metadata": {},
   "outputs": [
    {
     "name": "stderr",
     "output_type": "stream",
     "text": [
      "/net/kdinxidk03/opt/NFS/75y/anaconda3/envs/QA/lib/python3.7/site-packages/ipykernel/ipkernel.py:283: DeprecationWarning: `should_run_async` will not call `transform_cell` automatically in the future. Please pass the result to `transformed_cell` argument and any exception that happen during thetransform in `preprocessing_exc_tuple` in IPython 7.17 and above.\n",
      "  and should_run_async(code)\n"
     ]
    },
    {
     "data": {
      "image/png": "[encoded data removed]",
      "text/plain": [
       "<Figure size 576x504 with 2 Axes>"
      ]
     },
     "metadata": {},
     "output_type": "display_data"
    }
   ],
   "source": [
    "# topic words, document distribution, plot top 10 words in each topic\n",
    "\n",
    "df_document_topics, df_topic_distribution, df_topic_keywords = major_topic_per_doc(model, vectors, \n",
    "                                                                                   vectorizer, text)\n",
    "\n",
    "plot_top_words(model, feature_names, n_top_words, 1, n_components, (8, 7))\n",
    "    \n",
    "df_topic_keywords = show_topics(vectorizer, model, n_words=n_words)\n"
   ]
  },
  {
   "cell_type": "code",
   "execution_count": 89,
   "id": "ca69fa4a",
   "metadata": {
    "scrolled": true
   },
   "outputs": [
    {
     "name": "stderr",
     "output_type": "stream",
     "text": [
      "/net/kdinxidk03/opt/NFS/75y/anaconda3/envs/QA/lib/python3.7/site-packages/ipykernel/ipkernel.py:283: DeprecationWarning: `should_run_async` will not call `transform_cell` automatically in the future. Please pass the result to `transformed_cell` argument and any exception that happen during thetransform in `preprocessing_exc_tuple` in IPython 7.17 and above.\n",
      "  and should_run_async(code)\n"
     ]
    }
   ],
   "source": [
    "df['topic_number'] = df_document_topics.data['dominant_topic'].values.tolist()"
   ]
  },
  {
   "cell_type": "code",
   "execution_count": 90,
   "id": "94a3916a",
   "metadata": {
    "scrolled": true
   },
   "outputs": [
    {
     "name": "stdout",
     "output_type": "stream",
     "text": [
      "(2067, 3) (10668, 3)\n"
     ]
    },
    {
     "name": "stderr",
     "output_type": "stream",
     "text": [
      "/net/kdinxidk03/opt/NFS/75y/anaconda3/envs/QA/lib/python3.7/site-packages/ipykernel/ipkernel.py:283: DeprecationWarning: `should_run_async` will not call `transform_cell` automatically in the future. Please pass the result to `transformed_cell` argument and any exception that happen during thetransform in `preprocessing_exc_tuple` in IPython 7.17 and above.\n",
      "  and should_run_async(code)\n"
     ]
    }
   ],
   "source": [
    "df_s = df[df['data_name']=='squad']\n",
    "df_b = df[df['data_name']=='otquad']\n",
    "print(df_s.shape, df_b.shape)"
   ]
  },
  {
   "cell_type": "code",
   "execution_count": 91,
   "id": "d562601f",
   "metadata": {
    "scrolled": true
   },
   "outputs": [
    {
     "name": "stdout",
     "output_type": "stream",
     "text": [
      "Ratio of topic-0 in SQuAD: 70.92404450895017\n",
      "Ratio of topic-1 in SQuAD: 29.075955491049832\n",
      "\n",
      "\n",
      "Ratio of topic-0 in OTQuAD: 19.18822647169104\n",
      "Ratio of topic-1 in OTQuAD: 80.81177352830896\n"
     ]
    },
    {
     "name": "stderr",
     "output_type": "stream",
     "text": [
      "/net/kdinxidk03/opt/NFS/75y/anaconda3/envs/QA/lib/python3.7/site-packages/ipykernel/ipkernel.py:283: DeprecationWarning: `should_run_async` will not call `transform_cell` automatically in the future. Please pass the result to `transformed_cell` argument and any exception that happen during thetransform in `preprocessing_exc_tuple` in IPython 7.17 and above.\n",
      "  and should_run_async(code)\n"
     ]
    }
   ],
   "source": [
    "total_s = df_s.shape[0] \n",
    "total_b = df_b.shape[0]\n",
    "\n",
    "print(f'Ratio of topic-0 in SQuAD: {(df_s.topic_number.value_counts()[0]/total_s)*100}')\n",
    "print(f'Ratio of topic-1 in SQuAD: {(df_s.topic_number.value_counts()[1]/total_s)*100}')\n",
    "print('\\n')\n",
    "print(f'Ratio of topic-0 in OTQuAD: {(df_b.topic_number.value_counts()[0]/total_b)*100}')\n",
    "print(f'Ratio of topic-1 in OTQuAD: {(df_b.topic_number.value_counts()[1]/total_b)*100}')"
   ]
  },
  {
   "cell_type": "code",
   "execution_count": 51,
   "id": "d1fadd44",
   "metadata": {
    "scrolled": true
   },
   "outputs": [
    {
     "name": "stderr",
     "output_type": "stream",
     "text": [
      "/net/kdinxidk03/opt/NFS/75y/anaconda3/envs/QA/lib/python3.7/site-packages/ipykernel/ipkernel.py:283: DeprecationWarning: `should_run_async` will not call `transform_cell` automatically in the future. Please pass the result to `transformed_cell` argument and any exception that happen during thetransform in `preprocessing_exc_tuple` in IPython 7.17 and above.\n",
      "  and should_run_async(code)\n"
     ]
    },
    {
     "data": {
      "text/plain": [
       "1    187\n",
       "0      3\n",
       "Name: topic_number, dtype: int64"
      ]
     },
     "execution_count": 51,
     "metadata": {},
     "output_type": "execute_result"
    }
   ],
   "source": [
    "df_s['topic_number'].value_counts()"
   ]
  },
  {
   "cell_type": "code",
   "execution_count": 52,
   "id": "c0e38062",
   "metadata": {},
   "outputs": [
    {
     "name": "stderr",
     "output_type": "stream",
     "text": [
      "/net/kdinxidk03/opt/NFS/75y/anaconda3/envs/QA/lib/python3.7/site-packages/ipykernel/ipkernel.py:283: DeprecationWarning: `should_run_async` will not call `transform_cell` automatically in the future. Please pass the result to `transformed_cell` argument and any exception that happen during thetransform in `preprocessing_exc_tuple` in IPython 7.17 and above.\n",
      "  and should_run_async(code)\n"
     ]
    },
    {
     "data": {
      "text/plain": [
       "0    190\n",
       "Name: topic_number, dtype: int64"
      ]
     },
     "execution_count": 52,
     "metadata": {},
     "output_type": "execute_result"
    }
   ],
   "source": [
    "df_b['topic_number'].value_counts()"
   ]
  },
  {
   "cell_type": "code",
   "execution_count": null,
   "id": "807c6574",
   "metadata": {},
   "outputs": [],
   "source": [
    "df_topic_distribution"
   ]
  },
  {
   "cell_type": "code",
   "execution_count": null,
   "id": "c01dd726",
   "metadata": {
    "scrolled": false
   },
   "outputs": [],
   "source": [
    "df_topic_keywords"
   ]
  },
  {
   "cell_type": "code",
   "execution_count": null,
   "id": "09f6cb7e",
   "metadata": {
    "scrolled": true
   },
   "outputs": [],
   "source": [
    "from kmeans import kmeans_topic_clustering"
   ]
  },
  {
   "cell_type": "code",
   "execution_count": null,
   "id": "a378ed0a",
   "metadata": {},
   "outputs": [],
   "source": [
    "df.loc[df['data_name'] == 'squad', 'data_name_binary'] = 0\n",
    "df.loc[df['data_name'] == 'otquad', 'data_name_binary'] = 1\n",
    "labels = df['data_name_binary'].values.tolist()"
   ]
  },
  {
   "cell_type": "code",
   "execution_count": null,
   "id": "26ca4344",
   "metadata": {},
   "outputs": [],
   "source": [
    "# import matplotlib as mpl\n",
    "# import matplotlib.pyplot as plt\n",
    "# import seaborn as sns\n",
    "# from sklearn.cluster import KMeans\n",
    "# from sklearn.manifold import TSNE\n",
    "# mpl.style.use(\"seaborn\")\n",
    "# mpl.rcParams['legend.frameon'] = 'True'\n",
    "\n",
    "\n",
    "# def kmeans_topic_clustering(model,\n",
    "#                             vectors,\n",
    "#                             n_clusters=2,\n",
    "#                             cluster_size=12000,\n",
    "#                             fontsize=15):\n",
    "#   \"\"\"\n",
    "#   input : model, vector repr. of the texts\n",
    "#   output: a segregation of topic clusters\n",
    "#   \"\"\"\n",
    "\n",
    "#   model_output = model.fit_transform(vectors)\n",
    "#   tsne_model = TSNE(n_components=2, random_state=42)  # 2 components\n",
    "#   model_output_tsne = tsne_model.fit_transform(model_output)\n",
    "\n",
    "#   KM = KMeans(n_clusters=n_clusters, random_state=42)\n",
    "#   clusters = labels #KM.fit_predict(model_output_tsne)\n",
    "# #   centroids = KM.cluster_centers_\n",
    "\n",
    "#   x = model_output_tsne[:, 0]\n",
    "#   y = model_output_tsne[:, 1]\n",
    "\n",
    "#   # Plot\n",
    "#   colors = [\n",
    "#       '#1f77b4', '#ff7f0e', '#2ca02c', '#d62728', '#9467bd', '#8c564b',\n",
    "#       '#e377c2', '#7f7f7f', '#bcbd22', '#17becf'\n",
    "#   ]\n",
    "\n",
    "#   plt.figure(figsize=(8, 7))\n",
    "\n",
    "#   plt.scatter(x, y, c=[colors[int(c)] for c in clusters], alpha=0.3)\n",
    "# #   plt.scatter(centroids[:, 0],\n",
    "# #               centroids[:, 1],\n",
    "# #               marker='*',\n",
    "# #               color=\"black\",\n",
    "# #               s=150)\n",
    "# #   plt.scatter(centroids[:, 0],\n",
    "# #               centroids[:, 1],\n",
    "# #               marker='o',\n",
    "# #               color=[colors[i] for i in range(len(centroids))],\n",
    "# #               s=cluster_size,\n",
    "# #               alpha=0.3)\n",
    "#   plt.xlabel('Component 1', fontsize=fontsize)\n",
    "#   plt.ylabel('Component 2', fontsize=fontsize)\n",
    "#   plt.xticks(fontsize=fontsize - 1)\n",
    "#   plt.yticks(fontsize=fontsize - 1)\n",
    "#   plt.title(f\"Segregation of topic clusters in the documents\",\n",
    "#             fontsize=fontsize)\n",
    "#   plt.show()"
   ]
  },
  {
   "cell_type": "code",
   "execution_count": null,
   "id": "de87927a",
   "metadata": {},
   "outputs": [],
   "source": [
    "# # plot topic clusters\n",
    "\n",
    "# # kmeans\n",
    "# cluster_size = 0\n",
    "# kmeans_topic_clustering(model, vectors, n_clusters=n_components, cluster_size=cluster_size)\n",
    "\n",
    "# pyldavis\n",
    "pyLDAvis.enable_notebook()\n",
    "panel = pyLDAvis.sklearn.prepare(model, vectors, vectorizer, mds='tsne')\n",
    "panel"
   ]
  },
  {
   "cell_type": "code",
   "execution_count": null,
   "id": "9f50fa90",
   "metadata": {},
   "outputs": [],
   "source": []
  }
 ],
 "metadata": {
  "kernelspec": {
   "display_name": "Python 3",
   "language": "python",
   "name": "python3"
  },
  "language_info": {
   "codemirror_mode": {
    "name": "ipython",
    "version": 3
   },
   "file_extension": ".py",
   "mimetype": "text/x-python",
   "name": "python",
   "nbconvert_exporter": "python",
   "pygments_lexer": "ipython3",
   "version": "3.7.10"
  },
  "toc": {
   "base_numbering": 1,
   "nav_menu": {},
   "number_sections": true,
   "sideBar": true,
   "skip_h1_title": false,
   "title_cell": "Table of Contents",
   "title_sidebar": "Contents",
   "toc_cell": false,
   "toc_position": {},
   "toc_section_display": true,
   "toc_window_display": false
  }
 },
 "nbformat": 4,
 "nbformat_minor": 5
}
