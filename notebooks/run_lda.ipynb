{
 "cells": [
  {
   "cell_type": "code",
   "execution_count": 1,
   "id": "a999c19f",
   "metadata": {},
   "outputs": [],
   "source": [
    "import lda\n",
    "import pandas as pd\n",
    "import numpy as np\n",
    "import json"
   ]
  },
  {
   "cell_type": "code",
   "execution_count": 2,
   "id": "133ceab6",
   "metadata": {},
   "outputs": [],
   "source": [
    "%load_ext autoreload\n",
    "%autoreload 2\n",
    "\n",
    "import warnings\n",
    "warnings.filterwarnings(\"ignore\", category=FutureWarning)\n",
    "\n",
    "import sys\n",
    "sys.path.append('../')\n",
    "\n",
    "import pandas as pd\n",
    "import numpy as np\n",
    "import re\n",
    "\n",
    "import pyLDAvis.sklearn\n",
    "import pyLDAvis\n",
    "\n",
    "from lda import (\n",
    "  get_text,\n",
    "  lda_preprocess,\n",
    "  lda_gridsearch,\n",
    "  lda_topic_modeling,\n",
    "  major_topic_per_doc,\n",
    "  plot_top_words,\n",
    "  show_topics,\n",
    ")"
   ]
  },
  {
   "cell_type": "code",
   "execution_count": 3,
   "id": "39e4cee9",
   "metadata": {},
   "outputs": [
    {
     "name": "stderr",
     "output_type": "stream",
     "text": [
      "/net/kdinxidk03/opt/NFS/75y/anaconda3/envs/QA/lib/python3.7/site-packages/ipykernel/ipkernel.py:283: DeprecationWarning: `should_run_async` will not call `transform_cell` automatically in the future. Please pass the result to `transformed_cell` argument and any exception that happen during thetransform in `preprocessing_exc_tuple` in IPython 7.17 and above.\n",
      "  and should_run_async(code)\n"
     ]
    }
   ],
   "source": [
    "# load squad, otquad\n",
    "# get only the contexts\n",
    "# each context is a document\n",
    "# create a dataframe with both of them with a column named data_name\n",
    "# run lda"
   ]
  },
  {
   "cell_type": "code",
   "execution_count": 4,
   "id": "5a5629a5",
   "metadata": {},
   "outputs": [
    {
     "name": "stderr",
     "output_type": "stream",
     "text": [
      "/net/kdinxidk03/opt/NFS/75y/anaconda3/envs/QA/lib/python3.7/site-packages/ipykernel/ipkernel.py:283: DeprecationWarning: `should_run_async` will not call `transform_cell` automatically in the future. Please pass the result to `transformed_cell` argument and any exception that happen during thetransform in `preprocessing_exc_tuple` in IPython 7.17 and above.\n",
      "  and should_run_async(code)\n"
     ]
    },
    {
     "name": "stdout",
     "output_type": "stream",
     "text": [
      "989\n",
      "Number of Unique Contexts   : 144\n",
      "Ratio of QA Pair-to-Context : 6.868055555555555\n"
     ]
    }
   ],
   "source": [
    "df = pd.read_csv('../data/otquad-v1.0 - editing.csv')[['title', 'context',\n",
    "                                                      'question', 'answer']]\n",
    "\n",
    "print(len(df))\n",
    "print(f\"Number of Unique Contexts   : {df['context'].nunique()}\")\n",
    "print(f\"Ratio of QA Pair-to-Context : {len(df)/df['context'].nunique()}\")\n",
    "\n",
    "df['context_length'] = df['context'].apply(len)\n",
    "df['question_length'] = df['question'].apply(len)\n",
    "df['answer_length'] = df['answer'].apply(len)\n"
   ]
  },
  {
   "cell_type": "code",
   "execution_count": 16,
   "id": "8b2e7cfc",
   "metadata": {},
   "outputs": [
    {
     "name": "stderr",
     "output_type": "stream",
     "text": [
      "/net/kdinxidk03/opt/NFS/75y/anaconda3/envs/QA/lib/python3.7/site-packages/ipykernel/ipkernel.py:283: DeprecationWarning: `should_run_async` will not call `transform_cell` automatically in the future. Please pass the result to `transformed_cell` argument and any exception that happen during thetransform in `preprocessing_exc_tuple` in IPython 7.17 and above.\n",
      "  and should_run_async(code)\n"
     ]
    },
    {
     "name": "stdout",
     "output_type": "stream",
     "text": [
      "18896\n",
      "18891\n"
     ]
    }
   ],
   "source": [
    "squad_path  = '/net/kdinxidk03/opt/NFS/75y/data/qa/dataset_pos/squad/train_squad.json'\n",
    "a = json.load(open(squad_path))\n",
    "\n",
    "squad_contexts  = []\n",
    "for d in a['data']:\n",
    "  for p in d['paragraphs']:\n",
    "    squad_contexts.append(p['context'])\n",
    "    \n",
    "print(len(squad_contexts))\n",
    "print(len(np.unique(squad_contexts)))"
   ]
  },
  {
   "cell_type": "code",
   "execution_count": 17,
   "id": "0456e78e",
   "metadata": {},
   "outputs": [
    {
     "name": "stdout",
     "output_type": "stream",
     "text": [
      "989\n",
      "144\n"
     ]
    },
    {
     "name": "stderr",
     "output_type": "stream",
     "text": [
      "/net/kdinxidk03/opt/NFS/75y/anaconda3/envs/QA/lib/python3.7/site-packages/ipykernel/ipkernel.py:283: DeprecationWarning: `should_run_async` will not call `transform_cell` automatically in the future. Please pass the result to `transformed_cell` argument and any exception that happen during thetransform in `preprocessing_exc_tuple` in IPython 7.17 and above.\n",
      "  and should_run_async(code)\n"
     ]
    }
   ],
   "source": [
    "otquad_contexts = df['context'].values.tolist()\n",
    "print(len(otquad_contexts))\n",
    "print(len(np.unique(otquad_contexts)))"
   ]
  },
  {
   "cell_type": "code",
   "execution_count": 18,
   "id": "df35259b",
   "metadata": {},
   "outputs": [
    {
     "name": "stderr",
     "output_type": "stream",
     "text": [
      "/net/kdinxidk03/opt/NFS/75y/anaconda3/envs/QA/lib/python3.7/site-packages/ipykernel/ipkernel.py:283: DeprecationWarning: `should_run_async` will not call `transform_cell` automatically in the future. Please pass the result to `transformed_cell` argument and any exception that happen during thetransform in `preprocessing_exc_tuple` in IPython 7.17 and above.\n",
      "  and should_run_async(code)\n"
     ]
    },
    {
     "name": "stdout",
     "output_type": "stream",
     "text": [
      "18891 144\n"
     ]
    }
   ],
   "source": [
    "squad_contexts  = np.unique(squad_contexts)\n",
    "otquad_contexts = np.unique(otquad_contexts)\n",
    "\n",
    "print(len(squad_contexts), len(otquad_contexts))"
   ]
  },
  {
   "cell_type": "code",
   "execution_count": 19,
   "id": "a2efd85b",
   "metadata": {},
   "outputs": [
    {
     "name": "stderr",
     "output_type": "stream",
     "text": [
      "/net/kdinxidk03/opt/NFS/75y/anaconda3/envs/QA/lib/python3.7/site-packages/ipykernel/ipkernel.py:283: DeprecationWarning: `should_run_async` will not call `transform_cell` automatically in the future. Please pass the result to `transformed_cell` argument and any exception that happen during thetransform in `preprocessing_exc_tuple` in IPython 7.17 and above.\n",
      "  and should_run_async(code)\n"
     ]
    }
   ],
   "source": [
    "df_squad = pd.DataFrame()\n",
    "df_squad['contexts'] = squad_contexts\n",
    "df_squad['data_name'] = ['squad']*len(squad_contexts)\n"
   ]
  },
  {
   "cell_type": "code",
   "execution_count": 20,
   "id": "4898b402",
   "metadata": {},
   "outputs": [
    {
     "name": "stderr",
     "output_type": "stream",
     "text": [
      "/net/kdinxidk03/opt/NFS/75y/anaconda3/envs/QA/lib/python3.7/site-packages/ipykernel/ipkernel.py:283: DeprecationWarning: `should_run_async` will not call `transform_cell` automatically in the future. Please pass the result to `transformed_cell` argument and any exception that happen during thetransform in `preprocessing_exc_tuple` in IPython 7.17 and above.\n",
      "  and should_run_async(code)\n"
     ]
    }
   ],
   "source": [
    "df_otquad = pd.DataFrame()\n",
    "df_otquad['contexts'] = otquad_contexts\n",
    "df_otquad['data_name'] = ['otquad']*len(otquad_contexts)\n"
   ]
  },
  {
   "cell_type": "code",
   "execution_count": 21,
   "id": "581c4b65",
   "metadata": {},
   "outputs": [
    {
     "name": "stderr",
     "output_type": "stream",
     "text": [
      "/net/kdinxidk03/opt/NFS/75y/anaconda3/envs/QA/lib/python3.7/site-packages/ipykernel/ipkernel.py:283: DeprecationWarning: `should_run_async` will not call `transform_cell` automatically in the future. Please pass the result to `transformed_cell` argument and any exception that happen during thetransform in `preprocessing_exc_tuple` in IPython 7.17 and above.\n",
      "  and should_run_async(code)\n"
     ]
    },
    {
     "data": {
      "text/html": [
       "<div>\n",
       "<style scoped>\n",
       "    .dataframe tbody tr th:only-of-type {\n",
       "        vertical-align: middle;\n",
       "    }\n",
       "\n",
       "    .dataframe tbody tr th {\n",
       "        vertical-align: top;\n",
       "    }\n",
       "\n",
       "    .dataframe thead th {\n",
       "        text-align: right;\n",
       "    }\n",
       "</style>\n",
       "<table border=\"1\" class=\"dataframe\">\n",
       "  <thead>\n",
       "    <tr style=\"text-align: right;\">\n",
       "      <th></th>\n",
       "      <th>contexts</th>\n",
       "      <th>data_name</th>\n",
       "    </tr>\n",
       "  </thead>\n",
       "  <tbody>\n",
       "    <tr>\n",
       "      <th>0</th>\n",
       "      <td>\\n Australia: The event was held in Canberra, ...</td>\n",
       "      <td>squad</td>\n",
       "    </tr>\n",
       "    <tr>\n",
       "      <th>1</th>\n",
       "      <td>\\n China: In China, the torch was first welcom...</td>\n",
       "      <td>squad</td>\n",
       "    </tr>\n",
       "    <tr>\n",
       "      <th>2</th>\n",
       "      <td>\\n France: The torch relay leg in Paris, held ...</td>\n",
       "      <td>squad</td>\n",
       "    </tr>\n",
       "    <tr>\n",
       "      <th>3</th>\n",
       "      <td>\\n Great Britain: The torch relay leg held in ...</td>\n",
       "      <td>squad</td>\n",
       "    </tr>\n",
       "    <tr>\n",
       "      <th>4</th>\n",
       "      <td>\\n India: Due to concerns about pro-Tibet prot...</td>\n",
       "      <td>squad</td>\n",
       "    </tr>\n",
       "    <tr>\n",
       "      <th>...</th>\n",
       "      <td>...</td>\n",
       "      <td>...</td>\n",
       "    </tr>\n",
       "    <tr>\n",
       "      <th>19030</th>\n",
       "      <td>While there is currently no evidence in the li...</td>\n",
       "      <td>otquad</td>\n",
       "    </tr>\n",
       "    <tr>\n",
       "      <th>19031</th>\n",
       "      <td>With the passage of the Patient Protection and...</td>\n",
       "      <td>otquad</td>\n",
       "    </tr>\n",
       "    <tr>\n",
       "      <th>19032</th>\n",
       "      <td>Younger patients are also at a higher risk of ...</td>\n",
       "      <td>otquad</td>\n",
       "    </tr>\n",
       "    <tr>\n",
       "      <th>19033</th>\n",
       "      <td>a) We recommend against initiation of long-ter...</td>\n",
       "      <td>otquad</td>\n",
       "    </tr>\n",
       "    <tr>\n",
       "      <th>19034</th>\n",
       "      <td>a) We recommend against long-term opioid thera...</td>\n",
       "      <td>otquad</td>\n",
       "    </tr>\n",
       "  </tbody>\n",
       "</table>\n",
       "<p>19035 rows × 2 columns</p>\n",
       "</div>"
      ],
      "text/plain": [
       "                                                contexts data_name\n",
       "0      \\n Australia: The event was held in Canberra, ...     squad\n",
       "1      \\n China: In China, the torch was first welcom...     squad\n",
       "2      \\n France: The torch relay leg in Paris, held ...     squad\n",
       "3      \\n Great Britain: The torch relay leg held in ...     squad\n",
       "4      \\n India: Due to concerns about pro-Tibet prot...     squad\n",
       "...                                                  ...       ...\n",
       "19030  While there is currently no evidence in the li...    otquad\n",
       "19031  With the passage of the Patient Protection and...    otquad\n",
       "19032  Younger patients are also at a higher risk of ...    otquad\n",
       "19033  a) We recommend against initiation of long-ter...    otquad\n",
       "19034  a) We recommend against long-term opioid thera...    otquad\n",
       "\n",
       "[19035 rows x 2 columns]"
      ]
     },
     "execution_count": 21,
     "metadata": {},
     "output_type": "execute_result"
    }
   ],
   "source": [
    "df = df_squad.append(df_otquad, ignore_index = True)\n",
    "df"
   ]
  },
  {
   "cell_type": "code",
   "execution_count": 22,
   "id": "a474a428",
   "metadata": {},
   "outputs": [
    {
     "name": "stderr",
     "output_type": "stream",
     "text": [
      "/net/kdinxidk03/opt/NFS/75y/anaconda3/envs/QA/lib/python3.7/site-packages/ipykernel/ipkernel.py:283: DeprecationWarning: `should_run_async` will not call `transform_cell` automatically in the future. Please pass the result to `transformed_cell` argument and any exception that happen during thetransform in `preprocessing_exc_tuple` in IPython 7.17 and above.\n",
      "  and should_run_async(code)\n"
     ]
    }
   ],
   "source": [
    "text = df['contexts'].values.tolist()"
   ]
  },
  {
   "cell_type": "code",
   "execution_count": 23,
   "id": "3762bb6d",
   "metadata": {},
   "outputs": [
    {
     "name": "stderr",
     "output_type": "stream",
     "text": [
      "/net/kdinxidk03/opt/NFS/75y/anaconda3/envs/QA/lib/python3.7/site-packages/ipykernel/ipkernel.py:283: DeprecationWarning: `should_run_async` will not call `transform_cell` automatically in the future. Please pass the result to `transformed_cell` argument and any exception that happen during thetransform in `preprocessing_exc_tuple` in IPython 7.17 and above.\n",
      "  and should_run_async(code)\n"
     ]
    },
    {
     "data": {
      "text/plain": [
       "19035"
      ]
     },
     "execution_count": 23,
     "metadata": {},
     "output_type": "execute_result"
    }
   ],
   "source": [
    "len(text)"
   ]
  },
  {
   "cell_type": "code",
   "execution_count": 24,
   "id": "39adb9d0",
   "metadata": {},
   "outputs": [
    {
     "name": "stderr",
     "output_type": "stream",
     "text": [
      "/net/kdinxidk03/opt/NFS/75y/anaconda3/envs/QA/lib/python3.7/site-packages/ipykernel/ipkernel.py:283: DeprecationWarning: `should_run_async` will not call `transform_cell` automatically in the future. Please pass the result to `transformed_cell` argument and any exception that happen during thetransform in `preprocessing_exc_tuple` in IPython 7.17 and above.\n",
      "  and should_run_async(code)\n"
     ]
    }
   ],
   "source": [
    "n_features = None\n",
    "n_top_words = 20\n",
    "n_words = 10"
   ]
  },
  {
   "cell_type": "code",
   "execution_count": 25,
   "id": "910475c4",
   "metadata": {},
   "outputs": [
    {
     "name": "stderr",
     "output_type": "stream",
     "text": [
      "/net/kdinxidk03/opt/NFS/75y/anaconda3/envs/QA/lib/python3.7/site-packages/ipykernel/ipkernel.py:283: DeprecationWarning: `should_run_async` will not call `transform_cell` automatically in the future. Please pass the result to `transformed_cell` argument and any exception that happen during thetransform in `preprocessing_exc_tuple` in IPython 7.17 and above.\n",
      "  and should_run_async(code)\n"
     ]
    },
    {
     "name": "stdout",
     "output_type": "stream",
     "text": [
      "Extracting features for LDA . . .\n",
      "Starting gridsearch for LDA . . .\n",
      "Ending gridsearch for LDA . . .\n"
     ]
    },
    {
     "data": {
      "image/png": "[encoded data removed]",
      "text/plain": [
       "<Figure size 576x504 with 2 Axes>"
      ]
     },
     "metadata": {},
     "output_type": "display_data"
    }
   ],
   "source": [
    "# vectorizer\n",
    "vectorizer, vectors, feature_names = lda_preprocess(text, n_features=n_features)\n",
    "\n",
    "# lda gridsearch\n",
    "lda_gridsearch(vectors)\n"
   ]
  },
  {
   "cell_type": "code",
   "execution_count": 26,
   "id": "8f061cf7",
   "metadata": {},
   "outputs": [
    {
     "name": "stderr",
     "output_type": "stream",
     "text": [
      "/net/kdinxidk03/opt/NFS/75y/anaconda3/envs/QA/lib/python3.7/site-packages/ipykernel/ipkernel.py:283: DeprecationWarning: `should_run_async` will not call `transform_cell` automatically in the future. Please pass the result to `transformed_cell` argument and any exception that happen during thetransform in `preprocessing_exc_tuple` in IPython 7.17 and above.\n",
      "  and should_run_async(code)\n"
     ]
    }
   ],
   "source": [
    "# best topic model\n",
    "\n",
    "n_components = 2\n",
    "learning_decay = 0.9\n",
    "\n",
    "model = lda_topic_modeling(vectors, n_components, learning_decay, n_top_words)\n"
   ]
  },
  {
   "cell_type": "code",
   "execution_count": 27,
   "id": "e41b28ee",
   "metadata": {},
   "outputs": [
    {
     "name": "stderr",
     "output_type": "stream",
     "text": [
      "/net/kdinxidk03/opt/NFS/75y/anaconda3/envs/QA/lib/python3.7/site-packages/ipykernel/ipkernel.py:283: DeprecationWarning: `should_run_async` will not call `transform_cell` automatically in the future. Please pass the result to `transformed_cell` argument and any exception that happen during thetransform in `preprocessing_exc_tuple` in IPython 7.17 and above.\n",
      "  and should_run_async(code)\n"
     ]
    },
    {
     "data": {
      "image/png": "[encoded data removed]",
      "text/plain": [
       "<Figure size 576x504 with 2 Axes>"
      ]
     },
     "metadata": {},
     "output_type": "display_data"
    }
   ],
   "source": [
    "# topic words, document distribution, plot top 10 words in each topic\n",
    "\n",
    "df_document_topics, df_topic_distribution, df_topic_keywords = major_topic_per_doc(model, vectors, \n",
    "                                                                                   vectorizer, text)\n",
    "\n",
    "plot_top_words(model, feature_names, n_top_words, 1, n_components, (8, 7))\n",
    "    \n",
    "df_topic_keywords = show_topics(vectorizer, model, n_words=n_words)\n"
   ]
  },
  {
   "cell_type": "code",
   "execution_count": 28,
   "id": "ca69fa4a",
   "metadata": {
    "scrolled": true
   },
   "outputs": [
    {
     "name": "stderr",
     "output_type": "stream",
     "text": [
      "/net/kdinxidk03/opt/NFS/75y/anaconda3/envs/QA/lib/python3.7/site-packages/ipykernel/ipkernel.py:283: DeprecationWarning: `should_run_async` will not call `transform_cell` automatically in the future. Please pass the result to `transformed_cell` argument and any exception that happen during thetransform in `preprocessing_exc_tuple` in IPython 7.17 and above.\n",
      "  and should_run_async(code)\n"
     ]
    }
   ],
   "source": [
    "df['topic_number'] = df_document_topics.data['dominant_topic'].values.tolist()"
   ]
  },
  {
   "cell_type": "code",
   "execution_count": 31,
   "id": "94a3916a",
   "metadata": {
    "scrolled": true
   },
   "outputs": [
    {
     "name": "stdout",
     "output_type": "stream",
     "text": [
      "(18891, 3) (144, 3)\n"
     ]
    },
    {
     "name": "stderr",
     "output_type": "stream",
     "text": [
      "/net/kdinxidk03/opt/NFS/75y/anaconda3/envs/QA/lib/python3.7/site-packages/ipykernel/ipkernel.py:283: DeprecationWarning: `should_run_async` will not call `transform_cell` automatically in the future. Please pass the result to `transformed_cell` argument and any exception that happen during thetransform in `preprocessing_exc_tuple` in IPython 7.17 and above.\n",
      "  and should_run_async(code)\n"
     ]
    }
   ],
   "source": [
    "df_s = df[df['data_name']=='squad']\n",
    "df_b = df[df['data_name']=='otquad']\n",
    "print(df_s.shape, df_b.shape)"
   ]
  },
  {
   "cell_type": "code",
   "execution_count": 41,
   "id": "d562601f",
   "metadata": {
    "scrolled": true
   },
   "outputs": [
    {
     "name": "stdout",
     "output_type": "stream",
     "text": [
      "Ratio of topic-0 in SQuAD: 99.6241596527447\n",
      "Ratio of topic-1 in SQuAD: 0.37584034725530674\n",
      "\n",
      "\n",
      "Ratio of topic-0 in OTQuAD: 99.30555555555556\n",
      "Ratio of topic-1 in OTQuAD: 0.6944444444444444\n"
     ]
    },
    {
     "name": "stderr",
     "output_type": "stream",
     "text": [
      "/net/kdinxidk03/opt/NFS/75y/anaconda3/envs/QA/lib/python3.7/site-packages/ipykernel/ipkernel.py:283: DeprecationWarning: `should_run_async` will not call `transform_cell` automatically in the future. Please pass the result to `transformed_cell` argument and any exception that happen during thetransform in `preprocessing_exc_tuple` in IPython 7.17 and above.\n",
      "  and should_run_async(code)\n"
     ]
    }
   ],
   "source": [
    "total_s = df_s.shape[0] \n",
    "total_b = df_b.shape[0]\n",
    "\n",
    "print(f'Ratio of topic-0 in SQuAD: {(df_s.topic_number.value_counts()[0]/total_s)*100}')\n",
    "print(f'Ratio of topic-1 in SQuAD: {(df_s.topic_number.value_counts()[1]/total_s)*100}')\n",
    "print('\\n')\n",
    "print(f'Ratio of topic-0 in OTQuAD: {(df_b.topic_number.value_counts()[0]/total_b)*100}')\n",
    "print(f'Ratio of topic-1 in OTQuAD: {(df_b.topic_number.value_counts()[1]/total_b)*100}')"
   ]
  },
  {
   "cell_type": "code",
   "execution_count": 43,
   "id": "d1fadd44",
   "metadata": {
    "scrolled": true
   },
   "outputs": [
    {
     "name": "stderr",
     "output_type": "stream",
     "text": [
      "/net/kdinxidk03/opt/NFS/75y/anaconda3/envs/QA/lib/python3.7/site-packages/ipykernel/ipkernel.py:283: DeprecationWarning: `should_run_async` will not call `transform_cell` automatically in the future. Please pass the result to `transformed_cell` argument and any exception that happen during thetransform in `preprocessing_exc_tuple` in IPython 7.17 and above.\n",
      "  and should_run_async(code)\n"
     ]
    },
    {
     "data": {
      "text/plain": [
       "0    18820\n",
       "1       71\n",
       "Name: topic_number, dtype: int64"
      ]
     },
     "execution_count": 43,
     "metadata": {},
     "output_type": "execute_result"
    }
   ],
   "source": [
    "df_s['topic_number'].value_counts()"
   ]
  },
  {
   "cell_type": "code",
   "execution_count": 44,
   "id": "c0e38062",
   "metadata": {},
   "outputs": [
    {
     "name": "stderr",
     "output_type": "stream",
     "text": [
      "/net/kdinxidk03/opt/NFS/75y/anaconda3/envs/QA/lib/python3.7/site-packages/ipykernel/ipkernel.py:283: DeprecationWarning: `should_run_async` will not call `transform_cell` automatically in the future. Please pass the result to `transformed_cell` argument and any exception that happen during thetransform in `preprocessing_exc_tuple` in IPython 7.17 and above.\n",
      "  and should_run_async(code)\n"
     ]
    },
    {
     "data": {
      "text/plain": [
       "0    143\n",
       "1      1\n",
       "Name: topic_number, dtype: int64"
      ]
     },
     "execution_count": 44,
     "metadata": {},
     "output_type": "execute_result"
    }
   ],
   "source": [
    "df_b['topic_number'].value_counts()"
   ]
  },
  {
   "cell_type": "code",
   "execution_count": 45,
   "id": "807c6574",
   "metadata": {},
   "outputs": [
    {
     "name": "stderr",
     "output_type": "stream",
     "text": [
      "/net/kdinxidk03/opt/NFS/75y/anaconda3/envs/QA/lib/python3.7/site-packages/ipykernel/ipkernel.py:283: DeprecationWarning: `should_run_async` will not call `transform_cell` automatically in the future. Please pass the result to `transformed_cell` argument and any exception that happen during thetransform in `preprocessing_exc_tuple` in IPython 7.17 and above.\n",
      "  and should_run_async(code)\n"
     ]
    },
    {
     "data": {
      "text/html": [
       "<div>\n",
       "<style scoped>\n",
       "    .dataframe tbody tr th:only-of-type {\n",
       "        vertical-align: middle;\n",
       "    }\n",
       "\n",
       "    .dataframe tbody tr th {\n",
       "        vertical-align: top;\n",
       "    }\n",
       "\n",
       "    .dataframe thead th {\n",
       "        text-align: right;\n",
       "    }\n",
       "</style>\n",
       "<table border=\"1\" class=\"dataframe\">\n",
       "  <thead>\n",
       "    <tr style=\"text-align: right;\">\n",
       "      <th></th>\n",
       "      <th>Topic Num</th>\n",
       "      <th>Num Documents</th>\n",
       "    </tr>\n",
       "  </thead>\n",
       "  <tbody>\n",
       "    <tr>\n",
       "      <th>0</th>\n",
       "      <td>0</td>\n",
       "      <td>18963</td>\n",
       "    </tr>\n",
       "    <tr>\n",
       "      <th>1</th>\n",
       "      <td>1</td>\n",
       "      <td>72</td>\n",
       "    </tr>\n",
       "  </tbody>\n",
       "</table>\n",
       "</div>"
      ],
      "text/plain": [
       "   Topic Num  Num Documents\n",
       "0          0          18963\n",
       "1          1             72"
      ]
     },
     "execution_count": 45,
     "metadata": {},
     "output_type": "execute_result"
    }
   ],
   "source": [
    "df_topic_distribution"
   ]
  },
  {
   "cell_type": "code",
   "execution_count": 46,
   "id": "c01dd726",
   "metadata": {
    "scrolled": false
   },
   "outputs": [
    {
     "name": "stderr",
     "output_type": "stream",
     "text": [
      "/net/kdinxidk03/opt/NFS/75y/anaconda3/envs/QA/lib/python3.7/site-packages/ipykernel/ipkernel.py:283: DeprecationWarning: `should_run_async` will not call `transform_cell` automatically in the future. Please pass the result to `transformed_cell` argument and any exception that happen during thetransform in `preprocessing_exc_tuple` in IPython 7.17 and above.\n",
      "  and should_run_async(code)\n"
     ]
    },
    {
     "data": {
      "text/html": [
       "<div>\n",
       "<style scoped>\n",
       "    .dataframe tbody tr th:only-of-type {\n",
       "        vertical-align: middle;\n",
       "    }\n",
       "\n",
       "    .dataframe tbody tr th {\n",
       "        vertical-align: top;\n",
       "    }\n",
       "\n",
       "    .dataframe thead th {\n",
       "        text-align: right;\n",
       "    }\n",
       "</style>\n",
       "<table border=\"1\" class=\"dataframe\">\n",
       "  <thead>\n",
       "    <tr style=\"text-align: right;\">\n",
       "      <th></th>\n",
       "      <th>Word 0</th>\n",
       "      <th>Word 1</th>\n",
       "      <th>Word 2</th>\n",
       "      <th>Word 3</th>\n",
       "      <th>Word 4</th>\n",
       "      <th>Word 5</th>\n",
       "      <th>Word 6</th>\n",
       "      <th>Word 7</th>\n",
       "      <th>Word 8</th>\n",
       "      <th>Word 9</th>\n",
       "    </tr>\n",
       "  </thead>\n",
       "  <tbody>\n",
       "    <tr>\n",
       "      <th>Topic 0</th>\n",
       "      <td>use</td>\n",
       "      <td>city</td>\n",
       "      <td>state</td>\n",
       "      <td>new</td>\n",
       "      <td>include</td>\n",
       "      <td>year</td>\n",
       "      <td>century</td>\n",
       "      <td>time</td>\n",
       "      <td>world</td>\n",
       "      <td>large</td>\n",
       "    </tr>\n",
       "    <tr>\n",
       "      <th>Topic 1</th>\n",
       "      <td>gene</td>\n",
       "      <td>beer</td>\n",
       "      <td>genome</td>\n",
       "      <td>capacitor</td>\n",
       "      <td>dna</td>\n",
       "      <td>protein</td>\n",
       "      <td>rna</td>\n",
       "      <td>brewery</td>\n",
       "      <td>pub</td>\n",
       "      <td>dielectric</td>\n",
       "    </tr>\n",
       "  </tbody>\n",
       "</table>\n",
       "</div>"
      ],
      "text/plain": [
       "        Word 0 Word 1  Word 2     Word 3   Word 4   Word 5   Word 6   Word 7  \\\n",
       "Topic 0    use   city   state        new  include     year  century     time   \n",
       "Topic 1   gene   beer  genome  capacitor      dna  protein      rna  brewery   \n",
       "\n",
       "        Word 8      Word 9  \n",
       "Topic 0  world       large  \n",
       "Topic 1    pub  dielectric  "
      ]
     },
     "execution_count": 46,
     "metadata": {},
     "output_type": "execute_result"
    }
   ],
   "source": [
    "df_topic_keywords"
   ]
  },
  {
   "cell_type": "code",
   "execution_count": 47,
   "id": "09f6cb7e",
   "metadata": {
    "scrolled": true
   },
   "outputs": [
    {
     "name": "stderr",
     "output_type": "stream",
     "text": [
      "/net/kdinxidk03/opt/NFS/75y/anaconda3/envs/QA/lib/python3.7/site-packages/ipykernel/ipkernel.py:283: DeprecationWarning: `should_run_async` will not call `transform_cell` automatically in the future. Please pass the result to `transformed_cell` argument and any exception that happen during thetransform in `preprocessing_exc_tuple` in IPython 7.17 and above.\n",
      "  and should_run_async(code)\n"
     ]
    }
   ],
   "source": [
    "from kmeans import kmeans_topic_clustering"
   ]
  },
  {
   "cell_type": "code",
   "execution_count": 49,
   "id": "a378ed0a",
   "metadata": {},
   "outputs": [
    {
     "name": "stderr",
     "output_type": "stream",
     "text": [
      "/net/kdinxidk03/opt/NFS/75y/anaconda3/envs/QA/lib/python3.7/site-packages/ipykernel/ipkernel.py:283: DeprecationWarning: `should_run_async` will not call `transform_cell` automatically in the future. Please pass the result to `transformed_cell` argument and any exception that happen during thetransform in `preprocessing_exc_tuple` in IPython 7.17 and above.\n",
      "  and should_run_async(code)\n"
     ]
    }
   ],
   "source": [
    "df.loc[df['data_name'] == 'squad', 'data_name_binary'] = 0\n",
    "df.loc[df['data_name'] == 'otquad', 'data_name_binary'] = 1\n",
    "labels = df['data_name_binary'].values.tolist()"
   ]
  },
  {
   "cell_type": "code",
   "execution_count": 114,
   "id": "26ca4344",
   "metadata": {},
   "outputs": [
    {
     "name": "stderr",
     "output_type": "stream",
     "text": [
      "/net/kdinxidk03/opt/NFS/75y/anaconda3/envs/QA/lib/python3.7/site-packages/ipykernel/ipkernel.py:283: DeprecationWarning: `should_run_async` will not call `transform_cell` automatically in the future. Please pass the result to `transformed_cell` argument and any exception that happen during thetransform in `preprocessing_exc_tuple` in IPython 7.17 and above.\n",
      "  and should_run_async(code)\n"
     ]
    }
   ],
   "source": [
    "# import matplotlib as mpl\n",
    "# import matplotlib.pyplot as plt\n",
    "# import seaborn as sns\n",
    "# from sklearn.cluster import KMeans\n",
    "# from sklearn.manifold import TSNE\n",
    "# mpl.style.use(\"seaborn\")\n",
    "# mpl.rcParams['legend.frameon'] = 'True'\n",
    "\n",
    "\n",
    "# def kmeans_topic_clustering(model,\n",
    "#                             vectors,\n",
    "#                             n_clusters=2,\n",
    "#                             cluster_size=12000,\n",
    "#                             fontsize=15):\n",
    "#   \"\"\"\n",
    "#   input : model, vector repr. of the texts\n",
    "#   output: a segregation of topic clusters\n",
    "#   \"\"\"\n",
    "\n",
    "#   model_output = model.fit_transform(vectors)\n",
    "#   tsne_model = TSNE(n_components=2, random_state=42)  # 2 components\n",
    "#   model_output_tsne = tsne_model.fit_transform(model_output)\n",
    "\n",
    "#   KM = KMeans(n_clusters=n_clusters, random_state=42)\n",
    "#   clusters = labels #KM.fit_predict(model_output_tsne)\n",
    "# #   centroids = KM.cluster_centers_\n",
    "\n",
    "#   x = model_output_tsne[:, 0]\n",
    "#   y = model_output_tsne[:, 1]\n",
    "\n",
    "#   # Plot\n",
    "#   colors = [\n",
    "#       '#1f77b4', '#ff7f0e', '#2ca02c', '#d62728', '#9467bd', '#8c564b',\n",
    "#       '#e377c2', '#7f7f7f', '#bcbd22', '#17becf'\n",
    "#   ]\n",
    "\n",
    "#   plt.figure(figsize=(8, 7))\n",
    "\n",
    "#   plt.scatter(x, y, c=[colors[int(c)] for c in clusters], alpha=0.3)\n",
    "# #   plt.scatter(centroids[:, 0],\n",
    "# #               centroids[:, 1],\n",
    "# #               marker='*',\n",
    "# #               color=\"black\",\n",
    "# #               s=150)\n",
    "# #   plt.scatter(centroids[:, 0],\n",
    "# #               centroids[:, 1],\n",
    "# #               marker='o',\n",
    "# #               color=[colors[i] for i in range(len(centroids))],\n",
    "# #               s=cluster_size,\n",
    "# #               alpha=0.3)\n",
    "#   plt.xlabel('Component 1', fontsize=fontsize)\n",
    "#   plt.ylabel('Component 2', fontsize=fontsize)\n",
    "#   plt.xticks(fontsize=fontsize - 1)\n",
    "#   plt.yticks(fontsize=fontsize - 1)\n",
    "#   plt.title(f\"Segregation of topic clusters in the documents\",\n",
    "#             fontsize=fontsize)\n",
    "#   plt.show()"
   ]
  },
  {
   "cell_type": "code",
   "execution_count": 50,
   "id": "de87927a",
   "metadata": {},
   "outputs": [
    {
     "name": "stderr",
     "output_type": "stream",
     "text": [
      "/net/kdinxidk03/opt/NFS/75y/anaconda3/envs/QA/lib/python3.7/site-packages/ipykernel/ipkernel.py:283: DeprecationWarning: `should_run_async` will not call `transform_cell` automatically in the future. Please pass the result to `transformed_cell` argument and any exception that happen during thetransform in `preprocessing_exc_tuple` in IPython 7.17 and above.\n",
      "  and should_run_async(code)\n"
     ]
    },
    {
     "data": {
      "text/html": [
       "\n",
       "<link rel=\"stylesheet\" type=\"text/css\" href=\"https://cdn.jsdelivr.net/gh/bmabey/pyLDAvis@3.3.1/pyLDAvis/js/ldavis.v1.0.0.css\">\n",
       "\n",
       "\n",
       "<div id=\"ldavis_el2533771404591388310567371161655\"></div>\n",
       "<script type=\"text/javascript\">\n",
       "\n",
       "var ldavis_el2533771404591388310567371161655_data = {\"mdsDat\": {\"x\": [-60.31231689453125, 60.31256103515625], \"y\": [141.36962890625, -141.369140625], \"topics\": [1, 2], \"cluster\": [1, 1], \"Freq\": [90.85416965509425, 9.145830344905745]}, \"tinfo\": {\"Term\": [\"gene\", \"beer\", \"genome\", \"dna\", \"pub\", \"capacitor\", \"protein\", \"sequence\", \"dielectric\", \"city\", \"rna\", \"brewery\", \"mandolin\", \"dish\", \"rotor\", \"state\", \"molecular\", \"allele\", \"new\", \"repetitive\", \"precept\", \"transcription\", \"eukaryote\", \"string\", \"baroque\", \"torque\", \"year\", \"dbms\", \"browser\", \"database\", \"city\", \"state\", \"new\", \"year\", \"century\", \"government\", \"war\", \"area\", \"world\", \"country\", \"early\", \"united\", \"000\", \"include\", \"large\", \"population\", \"people\", \"time\", \"language\", \"university\", \"high\", \"school\", \"work\", \"million\", \"states\", \"force\", \"use\", \"law\", \"north\", \"power\", \"system\", \"group\", \"form\", \"know\", \"number\", \"rna\", \"brewery\", \"q8h\", \"allele\", \"canis\", \"mrna\", \"abv\", \"malt\", \"autov\", \"preaspirated\", \"wort\", \"protostome\", \"murmur\", \"defilement\", \"breathy\", \"thymine\", \"familiaris\", \"codon\", \"superscript\", \"modifier\", \"intron\", \"nid\", \"adenine\", \"haploid\", \"phage\", \"methyl\", \"stew\", \"nucleotide\", \"crotalus\", \"bacteriophage\", \"polymerase\", \"delusion\", \"dielectric\", \"precept\", \"sperm\", \"gene\", \"beer\", \"genome\", \"symbiosis\", \"capacitor\", \"eukaryote\", \"yeast\", \"protein\", \"repetitive\", \"phyla\", \"dna\", \"brew\", \"chloroplast\", \"dbms\", \"rotor\", \"transcription\", \"pub\", \"sequence\", \"dish\", \"winding\", \"transcribe\", \"mandolin\", \"opioid\"], \"Freq\": [20.0, 15.0, 13.0, 16.0, 18.0, 10.0, 10.0, 14.0, 5.0, 205.0, 4.0, 3.0, 15.0, 5.0, 4.0, 170.0, 8.0, 3.0, 163.0, 3.0, 3.0, 3.0, 3.0, 8.0, 5.0, 4.0, 151.0, 3.0, 8.0, 12.0, 204.948095669781, 170.34676049989199, 163.32313867187543, 151.15677238947384, 139.4268981975257, 115.10740988746672, 124.80281246239947, 111.47221217886911, 128.3448385164135, 113.9770470461444, 110.4682933284334, 115.31762273604704, 109.69086543298934, 160.8535556635365, 127.10950784746565, 103.50741270714967, 110.77004658664731, 137.27145355094498, 106.51491171662347, 105.20616637315838, 119.03543529308442, 103.26327117392846, 98.22197562341753, 86.7101605478541, 93.32599974155468, 92.01737636870848, 211.08739676333565, 87.41732446561761, 84.42731211377604, 98.04305691775886, 116.49924386200234, 99.70755067255395, 105.77394158835092, 100.96782195878296, 95.39026633574423, 3.6610653922838323, 3.2407059959371605, 1.51928428509251, 2.171224477227779, 1.4384155487910875, 1.0056306739505976, 1.226007015784154, 1.1947721860879081, 0.8899375292211145, 0.839924426495519, 1.0901696428204566, 0.7552524973496109, 0.8440052532035194, 0.7939110893200846, 1.0495476507090078, 0.7101130098060086, 0.882535812249838, 1.143413590435206, 0.7700576515911564, 0.9572428943344068, 0.876359302867992, 0.9855104216564416, 0.6687707850070509, 0.739665228874248, 0.766771383454132, 0.867587853468352, 0.8903599826860705, 0.87546197146188, 0.6359966276580945, 0.7117828998353882, 0.7998322881474081, 1.0187929080668907, 2.974114233867442, 1.8137802926863917, 1.3515197260996346, 9.40444676118606, 6.9219723026838205, 6.079402413669534, 1.5260279547163607, 4.303586389890296, 1.6979493360233475, 1.1859624852400743, 3.7184927638008785, 1.6200530551140522, 1.178220245165082, 3.9866061453118675, 1.2457686256982827, 1.1614403689520065, 1.3708353936099342, 1.6463765512486912, 1.446254908945496, 2.9843931732781446, 2.5005781195009633, 1.6336271418195598, 1.307700609084134, 1.2281345016963494, 1.425204716781221, 1.3160759436214757], \"Total\": [20.0, 15.0, 13.0, 16.0, 18.0, 10.0, 10.0, 14.0, 5.0, 205.0, 4.0, 3.0, 15.0, 5.0, 4.0, 170.0, 8.0, 3.0, 163.0, 3.0, 3.0, 3.0, 3.0, 8.0, 5.0, 4.0, 151.0, 3.0, 8.0, 12.0, 205.3291025192072, 170.6832608347954, 163.69958097688126, 151.52850059844005, 139.79995600646885, 115.42145477145829, 125.15050968359286, 111.79153023997331, 128.71571260241433, 114.31340358573718, 110.79880992364357, 115.66936366331188, 110.02797262715791, 161.35242121664453, 127.50657248566434, 103.83266987930246, 111.11981787828553, 137.70708955200973, 106.85806459747387, 105.54610818677227, 119.42453734939272, 103.60718950194705, 98.55292642370719, 87.00816081676422, 93.64976431172077, 92.33985984669906, 211.8370583354909, 87.7426956539428, 84.74171425072515, 98.40963266633209, 116.97444520570232, 100.08064176196612, 106.25995630235991, 101.40397046772267, 95.7557116754193, 4.1979073772397575, 3.8960472151581893, 2.147817836410584, 3.1374202206578023, 2.1058373073909586, 1.4784647266307567, 1.80292774378432, 1.8156022869415192, 1.3937236041839274, 1.3191213786251024, 1.7170897702861763, 1.2057912465383462, 1.3555710190716046, 1.2770798650379867, 1.695673624756989, 1.1520575046468255, 1.4427168954734246, 1.8756026393048568, 1.265968457815005, 1.58703477764915, 1.4587625525118715, 1.6534059806598593, 1.123390368463026, 1.2443467849458252, 1.292166971995535, 1.4649219281976302, 1.5033931809230967, 1.4789018362839959, 1.0755022194404098, 1.2126152422298264, 1.3655566177096004, 1.7548861625250152, 5.398873320427143, 3.2353678610976875, 2.3843549777216273, 20.340472658396738, 15.326229669905832, 13.414013184690122, 2.8381538884309583, 10.080997641665672, 3.3027523793318863, 2.2214090740698005, 10.976897523073362, 3.527522741516022, 2.280880289905822, 16.463802081591915, 2.593619696868632, 2.3236041278031463, 3.2458186483565945, 4.951306556515222, 3.777842208946155, 18.986253026600977, 14.731922640961663, 5.902313805669436, 3.3337384195127937, 3.2329777286718544, 15.148896806995772, 34.604493883171756], \"Category\": [\"Default\", \"Default\", \"Default\", \"Default\", \"Default\", \"Default\", \"Default\", \"Default\", \"Default\", \"Default\", \"Default\", \"Default\", \"Default\", \"Default\", \"Default\", \"Default\", \"Default\", \"Default\", \"Default\", \"Default\", \"Default\", \"Default\", \"Default\", \"Default\", \"Default\", \"Default\", \"Default\", \"Default\", \"Default\", \"Default\", \"Topic1\", \"Topic1\", \"Topic1\", \"Topic1\", \"Topic1\", \"Topic1\", \"Topic1\", \"Topic1\", \"Topic1\", \"Topic1\", \"Topic1\", \"Topic1\", \"Topic1\", \"Topic1\", \"Topic1\", \"Topic1\", \"Topic1\", \"Topic1\", \"Topic1\", \"Topic1\", \"Topic1\", \"Topic1\", \"Topic1\", \"Topic1\", \"Topic1\", \"Topic1\", \"Topic1\", \"Topic1\", \"Topic1\", \"Topic1\", \"Topic1\", \"Topic1\", \"Topic1\", \"Topic1\", \"Topic1\", \"Topic2\", \"Topic2\", \"Topic2\", \"Topic2\", \"Topic2\", \"Topic2\", \"Topic2\", \"Topic2\", \"Topic2\", \"Topic2\", \"Topic2\", \"Topic2\", \"Topic2\", \"Topic2\", \"Topic2\", \"Topic2\", \"Topic2\", \"Topic2\", \"Topic2\", \"Topic2\", \"Topic2\", \"Topic2\", \"Topic2\", \"Topic2\", \"Topic2\", \"Topic2\", \"Topic2\", \"Topic2\", \"Topic2\", \"Topic2\", \"Topic2\", \"Topic2\", \"Topic2\", \"Topic2\", \"Topic2\", \"Topic2\", \"Topic2\", \"Topic2\", \"Topic2\", \"Topic2\", \"Topic2\", \"Topic2\", \"Topic2\", \"Topic2\", \"Topic2\", \"Topic2\", \"Topic2\", \"Topic2\", \"Topic2\", \"Topic2\", \"Topic2\", \"Topic2\", \"Topic2\", \"Topic2\", \"Topic2\", \"Topic2\", \"Topic2\", \"Topic2\"], \"logprob\": [30.0, 29.0, 28.0, 27.0, 26.0, 25.0, 24.0, 23.0, 22.0, 21.0, 20.0, 19.0, 18.0, 17.0, 16.0, 15.0, 14.0, 13.0, 12.0, 11.0, 10.0, 9.0, 8.0, 7.0, 6.0, 5.0, 4.0, 3.0, 2.0, 1.0, -6.197, -6.3819, -6.424, -6.5014, -6.5822, -6.7739, -6.693, -6.806, -6.665, -6.7838, -6.815, -6.7721, -6.8221, -6.4393, -6.6747, -6.8801, -6.8123, -6.5978, -6.8515, -6.8638, -6.7403, -6.8825, -6.9325, -7.0572, -6.9837, -6.9978, -6.1675, -7.0491, -7.0839, -6.9343, -6.7619, -6.9175, -6.8585, -6.905, -6.9618, -7.926, -8.048, -8.8056, -8.4485, -8.8603, -9.2182, -9.02, -9.0458, -9.3404, -9.3982, -9.1375, -9.5045, -9.3934, -9.4546, -9.1754, -9.5661, -9.3488, -9.0898, -9.4851, -9.2675, -9.3558, -9.2384, -9.6261, -9.5254, -9.4894, -9.3658, -9.3399, -9.3568, -9.6764, -9.5638, -9.4472, -9.2052, -8.1339, -8.6284, -8.9226, -6.9826, -7.2891, -7.4189, -8.8011, -7.7643, -8.6944, -9.0532, -7.9105, -8.7413, -9.0598, -7.8409, -9.004, -9.0741, -8.9084, -8.7252, -8.8548, -8.1304, -8.3073, -8.733, -8.9555, -9.0183, -8.8695, -8.9491], \"loglift\": [30.0, 29.0, 28.0, 27.0, 26.0, 25.0, 24.0, 23.0, 22.0, 21.0, 20.0, 19.0, 18.0, 17.0, 16.0, 15.0, 14.0, 13.0, 12.0, 11.0, 10.0, 9.0, 8.0, 7.0, 6.0, 5.0, 4.0, 3.0, 2.0, 1.0, 0.0941, 0.0939, 0.0936, 0.0935, 0.0932, 0.0932, 0.0931, 0.0931, 0.093, 0.093, 0.0929, 0.0929, 0.0928, 0.0928, 0.0928, 0.0928, 0.0928, 0.0927, 0.0927, 0.0927, 0.0927, 0.0926, 0.0926, 0.0925, 0.0925, 0.0924, 0.0924, 0.0922, 0.0922, 0.0922, 0.0918, 0.0922, 0.0913, 0.0916, 0.0921, 2.255, 2.2077, 2.0457, 2.0238, 2.0107, 2.0065, 2.0062, 1.9734, 1.9433, 1.9405, 1.9376, 1.924, 1.9181, 1.9165, 1.9122, 1.908, 1.9004, 1.897, 1.8947, 1.8863, 1.8823, 1.8744, 1.8732, 1.8717, 1.87, 1.868, 1.868, 1.8676, 1.8665, 1.8591, 1.857, 1.8481, 1.7956, 1.8131, 1.8242, 1.6204, 1.597, 1.6005, 1.7714, 1.5407, 1.7265, 1.7643, 1.3094, 1.6137, 1.7313, 0.9736, 1.6586, 1.6984, 1.5299, 1.2908, 1.4317, 0.5416, 0.6184, 1.1073, 1.456, 1.424, 0.0283, -0.8775]}, \"token.table\": {\"Topic\": [1, 1, 2, 2, 1, 2, 1, 1, 2, 1, 2, 1, 2, 1, 2, 1, 2, 1, 2, 1, 2, 1, 2, 1, 2, 1, 2, 1, 1, 2, 1, 1, 2, 1, 2, 1, 2, 1, 2, 2, 1, 2, 1, 2, 1, 2, 1, 2, 1, 1, 2, 1, 2, 1, 1, 1, 2, 1, 2, 1, 1, 1, 2, 1, 1, 1, 2, 1, 1, 1, 1, 1, 2, 1, 2, 1, 2, 1, 1, 2, 1, 2, 2, 1, 2, 1, 1, 2, 1, 1, 2, 1, 1, 2, 1, 1, 2, 1, 2, 1, 2, 1, 1, 2, 1, 2, 1, 2, 2, 1, 2, 1, 2, 1, 2, 1, 2, 1, 2, 1, 1, 2, 1, 2, 1, 1, 1, 2, 1, 2, 2, 1, 2, 1, 2, 1, 1, 2, 1, 2, 1, 2, 1, 1, 1, 2, 1, 1, 2, 1, 1, 1, 2, 1, 1, 2], \"Freq\": [0.9997457680397993, 0.5546533983114675, 0.5546533983114675, 0.8901625188118327, 0.3187332042471303, 0.6374664084942606, 0.9929195866782197, 0.7175023778014681, 0.7175023778014681, 0.8246638877482215, 0.8246638877482215, 0.8548635510415796, 0.17097271020831592, 0.5219809550230468, 0.4567333356451659, 0.5897361292880358, 0.5897361292880358, 0.3855615382653575, 0.3855615382653575, 0.2566704007357358, 0.7700112022072074, 0.9239170452435818, 0.11548963065544772, 0.4748704928392387, 0.4748704928392387, 0.5951791889327956, 0.3967861259551971, 0.9942778522302838, 0.4303659078732361, 0.4303659078732361, 0.9983971949656946, 0.5331619710082216, 0.5331619710082216, 0.9972583828675688, 0.9297981742151178, 0.8859292774277103, 0.08053902522070093, 0.6161773705418291, 0.30808868527091454, 0.7830363843143475, 0.5698375321172694, 0.5698375321172694, 0.37044766218774067, 0.555671493281611, 0.677700327650797, 0.3388501638253985, 0.7288717357345502, 0.24295724524485007, 0.9927904467187503, 0.6055555398326834, 0.6055555398326834, 0.6931366806180308, 0.6931366806180308, 0.996319467592183, 0.9975535816933689, 0.5407937261211625, 0.44246759409913294, 0.5218423378314062, 0.44729343242691966, 0.9963485577937586, 0.9991942321657177, 0.803634494899697, 0.803634494899697, 0.9964451413518925, 0.997815829387702, 0.6855125244873339, 0.6855125244873339, 0.9960162263286204, 1.0013282610260703, 0.9960270872646876, 0.9915355272777121, 0.5507814168292079, 0.5507814168292079, 0.9241597047208605, 0.06601140748006147, 0.6826302349302342, 0.6826302349302342, 0.9999062063065394, 0.6301059145542384, 0.6301059145542384, 0.8614441406215877, 0.12306344866022682, 0.6763773135655929, 0.7376965027511978, 0.7376965027511978, 0.995726433918117, 0.6048121342835043, 0.6048121342835043, 0.9912473537114125, 0.6761774010049768, 0.6761774010049768, 0.9921079206430952, 0.953633366562485, 0.028897980804923788, 0.9989217235901451, 0.7738937936601705, 0.7738937936601705, 0.43842721795859363, 0.43842721795859363, 0.7323021155118888, 0.7323021155118888, 1.0016115363391123, 0.9958374738810276, 0.7580803527286343, 0.3090838640094306, 0.6181677280188612, 0.637702956166444, 0.364401689237968, 0.8293309500055309, 0.8427149884489035, 0.1580090603341694, 0.46558883302281906, 0.9311776660456381, 0.5669701222508521, 0.5669701222508521, 0.23821392663921237, 0.9528557065568495, 0.6059006780851455, 0.403933785390097, 0.994139504170841, 0.8145576305589852, 0.2036394076397463, 0.41940063847185666, 0.41940063847185666, 0.9959969077725981, 0.9930617624454667, 0.6651619900164714, 0.6651619900164714, 0.9105676692651372, 0.11382095865814215, 0.7899090959390469, 0.3523417120108448, 0.7046834240216896, 0.991669588994513, 0.8680122267911963, 0.9948652639866978, 0.7371291485857421, 0.24570971619524734, 0.6186247378888142, 0.3093123689444071, 0.5294027355784953, 0.26470136778924763, 0.9942131291976305, 0.9948258804028483, 0.996048574588091, 0.004720609358237399, 0.9987973705902327, 0.5999270933477403, 0.29996354667387015, 0.9943895484003183, 0.994439586372605, 0.5823807335555534, 0.5823807335555534, 0.9965122033389573, 0.4501647227756747, 0.4501647227756747], \"Term\": [\"000\", \"abv\", \"abv\", \"adenine\", \"allele\", \"allele\", \"area\", \"autov\", \"autov\", \"bacteriophage\", \"bacteriophage\", \"baroque\", \"baroque\", \"beer\", \"beer\", \"breathy\", \"breathy\", \"brew\", \"brew\", \"brewery\", \"brewery\", \"browser\", \"browser\", \"canis\", \"canis\", \"capacitor\", \"capacitor\", \"century\", \"chloroplast\", \"chloroplast\", \"city\", \"codon\", \"codon\", \"country\", \"crotalus\", \"database\", \"database\", \"dbms\", \"dbms\", \"defilement\", \"delusion\", \"delusion\", \"dielectric\", \"dielectric\", \"dish\", \"dish\", \"dna\", \"dna\", \"early\", \"eukaryote\", \"eukaryote\", \"familiaris\", \"familiaris\", \"force\", \"form\", \"gene\", \"gene\", \"genome\", \"genome\", \"government\", \"group\", \"haploid\", \"haploid\", \"high\", \"include\", \"intron\", \"intron\", \"know\", \"language\", \"large\", \"law\", \"malt\", \"malt\", \"mandolin\", \"mandolin\", \"methyl\", \"methyl\", \"million\", \"modifier\", \"modifier\", \"molecular\", \"molecular\", \"mrna\", \"murmur\", \"murmur\", \"new\", \"nid\", \"nid\", \"north\", \"nucleotide\", \"nucleotide\", \"number\", \"opioid\", \"opioid\", \"people\", \"phage\", \"phage\", \"phyla\", \"phyla\", \"polymerase\", \"polymerase\", \"population\", \"power\", \"preaspirated\", \"precept\", \"precept\", \"protein\", \"protein\", \"protostome\", \"pub\", \"pub\", \"q8h\", \"q8h\", \"repetitive\", \"repetitive\", \"rna\", \"rna\", \"rotor\", \"rotor\", \"school\", \"sequence\", \"sequence\", \"sperm\", \"sperm\", \"state\", \"states\", \"stew\", \"stew\", \"string\", \"string\", \"superscript\", \"symbiosis\", \"symbiosis\", \"system\", \"thymine\", \"time\", \"torque\", \"torque\", \"transcribe\", \"transcribe\", \"transcription\", \"transcription\", \"united\", \"university\", \"use\", \"use\", \"war\", \"winding\", \"winding\", \"work\", \"world\", \"wort\", \"wort\", \"year\", \"yeast\", \"yeast\"]}, \"R\": 30, \"lambda.step\": 0.01, \"plot.opts\": {\"xlab\": \"PC1\", \"ylab\": \"PC2\"}, \"topic.order\": [1, 2]};\n",
       "\n",
       "function LDAvis_load_lib(url, callback){\n",
       "  var s = document.createElement('script');\n",
       "  s.src = url;\n",
       "  s.async = true;\n",
       "  s.onreadystatechange = s.onload = callback;\n",
       "  s.onerror = function(){console.warn(\"failed to load library \" + url);};\n",
       "  document.getElementsByTagName(\"head\")[0].appendChild(s);\n",
       "}\n",
       "\n",
       "if(typeof(LDAvis) !== \"undefined\"){\n",
       "   // already loaded: just create the visualization\n",
       "   !function(LDAvis){\n",
       "       new LDAvis(\"#\" + \"ldavis_el2533771404591388310567371161655\", ldavis_el2533771404591388310567371161655_data);\n",
       "   }(LDAvis);\n",
       "}else if(typeof define === \"function\" && define.amd){\n",
       "   // require.js is available: use it to load d3/LDAvis\n",
       "   require.config({paths: {d3: \"https://d3js.org/d3.v5\"}});\n",
       "   require([\"d3\"], function(d3){\n",
       "      window.d3 = d3;\n",
       "      LDAvis_load_lib(\"https://cdn.jsdelivr.net/gh/bmabey/pyLDAvis@3.3.1/pyLDAvis/js/ldavis.v3.0.0.js\", function(){\n",
       "        new LDAvis(\"#\" + \"ldavis_el2533771404591388310567371161655\", ldavis_el2533771404591388310567371161655_data);\n",
       "      });\n",
       "    });\n",
       "}else{\n",
       "    // require.js not available: dynamically load d3 & LDAvis\n",
       "    LDAvis_load_lib(\"https://d3js.org/d3.v5.js\", function(){\n",
       "         LDAvis_load_lib(\"https://cdn.jsdelivr.net/gh/bmabey/pyLDAvis@3.3.1/pyLDAvis/js/ldavis.v3.0.0.js\", function(){\n",
       "                 new LDAvis(\"#\" + \"ldavis_el2533771404591388310567371161655\", ldavis_el2533771404591388310567371161655_data);\n",
       "            })\n",
       "         });\n",
       "}\n",
       "</script>"
      ],
      "text/plain": [
       "PreparedData(topic_coordinates=               x           y  topics  cluster      Freq\n",
       "topic                                                  \n",
       "0     -60.312317  141.369629       1        1  90.85417\n",
       "1      60.312561 -141.369141       2        1   9.14583, topic_info=             Term       Freq      Total Category  logprob  loglift\n",
       "13241        gene  20.000000  20.000000  Default  30.0000  30.0000\n",
       "4646         beer  15.000000  15.000000  Default  29.0000  29.0000\n",
       "13292      genome  13.000000  13.000000  Default  28.0000  28.0000\n",
       "10086         dna  16.000000  16.000000  Default  27.0000  27.0000\n",
       "24634         pub  18.000000  18.000000  Default  26.0000  26.0000\n",
       "...           ...        ...        ...      ...      ...      ...\n",
       "9887         dish   1.633627   5.902314   Topic2  -8.7330   1.1073\n",
       "32994     winding   1.307701   3.333738   Topic2  -8.9555   1.4560\n",
       "30819  transcribe   1.228135   3.232978   Topic2  -9.0183   1.4240\n",
       "18947    mandolin   1.425205  15.148897   Topic2  -8.8695   0.0283\n",
       "21978      opioid   1.316076  34.604494   Topic2  -8.9491  -0.8775\n",
       "\n",
       "[123 rows x 6 columns], token_table=       Topic      Freq     Term\n",
       "term                           \n",
       "0          1  0.999746      000\n",
       "1972       1  0.554653      abv\n",
       "1972       2  0.554653      abv\n",
       "2168       2  0.890163  adenine\n",
       "2680       1  0.318733   allele\n",
       "...      ...       ...      ...\n",
       "33144      1  0.582381     wort\n",
       "33144      2  0.582381     wort\n",
       "33332      1  0.996512     year\n",
       "33337      1  0.450165    yeast\n",
       "33337      2  0.450165    yeast\n",
       "\n",
       "[156 rows x 3 columns], R=30, lambda_step=0.01, plot_opts={'xlab': 'PC1', 'ylab': 'PC2'}, topic_order=[1, 2])"
      ]
     },
     "execution_count": 50,
     "metadata": {},
     "output_type": "execute_result"
    }
   ],
   "source": [
    "# # plot topic clusters\n",
    "\n",
    "# # kmeans\n",
    "# cluster_size = 0\n",
    "# kmeans_topic_clustering(model, vectors, n_clusters=n_components, cluster_size=cluster_size)\n",
    "\n",
    "# pyldavis\n",
    "pyLDAvis.enable_notebook()\n",
    "panel = pyLDAvis.sklearn.prepare(model, vectors, vectorizer, mds='tsne')\n",
    "panel"
   ]
  },
  {
   "cell_type": "code",
   "execution_count": null,
   "id": "9f50fa90",
   "metadata": {},
   "outputs": [],
   "source": []
  }
 ],
 "metadata": {
  "kernelspec": {
   "display_name": "Python 3",
   "language": "python",
   "name": "python3"
  },
  "language_info": {
   "codemirror_mode": {
    "name": "ipython",
    "version": 3
   },
   "file_extension": ".py",
   "mimetype": "text/x-python",
   "name": "python",
   "nbconvert_exporter": "python",
   "pygments_lexer": "ipython3",
   "version": "3.7.10"
  },
  "toc": {
   "base_numbering": 1,
   "nav_menu": {},
   "number_sections": true,
   "sideBar": true,
   "skip_h1_title": false,
   "title_cell": "Table of Contents",
   "title_sidebar": "Contents",
   "toc_cell": false,
   "toc_position": {},
   "toc_section_display": true,
   "toc_window_display": false
  }
 },
 "nbformat": 4,
 "nbformat_minor": 5
}
