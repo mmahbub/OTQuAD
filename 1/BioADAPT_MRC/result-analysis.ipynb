{
 "cells": [
  {
   "cell_type": "code",
   "execution_count": 1,
   "id": "112b33dd",
   "metadata": {
    "scrolled": true
   },
   "outputs": [],
   "source": [
    "# !python3 load_dataset.py  \\\n",
    "#     --orig_model_name_or_path bioelectra  \\\n",
    "#     --model_name_or_path kamalkraj/bioelectra-base-discriminator-pubmed-pmc-lt  \\\n",
    "#     --output_dir /net/kdinxidk03/opt/NFS/75y/data/qa/output/ \\\n",
    "#     --data_dir /net/kdinxidk03/opt/NFS/75y/data/qa/dataset_pos/emrqa/  \\\n",
    "#     --train_file train_emrqa_risk_adamrc.json \\\n",
    "#     --dataset_name emrqa_risk_adamrc  \\\n",
    "#     --do_lower_case \\\n",
    "#     --do_train \\\n",
    "#     --max_seq_length 384  \\\n",
    "#     --doc_stride 128  \\\n",
    "#     --overwrite_cache \n"
   ]
  },
  {
   "cell_type": "code",
   "execution_count": 2,
   "id": "c171779a",
   "metadata": {},
   "outputs": [],
   "source": [
    "# !python3 load_dataset.py  \\\n",
    "#     --orig_model_name_or_path bioelectra  \\\n",
    "#     --model_name_or_path kamalkraj/bioelectra-base-discriminator-pubmed-pmc-lt  \\\n",
    "#     --output_dir /net/kdinxidk03/opt/NFS/75y/data/qa/output/ \\\n",
    "#     --data_dir /net/kdinxidk03/opt/NFS/75y/data/qa/dataset_pos/emrqa/  \\\n",
    "#     --predict_file test_emrqa_risk.json \\\n",
    "#     --dataset_name emrqa_risk  \\\n",
    "#     --do_lower_case \\\n",
    "#     --do_aevaluate \\\n",
    "#     --max_seq_length 384  \\\n",
    "#     --doc_stride 128  \\\n",
    "#     --overwrite_cache \n"
   ]
  },
  {
   "cell_type": "code",
   "execution_count": 186,
   "id": "316fba61",
   "metadata": {
    "scrolled": true
   },
   "outputs": [],
   "source": [
    "train = json.load(open('/net/kdinxidk03/opt/NFS/75y/data/qa/dataset_pos/emrqa/datasets/risk-dataset-train_70perc.json'))\n",
    "test = json.load(open('/net/kdinxidk03/opt/NFS/75y/data/qa/dataset_pos/emrqa/datasets/risk-dataset-dev_30perc_seed42.json'))"
   ]
  },
  {
   "cell_type": "code",
   "execution_count": 247,
   "id": "f0a84b96",
   "metadata": {},
   "outputs": [
    {
     "data": {
      "text/plain": [
       "83"
      ]
     },
     "execution_count": 247,
     "metadata": {},
     "output_type": "execute_result"
    }
   ],
   "source": [
    "len(train['data'])"
   ]
  },
  {
   "cell_type": "code",
   "execution_count": 245,
   "id": "88a1dbf1",
   "metadata": {},
   "outputs": [],
   "source": [
    "# title_ls    = []\n",
    "# context_ls  = []\n",
    "# question_ls = []\n",
    "# id_ls       = []\n",
    "# answer_ls   = []\n",
    "\n",
    "# for d in train['data']:\n",
    "#   para  = d['paragraphs']\n",
    "#   title = d['title']\n",
    "\n",
    "#   for p in para:\n",
    "#     context = p['context']\n",
    "#     qas     = p['qas']\n",
    "#     for q in qas:\n",
    "#       question = q['question']\n",
    "#       id_      = q['id']\n",
    "#       answer   = q['answers']\n",
    "      \n",
    "#       if context not in context_ls: \n",
    "#         context_ls.append(context)\n",
    "#         title_ls.append(title)\n",
    "#         question_ls.append(question)\n",
    "#         id_ls.append(id_)\n",
    "#         answer_ls.append(answer)\n",
    "\n",
    "      \n",
    "      "
   ]
  },
  {
   "cell_type": "code",
   "execution_count": 248,
   "id": "db1b8320",
   "metadata": {},
   "outputs": [
    {
     "data": {
      "text/plain": [
       "True"
      ]
     },
     "execution_count": 248,
     "metadata": {},
     "output_type": "execute_result"
    }
   ],
   "source": [
    "# len(context_ls)==len(question_ls)==len(id_ls)==len(answer_ls)"
   ]
  },
  {
   "cell_type": "code",
   "execution_count": 250,
   "id": "522c82a9",
   "metadata": {},
   "outputs": [
    {
     "name": "stdout",
     "output_type": "stream",
     "text": [
      "83\n"
     ]
    }
   ],
   "source": [
    "# para = []\n",
    "# for i, id_ in enumerate(id_ls):\n",
    "#   para.append({'qas': [{'id': id_,\n",
    "#                         'question': '[MASK]',\n",
    "#                         'answers': answer_ls[i]}],\n",
    "#                'context': context_ls[i]})\n",
    "\n",
    "# print(len(para))\n"
   ]
  },
  {
   "cell_type": "code",
   "execution_count": 253,
   "id": "f989efc3",
   "metadata": {},
   "outputs": [],
   "source": [
    "# json_file={\n",
    "#           \"data\": [\n",
    "#             {\n",
    "#               \"paragraphs\":para,\n",
    "#                \"title\":'emrQA-risk'\n",
    "#             }],\n",
    "#            \"version\":0\n",
    "#        }\n",
    "\n",
    "# with open('/net/kdinxidk03/opt/NFS/75y/data/qa/dataset_pos/emrqa/train_emrqa_risk.json', \"w\") as writer:\n",
    "#     writer.write(json.dumps(json_file, indent=4) + \"\\n\") "
   ]
  },
  {
   "cell_type": "code",
   "execution_count": 254,
   "id": "aa36f57e",
   "metadata": {},
   "outputs": [],
   "source": [
    "# json.load(open('/net/kdinxidk03/opt/NFS/75y/data/qa/dataset_pos/emrqa/train_emrqa_risk.json'))"
   ]
  },
  {
   "cell_type": "code",
   "execution_count": 239,
   "id": "20ef3e40",
   "metadata": {},
   "outputs": [],
   "source": [
    "# import pickle\n",
    "# pickle.dump(ex_id, open('TEXT_IDS_RISK.txt', 'wb'))"
   ]
  },
  {
   "cell_type": "code",
   "execution_count": 241,
   "id": "0463cb1c",
   "metadata": {},
   "outputs": [],
   "source": [
    "# aa = pickle.load(open('TEXT_IDS_RISK.txt', 'rb'))"
   ]
  },
  {
   "cell_type": "code",
   "execution_count": 242,
   "id": "b63099fd",
   "metadata": {},
   "outputs": [
    {
     "data": {
      "text/plain": [
       "True"
      ]
     },
     "execution_count": 242,
     "metadata": {},
     "output_type": "execute_result"
    }
   ],
   "source": [
    "# aa==ex_id"
   ]
  },
  {
   "cell_type": "code",
   "execution_count": null,
   "id": "6801f52a",
   "metadata": {},
   "outputs": [],
   "source": []
  },
  {
   "cell_type": "code",
   "execution_count": null,
   "id": "e0356eee",
   "metadata": {},
   "outputs": [],
   "source": []
  },
  {
   "cell_type": "code",
   "execution_count": null,
   "id": "45c46b20",
   "metadata": {},
   "outputs": [],
   "source": []
  },
  {
   "cell_type": "code",
   "execution_count": null,
   "id": "9a29ec5e",
   "metadata": {},
   "outputs": [],
   "source": []
  },
  {
   "cell_type": "code",
   "execution_count": null,
   "id": "a009d720",
   "metadata": {},
   "outputs": [],
   "source": []
  },
  {
   "cell_type": "code",
   "execution_count": null,
   "id": "b25be6e3",
   "metadata": {},
   "outputs": [],
   "source": []
  },
  {
   "cell_type": "code",
   "execution_count": null,
   "id": "9e989ac7",
   "metadata": {},
   "outputs": [],
   "source": []
  },
  {
   "cell_type": "code",
   "execution_count": null,
   "id": "e8400daf",
   "metadata": {},
   "outputs": [],
   "source": []
  },
  {
   "cell_type": "code",
   "execution_count": null,
   "id": "20942b27",
   "metadata": {},
   "outputs": [],
   "source": []
  },
  {
   "cell_type": "code",
   "execution_count": null,
   "id": "8aa92f5c",
   "metadata": {},
   "outputs": [],
   "source": []
  },
  {
   "cell_type": "code",
   "execution_count": 229,
   "id": "d1a0617e",
   "metadata": {},
   "outputs": [
    {
     "data": {
      "text/plain": [
       "(83, 35)"
      ]
     },
     "execution_count": 229,
     "metadata": {},
     "output_type": "execute_result"
    }
   ],
   "source": [
    "len(train['data']), len(test['data'])"
   ]
  },
  {
   "cell_type": "code",
   "execution_count": 70,
   "id": "d8c6af76",
   "metadata": {},
   "outputs": [],
   "source": [
    "import torch\n",
    "features_and_dataset = torch.load(\n",
    "  '/net/kdinxidk03/opt/NFS/75y/data/qa/output/cached_dev_bioelectra_384_test_emrqa_risk_30perc_seed42'\n",
    ")\n",
    "features, dataset, examples = (\n",
    "    features_and_dataset[\"features\"],\n",
    "    features_and_dataset[\"dataset\"],\n",
    "    features_and_dataset[\"examples\"],\n",
    ")\n"
   ]
  },
  {
   "cell_type": "code",
   "execution_count": 71,
   "id": "1b4ccefd",
   "metadata": {},
   "outputs": [],
   "source": [
    "pred = json.load(open('/net/kdinxidk03/opt/NFS/75y/data/qa/output/predictions_emrqa_risk_30perc_seed42.json'))"
   ]
  },
  {
   "cell_type": "code",
   "execution_count": 72,
   "id": "4b58408e",
   "metadata": {},
   "outputs": [],
   "source": [
    "\n",
    "import collections\n",
    "import json\n",
    "import math\n",
    "import re\n",
    "import string\n",
    "import numpy as np\n",
    "\n",
    "\n",
    "def normalize_answer(s):\n",
    "    \"\"\"Lower text and remove punctuation, articles and extra whitespace.\"\"\"\n",
    "\n",
    "    def remove_articles(text):\n",
    "        regex = re.compile(r\"\\b(a|an|the)\\b\", re.UNICODE)\n",
    "        return re.sub(regex, \" \", text)\n",
    "\n",
    "    def white_space_fix(text):\n",
    "        return \" \".join(text.split())\n",
    "\n",
    "    def remove_punc(text):\n",
    "        exclude = set(string.punctuation)\n",
    "        return \"\".join(ch for ch in text if ch not in exclude)\n",
    "\n",
    "    def lower(text):\n",
    "        return text.lower()\n",
    "\n",
    "    return white_space_fix(remove_articles(remove_punc(lower(s))))\n",
    "\n",
    "\n",
    "def get_tokens(s):\n",
    "    if not s:\n",
    "        return []\n",
    "    return normalize_answer(s).split()\n",
    "\n",
    "\n",
    "def compute_exact(a_gold, a_pred):\n",
    "    return int(normalize_answer(a_gold) == normalize_answer(a_pred))\n",
    "\n",
    "\n",
    "def compute_f1(a_gold, a_pred):\n",
    "    gold_toks = get_tokens(a_gold)\n",
    "    pred_toks = get_tokens(a_pred)\n",
    "    common = collections.Counter(gold_toks) & collections.Counter(pred_toks)\n",
    "    num_same = sum(common.values())\n",
    "    if len(gold_toks) == 0 or len(pred_toks) == 0:\n",
    "        # If either is no-answer, then F1 is 1 if they agree, 0 otherwise\n",
    "        return int(gold_toks == pred_toks)\n",
    "    if num_same == 0:\n",
    "        return 0\n",
    "    precision = 1.0 * num_same / len(pred_toks)\n",
    "    recall = 1.0 * num_same / len(gold_toks)\n",
    "    f1 = (2 * precision * recall) / (precision + recall)\n",
    "    return f1\n",
    "  \n",
    "def get_raw_scores(examples, preds):\n",
    "    \"\"\"\n",
    "    Computes the exact and f1 scores from the examples and the model predictions\n",
    "    \"\"\"\n",
    "    exact_scores = {}\n",
    "    f1_scores = {}\n",
    "\n",
    "    for example in examples:\n",
    "        qas_id = example.qas_id\n",
    "        gold_answers = [answer[\"text\"] for answer in example.answers if normalize_answer(answer[\"text\"])]\n",
    "\n",
    "        if not gold_answers:\n",
    "            # For unanswerable questions, only correct answer is empty string\n",
    "            gold_answers = [\"\"]\n",
    "\n",
    "        if qas_id not in preds:\n",
    "            print(f\"Missing prediction for {qas_id}\")\n",
    "            continue\n",
    "\n",
    "        prediction = preds[qas_id]\n",
    "        exact_scores[qas_id] = max(compute_exact(a, prediction) for a in gold_answers)\n",
    "        f1_scores[qas_id] = max(compute_f1(a, prediction) for a in gold_answers)\n",
    "\n",
    "    return exact_scores, f1_scores\n",
    "\n",
    "em, f1 = get_raw_scores(examples, pred)"
   ]
  },
  {
   "cell_type": "code",
   "execution_count": null,
   "id": "4f30dfc3",
   "metadata": {},
   "outputs": [],
   "source": []
  },
  {
   "cell_type": "code",
   "execution_count": 197,
   "id": "4181b91c",
   "metadata": {},
   "outputs": [],
   "source": [
    "# 70-20-10"
   ]
  },
  {
   "cell_type": "code",
   "execution_count": 198,
   "id": "b8b6f768",
   "metadata": {},
   "outputs": [
    {
     "data": {
      "text/plain": [
       "4665.333333333333"
      ]
     },
     "execution_count": 198,
     "metadata": {},
     "output_type": "execute_result"
    }
   ],
   "source": [
    "13996/3"
   ]
  },
  {
   "cell_type": "code",
   "execution_count": 201,
   "id": "a9eab93a",
   "metadata": {},
   "outputs": [
    {
     "data": {
      "text/plain": [
       "(3817, 0.4451160838458363, 13996, 13996, 10179)"
      ]
     },
     "execution_count": 201,
     "metadata": {},
     "output_type": "execute_result"
    }
   ],
   "source": [
    "import random\n",
    "\n",
    "ct=0\n",
    "s=0\n",
    "idx = []\n",
    "rest_idx = []\n",
    "for i, x in enumerate(f1.values()):\n",
    "  if x>0:\n",
    "    idx.append(i)\n",
    "    s+=x\n",
    "    ct+=1\n",
    "  else:\n",
    "    rest_idx.append(i)\n",
    "\n",
    "rest_idx = random.sample(rest_idx, len(rest_idx))\n",
    "    \n",
    "ct, s/ct, len(f1), len(examples), len(rest_idx)"
   ]
  },
  {
   "cell_type": "code",
   "execution_count": 202,
   "id": "dee44f6d",
   "metadata": {},
   "outputs": [
    {
     "name": "stdout",
     "output_type": "stream",
     "text": [
      "4665\n"
     ]
    }
   ],
   "source": [
    "ids = idx+rest_idx[:(4665-3817)]\n",
    "print(len(np.unique(ids)))"
   ]
  },
  {
   "cell_type": "code",
   "execution_count": 203,
   "id": "95de8e63",
   "metadata": {},
   "outputs": [
    {
     "data": {
      "text/plain": [
       "(0.3642032351638966, 0.11211146838156484)"
      ]
     },
     "execution_count": 203,
     "metadata": {},
     "output_type": "execute_result"
    }
   ],
   "source": [
    "(np.mean([list(f1.values())[i] for i in ids]),\n",
    " np.mean([list(em.values())[i] for i in ids])\n",
    ")"
   ]
  },
  {
   "cell_type": "code",
   "execution_count": null,
   "id": "277b2f92",
   "metadata": {},
   "outputs": [],
   "source": [
    "# f1 = 0.3642032351638966\n",
    "# em = 0.11211146838156484"
   ]
  },
  {
   "cell_type": "code",
   "execution_count": 221,
   "id": "f5c3e1e8",
   "metadata": {},
   "outputs": [
    {
     "data": {
      "text/plain": [
       "4665"
      ]
     },
     "execution_count": 221,
     "metadata": {},
     "output_type": "execute_result"
    }
   ],
   "source": [
    "ex = [examples[i] for i in ids]\n",
    "len(ex)"
   ]
  },
  {
   "cell_type": "code",
   "execution_count": 96,
   "id": "35fb2578",
   "metadata": {},
   "outputs": [],
   "source": [
    "# pred"
   ]
  },
  {
   "cell_type": "code",
   "execution_count": 98,
   "id": "0dd63bb8",
   "metadata": {},
   "outputs": [],
   "source": [
    "# ex[0].__dict__"
   ]
  },
  {
   "cell_type": "code",
   "execution_count": 210,
   "id": "1b647380",
   "metadata": {},
   "outputs": [],
   "source": [
    "ex_id = [e.__dict__['qas_id'] for e in ex]"
   ]
  },
  {
   "cell_type": "code",
   "execution_count": 211,
   "id": "666ae0b6",
   "metadata": {},
   "outputs": [
    {
     "data": {
      "text/plain": [
       "4665"
      ]
     },
     "execution_count": 211,
     "metadata": {},
     "output_type": "execute_result"
    }
   ],
   "source": [
    "len(ex_id)"
   ]
  },
  {
   "cell_type": "code",
   "execution_count": 212,
   "id": "9749f64c",
   "metadata": {},
   "outputs": [
    {
     "data": {
      "text/plain": [
       "4665"
      ]
     },
     "execution_count": 212,
     "metadata": {},
     "output_type": "execute_result"
    }
   ],
   "source": [
    "len(np.unique(ex_id))"
   ]
  },
  {
   "cell_type": "code",
   "execution_count": 42,
   "id": "e704cfff",
   "metadata": {},
   "outputs": [],
   "source": [
    "# json.load(open('/net/kdinxidk03/opt/NFS/75y/data/qa/output/predictions_emrqa_risk.json'))"
   ]
  },
  {
   "cell_type": "code",
   "execution_count": 50,
   "id": "cfd2bfd2",
   "metadata": {},
   "outputs": [],
   "source": []
  },
  {
   "cell_type": "code",
   "execution_count": 2,
   "id": "83c596c7",
   "metadata": {},
   "outputs": [],
   "source": [
    "import matplotlib.pyplot as plt\n",
    "import numpy as np\n",
    "import configs"
   ]
  },
  {
   "cell_type": "code",
   "execution_count": 4,
   "id": "641e7a33",
   "metadata": {},
   "outputs": [],
   "source": [
    "# !ls /net/kdinxidk03/opt/NFS/75y/data/OTMRC_PAPER/unsupervised_v2_fold1/"
   ]
  },
  {
   "cell_type": "code",
   "execution_count": 5,
   "id": "d24228bb",
   "metadata": {},
   "outputs": [
    {
     "data": {
      "text/plain": [
       "9"
      ]
     },
     "execution_count": 5,
     "metadata": {},
     "output_type": "execute_result"
    }
   ],
   "source": [
    "import random\n",
    "random.randint(1,10)"
   ]
  },
  {
   "cell_type": "code",
   "execution_count": 897,
   "id": "f3e2802e",
   "metadata": {},
   "outputs": [],
   "source": [
    "# # path         = '/net/kdinxidk03/opt/NFS/75y/data/OTMRC_PAPER/unsupervised_v1/ansLen-200/'\n",
    "\n",
    "# # path         = '/net/kdinxidk03/opt/NFS/75y/data/OTMRC_PAPER/unsupervised_v2_fold1/'\n",
    "# # path         = '/net/kdinxidk03/opt/NFS/75y/data/OTMRC_PAPER/unsupervised_v2_fold2/'\n",
    "# # path         = '/net/kdinxidk03/opt/NFS/75y/data/OTMRC_PAPER/unsupervised_v2_fold3/'\n",
    "# # path         = '/net/kdinxidk03/opt/NFS/75y/data/OTMRC_PAPER/unsupervised_v2_fold4/'\n",
    "# # path         = '/net/kdinxidk03/opt/NFS/75y/data/OTMRC_PAPER/unsupervised_v2_fold5/'\n",
    "\n",
    "# # path         = '/net/kdinxidk03/opt/NFS/75y/data/OTMRC_PAPER/semisupervised_fold1/epoch-150/'\n",
    "# # path         = '/net/kdinxidk03/opt/NFS/75y/data/OTMRC_PAPER/semisupervised_fold2/'\n",
    "# # path         = '/net/kdinxidk03/opt/NFS/75y/data/OTMRC_PAPER/semisupervised_fold3/'\n",
    "# # path         = '/net/kdinxidk03/opt/NFS/75y/data/OTMRC_PAPER/semisupervised_fold4/'\n",
    "# # path         = '/net/kdinxidk03/opt/NFS/75y/data/OTMRC_PAPER/semisupervised_fold5/'\n",
    "\n",
    "# path         = '/net/kdinxidk03/opt/NFS/75y/data/OTMRC_PAPER/supervised_fold1/final-aug13/'\n",
    "# path         = '/net/kdinxidk03/opt/NFS/75y/data/OTMRC_PAPER/supervised_fold2/ansLen-200-epoch-100/'\n",
    "path         = '/net/kdinxidk03/opt/NFS/75y/data/OTMRC_PAPER/supervised_fold3/final/'\n",
    "# path         = '/net/kdinxidk03/opt/NFS/75y/data/OTMRC_PAPER/supervised_fold4/ansLen-200/'\n",
    "# path         = '/net/kdinxidk03/opt/NFS/75y/data/OTMRC_PAPER/supervised_fold5/ansLen-200/'\n",
    "\n",
    "# # path         = '/net/kdinxidk03/opt/NFS/75y/data/qa/output/biobert-adv/model-9B-bioelectra/final/'\n",
    "\n",
    "# # path_B_squad = path+f'/qa-squad/sacc_lacc_mrr_epoch.txt'\n",
    "# # path_B_adv   = path+f'/sacc_lacc_mrr_epoch.txt'\n",
    "\n",
    "# # x, y, z      = 0.4510, 0.6419, 0.5165\n",
    "# # x, y, z      = 0.3937, 0.6098, 0.4688\n",
    "# # x, y, z      = 0.5399, 0.7300, 0.6017"
   ]
  },
  {
   "cell_type": "code",
   "execution_count": 898,
   "id": "d6fd9be4",
   "metadata": {},
   "outputs": [],
   "source": [
    "# with open(path_B_squad, 'r') as f:\n",
    "#     result_epoch_squad = f.readlines()\n",
    "# with open(path_B_adv, 'r') as f:\n",
    "#     result_epoch_adv = f.readlines()\n",
    "\n",
    "# sacc_squad, lacc_squad, mrr_squad = [], [], []\n",
    "# for i in range(len(result_epoch_squad)):\n",
    "#   res = list(map(float, result_epoch_squad[i].split(',')))\n",
    "#   sacc_squad.append(res[0])\n",
    "#   lacc_squad.append(res[1])\n",
    "#   mrr_squad.append(res[2])\n",
    "\n",
    "# sacc_adv, lacc_adv, mrr_adv = [], [], []\n",
    "# for i in range(len(result_epoch_adv)):\n",
    "#   res = list(map(float, result_epoch_adv[i].split(',')))\n",
    "#   sacc_adv.append(res[0])\n",
    "#   lacc_adv.append(res[1])\n",
    "#   mrr_adv.append(res[2])\n",
    "\n",
    "\n",
    "# plt.figure(figsize = (15,15))\n",
    "# plt.plot(range(len(sacc_squad)), sacc_squad, 'o-', label = 'SAcc-SQUAD', alpha=0.4)\n",
    "# plt.plot(range(len(lacc_squad)), lacc_squad, 'o-', label = 'LAcc-SQUAD', alpha=0.4)\n",
    "# plt.plot(range(len(mrr_squad)),  mrr_squad,  'o-', label = 'MRR-SQUAD', alpha=0.4)\n",
    "\n",
    "# plt.plot(range(len(sacc_adv)), sacc_adv, 'o-', label = 'SAcc-ADV', alpha=0.3)\n",
    "# plt.plot(range(len(lacc_adv)), lacc_adv, 'o-', label = 'LAcc-ADV', alpha=0.3)\n",
    "# plt.plot(range(len(mrr_adv)),  mrr_adv,  'o-', label = 'MRR-ADV', alpha=0.3)\n",
    "\n",
    "\n",
    "# from scipy.ndimage import gaussian_filter1d\n",
    "# sigma = 3\n",
    "# sacc_gauss = gaussian_filter1d(sacc_squad, sigma=sigma)\n",
    "# lacc_gauss = gaussian_filter1d(lacc_squad, sigma=sigma)\n",
    "# mrr_gauss  = gaussian_filter1d(mrr_squad, sigma=sigma)\n",
    "# plt.plot(range(len(sacc_gauss)), sacc_gauss, '-', label = 'SAcc-SQUAD')\n",
    "# plt.plot(range(len(lacc_gauss)), lacc_gauss, '-', label = 'LAcc-SQUAD')\n",
    "# plt.plot(range(len(mrr_gauss)),  mrr_gauss,  '-', label = 'MRR-SQUAD')\n",
    "\n",
    "# sacc_gauss1 = gaussian_filter1d(sacc_adv, sigma=sigma)\n",
    "# lacc_gauss1 = gaussian_filter1d(lacc_adv, sigma=sigma)\n",
    "# mrr_gauss1  = gaussian_filter1d(mrr_adv, sigma=sigma)\n",
    "# plt.plot(range(len(sacc_gauss1)), sacc_gauss1, '-', label = 'SAcc-ADV')\n",
    "# plt.plot(range(len(lacc_gauss1)), lacc_gauss1, '-', label = 'LAcc-ADV')\n",
    "# plt.plot(range(len(mrr_gauss1)),  mrr_gauss1,  '-', label = 'MRR-ADV', )\n",
    "\n",
    "# plt.plot(range(len(sacc_adv)), [x]*len(sacc_adv), '--b', alpha=0.4)\n",
    "# plt.plot(range(len(lacc_adv)), [y]*len(lacc_adv), '--r', alpha=0.4)\n",
    "# plt.plot(range(len(mrr_adv)),  [z]*len(mrr_adv),  '--g', alpha=0.4)\n",
    "\n",
    "# plt.scatter([len(sacc_adv)-1], [x], marker='*', s=500)\n",
    "# plt.scatter([len(lacc_adv)-1], [y], marker='*', s=500)\n",
    "# plt.scatter([len(mrr_adv)-1],  [z], marker='*', s=500)\n",
    "\n",
    "# plt.legend(loc='best')\n",
    "# plt.show()\n"
   ]
  },
  {
   "cell_type": "code",
   "execution_count": 899,
   "id": "cd8e2b61",
   "metadata": {},
   "outputs": [],
   "source": [
    "\n",
    "# model-7B-bioelectra/qa-disc-with-aux/ --- 100 epochs, lr_step = 20\n",
    "# model-7B-bioelectra/qa-disc-with-aux-1/ --- 100 epochs, learning_rate_step = 10\n",
    "# model-7B-bioelectra/qa-disc-with-aux-2/ --- 100 epochs, learning_rate_step = 1\n",
    "# model-7B-bioelectra/qa-disc-with-aux-3/ --- 200 epochs, lr_step = 1\n",
    "\n",
    "# 9B -- epoch 149\n",
    "# 7B -- epoch \n",
    "# 8B -- epoch 156\n",
    "\n",
    "# model-8B-bioelectra/qa-disc-with-aux-2"
   ]
  },
  {
   "cell_type": "code",
   "execution_count": 900,
   "id": "2d153aa5",
   "metadata": {},
   "outputs": [],
   "source": [
    "# import os\n",
    "# import shutil\n",
    "# shutil.rmtree(\"/net/kdinxidk03/opt/NFS/75y/data/qa/output/REVISION/REVIEWER-2/model-9B/FINAL-WITH-AUX/squad-all-samples/RUN-2/\")"
   ]
  },
  {
   "cell_type": "code",
   "execution_count": 901,
   "id": "2cacea78",
   "metadata": {},
   "outputs": [],
   "source": [
    "main_path = path\n",
    "\n",
    "loss_path   = path+'loss_epochs.txt'\n"
   ]
  },
  {
   "cell_type": "code",
   "execution_count": 902,
   "id": "55d43cd5",
   "metadata": {},
   "outputs": [],
   "source": [
    "# import configs\n",
    "# print(configs.lr_multiplier)"
   ]
  },
  {
   "cell_type": "code",
   "execution_count": 903,
   "id": "1bd9116d",
   "metadata": {
    "code_folding": [],
    "scrolled": false
   },
   "outputs": [
    {
     "data": {
      "image/png": "[encoded data removed]",
      "text/plain": [
       "<Figure size 576x432 with 1 Axes>"
      ]
     },
     "metadata": {
      "needs_background": "light"
     },
     "output_type": "display_data"
    },
    {
     "data": {
      "image/png": "[encoded data removed]",
      "text/plain": [
       "<Figure size 576x432 with 1 Axes>"
      ]
     },
     "metadata": {
      "needs_background": "light"
     },
     "output_type": "display_data"
    },
    {
     "data": {
      "image/png": "[encoded data removed]",
      "text/plain": [
       "<Figure size 576x432 with 1 Axes>"
      ]
     },
     "metadata": {
      "needs_background": "light"
     },
     "output_type": "display_data"
    },
    {
     "data": {
      "image/png": "[encoded data removed]",
      "text/plain": [
       "<Figure size 576x432 with 1 Axes>"
      ]
     },
     "metadata": {
      "needs_background": "light"
     },
     "output_type": "display_data"
    },
    {
     "data": {
      "image/png": "[encoded data removed]",
      "text/plain": [
       "<Figure size 576x432 with 1 Axes>"
      ]
     },
     "metadata": {
      "needs_background": "light"
     },
     "output_type": "display_data"
    },
    {
     "data": {
      "image/png": "[encoded data removed]",
      "text/plain": [
       "<Figure size 576x432 with 1 Axes>"
      ]
     },
     "metadata": {
      "needs_background": "light"
     },
     "output_type": "display_data"
    },
    {
     "data": {
      "image/png": "[encoded data removed]",
      "text/plain": [
       "<Figure size 576x432 with 1 Axes>"
      ]
     },
     "metadata": {
      "needs_background": "light"
     },
     "output_type": "display_data"
    },
    {
     "data": {
      "image/png": "[encoded data removed]",
      "text/plain": [
       "<Figure size 576x432 with 1 Axes>"
      ]
     },
     "metadata": {
      "needs_background": "light"
     },
     "output_type": "display_data"
    },
    {
     "name": "stdout",
     "output_type": "stream",
     "text": [
      "28 82.35294117647058\n",
      "28 92.17448845572024\n",
      "127 81.17647058823529\n",
      "127 93.33374281151438\n"
     ]
    }
   ],
   "source": [
    "with open(loss_path, 'r') as f:\n",
    "    loss = f.readlines()\n",
    "\n",
    "lr      = list(map(float, loss[0][1:-2].split(',')))\n",
    "dc_loss = list(map(float, loss[1][5:-2].split(',')))\n",
    "au_loss = list(map(float, loss[2][1:-2].split(',')))\n",
    "qa_loss = list(map(float, loss[3][1:-2].split(',')))\n",
    "to_loss = list(map(float, loss[4][1:-2].split(',')))\n",
    "la      = list(map(float, loss[5][1:-2].split(',')))\n",
    "val_loss= loss[6][1:-2]\n",
    "cosDist_source = list(map(float, loss[7][1:-2].split(',')))\n",
    "cosDist_target = list(map(float, loss[8][1:-2].split(',')))\n",
    "squad_em  = loss[9][1:-2]\n",
    "squad_f1  = loss[10][1:-2]\n",
    "val_loss_all  = loss[11][1:-2].split(',')\n",
    "squad_em_all  = list(map(float, loss[12][1:-2].split(',')))\n",
    "squad_f1_all  = list(map(float, loss[13][1:-2].split(',')))\n",
    "\n",
    "test_em_all  = list(map(float, loss[14][1:-2].split(',')))\n",
    "test_f1_all  = list(map(float, loss[15][1:-2].split(',')))\n",
    "\n",
    "# val_loss = [x/2.0 for x in val_loss]\n",
    "\n",
    "# {bioasq_val_loss_list}\\n{squad_bioasq_val_mean_loss_list}\\n{squad_bioasq_val_weighted_mean_loss_list}\\n{squad_em_list}\\n{squad_f1_list}\\n{bioasq_em_list}\\n{bioasq_f1_list}\\n\n",
    "\n",
    "# print(dc_loss)\n",
    "# print('\\n')\n",
    "\n",
    "# print(qa_loss[:15])\n",
    "# print('\\n')\n",
    "\n",
    "# print(au_loss)\n",
    "# print('\\n')\n",
    "\n",
    "# print(lr)\n",
    "# print('\\n')\n",
    "\n",
    "# print(to_loss)\n",
    "# print('\\n')\n",
    "\n",
    "# print(la)\n",
    "# print('\\n')\n",
    "\n",
    "import matplotlib.pyplot as plt\n",
    "\n",
    "plt.figure(figsize = (8,6))\n",
    "plt.plot(range(len(dc_loss[:])), dc_loss[:],\n",
    "#          'o-',\n",
    "         label = 'DC-LOSS')\n",
    "plt.plot(range(len(qa_loss[:])), qa_loss[:],\n",
    "#          'o-',\n",
    "         label = 'QA-LOSS')\n",
    "# plt.plot(range(len(val_loss[:])), val_loss[:],\n",
    "# #          'o-',\n",
    "#          label = 'VALIDATION-LOSS')\n",
    "# plt.plot(range(len(val_loss_all[:])), val_loss_all[:],\n",
    "# #          'o-',\n",
    "#          label = 'VALIDATION-LOSS-ALL')\n",
    "plt.legend(loc='best')\n",
    "plt.show()\n",
    "\n",
    "\n",
    "plt.figure(figsize = (8,6))\n",
    "plt.plot(range(len(test_em_all[:])), \n",
    "         test_em_all[:],\n",
    "#          'o-',\n",
    "         label = 'TEST-EM-ALL')\n",
    "plt.plot(range(len(test_f1_all[:])), \n",
    "         test_f1_all[:],\n",
    "#          'o-',\n",
    "         label = 'TEST-F1-ALL')\n",
    "plt.legend(loc='best')\n",
    "plt.show()\n",
    "\n",
    "\n",
    "plt.figure(figsize = (8,6))\n",
    "# plt.plot(range(len(squad_em[:])), \n",
    "#          squad_em[:],\n",
    "# #          'o-',\n",
    "#          label = 'SQUAD-EM')\n",
    "# plt.plot(range(len(squad_f1[:])), \n",
    "#          squad_f1[:],\n",
    "# #          'o-',\n",
    "#          label = 'SQUAD-F1')\n",
    "# plt.plot(range(len(squad_em_all[:])), \n",
    "#          squad_em_all[:],\n",
    "# #          'o-',\n",
    "#          label = 'SQUAD-EM-ALL')\n",
    "plt.plot(range(len(squad_f1_all[:])), \n",
    "         squad_f1_all[:],\n",
    "#          'o-',\n",
    "         label = 'SQUAD-F1-ALL')\n",
    "plt.legend(loc='best')\n",
    "plt.show()\n",
    "\n",
    "plt.figure(figsize = (8,6))\n",
    "plt.plot(range(len(cosDist_source)), cosDist_source,\n",
    "#          'o-',\n",
    "         label = 'COSINE-DIST-SOURCE')\n",
    "plt.plot(range(len(cosDist_target)), cosDist_target,\n",
    "#          'o-',\n",
    "         label = 'COSINE-DIST-TARGET')\n",
    "plt.legend(loc='best')\n",
    "plt.show()\n",
    "\n",
    "# plt.figure(figsize = (8,6))\n",
    "# plt.plot(range(len(val_loss)), val_loss, 'o-', label = 'VALIDATION-LOSS')\n",
    "# plt.legend(loc='best')\n",
    "# plt.show()\n",
    "\n",
    "plt.figure(figsize = (8,6))\n",
    "plt.plot(range(len(au_loss)), au_loss[:],\n",
    "#          'o-',\n",
    "         label = 'AUX-LOSS')\n",
    "plt.legend(loc='best')\n",
    "plt.show()\n",
    "\n",
    "plt.figure(figsize = (8,6))\n",
    "plt.plot(range(len(to_loss)), to_loss,\n",
    "#          'o-',\n",
    "         label = 'TOTAL-LOSS')\n",
    "plt.legend(loc='best')\n",
    "plt.show()\n",
    "\n",
    "plt.figure(figsize = (8,6))\n",
    "plt.plot(range(len(la)), la,\n",
    "#          'o-',\n",
    "         label = 'LAMBDA')\n",
    "plt.legend(loc='best')\n",
    "plt.show()\n",
    "\n",
    "plt.figure(figsize = (8,6))\n",
    "plt.plot(range(len(lr)), lr,\n",
    "#          'o-',\n",
    "         label = 'LEARNING-RATE')\n",
    "plt.legend(loc='best')\n",
    "plt.show()\n",
    "\n",
    "\n",
    "em_high_ind = test_em_all[:].index(max(test_em_all[0:]))\n",
    "f1_high_ind = test_f1_all[:].index(max(test_f1_all[0:]))\n",
    "\n",
    "print(em_high_ind, test_em_all[em_high_ind]*100)\n",
    "\n",
    "print(em_high_ind, test_f1_all[em_high_ind]*100)\n",
    "\n",
    "print(f1_high_ind, test_em_all[f1_high_ind]*100)\n",
    "      \n",
    "print(f1_high_ind, test_f1_all[f1_high_ind]*100)\n"
   ]
  },
  {
   "cell_type": "code",
   "execution_count": 896,
   "id": "fd03875f",
   "metadata": {
    "scrolled": true
   },
   "outputs": [
    {
     "name": "stdout",
     "output_type": "stream",
     "text": [
      "0 0.6316634917930444 0.36470588235294116\n",
      "1 0.8130751369061705 0.6352941176470588\n",
      "2 0.8413967830437935 0.6705882352941176\n",
      "3 0.8659919071296226 0.7176470588235294\n",
      "4 0.8433573770056833 0.6941176470588235\n",
      "5 0.8431003210469635 0.6705882352941176\n",
      "6 0.8638659493685417 0.7176470588235294\n",
      "7 0.8597147203178699 0.7176470588235294\n",
      "8 0.8784654242947606 0.7294117647058823\n",
      "9 0.8680924908076403 0.7176470588235294\n",
      "10 0.8779596250708046 0.7411764705882353\n",
      "11 0.8679065678592973 0.7411764705882353\n",
      "12 0.8808864395359455 0.7529411764705882\n",
      "13 0.8790695136705768 0.7294117647058823\n",
      "14 0.9030165017340186 0.7529411764705882\n",
      "15 0.8665604094378975 0.7176470588235294\n",
      "16 0.8906208884270684 0.7529411764705882\n",
      "17 0.8743186493331139 0.7294117647058823\n",
      "18 0.8733384050174681 0.7294117647058823\n",
      "19 0.8935403059487806 0.7529411764705882\n",
      "20 0.8943275621058799 0.7647058823529411\n",
      "21 0.8859860696516836 0.7529411764705882\n",
      "22 0.8762226908955619 0.7176470588235294\n",
      "23 0.8950551090321416 0.7529411764705882\n",
      "24 0.8827424276032855 0.7058823529411765\n",
      "25 0.9187835483168798 0.8\n",
      "26 0.9265646148949322 0.8\n",
      "27 0.8986498079867176 0.7529411764705882\n",
      "28 0.9217448845572024 0.8235294117647058\n",
      "29 0.9080821117081247 0.8\n",
      "30 0.8990801995038123 0.7529411764705882\n",
      "31 0.8948233561372219 0.7647058823529411\n",
      "32 0.8977837867101093 0.788235294117647\n",
      "33 0.915432129079814 0.7529411764705882\n",
      "34 0.9204459688186583 0.8\n",
      "35 0.8963131984748152 0.7764705882352941\n",
      "36 0.8903880740029779 0.7529411764705882\n",
      "37 0.9142697805317432 0.7529411764705882\n",
      "38 0.9064875730591332 0.7764705882352941\n",
      "39 0.9194017221713243 0.7764705882352941\n",
      "40 0.9081640132946702 0.7647058823529411\n",
      "41 0.9145822041004044 0.788235294117647\n",
      "42 0.9246216601686329 0.788235294117647\n",
      "43 0.926493055397445 0.8\n",
      "44 0.915821958281963 0.7764705882352941\n",
      "45 0.9087635718130049 0.7764705882352941\n",
      "46 0.91353810463161 0.788235294117647\n",
      "47 0.9061109727881604 0.788235294117647\n",
      "48 0.8927099134640358 0.7529411764705882\n",
      "49 0.8950866958511988 0.7529411764705882\n",
      "50 0.9191181194145837 0.7764705882352941\n",
      "51 0.901297606030941 0.7647058823529411\n",
      "52 0.9021496893743999 0.7764705882352941\n",
      "53 0.913653292407125 0.788235294117647\n",
      "54 0.9227426356438168 0.7764705882352941\n",
      "55 0.9299056439301353 0.788235294117647\n",
      "56 0.901383154474583 0.7764705882352941\n",
      "57 0.9096714818970771 0.7647058823529411\n",
      "58 0.9212841431559123 0.7647058823529411\n",
      "59 0.9098823722743661 0.788235294117647\n",
      "60 0.9079670178973211 0.788235294117647\n",
      "61 0.9069411958037779 0.7764705882352941\n",
      "62 0.9136518505348294 0.7764705882352941\n",
      "63 0.8861630473910674 0.7529411764705882\n",
      "64 0.9043304651329792 0.7529411764705882\n",
      "65 0.9017532503390158 0.7764705882352941\n",
      "66 0.9153490135804204 0.7647058823529411\n",
      "67 0.9050969127400843 0.7529411764705882\n",
      "68 0.896987149566723 0.7647058823529411\n",
      "69 0.9111276667722557 0.788235294117647\n",
      "70 0.9074185969374251 0.7647058823529411\n",
      "71 0.8928115144003758 0.7529411764705882\n",
      "72 0.9195310281167934 0.8\n",
      "73 0.9066402037708609 0.7764705882352941\n",
      "74 0.8888899457729247 0.7529411764705882\n",
      "75 0.8984941702378303 0.7529411764705882\n",
      "76 0.9058457432434281 0.7529411764705882\n",
      "77 0.9041841695230309 0.7647058823529411\n",
      "78 0.9051152237629086 0.7529411764705882\n",
      "79 0.9032831033549368 0.7529411764705882\n",
      "80 0.9092545828558279 0.7647058823529411\n",
      "81 0.9091226542409273 0.7764705882352941\n",
      "82 0.9036738679152516 0.7647058823529411\n",
      "83 0.8980142270643886 0.7294117647058823\n",
      "84 0.9080543893545964 0.7411764705882353\n",
      "85 0.911910420836015 0.7647058823529411\n",
      "86 0.9117468618186954 0.788235294117647\n",
      "87 0.9089744665377524 0.7647058823529411\n",
      "88 0.9014109541762861 0.7529411764705882\n",
      "89 0.923175053004672 0.7764705882352941\n",
      "90 0.9011162294752602 0.7529411764705882\n",
      "91 0.8994951180744034 0.7529411764705882\n",
      "92 0.9186932602875851 0.7647058823529411\n",
      "93 0.889037080346803 0.7294117647058823\n",
      "94 0.9062282742931874 0.7529411764705882\n",
      "95 0.9056680502035513 0.7411764705882353\n",
      "96 0.9091694507637756 0.7647058823529411\n",
      "97 0.8970131950726445 0.7529411764705882\n",
      "98 0.9066402037708609 0.7764705882352941\n",
      "99 0.8977837200008821 0.7647058823529411\n",
      "100 0.9133711314360445 0.7764705882352941\n",
      "101 0.9150518037049521 0.788235294117647\n",
      "102 0.9071190305957082 0.788235294117647\n",
      "103 0.9111429674431747 0.7647058823529411\n",
      "104 0.9161316559356992 0.7764705882352941\n",
      "105 0.9223347168702182 0.788235294117647\n",
      "106 0.9130156046099294 0.788235294117647\n",
      "107 0.91427610881161 0.788235294117647\n",
      "108 0.9237916797458662 0.8\n",
      "109 0.9223902919180078 0.8\n",
      "110 0.9037923979818785 0.7647058823529411\n",
      "111 0.906820624657164 0.788235294117647\n",
      "112 0.9133853018100765 0.7764705882352941\n",
      "113 0.9070455801506617 0.7529411764705882\n",
      "114 0.9142933519866687 0.7529411764705882\n",
      "115 0.9030267583927094 0.7411764705882353\n",
      "116 0.8958367244844093 0.7529411764705882\n",
      "117 0.9017016129499169 0.7647058823529411\n",
      "118 0.9072676547512528 0.7529411764705882\n",
      "119 0.9127191222947921 0.788235294117647\n",
      "120 0.9037918969826187 0.7529411764705882\n",
      "121 0.9099712509710693 0.7764705882352941\n",
      "122 0.9185316626955677 0.7764705882352941\n",
      "123 0.9190918867852035 0.7529411764705882\n",
      "124 0.9208418844431296 0.788235294117647\n",
      "125 0.9270970189079828 0.788235294117647\n",
      "126 0.9193073575889098 0.7764705882352941\n",
      "127 0.9333374281151439 0.8117647058823529\n",
      "128 0.9273211085438372 0.7764705882352941\n",
      "129 0.9189992343396101 0.7647058823529411\n",
      "130 0.9131942185656331 0.7647058823529411\n",
      "131 0.9149682572428888 0.7647058823529411\n",
      "132 0.9166506870775678 0.7764705882352941\n",
      "133 0.909581612745518 0.7411764705882353\n",
      "134 0.9088176037926543 0.7411764705882353\n",
      "135 0.9048417623220752 0.7529411764705882\n",
      "136 0.895246999080181 0.7294117647058823\n",
      "137 0.8668777985263963 0.6823529411764706\n",
      "138 0.9141988928811797 0.8\n",
      "139 0.9058194717347308 0.7647058823529411\n",
      "140 0.8915832680918923 0.7529411764705882\n",
      "141 0.9220112626803582 0.8\n",
      "142 0.9126626127344462 0.7764705882352941\n",
      "143 0.905129957567116 0.7647058823529411\n",
      "144 0.9104497275803844 0.7764705882352941\n",
      "145 0.9210939852834658 0.7764705882352941\n",
      "146 0.9185505849497841 0.7529411764705882\n",
      "147 0.9164359936587223 0.7529411764705882\n",
      "148 0.9153068704375273 0.7529411764705882\n",
      "149 0.9137858662337469 0.7529411764705882\n",
      "150 0.9018136577678443 0.7411764705882353\n",
      "151 0.9042006995410752 0.7294117647058823\n",
      "152 0.8959553501192552 0.7294117647058823\n",
      "153 0.9031358546627964 0.7647058823529411\n",
      "154 0.9192111622241722 0.7529411764705882\n",
      "155 0.909063337730327 0.8117647058823529\n",
      "156 0.8978082709977515 0.7647058823529411\n",
      "157 0.9076318004095162 0.7647058823529411\n",
      "158 0.9115757780005526 0.7764705882352941\n",
      "159 0.8955533690369671 0.7529411764705882\n",
      "160 0.9013572906055947 0.7529411764705882\n",
      "161 0.907179432546483 0.7764705882352941\n",
      "162 0.9086742422350644 0.7764705882352941\n",
      "163 0.9046515385373255 0.7647058823529411\n",
      "164 0.9088965416001101 0.7647058823529411\n",
      "165 0.9083363175104742 0.7529411764705882\n",
      "166 0.9017576860578932 0.7411764705882353\n",
      "167 0.901645641239966 0.7411764705882353\n",
      "168 0.9117494474683399 0.7764705882352941\n",
      "169 0.9043119897266225 0.7764705882352941\n",
      "170 0.909712549950712 0.7764705882352941\n",
      "171 0.9080744454837403 0.7411764705882353\n",
      "172 0.8921580927357444 0.7294117647058823\n",
      "173 0.9028109073464086 0.7647058823529411\n",
      "174 0.9131325532461477 0.7647058823529411\n",
      "175 0.913693425059376 0.788235294117647\n",
      "176 0.9110125880186776 0.8\n",
      "177 0.9185277395338289 0.7764705882352941\n",
      "178 0.922510704506652 0.788235294117647\n",
      "179 0.9250181902595739 0.8\n",
      "180 0.9127321577938492 0.7647058823529411\n",
      "181 0.9032049007371805 0.7764705882352941\n",
      "182 0.8998893713144662 0.7529411764705882\n",
      "183 0.9081159112952498 0.788235294117647\n",
      "184 0.8896168516484696 0.7411764705882353\n",
      "185 0.8826600660008358 0.7529411764705882\n",
      "186 0.88750523777215 0.7294117647058823\n",
      "187 0.8898028549622622 0.7294117647058823\n",
      "188 0.8976762319752459 0.7411764705882353\n",
      "189 0.8985136022174606 0.7411764705882353\n",
      "190 0.8972097606553996 0.7411764705882353\n",
      "191 0.8887980744863994 0.7411764705882353\n",
      "192 0.8872593408032758 0.7529411764705882\n",
      "193 0.8842280790463629 0.7294117647058823\n",
      "194 0.8974100289423087 0.7647058823529411\n",
      "195 0.8865143181224837 0.7647058823529411\n",
      "196 0.9080211824946386 0.7764705882352941\n",
      "197 0.9085627253149753 0.7764705882352941\n",
      "198 0.9152286287999268 0.7764705882352941\n",
      "199 0.9024945455075554 0.7764705882352941\n"
     ]
    }
   ],
   "source": [
    "for i,x in enumerate(test_f1_all):\n",
    "  print(i, x, test_em_all[i])"
   ]
  },
  {
   "cell_type": "code",
   "execution_count": null,
   "id": "d947da6e",
   "metadata": {},
   "outputs": [],
   "source": []
  },
  {
   "cell_type": "code",
   "execution_count": 888,
   "id": "ddd3991a",
   "metadata": {},
   "outputs": [],
   "source": [
    "# for i,x in enumerate(test_f1_all):\n",
    "#   print(i, x, test_em_all[i])"
   ]
  },
  {
   "cell_type": "code",
   "execution_count": null,
   "id": "598c07d1",
   "metadata": {},
   "outputs": [],
   "source": []
  },
  {
   "cell_type": "code",
   "execution_count": null,
   "id": "2799c687",
   "metadata": {},
   "outputs": [],
   "source": []
  },
  {
   "cell_type": "code",
   "execution_count": 24,
   "id": "437e5e3c",
   "metadata": {
    "scrolled": true
   },
   "outputs": [
    {
     "data": {
      "text/plain": [
       "(0.706140350877193, 0.8464600734551977)"
      ]
     },
     "execution_count": 24,
     "metadata": {},
     "output_type": "execute_result"
    }
   ],
   "source": [
    "test_em_all[61], test_f1_all[61], "
   ]
  },
  {
   "cell_type": "code",
   "execution_count": 25,
   "id": "12dc6cfe",
   "metadata": {},
   "outputs": [],
   "source": [
    "# from transformers import AutoModelForQuestionAnswering, AutoTokenizer\n",
    "# m = AutoTokenizer.from_pretrained('michiyasunaga/BioLinkBERT-base')"
   ]
  },
  {
   "cell_type": "code",
   "execution_count": 26,
   "id": "4b672217",
   "metadata": {},
   "outputs": [],
   "source": [
    "# m.encode('[MASK]')"
   ]
  },
  {
   "cell_type": "code",
   "execution_count": 27,
   "id": "478b0542",
   "metadata": {},
   "outputs": [
    {
     "name": "stdout",
     "output_type": "stream",
     "text": [
      "85\n",
      "158\n",
      "241\n",
      "228\n",
      "385\n"
     ]
    }
   ],
   "source": [
    "for i in range(5):\n",
    "  a = json.load(open(f'/net/kdinxidk03/opt/NFS/75y/data/qa/dataset_pos/otquad/test_otquad_fold_{i+1}.json'))\n",
    "  print(len(a['data']))\n",
    "  \n",
    "# 85\n",
    "# 158\n",
    "# 241\n",
    "# 228\n",
    "# 385"
   ]
  },
  {
   "cell_type": "code",
   "execution_count": 28,
   "id": "cb25278c",
   "metadata": {
    "scrolled": true
   },
   "outputs": [],
   "source": [
    "# with open(perf_path_2, 'r') as f:\n",
    "#     result_epoch_pres_3 = f.readlines()\n",
    "\n",
    "# #   if path_2:\n",
    "# #     with open(path_2, 'r') as f:\n",
    "# #         result_epoch_pres_3_2 = f.readlines()\n",
    "# #     result_epoch_pres_3 = result_epoch_pres_3+result_epoch_pres_3_2\n",
    "\n",
    "# print(len(result_epoch_pres_3))\n",
    "\n",
    "# #   result_epoch_pres_3 = result_epoch_pres_3[:10]\n",
    "\n",
    "# sacc, lacc, mrr = [], [], []\n",
    "# for i in range(len(result_epoch_pres_3)):\n",
    "#   res = list(map(float, result_epoch_pres_3[i].split(',')))\n",
    "# #   print(res)\n",
    "#   sacc.append(res[0]) #-0.3937)\n",
    "#   lacc.append(res[1]) #-0.6098)\n",
    "#   mrr.append(res[2]) #-0.4688)"
   ]
  },
  {
   "cell_type": "code",
   "execution_count": 29,
   "id": "afc6c66b",
   "metadata": {
    "code_folding": [
     0
    ]
   },
   "outputs": [],
   "source": [
    "# 10570 columns\n",
    "# writerow per epoch"
   ]
  },
  {
   "cell_type": "code",
   "execution_count": 250,
   "id": "1b8c14a5",
   "metadata": {},
   "outputs": [],
   "source": [
    "# # importing the csv module\n",
    "# import csv\n",
    "\t\n",
    "# # my data rows as dictionary objects\n",
    "# mydict =[{'branch': 'COE', 'cgpa': '9.0', 'name': 'Nikhil', 'year': '2'},\n",
    "# \t\t{'branch': 'COE', 'cgpa': '9.1', 'name': 'Sanchit', 'year': '2'},\n",
    "# \t\t{'branch': 'IT', 'cgpa': '9.3', 'name': 'Aditya', 'year': '2'},\n",
    "# \t\t{'branch': 'SE', 'cgpa': '9.5', 'name': 'Sagar', 'year': '1'},\n",
    "# \t\t{'branch': 'MCE', 'cgpa': '7.8', 'name': 'Prateek', 'year': '3'},\n",
    "# \t\t{'branch': 'EP', 'cgpa': '9.1', 'name': 'Sahil', 'year': '2'}]\n",
    "\t\n",
    "\n",
    "# import csv\n",
    "# with open(\"sample.csv\", \"w\") as csvFile:\n",
    "#     fieldnames = ['name', 'branch', 'year', 'cgpa']\n",
    "#     writer = csv.DictWriter(csvFile, fieldnames=fieldnames)\n",
    "#     writer.writeheader()\n",
    "\n",
    "#     for item in mydict:\n",
    "#       writer.writerow(item)"
   ]
  },
  {
   "cell_type": "code",
   "execution_count": 251,
   "id": "3c89911c",
   "metadata": {},
   "outputs": [],
   "source": [
    "# v = 9999\n",
    "# for i,val in enumerate(val_loss):\n",
    "#   if v > val:\n",
    "#     print(i, '\\t', val, '\\t', sacc[i], '\\t', lacc[i], '\\t', mrr[i])\n",
    "#     v = val\n",
    "# print(val_loss[107])\n",
    "\n",
    "# # d(a,s) = 0\n",
    "# # d(a,t) = 2\n",
    "# # margin = 1 (1-0 (cos90)), distance between anchor and "
   ]
  },
  {
   "cell_type": "code",
   "execution_count": 252,
   "id": "8aa83230",
   "metadata": {},
   "outputs": [
    {
     "data": {
      "text/plain": [
       "(1, 130, 130)"
      ]
     },
     "execution_count": 252,
     "metadata": {},
     "output_type": "execute_result"
    }
   ],
   "source": [
    "val_loss_all[:].index(min(val_loss_all[:])), min(val_loss_all), len(val_loss_all), val_loss_all[-1]\n",
    "\n",
    "(val_loss_all[:].index(min(val_loss_all[:])),\n",
    "#  min(val_loss), len(val_loss), val_loss[-1],\n",
    " squad_em_all.index(max(squad_em_all)),\n",
    " squad_f1_all.index(max(squad_f1_all)),\n",
    ")\n",
    "\n",
    "# bio9b validation banabo\n",
    "# 4 ta accuracy -- squad, bioasq, squad+bioasq/2, weighted mean\n",
    "# loss, f1, em, sacc, lacc, mrr\n",
    "# validation set index save kore rakhbo"
   ]
  },
  {
   "cell_type": "code",
   "execution_count": 253,
   "id": "34c1c8f1",
   "metadata": {},
   "outputs": [
    {
     "name": "stdout",
     "output_type": "stream",
     "text": [
      "62 0.8766782131083535\n",
      "67 0.8801422644860082\n",
      "84 0.8826271669210076\n",
      "92 0.8826891348085057\n",
      "99 0.8849683240992413\n",
      "130 0.885372627966286\n"
     ]
    }
   ],
   "source": [
    "ite_ls = []\n",
    "vv = 0\n",
    "for i, v in enumerate(squad_f1_all):\n",
    "  if vv <= v:\n",
    "    vv = v\n",
    "    if i >=50:\n",
    "      ite_ls.append(i)\n",
    "      print(i , v)\n",
    "      "
   ]
  },
  {
   "cell_type": "code",
   "execution_count": 254,
   "id": "6423851b",
   "metadata": {},
   "outputs": [
    {
     "data": {
      "text/plain": [
       "[62, 67, 84, 92, 99, 130]"
      ]
     },
     "execution_count": 254,
     "metadata": {},
     "output_type": "execute_result"
    }
   ],
   "source": [
    "ite_ls\n",
    "\n",
    "# 107 - 0.007386303682599979    0.2827645471446211\n",
    "# "
   ]
  },
  {
   "cell_type": "code",
   "execution_count": 16,
   "id": "4ee62b23",
   "metadata": {},
   "outputs": [],
   "source": [
    "# import configs\n",
    "# print(configs.trained_model_name)"
   ]
  },
  {
   "cell_type": "code",
   "execution_count": 17,
   "id": "5b6f9f40",
   "metadata": {},
   "outputs": [],
   "source": [
    "# json.load(open('/net/kdinxidk03/opt/NFS/75y/data/qa/output/REVISION/REVIEWER-2/emrqa/medication/nbest_predictions_emrqa_med_ours.json'))"
   ]
  },
  {
   "cell_type": "code",
   "execution_count": 18,
   "id": "83e3e2bf",
   "metadata": {},
   "outputs": [],
   "source": [
    "# vv = 0\n",
    "# for i, v in enumerate(squad_f1_all):\n",
    "# #   print(i, '\\t', v)\n",
    "#   if round(vv, 3) <= round(v, 3):\n",
    "#     vv = round(v, 3)\n",
    "#     print(i , '\\t', round(v, 3))"
   ]
  },
  {
   "cell_type": "code",
   "execution_count": 19,
   "id": "011d022f",
   "metadata": {},
   "outputs": [],
   "source": [
    "# epoch_ls"
   ]
  },
  {
   "cell_type": "code",
   "execution_count": 20,
   "id": "a80c100c",
   "metadata": {},
   "outputs": [],
   "source": [
    "# vv = 9999\n",
    "# for i, v in enumerate(val_loss_all):\n",
    "# #   print(i, '\\t', v)\n",
    "#   if round(vv, 3) >= round(v, 3):\n",
    "#     vv = round(v, 3)\n",
    "#     print(i , '\\t', round(v, 3))"
   ]
  },
  {
   "cell_type": "code",
   "execution_count": 21,
   "id": "923d2fd2",
   "metadata": {},
   "outputs": [
    {
     "data": {
      "text/plain": [
       "51"
      ]
     },
     "execution_count": 21,
     "metadata": {},
     "output_type": "execute_result"
    }
   ],
   "source": [
    "len(squad_f1_all)"
   ]
  },
  {
   "cell_type": "code",
   "execution_count": 23,
   "id": "244594a2",
   "metadata": {
    "scrolled": true
   },
   "outputs": [
    {
     "data": {
      "text/plain": [
       "(0.8449082076044793, 0.6063719890699103, 5, 27)"
      ]
     },
     "execution_count": 23,
     "metadata": {},
     "output_type": "execute_result"
    }
   ],
   "source": [
    "(cosDist_source[-1], cosDist_target[-1],\n",
    "cosDist_source.index(min(cosDist_source)), \n",
    " cosDist_target.index(min(cosDist_target)))"
   ]
  },
  {
   "cell_type": "code",
   "execution_count": 24,
   "id": "8fdaf471",
   "metadata": {
    "code_folding": [],
    "scrolled": false
   },
   "outputs": [],
   "source": [
    "def plot_lacc_sacc_mrr(path_1, path_2, x, y, z, given_idx, n):\n",
    "\n",
    "  print('BEST EPOCH:  ', given_idx)\n",
    "  \n",
    "  with open(path_1, 'r') as f:\n",
    "      result_epoch_pres_3 = f.readlines()\n",
    "      \n",
    "#   if path_2:\n",
    "#     with open(path_2, 'r') as f:\n",
    "#       . c  result_epoch_pres_3_2 = f.readlines()\n",
    "#     result_epoch_pres_3 = result_epoch_pres_3+result_epoch_pres_3_2\n",
    "      \n",
    "  print(len(result_epoch_pres_3))\n",
    "  \n",
    "#   result_epoch_pres_3 = result_epoch_pres_3[:10]\n",
    "\n",
    "  sacc, lacc, mrr = [], [], []\n",
    "  for i in range(len(result_epoch_pres_3)):\n",
    "    res = list(map(float, result_epoch_pres_3[i].split(',')))\n",
    "  #   print(res)\n",
    "    sacc.append(res[0]) #-0.3937)\n",
    "    lacc.append(res[1]) #-0.6098)\n",
    "    mrr.append(res[2]) #-0.4688)\n",
    "\n",
    "  print('BEST SCORES: ', sacc[given_idx], \n",
    "        lacc[given_idx],\n",
    "        mrr[given_idx],\n",
    "       )\n",
    "\n",
    "#   for i in range(len(sacc)):\n",
    "#     print(i, sacc[i], lacc[i], mrr[i])\n",
    "#     print('\\n\\n')\n",
    "    \n",
    "#   print(lacc[-4:])\n",
    "#   print('\\n')\n",
    "\n",
    "#   print(mrr[-4:])\n",
    "#   print('\\n')\n",
    "\n",
    "#   print(sacc[-4:])\n",
    "#   print('\\n')\n",
    "\n",
    "  plt.figure(figsize = (15,8))\n",
    "  plt.plot(range(len(sacc[:n])), sacc[:n], 'o-', label = 'SAcc', alpha=0.4)\n",
    "  plt.plot(range(len(lacc[:n])), lacc[:n], 'o-', label = 'LAcc', alpha=0.4)\n",
    "  plt.plot(range(len(mrr[:n])),  mrr[:n],  'o-', label = 'MRR', alpha=0.4)\n",
    "\n",
    "#   print(max(sacc), max(lacc), max(mrr),\n",
    "#         sacc.index(max(sacc)),\n",
    "#         lacc.index(max(lacc)),\n",
    "#         mrr.index(max(mrr)))\n",
    "  \n",
    "  indx = mrr[:n].index(max(mrr[:n]))\n",
    "  print(indx,\n",
    "        sacc[indx],\n",
    "        lacc[indx],\n",
    "        mrr[indx],\n",
    "       )\n",
    "  \n",
    "  indxx = sacc[:n].index(max(sacc[:n]))\n",
    "  print(indxx,\n",
    "        sacc[indxx],\n",
    "        lacc[indxx],\n",
    "        mrr[indxx],\n",
    "       )\n",
    "  \n",
    "  indxxx = lacc[:n].index(max(lacc[:n]))\n",
    "  print(indxxx,\n",
    "        sacc[indxxx],\n",
    "        lacc[indxxx],\n",
    "        mrr[indxxx],\n",
    "       )\n",
    "  \n",
    "  from scipy.ndimage import gaussian_filter1d\n",
    "  sigma = 5\n",
    "  sacc = gaussian_filter1d(sacc, sigma=sigma)\n",
    "  lacc = gaussian_filter1d(lacc, sigma=sigma)\n",
    "  mrr  = gaussian_filter1d(mrr, sigma=sigma)\n",
    "  plt.plot(range(len(sacc[:n])), sacc[:n], '-', \n",
    "#            label = 'SAcc'\n",
    "          )\n",
    "  plt.plot(range(len(lacc[:n])), lacc[:n], '-', \n",
    "#            label = 'LAcc'\n",
    "          )\n",
    "  plt.plot(range(len(mrr[:n])),  mrr[:n],  '-', \n",
    "#            label = 'MRR'\n",
    "          )\n",
    "\n",
    "  # plt.plot(range(len(sacc)), [0.2857]*len(sacc), '-.b', alpha=0.4)\n",
    "  # plt.plot(range(len(lacc)), [0.4643]*len(lacc), '-.r', alpha=0.4)\n",
    "  # plt.plot(range(len(mrr)),  [0.3435]*len(mrr), '-.g', alpha=0.4)\n",
    "\n",
    "  plt.plot(range(len(sacc[:n])), [x]*len(sacc[:n]), '--b', alpha=0.4)\n",
    "  plt.plot(range(len(lacc[:n])), [y]*len(lacc[:n]), '--r', alpha=0.4)\n",
    "  plt.plot(range(len(mrr[:n])),  [z]*len(mrr[:n]),  '--g', alpha=0.4)\n",
    "\n",
    "  plt.scatter([len(sacc[:n])-1], [x], marker='*', s=500,\n",
    "  #             label = 'SAcc'\n",
    "             )\n",
    "  plt.scatter([len(lacc[:n])-1], [y], marker='*', s=500,\n",
    "#               label = 'LAcc'\n",
    "             )\n",
    "  plt.scatter([len(mrr[:n])-1],  [z], marker='*', s=500,\n",
    "  #             label = 'MRR'\n",
    "             )\n",
    "\n",
    "  # plt.scatter([0], [0.2857], marker='p', \n",
    "  #             s=500, c='b',\n",
    "  # #             label = 'SAcc-Baseline'\n",
    "  #            )\n",
    "  # plt.scatter([0], [0.4643], marker='p', \n",
    "  #             s=500, c='orange',\n",
    "  # #             label = 'LAcc-Baseline'\n",
    "  #            )\n",
    "  # plt.scatter([0],  [0.3435], marker='p', \n",
    "  #             s=500, c='g'\n",
    "  # #             label = 'MRR-Baseline'\n",
    "  #            )\n",
    "\n",
    "  plt.legend(loc='best')\n",
    "  plt.show()\n",
    "\n",
    "# [0.2857142857142857, 0.42857142857142855, 0.42857142857142855, 0.42857142857142855, 0.42857142857142855, 0.4642857142857143, 0.4642857142857143, 0.4642857142857143, 0.5, 0.42857142857142855]\n",
    "\n",
    "\n",
    "# [0.2261904761904762, 0.33154761904761904, 0.3363095238095238, 0.35833333333333334, 0.34761904761904766, 0.33571428571428574, 0.3428571428571428, 0.34166666666666673, 0.3464285714285714, 0.3363095238095238]\n",
    "\n",
    "\n",
    "# [0.17857142857142858, 0.2857142857142857, 0.2857142857142857, 0.32142857142857145, 0.32142857142857145, 0.2857142857142857, 0.2857142857142857, 0.2857142857142857, 0.2857142857142857, 0.2857142857142857]\n",
    "\n"
   ]
  },
  {
   "cell_type": "code",
   "execution_count": null,
   "id": "c327c710",
   "metadata": {},
   "outputs": [],
   "source": [
    "# plot_lacc_sacc_mrr(path_7B, None, 0.4510, 0.6419, 0.5165)"
   ]
  },
  {
   "cell_type": "code",
   "execution_count": null,
   "id": "4d5fd6cd",
   "metadata": {},
   "outputs": [],
   "source": [
    "# plot_lacc_sacc_mrr(path_8B, None, 0.3937, 0.6098, 0.4688)"
   ]
  },
  {
   "cell_type": "code",
   "execution_count": null,
   "id": "a47cf67c",
   "metadata": {},
   "outputs": [],
   "source": [
    "# plot_lacc_sacc_mrr(path_9B, None, 0.5399, 0.7300, 0.6017)"
   ]
  },
  {
   "cell_type": "code",
   "execution_count": null,
   "id": "caaec978",
   "metadata": {},
   "outputs": [],
   "source": [
    "# 1000 // 32 * 100\n",
    "\n",
    "# 1000 // 32 * 200\n",
    "\n",
    "# # len(train_dataloader) // configs.gradient_accumulation_steps * configs.num_train_epochs"
   ]
  },
  {
   "cell_type": "code",
   "execution_count": null,
   "id": "12dfd1dc",
   "metadata": {},
   "outputs": [],
   "source": []
  },
  {
   "cell_type": "code",
   "execution_count": null,
   "id": "b2cff323",
   "metadata": {
    "scrolled": true
   },
   "outputs": [],
   "source": [
    "# plot_lacc_sacc_mrr(perf_path_2, None, 0.5399, 0.7300, 0.6017)"
   ]
  },
  {
   "cell_type": "code",
   "execution_count": null,
   "id": "95fa7dde",
   "metadata": {
    "scrolled": true
   },
   "outputs": [],
   "source": [
    "# plot_lacc_sacc_mrr(perf_path_2, None, 0.4510, 0.6419, 0.5165)"
   ]
  },
  {
   "cell_type": "code",
   "execution_count": null,
   "id": "d2d2a3d5",
   "metadata": {},
   "outputs": [],
   "source": [
    "# a = 29\n",
    "# b = 34\n",
    "# c = 36\n",
    "# d = 28\n",
    "# e = 36\n",
    "\n",
    "# sm = a+b+c+d+e\n",
    "# print((a*0.4138+b*0.5000+c*0.5833+d*0.6429+e*0.5556)/sm)\n",
    "# print((a*0.5862+b*0.7941+c*0.7222+d*0.8214+e*0.7222)/sm)\n",
    "# print((a*0.4632+b*0.6127+c*0.6319+d*0.6929+e*0.6019)/sm)\n"
   ]
  },
  {
   "cell_type": "code",
   "execution_count": null,
   "id": "d4c7795d",
   "metadata": {},
   "outputs": [],
   "source": [
    "# plot_lacc_sacc_mrr(perf_path_2, None, 0.3937, 0.6098, 0.4688)"
   ]
  },
  {
   "cell_type": "code",
   "execution_count": null,
   "id": "f77355d3",
   "metadata": {
    "scrolled": false
   },
   "outputs": [],
   "source": [
    "# plot_lacc_sacc_mrr(path1, None, 0.4138, 0.5862, 0.4632)"
   ]
  },
  {
   "cell_type": "code",
   "execution_count": null,
   "id": "c9f6684e",
   "metadata": {},
   "outputs": [],
   "source": [
    "# plot_lacc_sacc_mrr(path2, None, 0.5000, 0.7941, 0.6127)"
   ]
  },
  {
   "cell_type": "code",
   "execution_count": null,
   "id": "92d52801",
   "metadata": {},
   "outputs": [],
   "source": [
    "# plot_lacc_sacc_mrr(path3, None, 0.5833, 0.7222, 0.6319)"
   ]
  },
  {
   "cell_type": "code",
   "execution_count": null,
   "id": "4cc8e718",
   "metadata": {},
   "outputs": [],
   "source": [
    "# plot_lacc_sacc_mrr(path4, None, 0.6429, 0.8214, 0.6929)"
   ]
  },
  {
   "cell_type": "code",
   "execution_count": null,
   "id": "17c9fe20",
   "metadata": {},
   "outputs": [],
   "source": [
    "# plot_lacc_sacc_mrr(path5, None, 0.5556, 0.7222, 0.6019)"
   ]
  },
  {
   "cell_type": "code",
   "execution_count": null,
   "id": "22606f2d",
   "metadata": {},
   "outputs": [],
   "source": []
  },
  {
   "cell_type": "code",
   "execution_count": null,
   "id": "dcf0a345",
   "metadata": {},
   "outputs": [],
   "source": [
    "# (max(sacc), max(lacc), max(mrr), \n",
    "#  sacc.index(max(sacc)),\n",
    "#  lacc.index(max(lacc)),\n",
    "#  mrr.index(max(mrr)),\n",
    "# #  sacc[22], lacc[22], mrr[22]\n",
    "# )"
   ]
  },
  {
   "cell_type": "code",
   "execution_count": null,
   "id": "38cbe3a2",
   "metadata": {},
   "outputs": [],
   "source": [
    "# !python3 transform_n2b_factoid.py --nbest_path /net/kdinxidk03/opt/NFS/75y/data/qa/output/nbest_predictions_test_bioasq_8b_3.json --output_path /net/kdinxidk03/opt/NFS/75y/data/qa/output/BioASQform_BioASQ-answer.json"
   ]
  },
  {
   "cell_type": "code",
   "execution_count": null,
   "id": "70e10a94",
   "metadata": {},
   "outputs": [],
   "source": [
    "json.load(open('/net/kdinxidk03/opt/NFS/75y/data/qa/output/BioASQform_BioASQ-answer.json'))"
   ]
  },
  {
   "cell_type": "code",
   "execution_count": null,
   "id": "bfc3db92",
   "metadata": {},
   "outputs": [],
   "source": [
    "json.load(open('/net/kdinxidk03/opt/NFS/75y/data/qa/output/nbest_predictions_test_bioasq_8b_3.json'))"
   ]
  },
  {
   "cell_type": "code",
   "execution_count": null,
   "id": "e9f00e6b",
   "metadata": {
    "code_folding": []
   },
   "outputs": [],
   "source": [
    "# with open(path1, 'r') as f1:\n",
    "#     result_epoch_pres_1 = f1.readlines()\n",
    "# print(\n",
    "#   list(\n",
    "#     map(\n",
    "#       float,\n",
    "#       result_epoch_pres_1[-1].replace('\\n', '').split(','))\n",
    "#   )\n",
    "# )\n",
    "\n",
    "# with open(path2, 'r') as f2:\n",
    "#     result_epoch_pres_2 = f2.readlines()\n",
    "# print(\n",
    "#   list(\n",
    "#     map(\n",
    "#       float,\n",
    "#       result_epoch_pres_2[-1].replace('\\n', '').split(','))\n",
    "#   )\n",
    "# )\n",
    "\n",
    "# with open(path3, 'r') as f3:\n",
    "#     result_epoch_pres_3 = f3.readlines()\n",
    "# print(\n",
    "#   list(\n",
    "#     map(\n",
    "#       float,\n",
    "#       result_epoch_pres_3[-1].replace('\\n', '').split(','))\n",
    "#   )\n",
    "# )\n",
    "\n",
    "# with open(path4, 'r') as f4:\n",
    "#     result_epoch_pres_4 = f4.readlines()\n",
    "# print(\n",
    "#   list(\n",
    "#     map(\n",
    "#       float,\n",
    "#       result_epoch_pres_4[-1].replace('\\n', '').split(','))\n",
    "#   )\n",
    "# )\n",
    "\n",
    "# with open(path5, 'r') as f5:\n",
    "#     result_epoch_pres_5 = f5.readlines()\n",
    "# print(\n",
    "#   list(\n",
    "#     map(\n",
    "#       float,\n",
    "#       result_epoch_pres_5[-1].replace('\\n', '').split(','))\n",
    "#   )\n",
    "# )"
   ]
  },
  {
   "cell_type": "code",
   "execution_count": null,
   "id": "722b708a",
   "metadata": {},
   "outputs": [],
   "source": [
    "import json\n",
    "p = json.load(open('/net/kdinxidk03/opt/NFS/75y/data/qa/dataset_pos/bioasq/BioASQ-8b/train_bioasq.json'))"
   ]
  },
  {
   "cell_type": "code",
   "execution_count": null,
   "id": "f4587673",
   "metadata": {},
   "outputs": [],
   "source": [
    "len(p['data'][0]['paragraphs'])"
   ]
  },
  {
   "cell_type": "code",
   "execution_count": null,
   "id": "bb2c72d8",
   "metadata": {},
   "outputs": [],
   "source": []
  }
 ],
 "metadata": {
  "kernelspec": {
   "display_name": "Python 3",
   "language": "python",
   "name": "python3"
  },
  "language_info": {
   "codemirror_mode": {
    "name": "ipython",
    "version": 3
   },
   "file_extension": ".py",
   "mimetype": "text/x-python",
   "name": "python",
   "nbconvert_exporter": "python",
   "pygments_lexer": "ipython3",
   "version": "3.7.10"
  },
  "toc": {
   "base_numbering": 1,
   "nav_menu": {},
   "number_sections": true,
   "sideBar": true,
   "skip_h1_title": false,
   "title_cell": "Table of Contents",
   "title_sidebar": "Contents",
   "toc_cell": false,
   "toc_position": {},
   "toc_section_display": true,
   "toc_window_display": false
  }
 },
 "nbformat": 4,
 "nbformat_minor": 5
}
