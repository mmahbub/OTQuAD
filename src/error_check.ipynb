{
 "cells": [
  {
   "cell_type": "code",
   "execution_count": 9,
   "id": "981e1268",
   "metadata": {},
   "outputs": [
    {
     "name": "stdout",
     "output_type": "stream",
     "text": [
      "Unique Contexts: 22\r\n",
      " Ratio of QA Pair-to-Contexts: 11.363636363636363\r\n",
      "\r",
      "  0%|                                                   | 0/250 [00:00<?, ?it/s]\r",
      "100%|██████████████████████████████████████| 250/250 [00:00<00:00, 89157.04it/s]\r\n"
     ]
    }
   ],
   "source": [
    "!python squad_format.py"
   ]
  },
  {
   "cell_type": "code",
   "execution_count": null,
   "id": "fa903687",
   "metadata": {},
   "outputs": [],
   "source": []
  }
 ],
 "metadata": {
  "kernelspec": {
   "display_name": "Python 3 (ipykernel)",
   "language": "python",
   "name": "python3"
  },
  "language_info": {
   "codemirror_mode": {
    "name": "ipython",
    "version": 3
   },
   "file_extension": ".py",
   "mimetype": "text/x-python",
   "name": "python",
   "nbconvert_exporter": "python",
   "pygments_lexer": "ipython3",
   "version": "3.8.5"
  }
 },
 "nbformat": 4,
 "nbformat_minor": 5
}
