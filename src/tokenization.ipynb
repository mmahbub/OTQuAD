{
 "cells": [
  {
   "cell_type": "code",
   "execution_count": 33,
   "id": "d97230fa",
   "metadata": {
    "scrolled": false
   },
   "outputs": [
    {
     "name": "stdout",
     "output_type": "stream",
     "text": [
      "/net/kdinxidk03/opt/NFS/75y/data/OTMRC_PAPER/cached_train_biolinkbert_384_train_quac\n",
      "  0%|                                                 | 0/83568 [00:00<?, ?it/s]\n",
      "Traceback (most recent call last):\n",
      "  File \"load_dataset.py\", line 239, in <module>\n",
      "    main()\n",
      "  File \"load_dataset.py\", line 233, in main\n",
      "    load_and_cache_examples(args, tokenizer, evaluate=False, output_examples=False)\n",
      "  File \"load_dataset.py\", line 62, in load_and_cache_examples\n",
      "    examples = processor.get_train_examples(args.data_dir, filename=args.train_file)\n",
      "  File \"/net/kdinxidk03/opt/NFS/75y/anaconda3/envs/QA/lib/python3.7/site-packages/transformers/data/processors/squad.py\", line 626, in get_train_examples\n",
      "    return self._create_examples(input_data, \"train\")\n",
      "  File \"/net/kdinxidk03/opt/NFS/75y/anaconda3/envs/QA/lib/python3.7/site-packages/transformers/data/processors/squad.py\", line 653, in _create_examples\n",
      "    title = entry[\"title\"]\n",
      "KeyError: 'title'\n"
     ]
    }
   ],
   "source": [
    "!python3 load_dataset.py  \\\n",
    "    --orig_model_name_or_path biolinkbert  \\\n",
    "    --model_name_or_path michiyasunaga/BioLinkBERT-base  \\\n",
    "    --output_dir /net/kdinxidk03/opt/NFS/75y/data/OTMRC_PAPER/  \\\n",
    "    --data_dir /net/kdinxidk03/opt/NFS/75y/data/qa/dataset_pos/quac/  \\\n",
    "    --train_file train_quac.json \\\n",
    "    --dataset_name quac  \\\n",
    "    --do_lower_case \\\n",
    "    --do_train \\\n",
    "    --max_seq_length 384   \\\n",
    "    --doc_stride 128  \\\n",
    "    --overwrite_cache \n"
   ]
  },
  {
   "cell_type": "code",
   "execution_count": 1,
   "id": "ce904efe",
   "metadata": {},
   "outputs": [
    {
     "name": "stdout",
     "output_type": "stream",
     "text": [
      "Downloading: 100%|███████████████████████████| 28.0/28.0 [00:00<00:00, 15.8kB/s]\n",
      "Downloading: 100%|██████████████████████████████| 385/385 [00:00<00:00, 223kB/s]\n",
      "Downloading: 100%|███████████████████████████| 226k/226k [00:00<00:00, 1.75MB/s]\n",
      "/net/kdinxidk03/opt/NFS/75y/data/OTMRC_PAPER/tokenized/cached_train_pubmedbert_384_train_squad\n",
      "100%|█████████████████████████████████████████| 442/442 [00:25<00:00, 17.49it/s]\n",
      "convert squad examples to features: 100%|█| 87599/87599 [11:10<00:00, 130.70it/s\n",
      "add example index and unique id: 100%|█| 87599/87599 [00:00<00:00, 367884.05it/s\n"
     ]
    }
   ],
   "source": [
    "!python3 load_dataset.py  \\\n",
    "    --orig_model_name_or_path pubmedbert  \\\n",
    "    --model_name_or_path microsoft/BiomedNLP-PubMedBERT-base-uncased-abstract-fulltext  \\\n",
    "    --output_dir /net/kdinxidk03/opt/NFS/75y/data/OTMRC_PAPER/  \\\n",
    "    --data_dir /net/kdinxidk03/opt/NFS/75y/data/qa/dataset_pos/squad/  \\\n",
    "    --train_file train_squad.json \\\n",
    "    --dataset_name squad  \\\n",
    "    --do_lower_case \\\n",
    "    --do_train \\\n",
    "    --max_seq_length 384   \\\n",
    "    --doc_stride 128  \\\n",
    "    --overwrite_cache \n"
   ]
  },
  {
   "cell_type": "code",
   "execution_count": 2,
   "id": "2369242a",
   "metadata": {},
   "outputs": [
    {
     "name": "stdout",
     "output_type": "stream",
     "text": [
      "/net/kdinxidk03/opt/NFS/75y/data/OTMRC_PAPER/tokenized/cached_train_bioelectra_384_train_squad\n",
      "100%|█████████████████████████████████████████| 442/442 [00:24<00:00, 18.18it/s]\n",
      "convert squad examples to features: 100%|█| 87599/87599 [08:08<00:00, 179.36it/s\n",
      "add example index and unique id: 100%|█| 87599/87599 [00:00<00:00, 307702.28it/s\n"
     ]
    }
   ],
   "source": [
    "!python3 load_dataset.py  \\\n",
    "    --orig_model_name_or_path bioelectra  \\\n",
    "    --model_name_or_path kamalkraj/bioelectra-base-discriminator-pubmed-pmc-lt  \\\n",
    "    --output_dir /net/kdinxidk03/opt/NFS/75y/data/OTMRC_PAPER/  \\\n",
    "    --data_dir /net/kdinxidk03/opt/NFS/75y/data/qa/dataset_pos/squad/  \\\n",
    "    --train_file train_squad.json \\\n",
    "    --dataset_name squad  \\\n",
    "    --do_train \\\n",
    "    --max_seq_length 384   \\\n",
    "    --doc_stride 128  \\\n",
    "    --overwrite_cache \n"
   ]
  },
  {
   "cell_type": "code",
   "execution_count": 3,
   "id": "5a5dcf15",
   "metadata": {},
   "outputs": [
    {
     "name": "stdout",
     "output_type": "stream",
     "text": [
      "Downloading: 100%|██████████████████████████████| 313/313 [00:00<00:00, 179kB/s]\n",
      "Downloading: 100%|███████████████████████████| 213k/213k [00:00<00:00, 2.35MB/s]\n",
      "/net/kdinxidk03/opt/NFS/75y/data/OTMRC_PAPER/tokenized/cached_train_biobert_384_train_squad\n",
      "100%|█████████████████████████████████████████| 442/442 [00:24<00:00, 18.22it/s]\n",
      "convert squad examples to features: 100%|█| 87599/87599 [08:03<00:00, 181.07it/s\n",
      "add example index and unique id: 100%|█| 87599/87599 [00:00<00:00, 309287.75it/s\n"
     ]
    }
   ],
   "source": [
    "!python3 load_dataset.py  \\\n",
    "    --orig_model_name_or_path biobert  \\\n",
    "    --model_name_or_path dmis-lab/biobert-base-cased-v1.1  \\\n",
    "    --output_dir /net/kdinxidk03/opt/NFS/75y/data/OTMRC_PAPER/  \\\n",
    "    --data_dir /net/kdinxidk03/opt/NFS/75y/data/qa/dataset_pos/squad/  \\\n",
    "    --train_file train_squad.json \\\n",
    "    --dataset_name squad  \\\n",
    "    --do_train \\\n",
    "    --max_seq_length 384   \\\n",
    "    --doc_stride 128  \\\n",
    "#     --overwrite_cache \n"
   ]
  },
  {
   "cell_type": "code",
   "execution_count": 4,
   "id": "1d295539",
   "metadata": {},
   "outputs": [
    {
     "name": "stdout",
     "output_type": "stream",
     "text": [
      "Downloading: 100%|██████████████████████████████| 385/385 [00:00<00:00, 239kB/s]\n",
      "Downloading: 100%|███████████████████████████| 228k/228k [00:00<00:00, 2.59MB/s]\n",
      "/net/kdinxidk03/opt/NFS/75y/data/OTMRC_PAPER/tokenized/cached_train_scibert_384_train_squad\n",
      "100%|█████████████████████████████████████████| 442/442 [00:24<00:00, 17.88it/s]\n",
      "convert squad examples to features: 100%|█| 87599/87599 [11:15<00:00, 129.68it/s\n",
      "add example index and unique id: 100%|█| 87599/87599 [00:00<00:00, 270736.35it/s\n"
     ]
    }
   ],
   "source": [
    "!python3 load_dataset.py  \\\n",
    "    --orig_model_name_or_path scibert  \\\n",
    "    --model_name_or_path allenai/scibert_scivocab_uncased  \\\n",
    "    --output_dir /net/kdinxidk03/opt/NFS/75y/data/OTMRC_PAPER/  \\\n",
    "    --data_dir /net/kdinxidk03/opt/NFS/75y/data/qa/dataset_pos/squad/  \\\n",
    "    --train_file train_squad.json \\\n",
    "    --dataset_name squad  \\\n",
    "    --do_lower_case \\\n",
    "    --do_train \\\n",
    "    --max_seq_length 384   \\\n",
    "    --doc_stride 128  \\\n",
    "    --overwrite_cache \n"
   ]
  },
  {
   "cell_type": "code",
   "execution_count": 5,
   "id": "9e22f49e",
   "metadata": {},
   "outputs": [
    {
     "name": "stdout",
     "output_type": "stream",
     "text": [
      "Downloading: 100%|██████████████████████████████| 385/385 [00:00<00:00, 224kB/s]\n",
      "Downloading: 100%|███████████████████████████| 213k/213k [00:00<00:00, 1.79MB/s]\n",
      "/net/kdinxidk03/opt/NFS/75y/data/OTMRC_PAPER/tokenized/cached_train_clinicalbert_384_train_squad\n",
      "100%|█████████████████████████████████████████| 442/442 [00:25<00:00, 17.36it/s]\n",
      "convert squad examples to features: 100%|█| 87599/87599 [08:01<00:00, 181.96it/s\n",
      "add example index and unique id: 100%|█| 87599/87599 [00:00<00:00, 439883.72it/s\n"
     ]
    }
   ],
   "source": [
    "!python3 load_dataset.py  \\\n",
    "    --orig_model_name_or_path clinicalbert  \\\n",
    "    --model_name_or_path emilyalsentzer/Bio_ClinicalBERT \\\n",
    "    --output_dir /net/kdinxidk03/opt/NFS/75y/data/OTMRC_PAPER/  \\\n",
    "    --data_dir /net/kdinxidk03/opt/NFS/75y/data/qa/dataset_pos/squad/  \\\n",
    "    --train_file train_squad.json \\\n",
    "    --dataset_name squad  \\\n",
    "    --do_train \\\n",
    "    --max_seq_length 384   \\\n",
    "    --doc_stride 128  \\\n",
    "    --overwrite_cache \n"
   ]
  },
  {
   "cell_type": "code",
   "execution_count": 6,
   "id": "7000fd85",
   "metadata": {},
   "outputs": [
    {
     "name": "stdout",
     "output_type": "stream",
     "text": [
      "Downloading: 100%|███████████████████████████| 899k/899k [00:00<00:00, 5.05MB/s]\n",
      "Downloading: 100%|███████████████████████████| 456k/456k [00:00<00:00, 3.96MB/s]\n",
      "Downloading: 100%|█████████████████████████| 1.36M/1.36M [00:00<00:00, 6.05MB/s]\n",
      "/net/kdinxidk03/opt/NFS/75y/data/OTMRC_PAPER/tokenized/cached_train_roberta_384_train_squad\n",
      "100%|█████████████████████████████████████████| 442/442 [00:24<00:00, 18.16it/s]\n",
      "convert squad examples to features: 100%|█| 87599/87599 [08:03<00:00, 181.11it/s\n",
      "add example index and unique id: 100%|█| 87599/87599 [00:00<00:00, 329031.38it/s\n"
     ]
    }
   ],
   "source": [
    "!python3 load_dataset.py  \\\n",
    "    --orig_model_name_or_path roberta  \\\n",
    "    --model_name_or_path roberta-base \\\n",
    "    --output_dir /net/kdinxidk03/opt/NFS/75y/data/OTMRC_PAPER/  \\\n",
    "    --data_dir /net/kdinxidk03/opt/NFS/75y/data/qa/dataset_pos/squad/  \\\n",
    "    --train_file train_squad.json \\\n",
    "    --dataset_name squad  \\\n",
    "    --do_train \\\n",
    "    --max_seq_length 384   \\\n",
    "    --doc_stride 128  \\\n",
    "    --overwrite_cache \n"
   ]
  },
  {
   "cell_type": "code",
   "execution_count": 7,
   "id": "c5fc6be5",
   "metadata": {},
   "outputs": [
    {
     "name": "stdout",
     "output_type": "stream",
     "text": [
      "Downloading: 100%|██████████████████████████████| 313/313 [00:00<00:00, 177kB/s]\n",
      "Downloading: 100%|███████████████████████████| 232k/232k [00:00<00:00, 1.99MB/s]\n",
      "/net/kdinxidk03/opt/NFS/75y/data/OTMRC_PAPER/tokenized/cached_train_bluebert_384_train_squad\n",
      "100%|█████████████████████████████████████████| 442/442 [00:24<00:00, 18.18it/s]\n",
      "convert squad examples to features: 100%|█| 87599/87599 [08:12<00:00, 177.84it/s\n",
      "add example index and unique id: 100%|█| 87599/87599 [00:00<00:00, 253358.42it/s\n"
     ]
    }
   ],
   "source": [
    "!python3 load_dataset.py  \\\n",
    "    --orig_model_name_or_path bluebert  \\\n",
    "    --model_name_or_path bionlp/bluebert_pubmed_mimic_uncased_L-12_H-768_A-12 \\\n",
    "    --output_dir /net/kdinxidk03/opt/NFS/75y/data/OTMRC_PAPER/  \\\n",
    "    --data_dir /net/kdinxidk03/opt/NFS/75y/data/qa/dataset_pos/squad/  \\\n",
    "    --train_file train_squad.json \\\n",
    "    --dataset_name squad  \\\n",
    "    --do_train \\\n",
    "    --max_seq_length 384   \\\n",
    "    --doc_stride 128  \\\n",
    "    --overwrite_cache \n"
   ]
  },
  {
   "cell_type": "code",
   "execution_count": 32,
   "id": "0381d7df",
   "metadata": {
    "scrolled": true
   },
   "outputs": [
    {
     "name": "stdout",
     "output_type": "stream",
     "text": [
      "/net/kdinxidk03/opt/NFS/75y/data/OTMRC_PAPER/cached_dev_bert_384_test_otquad\n",
      "100%|█████████████████████████████████████| 1097/1097 [00:00<00:00, 2218.09it/s]\n",
      "convert squad examples to features: 100%|███| 1097/1097 [00:12<00:00, 91.09it/s]\n",
      "add example index and unique id: 100%|██| 1097/1097 [00:00<00:00, 419506.88it/s]\n"
     ]
    }
   ],
   "source": [
    "!python3 load_dataset.py  \\\n",
    "    --orig_model_name_or_path bert  \\\n",
    "    --model_name_or_path bert-base-uncased \\\n",
    "    --output_dir /net/kdinxidk03/opt/NFS/75y/data/OTMRC_PAPER/  \\\n",
    "    --data_dir /net/kdinxidk03/opt/NFS/75y/data/qa/dataset_pos/otquad/  \\\n",
    "    --predict_file otquad.json \\\n",
    "    --dataset_name otquad  \\\n",
    "    --do_lower_case \\\n",
    "    --do_evaluate \\\n",
    "    --max_seq_length 384   \\\n",
    "    --doc_stride 128  \\\n",
    "    --overwrite_cache \n"
   ]
  },
  {
   "cell_type": "code",
   "execution_count": null,
   "id": "3948ad5f",
   "metadata": {},
   "outputs": [],
   "source": []
  }
 ],
 "metadata": {
  "kernelspec": {
   "display_name": "Python 3",
   "language": "python",
   "name": "python3"
  },
  "language_info": {
   "codemirror_mode": {
    "name": "ipython",
    "version": 3
   },
   "file_extension": ".py",
   "mimetype": "text/x-python",
   "name": "python",
   "nbconvert_exporter": "python",
   "pygments_lexer": "ipython3",
   "version": "3.7.10"
  },
  "toc": {
   "base_numbering": 1,
   "nav_menu": {},
   "number_sections": true,
   "sideBar": true,
   "skip_h1_title": false,
   "title_cell": "Table of Contents",
   "title_sidebar": "Contents",
   "toc_cell": false,
   "toc_position": {},
   "toc_section_display": true,
   "toc_window_display": false
  }
 },
 "nbformat": 4,
 "nbformat_minor": 5
}
